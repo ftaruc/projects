{
 "cells": [
  {
   "cell_type": "markdown",
   "metadata": {
    "cell_id": "00000-18694651-f112-4526-a801-c5032f2977a3",
    "deepnote_cell_type": "markdown",
    "output_cleared": false,
    "tags": []
   },
   "source": [
    "## Initialization Notebook\n",
    "This is your initialization notebook.\n",
    "\n",
    "**What's this for?**\n",
    "\n",
    "You can put custom code you want us to run every time we setup your environment in here. \n",
    "\n",
    "**Awesome! Anything I should not put in here?**\n",
    "\n",
    "Please don't install `jupyter` or `jedi` packages, they would break your Deepnote environment. Also, no need to put `!pip install`s here, we already save those automatically!\n",
    "\n",
    "**I want to learn more!**\n",
    "\n",
    "Great! Just [head over to our docs](https://docs.deepnote.com/environment/custom-initialization)."
   ]
  },
  {
   "cell_type": "code",
   "execution_count": 1,
   "metadata": {
    "cell_id": "00001-8dfb2aee-73b0-4af8-8b40-03ed4eeeaafa",
    "deepnote_cell_type": "code",
    "execution_millis": 5092,
    "execution_start": 1606596470891,
    "output_cleared": false,
    "source_hash": "60b37886",
    "tags": []
   },
   "outputs": [
    {
     "name": "stdout",
     "output_type": "stream",
     "text": [
      "Collecting nltk\n",
      "  Downloading nltk-3.5.zip (1.4 MB)\n",
      "Collecting spotipy\n",
      "  Downloading spotipy-2.16.1-py3-none-any.whl (24 kB)\n",
      "Collecting vaderSentiment\n",
      "  Downloading vaderSentiment-3.3.2-py2.py3-none-any.whl (125 kB)\n",
      "Collecting textblob\n",
      "  Downloading textblob-0.15.3-py2.py3-none-any.whl (636 kB)\n",
      "Collecting lyricsgenius\n",
      "  Downloading lyricsgenius-2.0.2-py3-none-any.whl (46 kB)\n",
      "Collecting seaborn\n",
      "  Downloading seaborn-0.11.0-py3-none-any.whl (283 kB)\n",
      "Collecting click\n",
      "  Downloading click-7.1.2-py2.py3-none-any.whl (82 kB)\n",
      "Requirement already satisfied: joblib in /opt/venv/lib/python3.7/site-packages (from nltk->-r ./requirements.txt (line 1)) (0.17.0)\n",
      "Collecting regex\n",
      "  Downloading regex-2020.11.13-cp37-cp37m-manylinux2014_x86_64.whl (719 kB)\n",
      "Collecting tqdm\n",
      "  Downloading tqdm-4.54.0-py2.py3-none-any.whl (69 kB)\n",
      "Requirement already satisfied: six>=1.10.0 in /opt/venv/lib/python3.7/site-packages (from spotipy->-r ./requirements.txt (line 2)) (1.15.0)\n",
      "Requirement already satisfied: requests>=2.20.0 in /opt/venv/lib/python3.7/site-packages (from spotipy->-r ./requirements.txt (line 2)) (2.25.0)\n",
      "Collecting beautifulsoup4>=4.6.0\n",
      "  Downloading beautifulsoup4-4.9.3-py3-none-any.whl (115 kB)\n",
      "Requirement already satisfied: matplotlib>=2.2 in /opt/venv/lib/python3.7/site-packages (from seaborn->-r ./requirements.txt (line 6)) (3.3.3)\n",
      "Requirement already satisfied: scipy>=1.0 in /opt/venv/lib/python3.7/site-packages (from seaborn->-r ./requirements.txt (line 6)) (1.5.4)\n",
      "Requirement already satisfied: numpy>=1.15 in /opt/venv/lib/python3.7/site-packages (from seaborn->-r ./requirements.txt (line 6)) (1.19.4)\n",
      "Requirement already satisfied: pandas>=0.23 in /opt/venv/lib/python3.7/site-packages (from seaborn->-r ./requirements.txt (line 6)) (1.0.5)\n",
      "Requirement already satisfied: certifi>=2017.4.17 in /opt/venv/lib/python3.7/site-packages (from requests>=2.20.0->spotipy->-r ./requirements.txt (line 2)) (2020.11.8)\n",
      "Requirement already satisfied: idna<3,>=2.5 in /opt/venv/lib/python3.7/site-packages (from requests>=2.20.0->spotipy->-r ./requirements.txt (line 2)) (2.10)\n",
      "Requirement already satisfied: chardet<4,>=3.0.2 in /opt/venv/lib/python3.7/site-packages (from requests>=2.20.0->spotipy->-r ./requirements.txt (line 2)) (3.0.4)\n",
      "Requirement already satisfied: urllib3<1.27,>=1.21.1 in /opt/venv/lib/python3.7/site-packages (from requests>=2.20.0->spotipy->-r ./requirements.txt (line 2)) (1.26.2)\n",
      "Collecting soupsieve>1.2; python_version >= \"3.0\"\n",
      "  Downloading soupsieve-2.0.1-py3-none-any.whl (32 kB)\n",
      "Requirement already satisfied: pyparsing!=2.0.4,!=2.1.2,!=2.1.6,>=2.0.3 in /opt/venv/lib/python3.7/site-packages (from matplotlib>=2.2->seaborn->-r ./requirements.txt (line 6)) (2.4.7)\n",
      "Requirement already satisfied: kiwisolver>=1.0.1 in /opt/venv/lib/python3.7/site-packages (from matplotlib>=2.2->seaborn->-r ./requirements.txt (line 6)) (1.3.1)\n",
      "Requirement already satisfied: pillow>=6.2.0 in /opt/venv/lib/python3.7/site-packages (from matplotlib>=2.2->seaborn->-r ./requirements.txt (line 6)) (8.0.1)\n",
      "Requirement already satisfied: python-dateutil>=2.1 in /opt/venv/lib/python3.7/site-packages (from matplotlib>=2.2->seaborn->-r ./requirements.txt (line 6)) (2.8.1)\n",
      "Requirement already satisfied: cycler>=0.10 in /opt/venv/lib/python3.7/site-packages (from matplotlib>=2.2->seaborn->-r ./requirements.txt (line 6)) (0.10.0)\n",
      "Requirement already satisfied: pytz>=2017.2 in /opt/venv/lib/python3.7/site-packages (from pandas>=0.23->seaborn->-r ./requirements.txt (line 6)) (2020.4)\n",
      "Building wheels for collected packages: nltk\n",
      "  Building wheel for nltk (setup.py): started\n",
      "  Building wheel for nltk (setup.py): finished with status 'done'\n",
      "  Created wheel for nltk: filename=nltk-3.5-py3-none-any.whl size=1434675 sha256=f6f7057a01423ad81e1ac12b1aff6789311e37a7f3f287736658fca12cedbbf0\n",
      "  Stored in directory: /home/jovyan/.cache/pip/wheels/45/6c/46/a1865e7ba706b3817f5d1b2ff7ce8996aabdd0d03d47ba0266\n",
      "Successfully built nltk\n",
      "Installing collected packages: click, regex, tqdm, nltk, spotipy, vaderSentiment, textblob, soupsieve, beautifulsoup4, lyricsgenius, seaborn\n",
      "Successfully installed beautifulsoup4-4.9.3 click-7.1.2 lyricsgenius-2.0.2 nltk-3.5 regex-2020.11.13 seaborn-0.11.0 soupsieve-2.0.1 spotipy-2.16.1 textblob-0.15.3 tqdm-4.54.0 vaderSentiment-3.3.2\n"
     ]
    }
   ],
   "source": [
    "%%bash\n",
    "# If your project has a 'requirements.txt' file, we'll install it here apart from blacklisted packages that interfere with Deepnote (see above).\n",
    "if test -f requirements.txt\n",
    "  then\n",
    "    sed -i '/jedi/d;/jupyter/d;' ./requirements.txt\n",
    "    pip install -r ./requirements.txt\n",
    "  else echo \"There's no requirements.txt, so nothing to install. This is the case with most projects.\"\n",
    "fi"
   ]
  }
 ],
 "metadata": {
  "deepnote_execution_queue": [],
  "deepnote_notebook_id": "b883ac01-12b8-4523-9389-a1c912d7badc",
  "kernelspec": {
   "display_name": "Python 3",
   "language": "python",
   "name": "python3"
  },
  "language_info": {
   "codemirror_mode": {
    "name": "ipython",
    "version": 3
   },
   "file_extension": ".py",
   "mimetype": "text/x-python",
   "name": "python",
   "nbconvert_exporter": "python",
   "pygments_lexer": "ipython3",
   "version": "3.7.6"
  }
 },
 "nbformat": 4,
 "nbformat_minor": 2
}
