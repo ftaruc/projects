{
 "cells": [
  {
   "cell_type": "code",
   "execution_count": 2,
   "metadata": {
    "cell_id": "00000-c574f1f8-45b0-43b5-9004-de5208b64392",
    "deepnote_cell_type": "code",
    "execution_millis": 1002,
    "execution_start": 1606608854712,
    "output_cleared": false,
    "source_hash": "259bcba1",
    "tags": []
   },
   "outputs": [],
   "source": [
    "#do not use pip install -- put packages that need to be installed inside environment to 'requirements.txt'\n",
    "\n",
    "\"\"\" REQUIRED PACKAGES HERE:\"\"\"\n",
    "import numpy as np\n",
    "import pandas as pd\n",
    "import nltk\n",
    "#nltk.download('stopwords')\n",
    "#from nltk.corpus import stopwords\n",
    "#from textblob import TextBlob\n",
    "#from textblob import Word\n",
    "#from vaderSentiment.vaderSentiment import SentimentIntensityAnalyzer\n",
    "\n",
    "\n",
    "##temp packages\n",
    "#necessary packages for querying data:\n",
    "import sys\n",
    "#import lyricsgenius as genius\n",
    "import spotipy\n",
    "import spotipy.util as util\n",
    "from spotipy.oauth2 import SpotifyClientCredentials\n",
    "import re\n",
    "import json\n",
    "\n",
    "\n",
    "#plotting \n",
    "import seaborn as sns\n",
    "import matplotlib.pyplot as plt\n",
    "%matplotlib inline\n",
    "plt.style.use('fivethirtyeight')\n"
   ]
  },
  {
   "cell_type": "markdown",
   "metadata": {
    "cell_id": "00001-701e7784-607f-4a86-baf1-d5311b1fffdd",
    "deepnote_cell_type": "markdown",
    "output_cleared": false,
    "tags": []
   },
   "source": [
    "### Example of path to .json file: \"/home/jovyan/work/mpd.slice.29000-29999.json\""
   ]
  },
  {
   "cell_type": "markdown",
   "metadata": {
    "cell_id": "00000-a45cda63-3901-4509-b4df-1df6808bdc79",
    "deepnote_cell_type": "markdown",
    "output_cleared": false,
    "tags": []
   },
   "source": [
    "## Claire's Methods:"
   ]
  },
  {
   "cell_type": "code",
   "execution_count": 3,
   "metadata": {
    "cell_id": "00004-0c406a21-8ad9-4343-86df-0b45c688fd35",
    "deepnote_cell_type": "code",
    "execution_millis": 4,
    "execution_start": 1606608855716,
    "output_cleared": false,
    "source_hash": "c401af02",
    "tags": []
   },
   "outputs": [],
   "source": [
    "def convert_json_to_df(json_file_path):\n",
    "    \"\"\"\n",
    "    Converts the json file of the Spotify Million Playlist Dataset to a dataframe. \n",
    "    Returns the playlist field and excludes the info field.\n",
    "    \n",
    "    input: \n",
    "    json_file (string) - json file path\n",
    "    \n",
    "    output:\n",
    "    dataframe of the playlist\n",
    "    \"\"\"\n",
    "    \n",
    "    with open(json_file_path) as json_file:\n",
    "        df0 = json.load(json_file)\n",
    "    \n",
    "    df = pd.DataFrame.from_dict(df0['playlists'])\n",
    "    \n",
    "    return df"
   ]
  },
  {
   "cell_type": "code",
   "execution_count": 4,
   "metadata": {
    "cell_id": "00005-7b79a24a-bc47-4ce2-8445-64534cb8f2ba",
    "deepnote_cell_type": "code",
    "execution_millis": 1,
    "execution_start": 1606608855724,
    "output_cleared": false,
    "source_hash": "7e45d1ab",
    "tags": []
   },
   "outputs": [],
   "source": [
    "def extract_tracks(df):\n",
    "    \"\"\"\n",
    "    Extracts the tracks from the in the df, which is a dictionary, and converts it to a dataframe\n",
    "    \n",
    "    input: \n",
    "    df - dataframe of the playlist\n",
    "    \n",
    "    output:\n",
    "    dataframe of all the songs in the playlist\n",
    "    \n",
    "    \"\"\"\n",
    "    # initializing a bigger dataframe\n",
    "    new_df = pd.DataFrame()\n",
    "    \n",
    "    for i in range(len(df['tracks'])):\n",
    "        \n",
    "        # converting tracks dictionary to dataframe\n",
    "        data_playlist = pd.DataFrame.from_dict(df['tracks'][i])\n",
    "\n",
    "        # getting the 'pid' from the original df to keep track of what playlist the song was in\n",
    "        data_playlist['pid'] = df['pid'][i]\n",
    "\n",
    "        # adding the the songs from the playlist to the bigger dataset\n",
    "        new_df = new_df.append(data_playlist)\n",
    "    \n",
    "    return new_df.reset_index(drop=True)"
   ]
  },
  {
   "cell_type": "markdown",
   "metadata": {
    "cell_id": "00005-9df6a578-e126-4a89-83d4-972eaa9c3c3e",
    "deepnote_cell_type": "markdown",
    "output_cleared": false,
    "tags": []
   },
   "source": [
    "## Ferdie: Adding onto Claire's Methods:"
   ]
  },
  {
   "cell_type": "code",
   "execution_count": 5,
   "metadata": {
    "cell_id": "00005-7a429266-af5f-4c07-afba-338319c9f3b4",
    "deepnote_cell_type": "code",
    "execution_millis": 24789,
    "execution_start": 1606608855728,
    "output_cleared": false,
    "source_hash": "6a9d28b7",
    "tags": []
   },
   "outputs": [
    {
     "data": {
      "text/plain": [
       "67684"
      ]
     },
     "execution_count": 5,
     "metadata": {},
     "output_type": "execute_result"
    }
   ],
   "source": [
    "tdf = convert_json_to_df(\"/home/jovyan/work/mpd.slice.29000-29999.json\")\n",
    "tdf_a = extract_tracks(tdf)\n",
    "len(tdf_a)"
   ]
  },
  {
   "cell_type": "code",
   "execution_count": 6,
   "metadata": {
    "cell_id": "00008-281fa464-c3a4-4b9e-86fc-3f19a7a59275",
    "deepnote_cell_type": "code",
    "execution_millis": 41,
    "execution_start": 1606608880518,
    "output_cleared": false,
    "source_hash": "4a08aa86",
    "tags": []
   },
   "outputs": [
    {
     "data": {
      "application/vnd.deepnote.dataframe.v2+json": {
       "column_count": 9,
       "columns": [
        {
         "dtype": "int64",
         "name": "pos",
         "stats": {
          "histogram": [
           {
            "bin_end": 0.4,
            "bin_start": 0,
            "count": 1
           },
           {
            "bin_end": 0.8,
            "bin_start": 0.4,
            "count": 0
           },
           {
            "bin_end": 1.2000000000000002,
            "bin_start": 0.8,
            "count": 1
           },
           {
            "bin_end": 1.6,
            "bin_start": 1.2000000000000002,
            "count": 0
           },
           {
            "bin_end": 2,
            "bin_start": 1.6,
            "count": 0
           },
           {
            "bin_end": 2.4000000000000004,
            "bin_start": 2,
            "count": 1
           },
           {
            "bin_end": 2.8000000000000003,
            "bin_start": 2.4000000000000004,
            "count": 0
           },
           {
            "bin_end": 3.2,
            "bin_start": 2.8000000000000003,
            "count": 1
           },
           {
            "bin_end": 3.6,
            "bin_start": 3.2,
            "count": 0
           },
           {
            "bin_end": 4,
            "bin_start": 3.6,
            "count": 1
           }
          ],
          "max": 4,
          "min": 0,
          "nan_count": 0,
          "unique_count": 5
         }
        },
        {
         "dtype": "object",
         "name": "artist_name",
         "stats": {
          "categories": [
           {
            "count": 1,
            "name": "Bobby Darin"
           },
           {
            "count": 1,
            "name": "Frank Sinatra"
           },
           {
            "count": 3,
            "name": "3 others"
           }
          ],
          "nan_count": 0,
          "unique_count": 5
         }
        },
        {
         "dtype": "object",
         "name": "track_uri",
         "stats": {
          "categories": [
           {
            "count": 1,
            "name": "spotify:track:3E5ndyOfO6vFDEIE42HA8o"
           },
           {
            "count": 1,
            "name": "spotify:track:2y8Eez5cFFf2JzD546LThM"
           },
           {
            "count": 3,
            "name": "3 others"
           }
          ],
          "nan_count": 0,
          "unique_count": 5
         }
        },
        {
         "dtype": "object",
         "name": "artist_uri",
         "stats": {
          "categories": [
           {
            "count": 1,
            "name": "spotify:artist:0EodhzA6yW1bIdD5B4tcmJ"
           },
           {
            "count": 1,
            "name": "spotify:artist:1Mxqyy3pSjf8kZZL4QVxS0"
           },
           {
            "count": 3,
            "name": "3 others"
           }
          ],
          "nan_count": 0,
          "unique_count": 5
         }
        },
        {
         "dtype": "object",
         "name": "track_name",
         "stats": {
          "categories": [
           {
            "count": 1,
            "name": "Mack The Knife"
           },
           {
            "count": 1,
            "name": "Fly Me To The Moon"
           },
           {
            "count": 3,
            "name": "3 others"
           }
          ],
          "nan_count": 0,
          "unique_count": 5
         }
        },
        {
         "dtype": "object",
         "name": "album_uri",
         "stats": {
          "categories": [
           {
            "count": 1,
            "name": "spotify:album:5MsJK0kqiYIJDmd3cjkGMn"
           },
           {
            "count": 1,
            "name": "spotify:album:6No1Xr0VqSg5SjFAbyRsZQ"
           },
           {
            "count": 3,
            "name": "3 others"
           }
          ],
          "nan_count": 0,
          "unique_count": 5
         }
        },
        {
         "dtype": "int64",
         "name": "duration_ms",
         "stats": {
          "histogram": [
           {
            "bin_end": 150733.3,
            "bin_start": 147000,
            "count": 2
           },
           {
            "bin_end": 154466.6,
            "bin_start": 150733.3,
            "count": 0
           },
           {
            "bin_end": 158199.9,
            "bin_start": 154466.6,
            "count": 0
           },
           {
            "bin_end": 161933.2,
            "bin_start": 158199.9,
            "count": 0
           },
           {
            "bin_end": 165666.5,
            "bin_start": 161933.2,
            "count": 0
           },
           {
            "bin_end": 169399.8,
            "bin_start": 165666.5,
            "count": 0
           },
           {
            "bin_end": 173133.1,
            "bin_start": 169399.8,
            "count": 0
           },
           {
            "bin_end": 176866.4,
            "bin_start": 173133.1,
            "count": 0
           },
           {
            "bin_end": 180599.7,
            "bin_start": 176866.4,
            "count": 0
           },
           {
            "bin_end": 184333,
            "bin_start": 180599.7,
            "count": 3
           }
          ],
          "max": 184333,
          "min": 147000,
          "nan_count": 0,
          "unique_count": 5
         }
        },
        {
         "dtype": "object",
         "name": "album_name",
         "stats": {
          "categories": [
           {
            "count": 1,
            "name": "That's All"
           },
           {
            "count": 1,
            "name": "Sinatra/Basie: The Complete Reprise Studio Recordings"
           },
           {
            "count": 3,
            "name": "3 others"
           }
          ],
          "nan_count": 0,
          "unique_count": 5
         }
        },
        {
         "dtype": "int64",
         "name": "pid",
         "stats": {
          "histogram": [
           {
            "bin_end": 28999.6,
            "bin_start": 28999.5,
            "count": 0
           },
           {
            "bin_end": 28999.7,
            "bin_start": 28999.6,
            "count": 0
           },
           {
            "bin_end": 28999.8,
            "bin_start": 28999.7,
            "count": 0
           },
           {
            "bin_end": 28999.9,
            "bin_start": 28999.8,
            "count": 0
           },
           {
            "bin_end": 29000,
            "bin_start": 28999.9,
            "count": 0
           },
           {
            "bin_end": 29000.1,
            "bin_start": 29000,
            "count": 5
           },
           {
            "bin_end": 29000.2,
            "bin_start": 29000.1,
            "count": 0
           },
           {
            "bin_end": 29000.3,
            "bin_start": 29000.2,
            "count": 0
           },
           {
            "bin_end": 29000.4,
            "bin_start": 29000.3,
            "count": 0
           },
           {
            "bin_end": 29000.5,
            "bin_start": 29000.4,
            "count": 0
           }
          ],
          "max": 29000,
          "min": 29000,
          "nan_count": 0,
          "unique_count": 1
         }
        },
        {
         "dtype": "int64",
         "name": "_deepnote_index_column"
        }
       ],
       "row_count": 5,
       "rows_bottom": null,
       "rows_top": [
        {
         "_deepnote_index_column": 0,
         "album_name": "That's All",
         "album_uri": "spotify:album:5MsJK0kqiYIJDmd3cjkGMn",
         "artist_name": "Bobby Darin",
         "artist_uri": "spotify:artist:0EodhzA6yW1bIdD5B4tcmJ",
         "duration_ms": 184333,
         "pid": 29000,
         "pos": 0,
         "track_name": "Mack The Knife",
         "track_uri": "spotify:track:3E5ndyOfO6vFDEIE42HA8o"
        },
        {
         "_deepnote_index_column": 1,
         "album_name": "Sinatra/Basie: The Complete Reprise Studio Recordings",
         "album_uri": "spotify:album:6No1Xr0VqSg5SjFAbyRsZQ",
         "artist_name": "Frank Sinatra",
         "artist_uri": "spotify:artist:1Mxqyy3pSjf8kZZL4QVxS0",
         "duration_ms": 147000,
         "pid": 29000,
         "pos": 1,
         "track_name": "Fly Me To The Moon",
         "track_uri": "spotify:track:2y8Eez5cFFf2JzD546LThM"
        },
        {
         "_deepnote_index_column": 2,
         "album_name": "At Last!",
         "album_uri": "spotify:album:2pBhXw3Hi1hBf8FpAtE101",
         "artist_name": "Etta James",
         "artist_uri": "spotify:artist:0iOVhN3tnSvgDbcg25JoJb",
         "duration_ms": 182400,
         "pid": 29000,
         "pos": 2,
         "track_name": "At Last - Single Version",
         "track_uri": "spotify:track:0CmIALzGn4vHIHJG4n3Q4z"
        },
        {
         "_deepnote_index_column": 3,
         "album_name": "C'est Si Bon",
         "album_uri": "spotify:album:6yKeev1MnyUbFjhNHWsFFK",
         "artist_name": "Ella Fitzgerald",
         "artist_uri": "spotify:artist:5V0MlUE1Bft0mbLlND7FJz",
         "duration_ms": 182266,
         "pid": 29000,
         "pos": 3,
         "track_name": "Dream A Little Dream Of Me",
         "track_uri": "spotify:track:3Bbbz0IGORWZSLf9UqsAL4"
        },
        {
         "_deepnote_index_column": 4,
         "album_name": "Greatest Hits",
         "album_uri": "spotify:album:6jGd5RtEt0g4X4xvoPk1XC",
         "artist_name": "The Chordettes",
         "artist_uri": "spotify:artist:62GnBjssWSXBlKvQohT2Bk",
         "duration_ms": 147266,
         "pid": 29000,
         "pos": 4,
         "track_name": "Mister sandman",
         "track_uri": "spotify:track:433nBELvOOtHlZFUO8mZml"
        }
       ]
      },
      "text/html": [
       "<div>\n",
       "<style scoped>\n",
       "    .dataframe tbody tr th:only-of-type {\n",
       "        vertical-align: middle;\n",
       "    }\n",
       "\n",
       "    .dataframe tbody tr th {\n",
       "        vertical-align: top;\n",
       "    }\n",
       "\n",
       "    .dataframe thead th {\n",
       "        text-align: right;\n",
       "    }\n",
       "</style>\n",
       "<table border=\"1\" class=\"dataframe\">\n",
       "  <thead>\n",
       "    <tr style=\"text-align: right;\">\n",
       "      <th></th>\n",
       "      <th>pos</th>\n",
       "      <th>artist_name</th>\n",
       "      <th>track_uri</th>\n",
       "      <th>artist_uri</th>\n",
       "      <th>track_name</th>\n",
       "      <th>album_uri</th>\n",
       "      <th>duration_ms</th>\n",
       "      <th>album_name</th>\n",
       "      <th>pid</th>\n",
       "    </tr>\n",
       "  </thead>\n",
       "  <tbody>\n",
       "    <tr>\n",
       "      <th>0</th>\n",
       "      <td>0</td>\n",
       "      <td>Bobby Darin</td>\n",
       "      <td>spotify:track:3E5ndyOfO6vFDEIE42HA8o</td>\n",
       "      <td>spotify:artist:0EodhzA6yW1bIdD5B4tcmJ</td>\n",
       "      <td>Mack The Knife</td>\n",
       "      <td>spotify:album:5MsJK0kqiYIJDmd3cjkGMn</td>\n",
       "      <td>184333</td>\n",
       "      <td>That's All</td>\n",
       "      <td>29000</td>\n",
       "    </tr>\n",
       "    <tr>\n",
       "      <th>1</th>\n",
       "      <td>1</td>\n",
       "      <td>Frank Sinatra</td>\n",
       "      <td>spotify:track:2y8Eez5cFFf2JzD546LThM</td>\n",
       "      <td>spotify:artist:1Mxqyy3pSjf8kZZL4QVxS0</td>\n",
       "      <td>Fly Me To The Moon</td>\n",
       "      <td>spotify:album:6No1Xr0VqSg5SjFAbyRsZQ</td>\n",
       "      <td>147000</td>\n",
       "      <td>Sinatra/Basie: The Complete Reprise Studio Rec...</td>\n",
       "      <td>29000</td>\n",
       "    </tr>\n",
       "    <tr>\n",
       "      <th>2</th>\n",
       "      <td>2</td>\n",
       "      <td>Etta James</td>\n",
       "      <td>spotify:track:0CmIALzGn4vHIHJG4n3Q4z</td>\n",
       "      <td>spotify:artist:0iOVhN3tnSvgDbcg25JoJb</td>\n",
       "      <td>At Last - Single Version</td>\n",
       "      <td>spotify:album:2pBhXw3Hi1hBf8FpAtE101</td>\n",
       "      <td>182400</td>\n",
       "      <td>At Last!</td>\n",
       "      <td>29000</td>\n",
       "    </tr>\n",
       "    <tr>\n",
       "      <th>3</th>\n",
       "      <td>3</td>\n",
       "      <td>Ella Fitzgerald</td>\n",
       "      <td>spotify:track:3Bbbz0IGORWZSLf9UqsAL4</td>\n",
       "      <td>spotify:artist:5V0MlUE1Bft0mbLlND7FJz</td>\n",
       "      <td>Dream A Little Dream Of Me</td>\n",
       "      <td>spotify:album:6yKeev1MnyUbFjhNHWsFFK</td>\n",
       "      <td>182266</td>\n",
       "      <td>C'est Si Bon</td>\n",
       "      <td>29000</td>\n",
       "    </tr>\n",
       "    <tr>\n",
       "      <th>4</th>\n",
       "      <td>4</td>\n",
       "      <td>The Chordettes</td>\n",
       "      <td>spotify:track:433nBELvOOtHlZFUO8mZml</td>\n",
       "      <td>spotify:artist:62GnBjssWSXBlKvQohT2Bk</td>\n",
       "      <td>Mister sandman</td>\n",
       "      <td>spotify:album:6jGd5RtEt0g4X4xvoPk1XC</td>\n",
       "      <td>147266</td>\n",
       "      <td>Greatest Hits</td>\n",
       "      <td>29000</td>\n",
       "    </tr>\n",
       "  </tbody>\n",
       "</table>\n",
       "</div>"
      ],
      "text/plain": [
       "   pos      artist_name                             track_uri  \\\n",
       "0    0      Bobby Darin  spotify:track:3E5ndyOfO6vFDEIE42HA8o   \n",
       "1    1    Frank Sinatra  spotify:track:2y8Eez5cFFf2JzD546LThM   \n",
       "2    2       Etta James  spotify:track:0CmIALzGn4vHIHJG4n3Q4z   \n",
       "3    3  Ella Fitzgerald  spotify:track:3Bbbz0IGORWZSLf9UqsAL4   \n",
       "4    4   The Chordettes  spotify:track:433nBELvOOtHlZFUO8mZml   \n",
       "\n",
       "                              artist_uri                  track_name  \\\n",
       "0  spotify:artist:0EodhzA6yW1bIdD5B4tcmJ              Mack The Knife   \n",
       "1  spotify:artist:1Mxqyy3pSjf8kZZL4QVxS0          Fly Me To The Moon   \n",
       "2  spotify:artist:0iOVhN3tnSvgDbcg25JoJb    At Last - Single Version   \n",
       "3  spotify:artist:5V0MlUE1Bft0mbLlND7FJz  Dream A Little Dream Of Me   \n",
       "4  spotify:artist:62GnBjssWSXBlKvQohT2Bk              Mister sandman   \n",
       "\n",
       "                              album_uri  duration_ms  \\\n",
       "0  spotify:album:5MsJK0kqiYIJDmd3cjkGMn       184333   \n",
       "1  spotify:album:6No1Xr0VqSg5SjFAbyRsZQ       147000   \n",
       "2  spotify:album:2pBhXw3Hi1hBf8FpAtE101       182400   \n",
       "3  spotify:album:6yKeev1MnyUbFjhNHWsFFK       182266   \n",
       "4  spotify:album:6jGd5RtEt0g4X4xvoPk1XC       147266   \n",
       "\n",
       "                                          album_name    pid  \n",
       "0                                         That's All  29000  \n",
       "1  Sinatra/Basie: The Complete Reprise Studio Rec...  29000  \n",
       "2                                           At Last!  29000  \n",
       "3                                       C'est Si Bon  29000  \n",
       "4                                      Greatest Hits  29000  "
      ]
     },
     "execution_count": 6,
     "metadata": {},
     "output_type": "execute_result"
    }
   ],
   "source": [
    "tdf_a.head()"
   ]
  },
  {
   "cell_type": "code",
   "execution_count": 7,
   "metadata": {
    "cell_id": "00008-cc00fb47-b461-4840-8a90-a76f25abd62d",
    "deepnote_cell_type": "code",
    "execution_millis": 0,
    "execution_start": 1606608880560,
    "output_cleared": false,
    "source_hash": "9f4aa251",
    "tags": []
   },
   "outputs": [
    {
     "data": {
      "text/plain": [
       "36075"
      ]
     },
     "execution_count": 7,
     "metadata": {},
     "output_type": "execute_result"
    }
   ],
   "source": [
    "tdf_final = tdf_a.drop_duplicates(['track_uri'])\n",
    "len(tdf_final)"
   ]
  },
  {
   "cell_type": "code",
   "execution_count": 8,
   "metadata": {
    "cell_id": "00007-d7cd8e3c-76fe-4e7a-96b5-dd4ecae21cc4",
    "deepnote_cell_type": "code",
    "execution_millis": 15,
    "execution_start": 1606608880567,
    "output_cleared": false,
    "source_hash": "ec294725",
    "tags": []
   },
   "outputs": [
    {
     "data": {
      "application/vnd.deepnote.dataframe.v2+json": {
       "column_count": 9,
       "columns": [
        {
         "dtype": "int64",
         "name": "pos",
         "stats": {
          "histogram": [
           {
            "bin_end": 0.4,
            "bin_start": 0,
            "count": 1
           },
           {
            "bin_end": 0.8,
            "bin_start": 0.4,
            "count": 0
           },
           {
            "bin_end": 1.2000000000000002,
            "bin_start": 0.8,
            "count": 1
           },
           {
            "bin_end": 1.6,
            "bin_start": 1.2000000000000002,
            "count": 0
           },
           {
            "bin_end": 2,
            "bin_start": 1.6,
            "count": 0
           },
           {
            "bin_end": 2.4000000000000004,
            "bin_start": 2,
            "count": 1
           },
           {
            "bin_end": 2.8000000000000003,
            "bin_start": 2.4000000000000004,
            "count": 0
           },
           {
            "bin_end": 3.2,
            "bin_start": 2.8000000000000003,
            "count": 1
           },
           {
            "bin_end": 3.6,
            "bin_start": 3.2,
            "count": 0
           },
           {
            "bin_end": 4,
            "bin_start": 3.6,
            "count": 1
           }
          ],
          "max": 4,
          "min": 0,
          "nan_count": 0,
          "unique_count": 5
         }
        },
        {
         "dtype": "object",
         "name": "artist_name",
         "stats": {
          "categories": [
           {
            "count": 1,
            "name": "Bobby Darin"
           },
           {
            "count": 1,
            "name": "Frank Sinatra"
           },
           {
            "count": 3,
            "name": "3 others"
           }
          ],
          "nan_count": 0,
          "unique_count": 5
         }
        },
        {
         "dtype": "object",
         "name": "track_uri",
         "stats": {
          "categories": [
           {
            "count": 1,
            "name": "spotify:track:3E5ndyOfO6vFDEIE42HA8o"
           },
           {
            "count": 1,
            "name": "spotify:track:2y8Eez5cFFf2JzD546LThM"
           },
           {
            "count": 3,
            "name": "3 others"
           }
          ],
          "nan_count": 0,
          "unique_count": 5
         }
        },
        {
         "dtype": "object",
         "name": "artist_uri",
         "stats": {
          "categories": [
           {
            "count": 1,
            "name": "spotify:artist:0EodhzA6yW1bIdD5B4tcmJ"
           },
           {
            "count": 1,
            "name": "spotify:artist:1Mxqyy3pSjf8kZZL4QVxS0"
           },
           {
            "count": 3,
            "name": "3 others"
           }
          ],
          "nan_count": 0,
          "unique_count": 5
         }
        },
        {
         "dtype": "object",
         "name": "track_name",
         "stats": {
          "categories": [
           {
            "count": 1,
            "name": "Mack The Knife"
           },
           {
            "count": 1,
            "name": "Fly Me To The Moon"
           },
           {
            "count": 3,
            "name": "3 others"
           }
          ],
          "nan_count": 0,
          "unique_count": 5
         }
        },
        {
         "dtype": "object",
         "name": "album_uri",
         "stats": {
          "categories": [
           {
            "count": 1,
            "name": "spotify:album:5MsJK0kqiYIJDmd3cjkGMn"
           },
           {
            "count": 1,
            "name": "spotify:album:6No1Xr0VqSg5SjFAbyRsZQ"
           },
           {
            "count": 3,
            "name": "3 others"
           }
          ],
          "nan_count": 0,
          "unique_count": 5
         }
        },
        {
         "dtype": "int64",
         "name": "duration_ms",
         "stats": {
          "histogram": [
           {
            "bin_end": 150733.3,
            "bin_start": 147000,
            "count": 2
           },
           {
            "bin_end": 154466.6,
            "bin_start": 150733.3,
            "count": 0
           },
           {
            "bin_end": 158199.9,
            "bin_start": 154466.6,
            "count": 0
           },
           {
            "bin_end": 161933.2,
            "bin_start": 158199.9,
            "count": 0
           },
           {
            "bin_end": 165666.5,
            "bin_start": 161933.2,
            "count": 0
           },
           {
            "bin_end": 169399.8,
            "bin_start": 165666.5,
            "count": 0
           },
           {
            "bin_end": 173133.1,
            "bin_start": 169399.8,
            "count": 0
           },
           {
            "bin_end": 176866.4,
            "bin_start": 173133.1,
            "count": 0
           },
           {
            "bin_end": 180599.7,
            "bin_start": 176866.4,
            "count": 0
           },
           {
            "bin_end": 184333,
            "bin_start": 180599.7,
            "count": 3
           }
          ],
          "max": 184333,
          "min": 147000,
          "nan_count": 0,
          "unique_count": 5
         }
        },
        {
         "dtype": "object",
         "name": "album_name",
         "stats": {
          "categories": [
           {
            "count": 1,
            "name": "That's All"
           },
           {
            "count": 1,
            "name": "Sinatra/Basie: The Complete Reprise Studio Recordings"
           },
           {
            "count": 3,
            "name": "3 others"
           }
          ],
          "nan_count": 0,
          "unique_count": 5
         }
        },
        {
         "dtype": "int64",
         "name": "pid",
         "stats": {
          "histogram": [
           {
            "bin_end": 28999.6,
            "bin_start": 28999.5,
            "count": 0
           },
           {
            "bin_end": 28999.7,
            "bin_start": 28999.6,
            "count": 0
           },
           {
            "bin_end": 28999.8,
            "bin_start": 28999.7,
            "count": 0
           },
           {
            "bin_end": 28999.9,
            "bin_start": 28999.8,
            "count": 0
           },
           {
            "bin_end": 29000,
            "bin_start": 28999.9,
            "count": 0
           },
           {
            "bin_end": 29000.1,
            "bin_start": 29000,
            "count": 5
           },
           {
            "bin_end": 29000.2,
            "bin_start": 29000.1,
            "count": 0
           },
           {
            "bin_end": 29000.3,
            "bin_start": 29000.2,
            "count": 0
           },
           {
            "bin_end": 29000.4,
            "bin_start": 29000.3,
            "count": 0
           },
           {
            "bin_end": 29000.5,
            "bin_start": 29000.4,
            "count": 0
           }
          ],
          "max": 29000,
          "min": 29000,
          "nan_count": 0,
          "unique_count": 1
         }
        },
        {
         "dtype": "int64",
         "name": "_deepnote_index_column"
        }
       ],
       "row_count": 5,
       "rows_bottom": null,
       "rows_top": [
        {
         "_deepnote_index_column": 0,
         "album_name": "That's All",
         "album_uri": "spotify:album:5MsJK0kqiYIJDmd3cjkGMn",
         "artist_name": "Bobby Darin",
         "artist_uri": "spotify:artist:0EodhzA6yW1bIdD5B4tcmJ",
         "duration_ms": 184333,
         "pid": 29000,
         "pos": 0,
         "track_name": "Mack The Knife",
         "track_uri": "spotify:track:3E5ndyOfO6vFDEIE42HA8o"
        },
        {
         "_deepnote_index_column": 1,
         "album_name": "Sinatra/Basie: The Complete Reprise Studio Recordings",
         "album_uri": "spotify:album:6No1Xr0VqSg5SjFAbyRsZQ",
         "artist_name": "Frank Sinatra",
         "artist_uri": "spotify:artist:1Mxqyy3pSjf8kZZL4QVxS0",
         "duration_ms": 147000,
         "pid": 29000,
         "pos": 1,
         "track_name": "Fly Me To The Moon",
         "track_uri": "spotify:track:2y8Eez5cFFf2JzD546LThM"
        },
        {
         "_deepnote_index_column": 2,
         "album_name": "At Last!",
         "album_uri": "spotify:album:2pBhXw3Hi1hBf8FpAtE101",
         "artist_name": "Etta James",
         "artist_uri": "spotify:artist:0iOVhN3tnSvgDbcg25JoJb",
         "duration_ms": 182400,
         "pid": 29000,
         "pos": 2,
         "track_name": "At Last - Single Version",
         "track_uri": "spotify:track:0CmIALzGn4vHIHJG4n3Q4z"
        },
        {
         "_deepnote_index_column": 3,
         "album_name": "C'est Si Bon",
         "album_uri": "spotify:album:6yKeev1MnyUbFjhNHWsFFK",
         "artist_name": "Ella Fitzgerald",
         "artist_uri": "spotify:artist:5V0MlUE1Bft0mbLlND7FJz",
         "duration_ms": 182266,
         "pid": 29000,
         "pos": 3,
         "track_name": "Dream A Little Dream Of Me",
         "track_uri": "spotify:track:3Bbbz0IGORWZSLf9UqsAL4"
        },
        {
         "_deepnote_index_column": 4,
         "album_name": "Greatest Hits",
         "album_uri": "spotify:album:6jGd5RtEt0g4X4xvoPk1XC",
         "artist_name": "The Chordettes",
         "artist_uri": "spotify:artist:62GnBjssWSXBlKvQohT2Bk",
         "duration_ms": 147266,
         "pid": 29000,
         "pos": 4,
         "track_name": "Mister sandman",
         "track_uri": "spotify:track:433nBELvOOtHlZFUO8mZml"
        }
       ]
      },
      "text/html": [
       "<div>\n",
       "<style scoped>\n",
       "    .dataframe tbody tr th:only-of-type {\n",
       "        vertical-align: middle;\n",
       "    }\n",
       "\n",
       "    .dataframe tbody tr th {\n",
       "        vertical-align: top;\n",
       "    }\n",
       "\n",
       "    .dataframe thead th {\n",
       "        text-align: right;\n",
       "    }\n",
       "</style>\n",
       "<table border=\"1\" class=\"dataframe\">\n",
       "  <thead>\n",
       "    <tr style=\"text-align: right;\">\n",
       "      <th></th>\n",
       "      <th>pos</th>\n",
       "      <th>artist_name</th>\n",
       "      <th>track_uri</th>\n",
       "      <th>artist_uri</th>\n",
       "      <th>track_name</th>\n",
       "      <th>album_uri</th>\n",
       "      <th>duration_ms</th>\n",
       "      <th>album_name</th>\n",
       "      <th>pid</th>\n",
       "    </tr>\n",
       "  </thead>\n",
       "  <tbody>\n",
       "    <tr>\n",
       "      <th>0</th>\n",
       "      <td>0</td>\n",
       "      <td>Bobby Darin</td>\n",
       "      <td>spotify:track:3E5ndyOfO6vFDEIE42HA8o</td>\n",
       "      <td>spotify:artist:0EodhzA6yW1bIdD5B4tcmJ</td>\n",
       "      <td>Mack The Knife</td>\n",
       "      <td>spotify:album:5MsJK0kqiYIJDmd3cjkGMn</td>\n",
       "      <td>184333</td>\n",
       "      <td>That's All</td>\n",
       "      <td>29000</td>\n",
       "    </tr>\n",
       "    <tr>\n",
       "      <th>1</th>\n",
       "      <td>1</td>\n",
       "      <td>Frank Sinatra</td>\n",
       "      <td>spotify:track:2y8Eez5cFFf2JzD546LThM</td>\n",
       "      <td>spotify:artist:1Mxqyy3pSjf8kZZL4QVxS0</td>\n",
       "      <td>Fly Me To The Moon</td>\n",
       "      <td>spotify:album:6No1Xr0VqSg5SjFAbyRsZQ</td>\n",
       "      <td>147000</td>\n",
       "      <td>Sinatra/Basie: The Complete Reprise Studio Rec...</td>\n",
       "      <td>29000</td>\n",
       "    </tr>\n",
       "    <tr>\n",
       "      <th>2</th>\n",
       "      <td>2</td>\n",
       "      <td>Etta James</td>\n",
       "      <td>spotify:track:0CmIALzGn4vHIHJG4n3Q4z</td>\n",
       "      <td>spotify:artist:0iOVhN3tnSvgDbcg25JoJb</td>\n",
       "      <td>At Last - Single Version</td>\n",
       "      <td>spotify:album:2pBhXw3Hi1hBf8FpAtE101</td>\n",
       "      <td>182400</td>\n",
       "      <td>At Last!</td>\n",
       "      <td>29000</td>\n",
       "    </tr>\n",
       "    <tr>\n",
       "      <th>3</th>\n",
       "      <td>3</td>\n",
       "      <td>Ella Fitzgerald</td>\n",
       "      <td>spotify:track:3Bbbz0IGORWZSLf9UqsAL4</td>\n",
       "      <td>spotify:artist:5V0MlUE1Bft0mbLlND7FJz</td>\n",
       "      <td>Dream A Little Dream Of Me</td>\n",
       "      <td>spotify:album:6yKeev1MnyUbFjhNHWsFFK</td>\n",
       "      <td>182266</td>\n",
       "      <td>C'est Si Bon</td>\n",
       "      <td>29000</td>\n",
       "    </tr>\n",
       "    <tr>\n",
       "      <th>4</th>\n",
       "      <td>4</td>\n",
       "      <td>The Chordettes</td>\n",
       "      <td>spotify:track:433nBELvOOtHlZFUO8mZml</td>\n",
       "      <td>spotify:artist:62GnBjssWSXBlKvQohT2Bk</td>\n",
       "      <td>Mister sandman</td>\n",
       "      <td>spotify:album:6jGd5RtEt0g4X4xvoPk1XC</td>\n",
       "      <td>147266</td>\n",
       "      <td>Greatest Hits</td>\n",
       "      <td>29000</td>\n",
       "    </tr>\n",
       "  </tbody>\n",
       "</table>\n",
       "</div>"
      ],
      "text/plain": [
       "   pos      artist_name                             track_uri  \\\n",
       "0    0      Bobby Darin  spotify:track:3E5ndyOfO6vFDEIE42HA8o   \n",
       "1    1    Frank Sinatra  spotify:track:2y8Eez5cFFf2JzD546LThM   \n",
       "2    2       Etta James  spotify:track:0CmIALzGn4vHIHJG4n3Q4z   \n",
       "3    3  Ella Fitzgerald  spotify:track:3Bbbz0IGORWZSLf9UqsAL4   \n",
       "4    4   The Chordettes  spotify:track:433nBELvOOtHlZFUO8mZml   \n",
       "\n",
       "                              artist_uri                  track_name  \\\n",
       "0  spotify:artist:0EodhzA6yW1bIdD5B4tcmJ              Mack The Knife   \n",
       "1  spotify:artist:1Mxqyy3pSjf8kZZL4QVxS0          Fly Me To The Moon   \n",
       "2  spotify:artist:0iOVhN3tnSvgDbcg25JoJb    At Last - Single Version   \n",
       "3  spotify:artist:5V0MlUE1Bft0mbLlND7FJz  Dream A Little Dream Of Me   \n",
       "4  spotify:artist:62GnBjssWSXBlKvQohT2Bk              Mister sandman   \n",
       "\n",
       "                              album_uri  duration_ms  \\\n",
       "0  spotify:album:5MsJK0kqiYIJDmd3cjkGMn       184333   \n",
       "1  spotify:album:6No1Xr0VqSg5SjFAbyRsZQ       147000   \n",
       "2  spotify:album:2pBhXw3Hi1hBf8FpAtE101       182400   \n",
       "3  spotify:album:6yKeev1MnyUbFjhNHWsFFK       182266   \n",
       "4  spotify:album:6jGd5RtEt0g4X4xvoPk1XC       147266   \n",
       "\n",
       "                                          album_name    pid  \n",
       "0                                         That's All  29000  \n",
       "1  Sinatra/Basie: The Complete Reprise Studio Rec...  29000  \n",
       "2                                           At Last!  29000  \n",
       "3                                       C'est Si Bon  29000  \n",
       "4                                      Greatest Hits  29000  "
      ]
     },
     "execution_count": 8,
     "metadata": {},
     "output_type": "execute_result"
    }
   ],
   "source": [
    "tdf_final.head()"
   ]
  },
  {
   "cell_type": "code",
   "execution_count": 9,
   "metadata": {
    "cell_id": "00015-d1755d9e-a8b9-43d7-9427-9a09e1d4992a",
    "deepnote_cell_type": "code",
    "execution_millis": 81,
    "execution_start": 1606608880611,
    "output_cleared": false,
    "source_hash": "9bfc1d38",
    "tags": []
   },
   "outputs": [
    {
     "data": {
      "text/plain": [
       "[('Bobby Darin', 'Mack The Knife', 'spotify:track:3E5ndyOfO6vFDEIE42HA8o'),\n",
       " ('Frank Sinatra',\n",
       "  'Fly Me To The Moon',\n",
       "  'spotify:track:2y8Eez5cFFf2JzD546LThM'),\n",
       " ('Etta James',\n",
       "  'At Last - Single Version',\n",
       "  'spotify:track:0CmIALzGn4vHIHJG4n3Q4z'),\n",
       " ('Ella Fitzgerald',\n",
       "  'Dream A Little Dream Of Me',\n",
       "  'spotify:track:3Bbbz0IGORWZSLf9UqsAL4'),\n",
       " ('The Chordettes', 'Mister sandman', 'spotify:track:433nBELvOOtHlZFUO8mZml'),\n",
       " ('Sam Cooke',\n",
       "  '(What A) Wonderful World - Remastered',\n",
       "  'spotify:track:27K3ZDS5B4fwjhwyihrdzC'),\n",
       " ('The Temptations', 'My Girl', 'spotify:track:6RrXd9Hph4hYR4bf3dbM6H'),\n",
       " ('Louis Armstrong',\n",
       "  'La Vie En Rose - Single Version',\n",
       "  'spotify:track:0AX6pLXtyR2vPLv2KYErAg'),\n",
       " ('Frank Sinatra', \"Somethin' Stupid\", 'spotify:track:3cVWNLd0uEHkc2tnBoE3Ay'),\n",
       " ('Nina Simone', 'Feeling Good', 'spotify:track:61S0mEfdRtJ62Fc7fPqx0U'),\n",
       " ('Louis Armstrong',\n",
       "  'What A Wonderful World - Single Version',\n",
       "  'spotify:track:29U7stRjqHU6rMiS8BfaI9'),\n",
       " ('Marvin Gaye',\n",
       "  \"Ain't No Mountain High Enough\",\n",
       "  'spotify:track:2H3ZUSE54pST4ubRd5FzFR'),\n",
       " ('The Marvelettes',\n",
       "  'Please Mr. Postman',\n",
       "  'spotify:track:6jX5mso4x00c1EiNMrTU9U'),\n",
       " ('The Supremes',\n",
       "  \"You Can't Hurry Love\",\n",
       "  'spotify:track:5bQduNI1lNfkNbDCKhBNX6'),\n",
       " ('Frank Sinatra', 'My Way', 'spotify:track:40tAOP3DPqmVD6L1h45Jp6'),\n",
       " ('James Brown & The Famous Flames',\n",
       "  \"It's A Man's, Man's, Man's World\",\n",
       "  'spotify:track:5BLBpcQLF54Lxg3ufn1GCT'),\n",
       " ('Stevie Wonder',\n",
       "  'For Once In My Life',\n",
       "  'spotify:track:2yNWwardt8VzlpNBWrGYD6'),\n",
       " ('James Brown & The Famous Flames',\n",
       "  'I Got You (I Feel Good)',\n",
       "  'spotify:track:0rTkE0FmT4zT2xL6GXwosU'),\n",
       " ('Marvin Gaye',\n",
       "  'I Heard It Through The Grapevine',\n",
       "  'spotify:track:27m1soUndRthrAA1ediOXn'),\n",
       " ('The Supremes',\n",
       "  'Baby Love - Juke Box Single Version',\n",
       "  'spotify:track:5uM9zdUz8PpYJME9wZCM4W'),\n",
       " ('Etta James',\n",
       "  \"Something's Got A Hold On Me - Single Version\",\n",
       "  'spotify:track:1WhtxWwY7ra5rLrlHWWJaI'),\n",
       " ('Buddy Holly',\n",
       "  'Everyday - Single Version',\n",
       "  'spotify:track:6qfIne1xNg5GDcmg73x0N8'),\n",
       " ('Bill Withers', 'Lean on Me', 'spotify:track:3M8FzayQWtkvOhqMn2V4T2'),\n",
       " ('Frank Sinatra',\n",
       "  'The Way You Look Tonight',\n",
       "  'spotify:track:4pV1bl7OiFW4mMNLmsgQGC'),\n",
       " ('Sam Cooke',\n",
       "  'You Send Me - Remastered',\n",
       "  'spotify:track:2QW3aWIzjEDdHFPZFvOlXX'),\n",
       " ('Stevie Wonder',\n",
       "  \"Signed, Sealed, Delivered (I'm Yours)\",\n",
       "  'spotify:track:3M5eeHXgG4VplKNcsBC8Dj'),\n",
       " ('Jordan Fisher',\n",
       "  'Those Magic Changes - From \"Grease Live!\" Music From The Television Event',\n",
       "  'spotify:track:0CEPOvP1M28P1TFzMphYqM'),\n",
       " ('Mary Wells', 'My Guy', 'spotify:track:3WORyf3FVpYdVoHEgSEt1b'),\n",
       " ('The Supremes',\n",
       "  'Stop! In The Name Of Love',\n",
       "  'spotify:track:2Po67bkabDRE2BcquBNdu1'),\n",
       " ('The Jackson 5', 'I Want You Back', 'spotify:track:3b0EOvScbZUc0qJx0E1L2z'),\n",
       " ('The Jackson 5', 'ABC', 'spotify:track:6cb0HzFQPN4BGADOmSzPCw'),\n",
       " ('The Supremes',\n",
       "  'Come See About Me - Stereo Version',\n",
       "  'spotify:track:22dLbMQkxE1cpDpu4VM3zc'),\n",
       " ('Wilson Pickett',\n",
       "  'In The Midnight Hour',\n",
       "  'spotify:track:4NRQwaks9r58tTDvr4iEyv'),\n",
       " ('The Jackson 5', \"Who's Lovin' You\", 'spotify:track:5hLYFkl1CEKay2hKRbZSsG'),\n",
       " ('The Foundations',\n",
       "  'Build Me up Buttercup',\n",
       "  'spotify:track:4gr5E5KWc7o9WgeDrheed2'),\n",
       " ('Tom Jones', \"It's Not Unusual\", 'spotify:track:67csrS6po7IyXfwds4azjr'),\n",
       " ('The Jacksons',\n",
       "  'Blame It on the Boogie',\n",
       "  'spotify:track:3qI94hINNNeb4S7xQi18lS'),\n",
       " ('Kenny Loggins', 'Footloose', 'spotify:track:4YR6Dextuoc3I8nJ0XgzKI'),\n",
       " ('The Proclaimers',\n",
       "  \"I'm Gonna Be (500 Miles)\",\n",
       "  'spotify:track:67iAlVNDDdddxqSD2EZhFs'),\n",
       " ('Backstreet Boys',\n",
       "  'I Want It That Way',\n",
       "  'spotify:track:0d8ZbnRoW1TJ3qEleTrYHH'),\n",
       " ('Elton John',\n",
       "  \"Don't Go Breaking My Heart\",\n",
       "  'spotify:track:5nPdMALTEd7HOjn16oNf2X'),\n",
       " ('Frankie Valli & The Four Seasons',\n",
       "  'December, 1963 (Oh What A Night!)',\n",
       "  'spotify:track:1hQFF33xi8ruavZNyovtUN'),\n",
       " ('Uncle Kracker', 'Follow Me', 'spotify:track:4KoecuyOpZaNFZ0UqVsllc'),\n",
       " ('Aretha Franklin', 'Respect', 'spotify:track:7s25THrKz86DM225dOYwnr'),\n",
       " ('Natalie Cole',\n",
       "  'This Will Be (An Everlasting Love)',\n",
       "  'spotify:track:0PDCewmZCp0P5s00bptcdd'),\n",
       " ('Van Morrison', 'Brown Eyed Girl', 'spotify:track:3yrSvpt2l1xhsV9Em88Pul'),\n",
       " ('Aretha Franklin',\n",
       "  'I Say a Little Prayer',\n",
       "  'spotify:track:3NfxSdJnVdon1axzloJgba'),\n",
       " ('Neil Diamond', 'Sweet Caroline', 'spotify:track:3zByVQLvdXUaDTubfWkpCk'),\n",
       " ('Billy Joel', 'Piano Man', 'spotify:track:78WVLOP9pN0G3gRLFy1rAa'),\n",
       " ('Frankie Valli',\n",
       "  'Grease - 2007 Remastered Version',\n",
       "  'spotify:track:5Vrczz39CvlD3OGCa6utoA'),\n",
       " ('Jessie J',\n",
       "  'Grease (Is The Word) - From \"Grease Live! Music from the Television Event\"',\n",
       "  'spotify:track:6leG7WODSqVwajzuBfyl5V'),\n",
       " ('Stockard Channing',\n",
       "  \"Look At Me I'm Sandra Dee\",\n",
       "  'spotify:track:68m3cQnpg3C55BuBX5y2Kz'),\n",
       " ('Vanessa Hudgens',\n",
       "  'Look At Me I\\'m Sandra Dee - From \"Grease Live!\" Music From The Television Event',\n",
       "  'spotify:track:3XnO3vrWlRAc3zT0NFusnp'),\n",
       " ('UB40', 'Red Red Wine - Edit', 'spotify:track:1vYew137WJ69SFp9oez3xm'),\n",
       " ('Rick Astley',\n",
       "  'Never Gonna Give You Up',\n",
       "  'spotify:track:4uLU6hMCjMI75M1A2tKUQC'),\n",
       " ('Kansas', 'Carry on Wayward Son', 'spotify:track:4DMKwE2E2iYDKY01C335Uw'),\n",
       " ('Red Hot Chili Peppers',\n",
       "  'Under The Bridge',\n",
       "  'spotify:track:3d9DChrdc6BOeFsbrZ3Is0'),\n",
       " ('Soft Cell', 'Tainted Love', 'spotify:track:0cGG2EouYCEEC3xfa0tDFV'),\n",
       " ('Queen',\n",
       "  'Bohemian Rhapsody - Remastered 2011',\n",
       "  'spotify:track:1AhDOtG9vPSOmsWgNW0BEY'),\n",
       " ('Elton John', 'Tiny Dancer', 'spotify:track:4BGJSbB5rAcg4pNzD4gfxU'),\n",
       " ('Toni Basil', 'Mickey', 'spotify:track:4Gnl12vioGd6lgIjeYcMCl'),\n",
       " ('Junior Senior', 'Move Your Feet', 'spotify:track:4jacsL77ZYnpInmTtUBaJW'),\n",
       " ('The Shirelles', 'Mama Said', 'spotify:track:3mqBLq3IsXUafucX57ERho'),\n",
       " ('Johnny Nash',\n",
       "  'I Can See Clearly Now - Edit',\n",
       "  'spotify:track:0DcrhZ12WcCqruCs8ibXSf'),\n",
       " ('James Brown',\n",
       "  'Get Up Offa That Thing',\n",
       "  'spotify:track:0nyrltZrQGAJMBZc1bYvuQ'),\n",
       " ('Jr. Walker & The All Stars',\n",
       "  'How Sweet It Is (To Be Loved By You)',\n",
       "  'spotify:track:1m3PvavCMvctVLbh24McmP'),\n",
       " ('Dexys Midnight Runners',\n",
       "  'Come On Eileen',\n",
       "  'spotify:track:0EMmVUYs9ZZRHtlADB88uz'),\n",
       " ('Stevie Nicks',\n",
       "  'Edge of Seventeen - Remastered',\n",
       "  'spotify:track:7L3b6iaVhDVjfo52Hbvh9Z'),\n",
       " ('Lynyrd Skynyrd',\n",
       "  'Sweet Home Alabama',\n",
       "  'spotify:track:4CJVkjo5WpmUAKp3R44LNb'),\n",
       " ('Earth, Wind & Fire', 'September', 'spotify:track:1mqlc0vEP9mU1kZgTi6LIQ'),\n",
       " ('Bowling For Soup', '1985', 'spotify:track:5oQcOu1omDykbIPSdSQQNJ'),\n",
       " ('Simple Minds',\n",
       "  \"Don't You (Forget About Me)\",\n",
       "  'spotify:track:4aWn4NHlELpOehxsBaQeoe'),\n",
       " ('Rupert Holmes',\n",
       "  'Escape (The Pina Colada Song)',\n",
       "  'spotify:track:5IMtdHjJ1OtkxbGe4zfUxQ'),\n",
       " ('The Outfield', 'Your Love', 'spotify:track:4oDZ5L8izBals6jKBJDBcX'),\n",
       " ('Billy Joel',\n",
       "  'Only the Good Die Young',\n",
       "  'spotify:track:1xOXXYh6lTW8laxlW7JP2J'),\n",
       " ('Deniece Williams',\n",
       "  \"Let's Hear It for the Boy\",\n",
       "  'spotify:track:0RMo4bixbZYfzuJ4AYBLu9'),\n",
       " ('Led Zeppelin',\n",
       "  'Stairway To Heaven',\n",
       "  'spotify:track:5CQ30WqJwcep0pYcV4AMNc'),\n",
       " (\"Guns N' Roses\",\n",
       "  \"Sweet Child O' Mine\",\n",
       "  'spotify:track:7o2CTH4ctstm8TNelqjb51'),\n",
       " ('Supertramp',\n",
       "  'Goodbye Stranger - 2010 Remastered',\n",
       "  'spotify:track:67oyFnjJnn78fZP9KjeZx0'),\n",
       " ('Bon Iver', 'Re:Stacks', 'spotify:track:1RuyGO0kmkNkfixUFKkjuC'),\n",
       " ('Bon Iver', 'Flume', 'spotify:track:15WS5DLuxA4zBF0tH1sOR9'),\n",
       " ('Bon Iver', 'Skinny Love', 'spotify:track:3ZMv9EzGoteNi5Qnx0KpEO'),\n",
       " ('Bon Iver', 'Holocene', 'spotify:track:1XQnZTR0ER8y5fGO17uX1R'),\n",
       " ('Bon Iver', 'Blood Bank', 'spotify:track:273F79qftb3uo3IlIXmo44'),\n",
       " ('Ben Howard', 'She Treats Me Well', 'spotify:track:5N1itNLaYtifU8YVbg9SBQ'),\n",
       " ('Ben Howard',\n",
       "  'I Forget Where We Were',\n",
       "  'spotify:track:6rQvEE7Jvkdwnn8RroMs15'),\n",
       " ('Ben Howard', 'Time Is Dancing', 'spotify:track:7tTM1237EwhJnBv3eu2tVz'),\n",
       " ('Ben Howard', 'Conrad', 'spotify:track:3NZLUgW1Y3UvQYFrJETeSd'),\n",
       " ('Ben Howard', 'These Waters', 'spotify:track:3dnpOdwDKjl5h9dtfx0eBB'),\n",
       " ('Ed Sheeran', 'Thinking Out Loud', 'spotify:track:1Slwb6dOYkBlWal1PGtnNg'),\n",
       " ('Ed Sheeran', 'I See Fire', 'spotify:track:3B7udSGy2PfgoCniMSb523'),\n",
       " ('Ed Sheeran', 'Photograph', 'spotify:track:6fxVffaTuwjgEk5h9QyRjy'),\n",
       " ('Ed Sheeran', 'Tenerife Sea', 'spotify:track:6vSwxzO2Qf4BinHSXRwZJe'),\n",
       " ('Ed Sheeran', \"I'm A Mess\", 'spotify:track:3KiktyOxQd2Z0bmnabgRq2'),\n",
       " ('Ed Sheeran', 'One', 'spotify:track:0A2J5TumCpT4aJVvQHNEQW'),\n",
       " ('Ed Sheeran', 'Bloodstream', 'spotify:track:5mxTOMM0NiRud8VdBxbA2o'),\n",
       " ('Ed Sheeran', 'Nina', 'spotify:track:3THTZMkVV2onr7xM5yb6WZ'),\n",
       " ('Hozier', 'From Eden', 'spotify:track:2tKOIBLJ2j384tnunmmKi7'),\n",
       " ('Hozier',\n",
       "  'Angel Of Small Death & The Codeine Scene',\n",
       "  'spotify:track:1TGimSbipZ3XZ7q3eszBRV'),\n",
       " ('Hozier',\n",
       "  'Take Me To Church - Live From Spotify, London 2014',\n",
       "  'spotify:track:61IautUH8F8UWJ0kxF9pJc'),\n",
       " ('Hozier', 'Work Song', 'spotify:track:3UfCFlGruX0DRPCpD1V3pU'),\n",
       " ('Hozier', 'Like Real People Do', 'spotify:track:44f2AVSNQ3xVs1EI0S0bjl'),\n",
       " ('Hozier', 'Cherry Wine - Live', 'spotify:track:1ivHxaGL5ld9VS1zsYc4YN'),\n",
       " ('Hozier', 'Someone New', 'spotify:track:2NtAwdkesWt1QkcMTe4IjN'),\n",
       " ('Vance Joy', 'Mess Is Mine', 'spotify:track:7BVwi9cIzSc6tpyxsp47vJ'),\n",
       " ('Vance Joy', 'Red Eye', 'spotify:track:43YnOHuci8PolOAzI7XoXe'),\n",
       " ('Vance Joy', 'Wasted Time', 'spotify:track:7DmiHaP1MxL9i1p0kHhXq2'),\n",
       " ('Vance Joy', 'Who Am I', 'spotify:track:6ls6Wxw0iivqDIQmlFeG6F'),\n",
       " ('Vance Joy', 'Winds Of Change', 'spotify:track:1Ud7FWi7UXYXzDsOnkQYMU'),\n",
       " ('Vance Joy', 'Play With Fire', 'spotify:track:1bL3HILVosmTjMQ6N5ok7A'),\n",
       " ('Coldplay', 'Fix You', 'spotify:track:7LVHVU3tWfcxj5aiPFEW4Q'),\n",
       " ('Coldplay', 'The Scientist', 'spotify:track:75JFxkI2RXiU7L9VXzMkle'),\n",
       " ('Coldplay',\n",
       "  'Every Teardrop Is a Waterfall',\n",
       "  'spotify:track:6lpWMtQoGqQyEZuyIwhbkO'),\n",
       " ('Coldplay', 'X & Y', 'spotify:track:2rxp56vVQp1zzumJ0eHLmw'),\n",
       " ('Coldplay', 'Warning Sign', 'spotify:track:4bPkBHKLKd9WHizsvM2zV3'),\n",
       " ('Coldplay', 'Charlie Brown', 'spotify:track:0x5CxIxVZUxwOQbwiVLS6J'),\n",
       " ('Lifehouse', 'Falling In', 'spotify:track:3gYI69YpLiBmXHCUsOSKjA'),\n",
       " ('Lifehouse',\n",
       "  'Between The Raindrops',\n",
       "  'spotify:track:4ZFPFZ1XPz7MPTott8Y68l'),\n",
       " ('Lifehouse', 'Everything', 'spotify:track:68jDcAoxBfn7Tu9SUt38d9'),\n",
       " ('Lifehouse', 'Halfway Gone', 'spotify:track:7JtQLJcOyVJKUPdUC4lggE'),\n",
       " ('Lifehouse', 'You And Me', 'spotify:track:7L605WhF5EGf34ggj87yK6'),\n",
       " ('Lifehouse', 'Whatever It Takes', 'spotify:track:3nzL5CIQiCEt6jRt1AlQ9d'),\n",
       " ('Vance Joy', 'First Time', 'spotify:track:2qEv3RLo2KTgjP844901gV'),\n",
       " ('Vance Joy', 'Georgia', 'spotify:track:6Fha6tXHkL3r9m9nNqQG8p'),\n",
       " ('O.A.R.', 'Peace', 'spotify:track:2xwsf9FuFINP1X4FTsqZ7Q'),\n",
       " ('The Lumineers',\n",
       "  'Gale Song - From “The Hunger Games: Catching Fire” Soundtrack',\n",
       "  'spotify:track:11Oflzf2BzLlU912hF6yOT'),\n",
       " ('The Lumineers', 'Angela', 'spotify:track:5nzvgcE7FuekoQTR6WRs18'),\n",
       " ('Whitaker', '5,000,000,000 Years', 'spotify:track:7h5UTkXAUVMDkpcr3IZxnP'),\n",
       " ('J. Cole', 'January 28th', 'spotify:track:6NyhBA9M6KK0fuVsojxL00'),\n",
       " ('J. Cole', 'Wet Dreamz', 'spotify:track:6Ius4TC0L3cN74HT7ENE6e'),\n",
       " ('J. Cole', 'No Role Modelz', 'spotify:track:62vpWI1CHwFy7tMIcSStl8'),\n",
       " ('J. Cole', 'Hello', 'spotify:track:30Chv2SmIry70YwtmtaKnj'),\n",
       " ('J. Cole', 'Love Yourz', 'spotify:track:4gkl7QbQvBd3TM9PhlWFkI'),\n",
       " ('J. Cole', 'Apparently', 'spotify:track:1HNs07uZxZniPNmniw2GTa'),\n",
       " ('blink-182', 'All The Small Things', 'spotify:track:12qZHAeOyTf93YAWvGDTat'),\n",
       " ('blink-182', 'I Miss You', 'spotify:track:1oTo3ijRbaDAtrjJrGAPSw'),\n",
       " ('blink-182', 'Always', 'spotify:track:1JfNuvdAIqI3ggkzXuBvPp'),\n",
       " ('Augustana', 'Boston', 'spotify:track:2WZyfujzMweFLnozyUJBkW'),\n",
       " ('Band of Horses', 'The Funeral', 'spotify:track:4o0NjemqhmsYLIMwlcosvW'),\n",
       " ('Blues Traveler', 'Run-Around', 'spotify:track:500Tkm3vJmVtdUwdCVxCTb'),\n",
       " ('Citizen Cope',\n",
       "  'Let The Drummer Kick',\n",
       "  'spotify:track:4Nrg8EG7wWTiTOumtpw8gk'),\n",
       " ('Coldplay', 'Yellow', 'spotify:track:3AJwUDP919kvQ9QcozQPxg'),\n",
       " ('Charles Givings',\n",
       "  'Easy (LIke Sunday Morning)',\n",
       "  'spotify:track:5lnLxpRxCDlqedyWgkBLOh'),\n",
       " ('Darius Rucker', 'Alright', 'spotify:track:5JlH51YDYsGj2dyEJKKjcN'),\n",
       " ('Dave Matthews Band',\n",
       "  'Crash into Me',\n",
       "  'spotify:track:1HL3yEnYq8LEyFQ3QegA5V'),\n",
       " ('Dave Matthews Band',\n",
       "  'Ants Marching',\n",
       "  'spotify:track:2FfZg072w8RoxlMOR7M4CT'),\n",
       " ('Dave Matthews Band', 'You & Me', 'spotify:track:1qHXpsRP2gwteJCPUrc9wA'),\n",
       " ('Five For Fighting', '100 Years', 'spotify:track:5gBQ3x6u7DCvMW1QoP3CpG'),\n",
       " ('Florence + The Machine',\n",
       "  'Dog Days Are Over',\n",
       "  'spotify:track:1YLJVmuzeM2YSUkCCaTNUB'),\n",
       " ('Gavin DeGraw', 'Soldier', 'spotify:track:0MhCb3iakymVqQIOeYPSUf'),\n",
       " ('Gavin DeGraw', 'Not Over You', 'spotify:track:6j7hih15xG2cdYwIJnQXsq'),\n",
       " ('Gavin DeGraw',\n",
       "  \"I Don't Want to Be\",\n",
       "  'spotify:track:1ccNXmmgYnajJ8ulYYEK9Y'),\n",
       " ('Gavin DeGraw', 'Chariot', 'spotify:track:0lKTwaoezVFOd1MC6MqViz'),\n",
       " ('The Goo Goo Dolls', 'Come To Me', 'spotify:track:3sBfItjYrLgKrCPIZndhc6'),\n",
       " ('The Goo Goo Dolls', 'Let Love In', 'spotify:track:1wt8PzNPhWi5o0voZjzhMs'),\n",
       " ('The Goo Goo Dolls', 'Slide', 'spotify:track:0nnwn7LWHCAu09jfuH1xTA'),\n",
       " ('The Goo Goo Dolls', 'Better Days', 'spotify:track:2hiB8QxWic092OablwpoVC'),\n",
       " ('The Goo Goo Dolls', 'Sympathy', 'spotify:track:5fIrBv7PrI2MBcktQOcmpI'),\n",
       " ('The Goo Goo Dolls', 'Iris', 'spotify:track:6Qyc6fS4DsZjB2mRW9DsQs'),\n",
       " ('Imagine Dragons', 'Demons', 'spotify:track:2Oehrcv4Kov0SuIgWyQY9e'),\n",
       " ('Jack Johnson', 'Better Together', 'spotify:track:2iXdwVdzA0KrI2Q0iZNJbX'),\n",
       " ('Jack Johnson', 'Banana Pancakes', 'spotify:track:0BgbobvykXxEvxo2HhCuvM'),\n",
       " ('Jack Johnson', 'Upside Down', 'spotify:track:4JWZTNlLBlNoa5t7qn1M8i'),\n",
       " ('Jason Mraz', \"I'm Yours\", 'spotify:track:3S0OXQeoh0w6AY8WQVckRW'),\n",
       " ('Jason Mraz',\n",
       "  \"The Remedy (I Won't Worry)\",\n",
       "  'spotify:track:4tK4ARuilOrBzwVQK73E0Y'),\n",
       " ('John Mayer',\n",
       "  \"Free Fallin' - Live at the Nokia Theatre\",\n",
       "  'spotify:track:4LloVtxNZpeh7q7xdi1DQc'),\n",
       " ('John Mayer', 'Heartbreak Warfare', 'spotify:track:4gs07VlJST4bdxGbBsXVue'),\n",
       " ('John Mayer', 'Who Says', 'spotify:track:0HLWvLKQWpFdPhgk6ym58n'),\n",
       " ('John Mayer',\n",
       "  'Your Body Is a Wonderland',\n",
       "  'spotify:track:7vFv0yFGMJW3qVXbAd9BK9'),\n",
       " ('John Mayer', 'Gravity', 'spotify:track:3SktMqZmo3M9zbB7oKMIF7'),\n",
       " ('John Mayer',\n",
       "  'Dreaming with a Broken Heart',\n",
       "  'spotify:track:7keXdrB4mz57u4b8YkCwag'),\n",
       " ('John Mayer', 'Say', 'spotify:track:6wZI4mdT8JwXgkGURnBQiq'),\n",
       " ('John Mayer', 'Clarity', 'spotify:track:6atVS7UZBxoyJkkteM62u5'),\n",
       " ('The Killers', 'Mr. Brightside', 'spotify:track:7oK9VyNzrYvRFo7nQEYkWN'),\n",
       " ('Klingande', 'Jubel - Original Mix', 'spotify:track:2xlA7kNX6NPtT2LEWspzAQ'),\n",
       " ('Klingande', 'Punga', 'spotify:track:4Pgr29maPgbjAkt9zzwBq6'),\n",
       " ('Lifehouse', 'Hanging By A Moment', 'spotify:track:0wqOReZDnrefefEsrIGeR4'),\n",
       " ('Los Lonely Boys', 'Heaven', 'spotify:track:2mQ1RBK7s87mdPCzh97RSH'),\n",
       " ('The Lumineers', 'Ho Hey', 'spotify:track:1jdNcAD8Ir58RlsdGjJJdx'),\n",
       " ('The Lumineers', 'Stubborn Love', 'spotify:track:15twB7zTglmu0Bg8gW4Mrm'),\n",
       " ('Maroon 5',\n",
       "  'She Will Be Loved - Radio Mix',\n",
       "  'spotify:track:4llK75pXNWZz6KAho2Gp16'),\n",
       " ('Maroon 5', 'Sunday Morning', 'spotify:track:5qII2n90lVdPDcgXEEVHNy'),\n",
       " ('Maroon 5',\n",
       "  'If I Ain’t Got You - Live',\n",
       "  'spotify:track:3M1aZaO65nz2yuA5g8LIVQ'),\n",
       " ('Matisyahu', 'Sunshine', 'spotify:track:56ZDcszhe1eCeghso93fXP'),\n",
       " ('Mumford & Sons', 'I Will Wait', 'spotify:track:71O1jD7bF3cdMPvPi186V6'),\n",
       " ('Mumford & Sons', 'The Cave', 'spotify:track:3pLTOP0G0etiWUknFoRpsr'),\n",
       " ('Mumford & Sons', 'Little Lion Man', 'spotify:track:6b5rA9rthDbZDOQp9UbOgl'),\n",
       " ('Mumford & Sons', 'Babel', 'spotify:track:22UQelxzCIskdmb8pIqq8U'),\n",
       " ('O.A.R.', 'About Mr. Brown', 'spotify:track:3cQvNpJMtrGaewUeLgoYRR'),\n",
       " ('O.A.R.', 'War Song', 'spotify:track:7qTJnd9Z5bfwRtspQxzZ7X'),\n",
       " ('Oasis', 'Wonderwall - Remastered', 'spotify:track:5qqabIl2vWzo9ApSC317sa'),\n",
       " ('Oasis',\n",
       "  'Champagne Supernova - Remastered',\n",
       "  'spotify:track:1wo3UYTeizJHkwYIuLuBPF'),\n",
       " ('Oasis',\n",
       "  \"Don't Look Back in Anger - Remastered\",\n",
       "  'spotify:track:0UvCh63URrLFcPkKt99hHd'),\n",
       " ('Of Monsters and Men',\n",
       "  'Little Talks',\n",
       "  'spotify:track:2ihCaVdNZmnHZWt0fvAM7B'),\n",
       " ('OneRepublic', 'Secrets', 'spotify:track:4zweVv3Wa6XgexhoUOzkYs'),\n",
       " ('Passion Pit', 'Take a Walk', 'spotify:track:4Sfa7hdVkqlM8UW5LsSY3F'),\n",
       " ('Passion Pit', 'Carried Away', 'spotify:track:52a6VcF23v5HB7KfDEmBHq'),\n",
       " ('Passion Pit', 'Sleepyhead', 'spotify:track:4prEPl61C8qZpeo3IkYSMl'),\n",
       " ('Passion Pit', 'Little Secrets', 'spotify:track:3kb38wezoUA8ki5jPYy3t5'),\n",
       " ('Phantom Planet',\n",
       "  'California - Tchad Blake Mix',\n",
       "  'spotify:track:497Fkp3gRiGrRMoqBTDudr'),\n",
       " ('Phillip Phillips', 'Home', 'spotify:track:0d1ZmSlIf05gkCPuSPy0Yq'),\n",
       " ('Phillip Phillips',\n",
       "  'Gone, Gone, Gone',\n",
       "  'spotify:track:1zCoCopxgQmozHBuuyfW2K'),\n",
       " ('Queen',\n",
       "  \"You're My Best Friend - Remastered 2011\",\n",
       "  'spotify:track:5YtxOL4iUchhynLL9nEBwQ'),\n",
       " ('Red Hot Chili Peppers',\n",
       "  'Snow (Hey Oh) - Hey Oh Album Version',\n",
       "  'spotify:track:2aibwv5hGXSgw7Yru8IYTO'),\n",
       " ('Red Hot Chili Peppers',\n",
       "  'Californication',\n",
       "  'spotify:track:48UPSzbZjgc449aqz8bxox'),\n",
       " ('Red Hot Chili Peppers',\n",
       "  'Otherside',\n",
       "  'spotify:track:64BbK9SFKH2jk86U3dGj2P'),\n",
       " ('Red Hot Chili Peppers',\n",
       "  'Scar Tissue',\n",
       "  'spotify:track:1G391cbiT3v3Cywg8T7DM1'),\n",
       " ('Red Hot Chili Peppers',\n",
       "  \"Can't Stop\",\n",
       "  'spotify:track:3ZOEytgrvLwQaqXreDs2Jx'),\n",
       " ('Red Hot Chili Peppers',\n",
       "  'Dani California',\n",
       "  'spotify:track:10Nmj3JCNoMeBQ87uw5j8k'),\n",
       " ('The Script', 'Hall of Fame', 'spotify:track:7wMq5n8mYSKlQIGECKUgTX'),\n",
       " ('The Script', 'Breakeven', 'spotify:track:1a1i2IwXnUN0PjllVEhA4B'),\n",
       " ('The Script', 'For the First Time', 'spotify:track:49kjlZP49LMD1MrrcvXDET'),\n",
       " ('The Script', 'Nothing', 'spotify:track:3cdhgO3vgHyOIADMXokd2t'),\n",
       " ('Sister Hazel', 'All For You', 'spotify:track:2skmOCFU64Bg7Ytkgwliwe'),\n",
       " ('Snow Patrol', 'Chasing Cars', 'spotify:track:11bD1JtSjlIgKgZG2134DZ'),\n",
       " ('Third Eye Blind',\n",
       "  'Jumper - 1998 Edit',\n",
       "  'spotify:track:3354J49VpkbZJho7Ztdzpw'),\n",
       " ('The Temper Trap',\n",
       "  'Sweet Disposition',\n",
       "  'spotify:track:5RoIXwyTCdyUjpMMkk4uPd'),\n",
       " ('Third Eye Blind',\n",
       "  'Semi-Charmed Life',\n",
       "  'spotify:track:42et6fnHCw1HIPSrdPprMl'),\n",
       " ('Third Eye Blind',\n",
       "  'Never Let You Go - 2008 Version',\n",
       "  'spotify:track:1sxUaLi0G2vB7dl4ogtCxH'),\n",
       " ('Train', 'Hey, Soul Sister', 'spotify:track:6mghCOaaSvrke0z1EUVUIf'),\n",
       " ('Train', 'Meet Virginia', 'spotify:track:4ocbH5ZJqajZIpUrqRUoue'),\n",
       " ('Train', 'Drive By', 'spotify:track:7zWj09xkFgA9tcV6YhfU6q'),\n",
       " ('Train', 'Drops of Jupiter', 'spotify:track:2hKdd3qO7cWr2Jo0Bcs0MA'),\n",
       " ('Tom Petty and the Heartbreakers',\n",
       "  'American Girl',\n",
       "  'spotify:track:7MRyJPksH3G2cXHN8UKYzP'),\n",
       " ('Uncle Kracker', 'Smile', 'spotify:track:4ZC8hXXqu2hPcDLw9QTdtQ'),\n",
       " ('U2', 'With Or Without You', 'spotify:track:3yvlcIteooc31cPjyWPTw1'),\n",
       " ('Zac Brown Band', 'Chicken Fried', 'spotify:track:4dGJf1SER1T6ooX46vwzRB'),\n",
       " ('Kid Cudi', 'Up Up & Away', 'spotify:track:1RUTIdTnFs8lHSc0Zr4UJB'),\n",
       " ('Mumford & Sons',\n",
       "  'Where Are You Now',\n",
       "  'spotify:track:4rzWrb9KT2v71cyuHhcbJY'),\n",
       " ('Mumford & Sons',\n",
       "  'Lover Of The Light',\n",
       "  'spotify:track:6EZWQHryZ0L5JyBXF3AC3B'),\n",
       " ('Foo Fighters', 'Learn to Fly', 'spotify:track:5OQsiBsky2k2kDKy2bX2eT'),\n",
       " ('Kanye West', 'I Wonder', 'spotify:track:6bXOlIfGIWh7Tyn4oyvLQW'),\n",
       " ('Waterdeep',\n",
       "  'Whenever God Shines His Light',\n",
       "  'spotify:track:7BrjjW1AvYfzsRnLmJ0mDl'),\n",
       " ('The Police',\n",
       "  'Message In A Bottle - Remastered 2003',\n",
       "  'spotify:track:3bN4tg6rnNPy9GCkGhym4T'),\n",
       " ('Edward Sharpe & The Magnetic Zeros',\n",
       "  'Home',\n",
       "  'spotify:track:7w5cxTEzp1rfV3KCy0Bd5N'),\n",
       " ('Queen',\n",
       "  \"Don't Stop Me Now - Remastered\",\n",
       "  'spotify:track:5T8EDUDqKcs6OSOwEsfqG7'),\n",
       " ('Toploader',\n",
       "  'Dancing in the Moonlight',\n",
       "  'spotify:track:3Fzlg5r1IjhLk2qRw667od'),\n",
       " ('Clean Bandit',\n",
       "  'Rather Be (feat. Jess Glynne)',\n",
       "  'spotify:track:5HuqzFfq2ulY1iBAW5CxLe'),\n",
       " ('Counting Crows', 'Mr. Jones', 'spotify:track:5DiXcVovI0FcY2s0icWWUu'),\n",
       " (\"Plain White T's\",\n",
       "  'Hey There Delilah',\n",
       "  'spotify:track:4RCWB3V8V0dignt99LZ8vH'),\n",
       " ('John Newman', 'Love Me Again', 'spotify:track:5VSCgNlSmTV2Yq5lB40Eaw'),\n",
       " ('Empire of the Sun',\n",
       "  'Walking On A Dream',\n",
       "  'spotify:track:3iVAyrTlbWGBq0laeQ18z2'),\n",
       " ('MisterWives', 'Reflections', 'spotify:track:2PtBhfoPZ6VYtXkrE5FrCH'),\n",
       " ('Jimmy Eat World', 'The Middle', 'spotify:track:3mcG2NI5G5vhrQtRda1YnA'),\n",
       " (\"K'NAAN\", 'Take A Minute', 'spotify:track:5ojAgSVQftPufiZK4w3SS5'),\n",
       " ('Bob Marley & The Wailers',\n",
       "  'One Love / People Get Ready',\n",
       "  'spotify:track:4OsZ1vrenrtSbqLJxOceKl'),\n",
       " ('Slightly Stoopid', 'Officer', 'spotify:track:28OkLLntKaxV9Fxk79sQkD'),\n",
       " ('The xx', 'Intro', 'spotify:track:0bXpmJyHHYPk6QBFj25bYF'),\n",
       " ('Tracy Chapman', 'Fast Car', 'spotify:track:2M9ro2krNb7nr7HSprkEgo'),\n",
       " ('Smallpools', 'Dreaming', 'spotify:track:6cMswWRv4lAU3mh5lclgCc'),\n",
       " ('Counting Crows', 'Big Yellow Taxi', 'spotify:track:3ZpiT9OFY8BawTHDTi1Pfz'),\n",
       " ('OneRepublic', 'I Lived', 'spotify:track:7pzdiluN2tVrxsFGyM2Asc'),\n",
       " ('John Lennon',\n",
       "  'Imagine - 2010 - Remaster',\n",
       "  'spotify:track:7pKfPomDEeI4TPT6EOYjn9'),\n",
       " ('Big Gigantic', 'Shooting Stars', 'spotify:track:6gCMCZ20905OGr86s2sNjt'),\n",
       " ('Kygo', 'Stay', 'spotify:track:2FiSTH0GYpIioUgjfzMIja'),\n",
       " ('George Ezra', 'Budapest', 'spotify:track:7GJClzimvMSghjcrKxuf1M'),\n",
       " ('Coldplay', 'Everglow', 'spotify:track:5qfZRNjt2TkHEL12r3sDEU'),\n",
       " ('Jackson Breit', 'Sunny Side', 'spotify:track:2fS36fnJg8lqq5u8jRKiMx'),\n",
       " ('The Beatles',\n",
       "  'Hey Jude - Remastered 2015',\n",
       "  'spotify:track:3H7sv3Krffn15BufUuXzf3'),\n",
       " ('Bob Marley & The Wailers',\n",
       "  'Is This Love',\n",
       "  'spotify:track:6M5cQCyieE1Q8YQydVLzxL'),\n",
       " ('Bob Marley & The Wailers',\n",
       "  'Could You Be Loved',\n",
       "  'spotify:track:61dXuN3VyqGOyOeMfJXIPh'),\n",
       " ('Bob Marley & The Wailers',\n",
       "  'Buffalo Soldier',\n",
       "  'spotify:track:1QQfbfMfyzNZhT5fg3RpuS'),\n",
       " ('Dave Matthews Band', 'Grey Street', 'spotify:track:65JmIZCsgkw2mbfobxt1CR'),\n",
       " ('Twenty One Pilots', 'Taxi Cab', 'spotify:track:4j8gmCSLLy0TSFg2brV01g'),\n",
       " ('Sublime', \"Doin' Time\", 'spotify:track:0Ylaocf86J0PZAhjAP8wzl'),\n",
       " ('Nine Days',\n",
       "  'Absolutely (Story of a Girl) - Radio Mix',\n",
       "  'spotify:track:3mNecsYFb6LQg7822DPXCP'),\n",
       " ('Sublime', 'Santeria', 'spotify:track:2Z2vOukzwOgqR4dkymRSWd'),\n",
       " ('Sugar Ray', 'Every Morning', 'spotify:track:2ouURa1AIXp3AvkS52Jry5'),\n",
       " ('Mumford & Sons', 'Wona', 'spotify:track:3siO2LQXva9pw9r45RJgVu'),\n",
       " ('Green Day',\n",
       "  'Wake Me Up When September Ends',\n",
       "  'spotify:track:3ZffCQKLFLUvYM59XKLbVm'),\n",
       " ('Green Day',\n",
       "  'Good Riddance (Time of Your Life)',\n",
       "  'spotify:track:6ORqU0bHbVCRjXm9AjyHyZ'),\n",
       " ('Green Day', 'Basket Case', 'spotify:track:6L89mwZXSOwYl76YXfX13s'),\n",
       " ('Green Day', 'American Idiot', 'spotify:track:6nTiIhLmQ3FWhvrGafw2zj'),\n",
       " ('Green Day', '21 Guns', 'spotify:track:64yrDBpcdwEdNY9loyEGbX'),\n",
       " ('Green Day',\n",
       "  'Holiday/Boulevard Of Broken Dreams',\n",
       "  'spotify:track:0MsrWnxQZxPAcov7c74sSo'),\n",
       " ('Kanye West', 'Saint Pablo', 'spotify:track:1o0kWPueYo94LIjPYOE5Nf'),\n",
       " ('Kanye West', 'Good Morning', 'spotify:track:27eO3EGKIUU7yug1eOxUZu'),\n",
       " ('The 1975', 'The Sound', 'spotify:track:316r1KLN0bcmpr7TZcMCXT'),\n",
       " ('Good Charlotte', 'The Anthem', 'spotify:track:3SqOC9IRDYGSq9cH6K2GQI'),\n",
       " ('blink-182', \"What's My Age Again?\", 'spotify:track:5wTMQjEx9LWeFwLjolPCUy'),\n",
       " ('Hoobastank', 'The Reason', 'spotify:track:6Gn02ZC8juXwQ10Xk7ACXx'),\n",
       " ('Good Charlotte', 'Girls & Boys', 'spotify:track:7rbhB0lpHsVd8VPc18p5mA'),\n",
       " ('James Arthur',\n",
       "  \"Say You Won't Let Go\",\n",
       "  'spotify:track:5uCax9HTNlzGybIStD3vDh'),\n",
       " ('Ben Platt',\n",
       "  'Waving Through A Window',\n",
       "  'spotify:track:63Q9hAFTga7rqYRrAhwIyR'),\n",
       " ('Semisonic', 'Closing Time', 'spotify:track:4EnkwZd0UJAuHpNMMemQaA'),\n",
       " ('Third Eye Blind',\n",
       "  \"How's It Going To Be\",\n",
       "  'spotify:track:3Uvx1TO0Kg5HgGPk58lHXv'),\n",
       " ('Good Charlotte',\n",
       "  'Lifestyles of the Rich & Famous',\n",
       "  'spotify:track:0kdlNl7D6EEU4kSkvRKBb7'),\n",
       " ('Stan Getz', 'Corcovado', 'spotify:track:5Tc3jxMrSb6QhyFFWuBVAq'),\n",
       " ('Vince Guaraldi Trio',\n",
       "  'Charlie Brown Theme',\n",
       "  'spotify:track:1WdgaRSMceBEnhmWkR6E7I'),\n",
       " ('Johann Sebastian Bach',\n",
       "  'Unaccompanied Cello Suite No. 5 in C Minor, BWV 1011: Gavotte',\n",
       "  'spotify:track:0ARbqSOdmaLUpvlY4EVIEM'),\n",
       " ('Frédéric Chopin',\n",
       "  'Andante spianato et Grande Polonaise brillante in E flat, Op.22: Andante spianato. Tranquillo -',\n",
       "  'spotify:track:4IBkJWTue2mIMWL0Hv2n6T'),\n",
       " ('Erik Satie', 'Première Gymnopédie', 'spotify:track:4jep6dMPP0z7HrN375InoL'),\n",
       " ('John Williams',\n",
       "  \"Theme From Schindler's List\",\n",
       "  'spotify:track:3DzMT13HJV7EsbVbNZZJZQ'),\n",
       " ('Johann Sebastian Bach',\n",
       "  'Unaccompanied Cello Suite No. 6 in D Major, BWV 1012: Gavotte',\n",
       "  'spotify:track:2ddhCHZW8CT0ZVJG2lHyuM'),\n",
       " ('Wolfgang Amadeus Mozart',\n",
       "  'Serenade In G Major: Eine Kleine Nachtmusik, K. 525: I. Allegro',\n",
       "  'spotify:track:4GRDiNU8fkizXz4rDX9gS5'),\n",
       " ('Ludwig van Beethoven',\n",
       "  'Piano Sonata No. 14 in C-Sharp Minor, Op. 27 No. 2 \"Moonlight\": I. Adagio sostenuto',\n",
       "  'spotify:track:5t0E9V1RiHBflzs71pfGGG'),\n",
       " ('Anders Miolin',\n",
       "  '3 Gymnopedies (arr. A. Miolin): Gymnopedie No. 1',\n",
       "  'spotify:track:4mtxCJw3BUxz6p8CopGNRI'),\n",
       " ('Johann Sebastian Bach',\n",
       "  'Unaccompanied Cello Suite No. 1 in G Major, BWV 1007: Prélude',\n",
       "  'spotify:track:17i5jLpzndlQhbS4SrTd0B'),\n",
       " ('Vince Guaraldi Trio',\n",
       "  'Linus And Lucy',\n",
       "  'spotify:track:0MmNrhvLcoWjo7AOr0vgka'),\n",
       " ('Gerry Mulligan',\n",
       "  'Lullaby Of The Leaves - 1998 Digital Remaster',\n",
       "  'spotify:track:08rTZ8jNknn8VBS3v2o8pT'),\n",
       " ('Benny Goodman', 'Sing, Sing, Sing', 'spotify:track:5L8ta4ECl5zeA6bGqY7G38'),\n",
       " ('Stanley Turrentine',\n",
       "  'Journey Into Melody - 2007 Digital Remaster',\n",
       "  'spotify:track:7ysmJhXFQtiBQlk6EZ6sks'),\n",
       " ('Wayne Shorter', 'Infant Eyes', 'spotify:track:0iRNnorxnFDSwVwnBgQ4CI'),\n",
       " ('John Coltrane',\n",
       "  'Everytime We Say Goodbye',\n",
       "  'spotify:track:6yuhA5jlK7gEAIVoJ5WK1f'),\n",
       " ('The Dave Brubeck Quartet',\n",
       "  'Take Five',\n",
       "  'spotify:track:1YQWosTIljIvxAgHWTp7KP'),\n",
       " ('Johann Sebastian Bach',\n",
       "  'Violin Concerto No. 2 in E Major, BWV 1042: I. Allegro',\n",
       "  'spotify:track:4CnBYWrWRTGS2pCX4jiccO'),\n",
       " ('Ludovico Einaudi',\n",
       "  'I giorni (Arr. For Violin, Piano And String Orchestra)',\n",
       "  'spotify:track:4WfcsHiOeozjw4Xzsjz17n'),\n",
       " ('Benjamin Wallfisch',\n",
       "  'Variation 15 (Dunkirk)',\n",
       "  'spotify:track:5eeBoptaR9wfFe5csGjIMP'),\n",
       " ('Klaus Badelt', 'Elysium', 'spotify:track:7vJVLzQ17T7Do68tJfvfBw'),\n",
       " ('Hans Zimmer',\n",
       "  'Honor [Main Title Theme From \"The Pacific\"]',\n",
       "  'spotify:track:4aW4Dpz3gpb619hBXDrFUa'),\n",
       " ('Michael Kamen',\n",
       "  'Main Titles from the HBO Miniseries Band of Brothers - Instrumental',\n",
       "  'spotify:track:7L4s0J81HpXmy2j0QQ64Ln'),\n",
       " ('Randy Edelman', 'Killer Angel', 'spotify:track:7DrEvKA2Enm9aDL1XVgnRp'),\n",
       " ('Randy Edelman',\n",
       "  'Kathleen Mavourneen',\n",
       "  'spotify:track:5dM4eDrkzFhf7OIGZCr4iZ'),\n",
       " ('Brian Eno',\n",
       "  'Weightless - 2005 Digital Remaster',\n",
       "  'spotify:track:64Rc8eAYEcIVK486usaKtb'),\n",
       " ('Randy Edelman',\n",
       "  'Battle Of Little Round Top',\n",
       "  'spotify:track:2bggclVxtOAOUEFdHWqiKe'),\n",
       " ('Aphex Twin', '#20', 'spotify:track:5IExVHUiRccCWyJ4imu9qD'),\n",
       " ('Studio Musicians',\n",
       "  'Old Time Religion',\n",
       "  'spotify:track:5XxHdCAPVzqChmUlFzNX7b'),\n",
       " ('Lisa Gerrard', 'Now We Are Free', 'spotify:track:11IXRdEjiH0KL8nh4G1j7d'),\n",
       " ('Rascal Flatts',\n",
       "  'Mary, Did You Know?',\n",
       "  'spotify:track:4YHEh06zETG3EZI20PzdTL'),\n",
       " ('Rascal Flatts',\n",
       "  'God Rest Ye Merry Gentlemen',\n",
       "  'spotify:track:0OY6cKqygzcB5EKkqR7Tnn'),\n",
       " ('Kellie Pickler', 'Santa Baby', 'spotify:track:1k8aOPSd54EREmgEGhCMtP'),\n",
       " ('Rascal Flatts',\n",
       "  \"I'll Be Home For Christmas\",\n",
       "  'spotify:track:7K3i0GUuw4tdIy2BtXVqtW'),\n",
       " ('Rascal Flatts', 'White Christmas', 'spotify:track:5XdtbNJcOIYc2pLMaQdCmQ'),\n",
       " ('Rascal Flatts', 'Jingle Bell Rock', 'spotify:track:5J1wyoee0SOPagQNvry6x9'),\n",
       " ('Luke Bryan', 'Run Run Rudolph', 'spotify:track:6WRIP6XrrU7haqCuo1aw5i'),\n",
       " ('Brad Paisley', 'Winter Wonderland', 'spotify:track:4jbXHzjsepzaqixmuEz8r9'),\n",
       " ('Alan Jackson',\n",
       "  'Let It Be Christmas',\n",
       "  'spotify:track:70OrTBlb0RLKNfxWE6fZZM'),\n",
       " ('Kenny Chesney', 'Jingle Bells', 'spotify:track:4iLe2rIG09BIbLpbNjvZ2R'),\n",
       " ('Blaine Larsen', 'Away In A Manger', 'spotify:track:4fKCfrZZtnHF33jCY8stGW'),\n",
       " ('Keith Anderson',\n",
       "  'Please Come Home For Christmas',\n",
       "  'spotify:track:5k5LptTFtMWZWxoqbHkgDp'),\n",
       " ('Terri Clark',\n",
       "  'O Little Town Of Bethlehem',\n",
       "  'spotify:track:6O6fh6Aoaj1WGpy6JU6br1'),\n",
       " ('Montgomery Gentry',\n",
       "  'Merry Christmas from the Family',\n",
       "  'spotify:track:15ALrqRVH0NJsBuxI00Bk3'),\n",
       " ('Phil Vassar',\n",
       "  \"Let's Make A Little Christmas Tonight\",\n",
       "  'spotify:track:6hyc2M4DyQBjH3bz5CpSu5'),\n",
       " ('Sara Evans',\n",
       "  \"I'll Be Home for Christmas\",\n",
       "  'spotify:track:4GKD9fmOyiCuxqMZtGt48x'),\n",
       " ('Brooks & Dunn',\n",
       "  \"Santa Claus Is Comin' to Town\",\n",
       "  'spotify:track:6Q9y5boirIK1SXqRtzNXk3'),\n",
       " ('Martina McBride',\n",
       "  'O Come All Ye Faithful',\n",
       "  'spotify:track:1xxuiNiC6tJLirI2l7bON1'),\n",
       " ('Kenny Rogers',\n",
       "  'Mary, Did You Know? - Live',\n",
       "  'spotify:track:4dwuZylagW10KtmFhkMEHN'),\n",
       " ('Florida Georgia Line',\n",
       "  'Dayum, Baby',\n",
       "  'spotify:track:4nIwj4uuK2egtQaym18w3p'),\n",
       " ('Bent Life', 'Introduction', 'spotify:track:57rkMV1SHM7chggvuhN19I'),\n",
       " ('Bent Life', 'Lock', 'spotify:track:6dvvCtOCFpNtKteiq6OKsi'),\n",
       " ('Bent Life', 'Thanks For Nothing', 'spotify:track:1397WZ49cHvrfYP0iYsJft'),\n",
       " ('Bent Life', 'Hands Of Lead', 'spotify:track:35SHiH71RINsRdU9UfYvLa'),\n",
       " ('Bent Life', 'Stab Me', 'spotify:track:5qPq9g69HlqB3iXMjO8NkE'),\n",
       " ('Bent Life', 'Cheat Death', 'spotify:track:6MqePGfWMLprgQMnC1oQb4'),\n",
       " ('Bent Life', 'Kick', 'spotify:track:53qRlaADIX6PsKaNMsoRbt'),\n",
       " ('Bent Life', 'Painless', 'spotify:track:2e3XYe4ni8IBijGQHX75Ab'),\n",
       " ('Bent Life', 'War', 'spotify:track:0ofEuiNPv3x18P8uYqc7Hy'),\n",
       " ('Bent Life', 'Permanence', 'spotify:track:2fJDDQbtHZf690UadGylXp'),\n",
       " ('Naysayer', 'Make No Mistake', 'spotify:track:44V8GPuxGEnltlthc4hbU4'),\n",
       " ('Naysayer', 'Can You Feel It?', 'spotify:track:5AsW9fWdz7ZwNqFE75oEoG'),\n",
       " ('Naysayer', 'Hit the Bricks', 'spotify:track:5Cxz8H9tnEovxIqnLIY8Gr'),\n",
       " ('Naysayer', 'Face the Fantasy', 'spotify:track:3VLPIZeFLmVm3c7PMIiR6e'),\n",
       " ('Naysayer', 'Deny', 'spotify:track:2EYyPDN3OPLPFwUtm3bhZY'),\n",
       " ('Naysayer', 'In Time', 'spotify:track:2qVVc2uhVI1hREU7SFyryO'),\n",
       " ('Naysayer', 'Nation of Greed', 'spotify:track:680mQD3FJDN7vJ1c9zb8EH'),\n",
       " ('Suburban Scum',\n",
       "  'The Beginning of the End',\n",
       "  'spotify:track:09qikPBHvL7ihERzhyWpQP'),\n",
       " ('Suburban Scum',\n",
       "  'Ultimate Annihilation',\n",
       "  'spotify:track:3JzGKp1MT4d72Q2S7S9Udz'),\n",
       " ('Suburban Scum',\n",
       "  'Forced Through Fire',\n",
       "  'spotify:track:6PzKvU3ATyut4njEMDp0VP'),\n",
       " ('Suburban Scum', 'Zero Tolerance', 'spotify:track:7beaqd7e95cgXkeOBOkaht'),\n",
       " ('Suburban Scum', 'Love and Hate', 'spotify:track:4kzPwEseg53Rhe7l9DNrN1'),\n",
       " ('Suburban Scum', 'Pain is Promised', 'spotify:track:6KeULEWkjmXdQAsT3iIcAU'),\n",
       " ('Suburban Scum', 'Ready for War', 'spotify:track:1WZoKC54SdjIVZrHiIsCrV'),\n",
       " ('Suburban Scum',\n",
       "  'Misery Loves Company',\n",
       "  'spotify:track:5xDhGkpWHkmgmpvDjLGHjf'),\n",
       " ('Suburban Scum', 'Six Feet Under', 'spotify:track:39BQouzjN6kZlbPtOHsQic'),\n",
       " ('Suburban Scum', 'Watch it Burn', 'spotify:track:6MOpGlHCW4Swdj8l6U39DX'),\n",
       " ('Suburban Scum',\n",
       "  'The Calm Before the Storm',\n",
       "  'spotify:track:1LVMOC2LZPbQuOuzUXqjXC'),\n",
       " ('Suburban Scum', 'Death is Destiny', 'spotify:track:3cnjI7fpYxReI1we6MrnVp'),\n",
       " ('Hardside', 'No One Gets out Alive', 'spotify:track:3CDj5gFbISBiC0R78mzL89'),\n",
       " ('Hardside', 'The Madness', 'spotify:track:0HZTgdL6GOSXcpzF5BTA63'),\n",
       " ('Hardside', 'Cage', 'spotify:track:4AQjwxWfYzZQWBv5r0J3vf'),\n",
       " ('Hardside', 'Broken Faith', 'spotify:track:3Eczb5oggsWwtlQYnh7zeV'),\n",
       " ('Hardside', 'Forever', 'spotify:track:3SxUG5lQ0TBciijwyWZj3Z'),\n",
       " ('Hardside', 'Resurgence', 'spotify:track:77gmeT2JegFRBu3KarcMSX'),\n",
       " ('Hardside',\n",
       "  'Till My Blood Runs Dry',\n",
       "  'spotify:track:0BaT0uqJRVvROTOjEse02O'),\n",
       " ('Hardside', 'Strays', 'spotify:track:5wcSh8thNnwEu79uNJ2eu9'),\n",
       " ('Hardside', 'Unknown', 'spotify:track:6l1airUdSUYS0yFgB5v8qT'),\n",
       " ('Hardside', 'Timebomb', 'spotify:track:6EYCoFIxAMpoblwsZBLAxY'),\n",
       " ('Born Low', 'Nobody Move', 'spotify:track:1qh4gSRWHNU63JOV4WD9EQ'),\n",
       " ('Born Low', 'Just How Real', 'spotify:track:0CMgZyBLKU9kIvNBkcWxx2'),\n",
       " ('Born Low', 'The Tensions Too Much', 'spotify:track:6GfipvZpdBfj7c6fd4Mcrv'),\n",
       " ('Born Low', 'Never Been Clean', 'spotify:track:2Ymmgu8chS2U3QRzOoZGLV'),\n",
       " ('Born Low', 'Die Down', 'spotify:track:7gkqUu3iTIXyIMuEi8FcYC'),\n",
       " ('Born Low', 'When the Coffin Drops', 'spotify:track:5yN7hAzslTiJFvGS7Bpx5g'),\n",
       " ('Earth Crisis', 'De-Desensitize', 'spotify:track:3loJx82wm6yMiGoPmhH1EY'),\n",
       " ('Earth Crisis', 'Out Of The Cages', 'spotify:track:09HCmzAPSQLKuMZctfWphr'),\n",
       " ('Earth Crisis', 'Shiver', 'spotify:track:3ggmtny799OK3q93CRNc7f'),\n",
       " ('Earth Crisis', 'The Morbid Glare', 'spotify:track:13logmytQnPXGCGulGQDqx'),\n",
       " ('Earth Crisis',\n",
       "  'Razors Through Flesh',\n",
       "  'spotify:track:5FUqaB4u9JqCaE5FMXE7Tm'),\n",
       " ('Earth Crisis',\n",
       "  'Depraved Indifference',\n",
       "  'spotify:track:47Qk1meqbR6M5VOmAZbeF0'),\n",
       " ('Earth Crisis', 'No Reason', 'spotify:track:0pv4mzewV64ldqlmznwsbc'),\n",
       " ('Earth Crisis',\n",
       "  'The Pallid Surgeon',\n",
       "  'spotify:track:00HJCJ548tCG7jJeExrDuI'),\n",
       " ('Earth Crisis', 'Devoted To Death', 'spotify:track:7iYoFBFNq4sKdYswdHHofu'),\n",
       " ('Earth Crisis', 'Into Nothingness', 'spotify:track:40bURlWyxuXNd66GfXT0wI'),\n",
       " ('Earth Crisis',\n",
       "  'Tentacles Of The Altering Eye',\n",
       "  'spotify:track:4VGYtpbVwjLEFUjmbuNV78'),\n",
       " ('Earth Crisis', 'Final Breath', 'spotify:track:14p0KywRQaoAXn3bQytWwQ'),\n",
       " ('Trapped Under Ice', 'See God', 'spotify:track:0nF8GyrlyaoGBWeCZTjqBe'),\n",
       " ('Trapped Under Ice', 'Believe', 'spotify:track:51AFDyuVsCej5yovvYfcVR'),\n",
       " ('Trapped Under Ice',\n",
       "  'American Dreams',\n",
       "  'spotify:track:5kL8sEEWA3V3pv8cQDvadg'),\n",
       " ('Trapped Under Ice', 'TUI', 'spotify:track:6JUaYiBfanAQy8pcC2LKfu'),\n",
       " ('Trapped Under Ice', 'Gemini', 'spotify:track:2t7uVzEE7044UqYUUdX63s'),\n",
       " ('Trapped Under Ice', 'Too True', 'spotify:track:541lwgzAf83SA3hMOoxMfp'),\n",
       " ('Trapped Under Ice', 'The Vortex', 'spotify:track:3T9P2JWiUyWQrLCRGiWZSL'),\n",
       " ('Trapped Under Ice', 'Eye Hand', 'spotify:track:4UY21Ra82hoJJd0jXGoGrr'),\n",
       " ('Trapped Under Ice', 'From Birth', 'spotify:track:5xvGrvEkXUVmWCZoFhGOFu'),\n",
       " ('Trapped Under Ice', 'Titus', 'spotify:track:1IQGPY9kKYPEG4pzjQvy5f'),\n",
       " ('Trapped Under Ice',\n",
       "  'Against The Wall',\n",
       "  'spotify:track:0eQcr5wZ6uC3wATILlEln6'),\n",
       " ('Trapped Under Ice', 'World I Hate', 'spotify:track:7qgEtf6QTM7wmUYIPgiNIh'),\n",
       " ('Trapped Under Ice', 'Born to Die', 'spotify:track:6BUH9epz2Vc0mjxHAnhqDz'),\n",
       " ('Trapped Under Ice',\n",
       "  'Pleased to Meet You',\n",
       "  'spotify:track:1N5BhnvPFnjZq5rE97Oi9r'),\n",
       " ('Trapped Under Ice', 'Jail', 'spotify:track:0OdR3JdbAAn7YeXCEpyq4K'),\n",
       " ('Trapped Under Ice', 'Outcast', 'spotify:track:2daCRsLSRjE9FJMukefz7I'),\n",
       " ('Trapped Under Ice', 'Victimized', 'spotify:track:1AMvNMqofoqqjNDlRm6HzT'),\n",
       " ('Trapped Under Ice', 'Time Waits', 'spotify:track:6kk9SzSqYzLUpIDXLtyFsO'),\n",
       " ('Trapped Under Ice', 'Dead Inside', 'spotify:track:14f9g8CJZRUIBxjuxVFX1F'),\n",
       " ('Trapped Under Ice', 'True Love', 'spotify:track:0F9S2onBClI8FvolyOJfKT'),\n",
       " ('Trapped Under Ice', 'Disconnect', 'spotify:track:1YbAVJTOtsoK7tnWQkZ85B'),\n",
       " ('Trapped Under Ice',\n",
       "  'Draw the Line',\n",
       "  'spotify:track:6blEgcchsusN2BSpCpIG3q'),\n",
       " ('Trapped Under Ice', 'You and I', 'spotify:track:710v4EXkQ7BTFidkQme6o4'),\n",
       " ('Trapped Under Ice', 'Still Cold', 'spotify:track:2BE6mRgRBSUHo1y1Dlpjnv'),\n",
       " ('Trapped Under Ice',\n",
       "  'Reality Unfolds',\n",
       "  'spotify:track:58AM0RKwo6nqGsvqNVIGjr'),\n",
       " ('Trapped Under Ice',\n",
       "  'Believe TUI Megamix - Bonus Track',\n",
       "  'spotify:track:3L7eOxdjqlo1Ba1oBP9hLu'),\n",
       " ('Expire', 'Fighting The Slip', 'spotify:track:6aqRjOiAvUfB3QGLxQ0oxD'),\n",
       " ('Expire', 'Divide And Conquer', 'spotify:track:71xlOgOsQRlWYCeqNbkOyj'),\n",
       " ('Expire', 'Hidden Love', 'spotify:track:1tvUUYf0d2B7dc2mnK3B2H'),\n",
       " ('Expire', 'Regret', 'spotify:track:5jjLwplsegVO3Cf6oa3YpC'),\n",
       " ('Expire', 'Medicine', 'spotify:track:7dBGRGSAOQBwAM6pxoYP1K'),\n",
       " ('Expire', 'Vultures', 'spotify:track:6wOQqvwS4fJ8ybjDbGEbAs'),\n",
       " ('Expire', 'Live Or Die', 'spotify:track:5aohBEb7sKtC65msmvBHfk'),\n",
       " ('Expire', 'Fair Weather Friend', 'spotify:track:6Oz1boXQgFTZwWqhe5LnCv'),\n",
       " ('Expire', 'Turned To Dust', 'spotify:track:1fO0QHAIuEsrImWGy7Xjti'),\n",
       " ('Expire', 'Ghost', 'spotify:track:2vS1PKBFPyL4wvHjzWZ1zF'),\n",
       " ('Expire', 'The Harsh Truth', 'spotify:track:7cHhp573i3deRdXliXV4tV'),\n",
       " ('Expire', 'Beyond My Reach', 'spotify:track:1dJIewuvHRFGYRh52myhs2'),\n",
       " ('Expire', 'Fear In Control', 'spotify:track:27JgDFWeLc1kjghi46GnRx'),\n",
       " ('Expire', 'Just Fine', 'spotify:track:4znU7KeZH5pDVFAx7aqzUN'),\n",
       " ('Expire', 'Reputation', 'spotify:track:2j5EjQtZLf7GGiE64jWrnt'),\n",
       " ('Expire', 'Spit Out', 'spotify:track:3pAMJay4OzNUaWaXyvofaT'),\n",
       " ('Expire', 'Dig Deep', 'spotify:track:5MR0MlQI3wM7QRvEBiGy6C'),\n",
       " ('Expire', 'Anxiety', 'spotify:track:5dzGUwti1cZr4MVJZQo71e'),\n",
       " ('Expire', 'Abyss', 'spotify:track:2pvRajUl58FkCJ3LILPWXV'),\n",
       " ('Expire', 'Bark', 'spotify:track:4W9iYOS1lGZKJBON8QD8mW'),\n",
       " ('Expire', 'Sleep Lost', 'spotify:track:4Egy65eiJQtRev1gtYcQKG'),\n",
       " ('Expire', 'Pills', 'spotify:track:3PmcojyPtiEjpSmB6xf9Wy'),\n",
       " ('Expire', 'YDN', 'spotify:track:7a9rUi9TfOLn9ssDU9hWSa'),\n",
       " ('Expire', 'Focus', 'spotify:track:4FAIpx9QExI722FKzJhQUK'),\n",
       " ('Expire', 'Pendulum Swings', 'spotify:track:2OdhdS4Nul0BBDJPkzAnCa'),\n",
       " ('Foundation', 'The New Faith', 'spotify:track:45b2yG54jDL3RXDgsQ4bk0'),\n",
       " ('Foundation',\n",
       "  'A Warm Place in Hell',\n",
       "  'spotify:track:7anz1TvwP6sMSLxXldkpHV'),\n",
       " ('Foundation',\n",
       "  'Failure Breeds Failure',\n",
       "  'spotify:track:53qpestHa2S0xVxfycC5b6'),\n",
       " ('Foundation', 'Devotion III', 'spotify:track:5yn5ExIyJPTv0UMkNFQCcB'),\n",
       " ('Foundation',\n",
       "  'Silence Above, Quiet Below',\n",
       "  'spotify:track:2IBYyn8yQliiEAKnEeRRzP'),\n",
       " ('Foundation', 'Purple Heart', 'spotify:track:6PdTb7L1533wYEMw4d4XDn'),\n",
       " ('Foundation', 'At Your Mercy', 'spotify:track:4SIoNPutWvp9O20dkpR6R8'),\n",
       " ('Foundation', 'Devotion II', 'spotify:track:2zt0g46DvWWFaIcrBWuHbt'),\n",
       " ('Foundation', 'A Thousand Ways', 'spotify:track:3hyVqlYYsUhGriDTjdTW3H'),\n",
       " ('Foundation',\n",
       "  'Anthem For Redemption',\n",
       "  'spotify:track:66F0NtZxxCzYvhCi4uIS5J'),\n",
       " ('Foundation', 'Calloused', 'spotify:track:019mlEYr7Wl2CXfsStQzPI'),\n",
       " ('Foundation', 'No Cure For Fools', 'spotify:track:5js8Rqm2yqbL3fonzoP33m'),\n",
       " ('Foundation',\n",
       "  'No One Writes Protest Songs Anymore',\n",
       "  'spotify:track:0SAKYvGh1l6GlZeB9LG2Ul'),\n",
       " ('Foundation', 'Never Stops Raining', 'spotify:track:0cKJYZd4vi8UV3y2nzXOFH'),\n",
       " ('Foundation', 'The Sound Of Arson', 'spotify:track:2qmzXfMpUK2TmSd3TOzzmh'),\n",
       " ('Violation', 'No Solace', 'spotify:track:2Hrm95sYpNPhsnTmCRMsiK'),\n",
       " ('Violation',\n",
       "  'That Which Has No End',\n",
       "  'spotify:track:01vpsMCPGtaTbn33wFmArN'),\n",
       " ('Violation', 'Disillusioned', 'spotify:track:0JRp23unpXWBKguST44ivu'),\n",
       " ('Violation', 'Low And Behold', 'spotify:track:4tWBMMBLyQY6mFeYS2jVhy'),\n",
       " ('Violation', 'Disembodied', 'spotify:track:3CRJ1QaZeMyC5TZHTILcyj'),\n",
       " ('Violation', 'From The Depths', 'spotify:track:1p2weq6WJxL6eFJEk78wSj'),\n",
       " ('Violation', 'Nuclear Frost', 'spotify:track:11ac8DQDmrgGcbdVcJJ25B'),\n",
       " ('Violation', 'Devoured', 'spotify:track:0QdlKBvijdKPCtj2eCmbr6'),\n",
       " ('Violation', 'Raw Deal', 'spotify:track:084i0rCxCdW1oBtRwyPiBD'),\n",
       " ('Violation', 'Degenerate', 'spotify:track:6F8vgZlA1uH96fp0e9TpCo'),\n",
       " ('Violation', 'No Life Awaits', 'spotify:track:1yeyzvjg9PQ5TvtvT9Gq38'),\n",
       " ('Violation', 'Desolate', 'spotify:track:26fYMhcGUy8krZBSE6VPG2'),\n",
       " ('Four Tops',\n",
       "  \"I Can't Help Myself (Sugar Pie, Honey Bunch) - Album Version (Stereo)\",\n",
       "  'spotify:track:1I8956VUImfafRIuccR9Cq'),\n",
       " ('The Shirelles',\n",
       "  'Will You Love Me Tomorrow',\n",
       "  'spotify:track:5zupfF6lvpSISEy7kZCZ0L'),\n",
       " ('America', 'A Horse with No Name', 'spotify:track:54eZmuggBFJbV7k248bTTt'),\n",
       " ('Cyndi Lauper', 'Time After Time', 'spotify:track:7o9uu2GDtVDr9nsR7ZRN73'),\n",
       " ('The Rolling Stones',\n",
       "  \"(I Can't Get No) Satisfaction - Mono Version / Remastered 2002\",\n",
       "  'spotify:track:7fSGbZLhWlAiCC3HDPAULu'),\n",
       " ('The Rolling Stones',\n",
       "  'Under My Thumb',\n",
       "  'spotify:track:3E8gEvhLia6w9lQv3hfxzM'),\n",
       " ('T.V. Carpio',\n",
       "  'I Want To Hold Your Hand - From \"Across The Universe\" Soundtrack',\n",
       "  'spotify:track:2EZpPB66Hw6b8i4ipCocm5'),\n",
       " ('Jim Sturgess',\n",
       "  'I\\'ve Just Seen A Face - From \"Across The Universe\" Soundtrack',\n",
       "  'spotify:track:2UKeWlHMG0ednWTNhYsyvn'),\n",
       " ('The Beatles',\n",
       "  'Something - Remastered',\n",
       "  'spotify:track:7oSUp4yZ0FbuSvVmCxH2ty'),\n",
       " ('Four Tops',\n",
       "  \"Reach Out, I'll Be There - Single Version (Mono)\",\n",
       "  'spotify:track:7ypqforPnkbeii6Wi0Vb32'),\n",
       " ('Dion', 'The Wanderer', 'spotify:track:1UwriLz98ILbRhrtohTca1'),\n",
       " ('Del Shannon',\n",
       "  'Runaway - Re-Recording',\n",
       "  'spotify:track:3tW6vU1CZo9vchbClQTUXK'),\n",
       " ('The Righteous Brothers',\n",
       "  \"You've Lost That Lovin' Feelin'\",\n",
       "  'spotify:track:5GMw6X6BbCDGO9gApQYRSa'),\n",
       " ('George Harrison', 'My Sweet Lord', 'spotify:track:1chu8wc9zbNqTQ2ahROys1'),\n",
       " ('The Zombies', \"She's Not There\", 'spotify:track:1fibb2CBsQPBrSePsMcmPe'),\n",
       " ('Classics IV', 'Spooky', 'spotify:track:5z4iT44mMHyZozsTFy4A51'),\n",
       " ('Otis Redding',\n",
       "  'Try A Little Tenderness',\n",
       "  'spotify:track:36AlMHDBFwSsD3FQOy1R81'),\n",
       " ('The Box Tops', 'The Letter', 'spotify:track:6RJK553YhstRzyKA4mug09'),\n",
       " ('George McCrae', 'Rock Your Baby', 'spotify:track:1lmfsSEuxU4PpT739Kihno'),\n",
       " ('Tommy James & The Shondells',\n",
       "  'Crimson And Clover - Single Version',\n",
       "  'spotify:track:1vXuYPpkLjn1v06E2EsWQY'),\n",
       " ('The Zombies',\n",
       "  'Time Of The Season (Mono Version)',\n",
       "  'spotify:track:5AJrhrwz4oSZX2PwwV4qrN'),\n",
       " ('The Beach Boys',\n",
       "  \"Don't Worry Baby\",\n",
       "  'spotify:track:1GLmaPfulP0BrfijohQpN5'),\n",
       " ('Steppenwolf', 'Magic Carpet Ride', 'spotify:track:4c4jJJoaiY21t2TyRZgdWS'),\n",
       " ('The Righteous Brothers',\n",
       "  'Unchained Melody',\n",
       "  'spotify:track:1jFhnVoJkcB4lf9tT0rSZS'),\n",
       " ('Aretha Franklin', 'Think', 'spotify:track:4yQw7FR9lcvL6RHtegbJBh'),\n",
       " ('Aretha Franklin', 'Chain of Fools', 'spotify:track:2oZmMp5M6L0Rh7G84Um2tF'),\n",
       " ('Marvin Gaye', \"Let's Get It On\", 'spotify:track:0jHkgTtTaqg5LNCiYDQPUB'),\n",
       " ('The Kingsmen', 'Louie Louie', 'spotify:track:0iA3xXSkSCiJywKyo1UKjQ'),\n",
       " ('Frankie Valli',\n",
       "  \"Can't Take My Eyes Off You\",\n",
       "  'spotify:track:0bfvHnWWOeU1U5XeKyVLbW'),\n",
       " ('The Doors',\n",
       "  'Break On Through [To The Other Side] - New Stereo Mix Advanced Resolution',\n",
       "  'spotify:track:3PzsLpCMpHViX7vxPtf4uE'),\n",
       " ('The Guess Who',\n",
       "  'American Woman - Remastered',\n",
       "  'spotify:track:3LQPTJEqOfljGBxmpgUnoC'),\n",
       " ('Smokey Robinson & The Miracles',\n",
       "  \"You've Really Got A Hold On Me - Alternate Stereo Mix\",\n",
       "  'spotify:track:7ifcJ5DDytGf8aITxmgsLN'),\n",
       " ('Stevie Wonder',\n",
       "  'Superstition - Single Version',\n",
       "  'spotify:track:5lXcSvHRVjQJ3LB2rLKQog'),\n",
       " ('Glenn Miller',\n",
       "  'Moonlight Serenade - 2005 Remastered Version',\n",
       "  'spotify:track:3HRMOZk689zaR3z6NpEdfu'),\n",
       " ('The Drifters',\n",
       "  'Save The Last Dance For Me',\n",
       "  'spotify:track:7quaRdGKICuz3XiF1WRdta'),\n",
       " ('Al Green',\n",
       "  'How Can You Mend a Broken Heart',\n",
       "  'spotify:track:7F3d2RfC9ing8NL974vv2s'),\n",
       " ('Al Green', \"Let's Stay Together\", 'spotify:track:3QEkTxcsLUPfE33cRZ4y2K'),\n",
       " ('Percy Sledge',\n",
       "  'When A Man Loves A Woman',\n",
       "  'spotify:track:51FpzuGkRYXFgsE2zXt9av'),\n",
       " (\"The Lovin' Spoonful\",\n",
       "  'Do You Believe in Magic',\n",
       "  'spotify:track:1udKn1oNKYQSQ9OmiIWCMu'),\n",
       " ('James & Bobby Purify',\n",
       "  \"I'm Your Puppet\",\n",
       "  'spotify:track:6H8WMHCov3QGaPLbpOMpcJ'),\n",
       " ('The Guess Who',\n",
       "  'These Eyes - Remastered',\n",
       "  'spotify:track:5lEyMg4GNKnMbaarvT4sRd'),\n",
       " ('J.J. Jackson', \"But It's Alright\", 'spotify:track:1ZUJZkV29qWIF4jst1brN3'),\n",
       " ('Four Tops',\n",
       "  \"It's The Same Old Song\",\n",
       "  'spotify:track:2pvs2oJTb7BPAUXPy5M794'),\n",
       " ('Rod Stewart', 'Maggie May', 'spotify:track:2LpirOWiA4eslLRuPpQT7V'),\n",
       " ('The Animals',\n",
       "  \"Don't Let Me Be Misunderstood\",\n",
       "  'spotify:track:7vYA9ET5AUqJt5pBbhKmcB'),\n",
       " ('X Ambassadors', 'Jungle', 'spotify:track:3xgK660fsZH7ZDcOMfIdfB'),\n",
       " ('Colbie Caillat', 'Live It Up', 'spotify:track:2kE2UM8gPOaXOgBWSdySRx'),\n",
       " ('Icona Pop', 'We Got The World', 'spotify:track:2hH9ttGhbS2IuTb8ggWsJp'),\n",
       " ('JAY Z', '99 Problems', 'spotify:track:1Kqp9djNwTIhCsMOeRxrYu'),\n",
       " ('Missy Elliott', 'Get Ur Freak On', 'spotify:track:3XplJgPz8VjbDzbGwGgZdq'),\n",
       " ('Mary J. Blige', 'Family Affair', 'spotify:track:3aw9iWUQ3VrPQltgwvN9Xu'),\n",
       " ('Michael Jackson',\n",
       "  'You Rock My World - Radio Edit',\n",
       "  'spotify:track:4oY2T9ur7Ll5b2kpBlcWcb'),\n",
       " ('Maroon 5', 'This Love', 'spotify:track:6ECp64rv50XVz93WvxXMGF'),\n",
       " ('Madonna', 'Hung Up', 'spotify:track:3850dYVgOFIXJh5U4BFEWH'),\n",
       " ('Shakira', 'Dare (La La La)', 'spotify:track:2TBWfzWL2h1HYSjvQOndyL'),\n",
       " ('deadmau5', 'Seeya', 'spotify:track:6tLToR1R8E5iK6gyeNQZ1J'),\n",
       " ('La Roux', 'Uptight Downtown', 'spotify:track:5DDpX8eMjCCvVGu5sboZs1'),\n",
       " ('Ellie Goulding',\n",
       "  'Goodness Gracious - The Chainsmokers Extended Remix',\n",
       "  'spotify:track:059seYDUmCUfv4KsB5Jc6H'),\n",
       " ('Classified', 'Higher', 'spotify:track:72LnEym5I31FJO82slwXY3'),\n",
       " ('Iggy Azalea', 'Work', 'spotify:track:3yx6eryOZgO54bt3B671cn'),\n",
       " ('Avicii', 'You Make Me', 'spotify:track:7HC3sppue0re7HPfo5zscF'),\n",
       " ('Avicii', 'Lay Me Down', 'spotify:track:5hAhn5Qp7PKiPRefU2YW8U'),\n",
       " ('O.A.R.', 'Delicate Few', 'spotify:track:0eUAy4VS1BQjwMhIBw8u3F'),\n",
       " ('Katy Perry', 'Birthday', 'spotify:track:0ktV2JoOsoTGURzKaZnjJL'),\n",
       " ('Beyoncé', 'Partition', 'spotify:track:5hgnY0mVcVetszbb85qeDg'),\n",
       " ('Michael Jackson',\n",
       "  'Love Never Felt so Good',\n",
       "  'spotify:track:48td6xvpokdYwvbl3JIiXP'),\n",
       " ('O.A.R.', 'Hey Girl', 'spotify:track:21WnfJH3mQTTjnJ2PBdQjD'),\n",
       " ('O.A.R.', 'Road Outside Columbus', 'spotify:track:2joz4xxQl2ceFv5oVTuO5L'),\n",
       " ('Pharrell Williams',\n",
       "  'Come Get It Bae',\n",
       "  'spotify:track:444P4wvSDa0SD5HE4YGx9B'),\n",
       " ('Cash Cash',\n",
       "  'Take Me Home (feat. Bebe Rexha)',\n",
       "  'spotify:track:7L59vVTpoS94JU3KEeolqt'),\n",
       " ('Zac Brown Band', 'Keep Me In Mind', 'spotify:track:7zNM46fo01dCBidY4yGNTZ'),\n",
       " ('O.A.R.', 'Black Rock - Live', 'spotify:track:6z3CigjVFGExrKbNCKIj6D'),\n",
       " ('St. Lucia', 'Elevate', 'spotify:track:0pBLfQ5JBjh12H6DGZjMwM'),\n",
       " ('St. Lucia', 'Before The Dive', 'spotify:track:4mNFQGXQmTCdyhAGjaNVSb'),\n",
       " ('Childish Gambino', 'V. 3005', 'spotify:track:7wwifjNAb172PtDpKK3CoR'),\n",
       " ('St. Lucia', 'Too Close', 'spotify:track:5IE5hqClMOa5aZE6iO1Gx1'),\n",
       " ('O.A.R.',\n",
       "  'Fool in the Rain (Cover)',\n",
       "  'spotify:track:0qrJP3MmPzdW9ZTz6bfRTJ'),\n",
       " ('Sheryl Crow', 'Steve McQueen', 'spotify:track:3AvMXM7A4zMHNbjRI2zGan'),\n",
       " ('Matchbox Twenty', 'Bright Lights', 'spotify:track:4dZhQj20JbKlD9oR0X8kjZ'),\n",
       " ('Iggy Azalea', 'Fancy', 'spotify:track:3W3KtDwAIg3mAruSpnfG3Q'),\n",
       " ('Tiësto', 'Wasted', 'spotify:track:2CAK2t1reUgPK6OMgAMURB'),\n",
       " ('Swedish House Mafia',\n",
       "  'Save the World',\n",
       "  'spotify:track:1zIEwDU2IZyHjy17ssOvyr'),\n",
       " ('Ellie Goulding', 'Burn', 'spotify:track:0xMd5bcWTbyXS7wPrBtZA6'),\n",
       " ('5 Seconds of Summer',\n",
       "  'She Looks So Perfect',\n",
       "  'spotify:track:1gugDOSMREb34Xo0c1PlxM'),\n",
       " ('Icona Pop', 'All Night', 'spotify:track:00fNdIFKoMxxt8Hnm2kAKL'),\n",
       " ('Timeflies', 'All The Way', 'spotify:track:0cJLYpRTqODzv9SiQukE4Z'),\n",
       " ('Disclosure', 'F For You', 'spotify:track:7blVeauN6UPeewCORqVdCD'),\n",
       " ('Calvin Harris', 'Summer', 'spotify:track:6YUTL4dYpB9xZO5qExPf05'),\n",
       " ('Icona Pop', 'On A Roll', 'spotify:track:2CJfaO1hWidjga4JFWVN88'),\n",
       " ('Miley Cyrus',\n",
       "  'See You Again - Rock Mafia Remix',\n",
       "  'spotify:track:3pRURfm0THUY3G4YBOLtrC'),\n",
       " ('Van Halen', 'Dance The Night Away', 'spotify:track:4RS9PmtHQe7I0o5fEeweOY'),\n",
       " ('Bruce Springsteen', 'Born to Run', 'spotify:track:6hTcuIQa0sxrrByu9wTD7s'),\n",
       " ('Justin Timberlake',\n",
       "  'Rock Your Body',\n",
       "  'spotify:track:1AWQoqb9bSvzTjaLralEkT'),\n",
       " ('Justin Timberlake', 'Señorita', 'spotify:track:0aj2QKJvz6CePykmlTApiD'),\n",
       " ('The Notorious B.I.G.',\n",
       "  'Mo Money Mo Problems (feat. Mase & Puff Daddy) - 2014 Remastered Version',\n",
       "  'spotify:track:4INDiWSKvqSKDEu7mh8HFz'),\n",
       " ('Fergie',\n",
       "  'A Little Party Never Killed Nobody (All We Got)',\n",
       "  'spotify:track:36482hNESSwELpr9sS3NbE'),\n",
       " ('LFO', 'Summer Girls', 'spotify:track:0QqHsY5aaUoZdoBF4ebe15'),\n",
       " ('R. Kelly', 'Ignition - Remix', 'spotify:track:5dNfHmqgr128gMY2tc5CeJ'),\n",
       " ('*NSYNC', \"It's Gonna Be Me\", 'spotify:track:35zGjsxI020C2NPKp2fzS7'),\n",
       " ('Backstreet Boys',\n",
       "  \"Everybody (Backstreet's Back) - Extended Version\",\n",
       "  'spotify:track:2FN3EoQdX5eqXpGTkKiRh7'),\n",
       " ('Naughty By Nature', 'O.P.P.', 'spotify:track:2QYUhjzK6yUdSFNvYRv1y6'),\n",
       " ('Ginuwine', 'Pony - Extended Mix', 'spotify:track:5XO5UiZmVaLFMFs1VaaxT5'),\n",
       " ('Salt-N-Pepa', 'Push It', 'spotify:track:0TT7wJiEYD5GAeJfSR1ETX'),\n",
       " ('Lil Mama', 'Lip Gloss', 'spotify:track:1Y4ZdPOOgCUhBcKZOrUFiS'),\n",
       " ('Beyoncé', 'Crazy In Love', 'spotify:track:0WqIKmW4BTrj3eJFmnCKMv'),\n",
       " ('Beyoncé',\n",
       "  'Get Me Bodied - Extended Mix',\n",
       "  'spotify:track:4uRmZ0sheulzVmJQgIfAfq'),\n",
       " ('Beyoncé', 'Love On Top', 'spotify:track:1z6WtY7X4HQJvzxC4UgkSf'),\n",
       " ('Whitney Houston',\n",
       "  'I Wanna Dance with Somebody (Who Loves Me)',\n",
       "  'spotify:track:2tUBqZG2AbRi7Q0BIrVrEj'),\n",
       " ('50 Cent', 'Disco Inferno', 'spotify:track:69bHJ9qs5FrUJbKP8xU8uZ'),\n",
       " ('Vampire Weekend', 'Diane Young', 'spotify:track:5M66BjyDzijqQPLNbyujAt'),\n",
       " ('OutKast', 'Roses', 'spotify:track:6bUNEbXT7HovLW6BgPCBsb'),\n",
       " ('*NSYNC', 'Pop', 'spotify:track:2N3JVnB85hqJl6SzTlZOxv'),\n",
       " ('Bruno Mars',\n",
       "  'Locked Out Of Heaven',\n",
       "  'spotify:track:5g7sDjBhZ4I3gcFIpkrLuI'),\n",
       " ('Sammy Adams', 'All Night Longer', 'spotify:track:1vNn7rVQT6UtEW1NGH53fT'),\n",
       " ('David Guetta',\n",
       "  'Titanium (feat. Sia) - feat. Sia',\n",
       "  'spotify:track:2dOTkLZFbpNXrhc24CnTFd'),\n",
       " ('Imagine Dragons',\n",
       "  'On Top Of The World',\n",
       "  'spotify:track:4eLSCSELtKxZwXnFbNLXT5'),\n",
       " ('Macklemore & Ryan Lewis',\n",
       "  \"Can't Hold Us - feat. Ray Dalton\",\n",
       "  'spotify:track:3bidbhpOYeV4knp8AIu8Xn'),\n",
       " ('Passion Pit', 'Cry Like A Ghost', 'spotify:track:6O8R2qdAXWvSlUjE7A0mwa'),\n",
       " ('Ellie Goulding',\n",
       "  'Anything Could Happen',\n",
       "  'spotify:track:7C7yqFTM0ncyJ04GIKrxdV'),\n",
       " ('Mumford & Sons',\n",
       "  'Hopeless Wanderer',\n",
       "  'spotify:track:7o7CXsKgDXhxbSMrqGVSd0'),\n",
       " ('M83', 'Midnight City', 'spotify:track:1eyzqe2QqGZUmfcPZtrIyt'),\n",
       " ('Will Smith', 'Switch', 'spotify:track:2bmxx16hNi3W5FGzfFO9xX'),\n",
       " ('Will Smith', 'Will 2K', 'spotify:track:59xpdlaIK1l5hiYP1KsBxK'),\n",
       " ('Blues Traveler', 'Hook', 'spotify:track:27IRo2rYeizhRMDaNVplNM'),\n",
       " ('Trick Daddy',\n",
       "  \"Let's Go (feat. Big D & Twista) - explicit album version\",\n",
       "  'spotify:track:1fLibtVj3MrNTwRZq5yUOs'),\n",
       " ('Lady Gaga', 'Do What U Want', 'spotify:track:4MJlgdrGLaayCTPtdn0kII'),\n",
       " ('Backstreet Boys',\n",
       "  'Larger Than Life',\n",
       "  'spotify:track:4wY7saaaFfQBcNzimjdJ5Q'),\n",
       " ('Justin Timberlake',\n",
       "  'Only When I Walk Away',\n",
       "  'spotify:track:2v1EzdRvWfjAH2Kkx2CWnT'),\n",
       " ('John Mayer',\n",
       "  'Good Love Is On The Way - Live at the Nokia Theatre',\n",
       "  'spotify:track:6V3Sd5FVnf83LLA6VMP15F'),\n",
       " ('John Mayer',\n",
       "  'Waiting On the World to Change',\n",
       "  'spotify:track:5imShWWzwqfAJ9gXFpGAQh'),\n",
       " ('Katy Perry',\n",
       "  'E.T. - feat. Kanye West',\n",
       "  'spotify:track:36ux3YuUsGTWPT8fXclS45'),\n",
       " ('Katy Perry', 'Hot N Cold', 'spotify:track:1ulXmqjktxSdrdT1bzc69H'),\n",
       " ('Coldplay', 'Lost+ (with Jay-Z)', 'spotify:track:2FbmJu9obAOMB3PCv2oic7'),\n",
       " ('Coldplay',\n",
       "  'Lovers In Japan - Osaka Sun Mix',\n",
       "  'spotify:track:4o70WSUfc85Y4599B3l1Rv'),\n",
       " ('Coldplay', 'Viva La Vida', 'spotify:track:1mea3bSkSGXuIRvnydlB5b'),\n",
       " ('Nicki Minaj', 'Starships', 'spotify:track:1oHNvJVbFkexQc0BpQp7Y4'),\n",
       " ('Kanye West', 'Gold Digger', 'spotify:track:5XJJdNPkwmbUwE79gv0NxK'),\n",
       " ('Don Omar', 'Danza Kuduro', 'spotify:track:2a1o6ZejUi8U3wzzOtCOYw'),\n",
       " ('B.o.B',\n",
       "  'Strange Clouds (feat. Lil Wayne) - feat. Lil Wayne',\n",
       "  'spotify:track:0yQw3d0iQDjMrxaVHFv77J'),\n",
       " ('Dr. Dre', 'The Next Episode', 'spotify:track:20LxTsa6936zOlzTWqoPVt'),\n",
       " ('LMFAO', 'Sorry For Party Rocking', 'spotify:track:68rRbbwmXydDOqhArVTFTX'),\n",
       " ('Nicki Minaj', 'Super Bass', 'spotify:track:7gKIt3rDGIMJDFVSPBnGmj'),\n",
       " ('Yeah Yeah Yeahs',\n",
       "  'Heads Will Roll - A-Trak Remix Radio Edit',\n",
       "  'spotify:track:0vBpyfpW2lARGh3AZFtWRi'),\n",
       " ('Kid Cudi', 'Cudi Zone', 'spotify:track:03MWa1FMygR3RrQoQytsjS'),\n",
       " ('Kid Cudi',\n",
       "  'Pursuit Of Happiness - Extended Steve Aoki Remix (Explicit)',\n",
       "  'spotify:track:7m47Go71qTMBs4kTH7U8F8'),\n",
       " ('Kanye West', 'POWER', 'spotify:track:2gZUPNdnz5Y45eiGxpHGSc'),\n",
       " ('Kanye West', 'The Glory', 'spotify:track:39cpcnobaB8FdedVjHjXP2'),\n",
       " ('The Killers', 'Somebody Told Me', 'spotify:track:7HGTkn2aX7MNdKs7nV2xBt'),\n",
       " ('Maroon 5', 'Misery', 'spotify:track:6KBYk8OFtod7brGuZ3Y67q'),\n",
       " ('Maroon 5', 'Harder To Breathe', 'spotify:track:4V9JDRqKjN8F2HWdlEDxvI'),\n",
       " ('Bruno Mars', 'Runaway Baby', 'spotify:track:7hCNBVRhHzcsRAv0TQnOzq'),\n",
       " ('Calvin Harris', 'I Need Your Love', 'spotify:track:3AclCmFOMUd2MebCQoEZfp'),\n",
       " ('Justin Timberlake', 'My Love', 'spotify:track:0gs72Zn1Nxin1kvKpo9ee5'),\n",
       " ('Miley Cyrus',\n",
       "  'Party In The U.S.A.',\n",
       "  'spotify:track:5Q0Nhxo0l2bP3pNjpGJwV1'),\n",
       " ('Missy Elliott',\n",
       "  'Lose Control (feat. Ciara & Fat Man Scoop)',\n",
       "  'spotify:track:0UaMYEvWZi0ZqiDOoHU3YI'),\n",
       " ('*NSYNC',\n",
       "  \"Tearin' up My Heart - Radio Edit\",\n",
       "  'spotify:track:73q3FpQVXWk5eSUnyo83E4'),\n",
       " ('Kid Cudi', 'Make Her Say', 'spotify:track:7dZAPeA3Of5j5Vaef0DQ6M'),\n",
       " ('Rihanna', 'Talk That Talk', 'spotify:track:57mKcbEq7nMqtJ4gqJvWcp'),\n",
       " ('Rihanna', 'Umbrella', 'spotify:track:5i66xrvSh1MjjyDd6zcwgj'),\n",
       " ('Jessica Simpson',\n",
       "  \"I Think I'm in Love with You\",\n",
       "  'spotify:track:34PsixEmIceg39NpaYxBsH'),\n",
       " (\"Destiny's Child\", 'Bootylicious', 'spotify:track:31CsLSgn0HdZEVC8Bnnmvr'),\n",
       " ('Nelly', 'Ride Wit Me', 'spotify:track:06iMqWThw4w8fTFyccvOwr'),\n",
       " ('Mandy Moore', 'Candy', 'spotify:track:1EZhWJQFf85g6d055Gji8c'),\n",
       " ('Whitesnake',\n",
       "  'Here I Go Again 87 - 2017 Remastered Version',\n",
       "  'spotify:track:0PP933bHgvV0eD19dG3ms5'),\n",
       " ('Mötley Crüe', 'Kickstart My Heart', 'spotify:track:4lt3cXW4RkvkHRG4x3K3P4'),\n",
       " ('Michael Jackson',\n",
       "  'Smooth Criminal - 2012 Remaster',\n",
       "  'spotify:track:2bCQHF9gdG5BNDVuEIEnNk'),\n",
       " ('Michael Jackson',\n",
       "  \"Wanna Be Startin' Somethin'\",\n",
       "  'spotify:track:2kulOHR2XY6YDZCWXb38hn'),\n",
       " ('Michael Jackson',\n",
       "  'Beat It - Single Version',\n",
       "  'spotify:track:1OOtq8tRnDM8kG2gqUPjAj'),\n",
       " ('Michael Jackson',\n",
       "  'The Way You Make Me Feel - 2012 Remaster',\n",
       "  'spotify:track:0sKlV58cODrjxGFOyf9IXY'),\n",
       " ('Michael Jackson', 'Black or White', 'spotify:track:7EsjkelQuoUlJXEw7SeVV4'),\n",
       " ('Michael Jackson',\n",
       "  \"Don't Stop 'Til You Get Enough - Single Version\",\n",
       "  'spotify:track:46eu3SBuFCXWsPT39Yg3tJ'),\n",
       " ('Michael Jackson',\n",
       "  'P.Y.T. (Pretty Young Thing)',\n",
       "  'spotify:track:5lA3pwMkBdd24StM90QrNR'),\n",
       " ('Rick Springfield', \"Jessie's Girl\", 'spotify:track:5RsUlxLto4NZbhJpqJbHfN'),\n",
       " ('Bryan Adams', \"Summer Of '69\", 'spotify:track:6N1EjQjnvhOjFrF6oUmGPa'),\n",
       " ('Danity Kane',\n",
       "  'Lemonade (feat. Tyga)',\n",
       "  'spotify:track:588wOkZ39hkJc5K19WJ1hS'),\n",
       " ('Taylor Swift', '22', 'spotify:track:2ULNeSomDxVNmdDy8VxEBU'),\n",
       " ('Blue Swede', 'Hooked on a Feeling', 'spotify:track:2Nz6aF1umHh5Et6I5H581L'),\n",
       " ('Rascal Flatts',\n",
       "  'Life Is A Highway',\n",
       "  'spotify:track:1SLikaDhWhhhnLJC58bkFI'),\n",
       " ('Peter Gabriel',\n",
       "  'Down To Earth - From \"WALL-E\"/Soundtrack Version',\n",
       "  'spotify:track:3RcTV0VBkSwzHNMghOmRbm'),\n",
       " ('Jessie J', 'Bang Bang', 'spotify:track:3oEekS4xhmFQ88ieCVTZ7H'),\n",
       " ('Fall Out Boy', 'Thnks fr th Mmrs', 'spotify:track:18GC3F8YPGB8CePXcTUizQ'),\n",
       " ('Radical Face', 'Welcome Home, Son', 'spotify:track:13PUJCvdTSCT1dn70tlGdm'),\n",
       " ('Andrew Bird',\n",
       "  'So Much Wine, Merry Christmas',\n",
       "  'spotify:track:0fEYWBr81SK6lxPpR2WfII'),\n",
       " ('Bahamas',\n",
       "  'Christmas Must Be Tonight',\n",
       "  'spotify:track:5HGeTJqFRlhY3VYC9phKw6'),\n",
       " ('Sufjan Stevens',\n",
       "  'That Was the Worst Christmas Ever!',\n",
       "  'spotify:track:6pL6TOmzoMq6ckBFGTaAT5'),\n",
       " ('The Silver Lake Chorus',\n",
       "  'From the Snow-Tipped Hills - Carmen Rizzo Remix',\n",
       "  'spotify:track:2NDYQXOPVxNKblo9lUzgQo'),\n",
       " ('Low', 'Just Like Christmas', 'spotify:track:4zMP6aieSmWQNFdp3O4Owv'),\n",
       " ('She & Him',\n",
       "  'All I Want for Christmas Is You',\n",
       "  'spotify:track:1j75fzIDImv5G7NvSW9FNK'),\n",
       " ('Bright Eyes', 'Blue Christmas', 'spotify:track:2i5rP55zjWiAOhQDf7WSwp'),\n",
       " ('Animal Collective',\n",
       "  'What Would I Want? Sky',\n",
       "  'spotify:track:4MWMEFY2a9YrUR2yuck2fA'),\n",
       " ('The Long Winters',\n",
       "  'Christmas With You Is The Best',\n",
       "  'spotify:track:4L61Nl8gLTwltmthv9tAkd'),\n",
       " ('The Wombats',\n",
       "  'Is This Christmas? - Radio Edit',\n",
       "  'spotify:track:5gWJr20lfpkdmUh9wo7V1W'),\n",
       " ('The Magnetic Fields',\n",
       "  'Everything Is One Big Christmas Tree',\n",
       "  'spotify:track:4iNWgE5JkuZfB2TrRmVFj2'),\n",
       " ('the bird and the bee',\n",
       "  'Carol Of The Bells',\n",
       "  'spotify:track:1Tog7z9obwbdD2iBj1Ik0i'),\n",
       " ('Fleet Foxes',\n",
       "  'White Winter Hymnal',\n",
       "  'spotify:track:4XTuSMs47SIg35KxhNIUGe'),\n",
       " ('Vampire Weekend', 'Horchata', 'spotify:track:6xe8Sx5h8MYL3ZD5totFZT'),\n",
       " ('Camera Obscura', 'The Blizzard', 'spotify:track:1KKhlceVUkfqqtpAJmAtmy'),\n",
       " ('The Long Winters', 'Blanket Hog', 'spotify:track:5kklex4Y8fmD0KqFSyoslK'),\n",
       " ('She & Him', 'Let It Snow', 'spotify:track:7Al57JVDx4Cgj0KMDxJNKF'),\n",
       " ('Phoenix', 'Alone On Christmas Day', 'spotify:track:68W3huy1epLq9FYzFjFOlL'),\n",
       " ('LCD Soundsystem',\n",
       "  'Christmas Will Break Your Heart',\n",
       "  'spotify:track:0dMGq0YUOik1rMZicB96Qa'),\n",
       " ('Julian Casablancas',\n",
       "  'Christmas Treat',\n",
       "  'spotify:track:4Ie4u5mxn53KoPuEn928Gr'),\n",
       " ('The Raveonettes',\n",
       "  'The Christmas Song',\n",
       "  'spotify:track:74vAkZaoEU54yZdOoSLrTa'),\n",
       " ('Jimmy Eat World',\n",
       "  'Last Christmas - Studio Version',\n",
       "  'spotify:track:5v12mzbouFVXKFVaULrQ6Q'),\n",
       " ('Tom Waits',\n",
       "  'Christmas Card From A Hooker In Minneapolis',\n",
       "  'spotify:track:5hoYnNgKf6Esq71Tb7uyNT'),\n",
       " ('Eels',\n",
       "  'Christmas Is Going To The Dogs',\n",
       "  'spotify:track:1V5xm5jig4H84JpO66Y7aN'),\n",
       " ('Courtney Barnett',\n",
       "  'Boxing Day Blues (Revisited)',\n",
       "  'spotify:track:1MRr1ivNucqEBjHBMgDFjA'),\n",
       " ('Ramones',\n",
       "  \"Merry Christmas (I Don't Wanna Fight Tonight) - Single Version\",\n",
       "  'spotify:track:7EGQaR9y8XyKeDW7jiDndI'),\n",
       " ('The Beach Boys',\n",
       "  'Little Saint Nick',\n",
       "  'spotify:track:5xlS0QkVrSH7ssEbBgBzbM'),\n",
       " ('They Might Be Giants',\n",
       "  \"Santa's Beard\",\n",
       "  'spotify:track:721DtosYslUqvsziyzc5bT'),\n",
       " ('My Morning Jacket', 'Xmas Curtain', 'spotify:track:32le5VSoeqPmuVYZGE6b6a'),\n",
       " ('The Pogues',\n",
       "  'Fairytale of New York (feat. Kirsty MacColl)',\n",
       "  'spotify:track:3VTNVsTTu05dmTsVFrmGpK'),\n",
       " ('Sufjan Stevens',\n",
       "  'Get Behind Me, Santa!',\n",
       "  'spotify:track:7ET8SvWR236YP3JaxPWKir'),\n",
       " ('Pixies', 'Winterlong', 'spotify:track:6DxVY1JSySq0FnIlgnK8JL'),\n",
       " ('Cashmere Cat', 'Kiss Kiss', 'spotify:track:6jIGWu2my6bpv4jvNVKXwW'),\n",
       " ('Marvin Gaye',\n",
       "  'Sexual Healing - Kygo Remix',\n",
       "  'spotify:track:7s1upm7yr7ZjrzXMwHawtG'),\n",
       " ('Cashmere Cat', 'Mirror Maru', 'spotify:track:4LUu3bMpuxHjwPLj84rNSx'),\n",
       " ('The Chainsmokers', 'Roses', 'spotify:track:6O6M7pJLABmfBRoGZMu76Y'),\n",
       " ('Glass Animals', 'Gooey', 'spotify:track:5b9iBVhfYxDF4JJcHrNIx5'),\n",
       " ('Dillon Francis',\n",
       "  'Coming Over (feat. James Hersey)',\n",
       "  'spotify:track:6m3ZWIXhjoV76syT1j2oE9'),\n",
       " ('Justin Bieber',\n",
       "  'What Do You Mean?',\n",
       "  'spotify:track:3pzjHKrQSvXGHQ98dx18HI'),\n",
       " ('Justin Bieber', \"I'll Show You\", 'spotify:track:747eWJy8c3u09N30NSqSTp'),\n",
       " ('ODESZA', 'How Did I Get Here', 'spotify:track:4aJnMRNeuDZSQN7FaSNGtM'),\n",
       " ('ODESZA', 'My Friends Never Die', 'spotify:track:2eMh8ISgK9dylE51SJUixA'),\n",
       " ('ODESZA', 'Say My Name', 'spotify:track:4auZhbHhgbiSMeh0kiHCRk'),\n",
       " ('ODESZA', 'Keep Her Close', 'spotify:track:0XhFy7NAFb8b1grm26Xwh2'),\n",
       " ('ODESZA', 'All We Need', 'spotify:track:7yaJYLVDJhxFCkm9WUZNth'),\n",
       " ('ODESZA', 'Bloom', 'spotify:track:0DQEvC22c60Hk0nHTXVRSY'),\n",
       " ('Alina Baraz', 'Can I', 'spotify:track:5erTWXdADowSkh825UUOho'),\n",
       " ('Alina Baraz', 'Fantasy', 'spotify:track:17YuXw2ScwLLL1sUrRKhoW'),\n",
       " ('Alina Baraz', 'Make You Feel', 'spotify:track:5zouq58uwciUTe0rhrwKmc'),\n",
       " ('Alina Baraz', 'Show Me', 'spotify:track:5DWlblna0iBMpTvo5cXzdK'),\n",
       " ('Alina Baraz', 'Maybe', 'spotify:track:1sP3WrXSr0g2A0VIKfn6Uu'),\n",
       " ('Alina Baraz', 'Unfold', 'spotify:track:1cSpPl4FhWtft5fUTqRr8f'),\n",
       " ('Klingande',\n",
       "  'RIVA (Restart the Game) - Radio Edit',\n",
       "  'spotify:track:7lvCk2jnf3YGAl5aoUr4TZ'),\n",
       " ('Blackmill',\n",
       "  'Let It Be (feat. Veela)',\n",
       "  'spotify:track:4ChBLndekjzQveHPsn3r6W'),\n",
       " ('Blackmill', 'Spirit of Life', 'spotify:track:6eRPYyh1EPRqDhgb3Nardw'),\n",
       " ('Blackmill', 'Miracle', 'spotify:track:5VQdYgOMD5DunteeIWztZs'),\n",
       " ('Blackmill', 'The Drift', 'spotify:track:14JJgiD5VDRpMOuTm9AE5J'),\n",
       " ('Blackmill', 'Lucid Truth', 'spotify:track:1nNPLcueemE7gIoBqsYUTT'),\n",
       " ('Blackmill', \"Journey's End\", 'spotify:track:4jIzCryeLdBgE671gdQ6QD'),\n",
       " ('Crywolf', 'Intro (feat. emalyn)', 'spotify:track:72e56jWs0mppKKB7C3NAwt'),\n",
       " ('Crywolf', 'Eyes Half Closed', 'spotify:track:5kREO8eHkQz0v8MFXuk2dO'),\n",
       " ('Crywolf', 'Whisper (feat. emalyn)', 'spotify:track:3y7yxXW885ZDApaSZGpp6C'),\n",
       " ('Crywolf', 'Angels', 'spotify:track:6l2k9yyLnSWEh2kUHrnzC8'),\n",
       " ('Crywolf', 'Bury Now (feat. Lis)', 'spotify:track:6xaCE1ez2BeHPLMGjGzv0n'),\n",
       " ('Crywolf', 'Sillage (Outro)', 'spotify:track:4hRHGkqmoZRNC3DNpY4jta'),\n",
       " ('Crywolf', 'Neverland', 'spotify:track:3V092HLbhLjAXhxvZZzznu'),\n",
       " ('Crywolf', 'Runaway', 'spotify:track:0gb5AKbqgOSsvCiVSumsqO'),\n",
       " ('Crywolf',\n",
       "  'The Home We Made Pt. II',\n",
       "  'spotify:track:58nCzdTnMcUxHz326Y3Ttf'),\n",
       " ('Crywolf', 'Tides', 'spotify:track:1cNzpLUwsWzcHkAvniwWad'),\n",
       " ('Crywolf',\n",
       "  'Stay - Kicks n Licks Remix',\n",
       "  'spotify:track:7gPT8ez6yGn9s885NwW30Z'),\n",
       " ('Justin Bieber', 'Confident', 'spotify:track:5Isz0twJeFdduOQEFQLezv'),\n",
       " ('Justin Bieber',\n",
       "  'Beauty And A Beat',\n",
       "  'spotify:track:0KTsmr6JOuhxZuiXUha1xC'),\n",
       " ('Klangkarussell',\n",
       "  'We Want Your Soul',\n",
       "  'spotify:track:3qq1PWuwUVafnR3uHeUFI6'),\n",
       " ('Disclosure',\n",
       "  'You & Me - Flume Remix',\n",
       "  'spotify:track:1snNAXmmPXCn0dkF9DaPWw'),\n",
       " ('Galantis', 'Runaway (U & I)', 'spotify:track:46lFttIf5hnUZMGvjK0Wxo'),\n",
       " ('Miguel', 'Coffee (F***ing)', 'spotify:track:60kqoWSXSbiDJaDxgi8GG1'),\n",
       " ('Miguel', 'coffee', 'spotify:track:28wmzW39UTv4iYCKKkhIQP'),\n",
       " ('ODESZA', 'It’s Only', 'spotify:track:3XpriBFRWfjCGz3VeIx1zT'),\n",
       " ('ODESZA', 'Always This Late', 'spotify:track:2Ecl3r2ncoEfZhikZ5ejIi'),\n",
       " ('ODESZA', 'Sundara', 'spotify:track:12CuwKUUuU0dKZ1q5S344R'),\n",
       " ('ODESZA', 'White Lies', 'spotify:track:2XWxizJ1QUcHAO30hVYYNM'),\n",
       " ('ODESZA', 'Kusanagi', 'spotify:track:3pem0co27QEBjSEsmS9DOB'),\n",
       " ('ODESZA', 'Echoes', 'spotify:track:7vn3jAUYXioTZ92t0v9lCN'),\n",
       " ('ODESZA', 'Koto', 'spotify:track:08tKuUfgHCtqHXbNlQofS0'),\n",
       " ('ODESZA', 'Memories That You Call', 'spotify:track:198dZZVS2hHVMhcQapDFOW'),\n",
       " ('ODESZA', 'Sun Models', 'spotify:track:7avUYFehb1GscgCncPdBDK'),\n",
       " ('ODESZA', 'For Us', 'spotify:track:5waH0cU4mw4H25Mn795U8l'),\n",
       " ('Flume', 'Smoke & Retribution', 'spotify:track:3w23sQ5FSzCKEviFYf0nSQ'),\n",
       " ('Kayjo',\n",
       "  'Trophy (feat. RahRah The Savage)',\n",
       "  'spotify:track:4kjQQIWei6pohmxluH7Fu6'),\n",
       " ('GoldLink', 'Late Night', 'spotify:track:60ZZNXIdwgUGkVGRt7foLT'),\n",
       " ('Take/Five', 'Requiem', 'spotify:track:1koShKeCbgroqPL5kgtF3s'),\n",
       " ('Illenium',\n",
       "  'Fortress (feat. Joni Fatora)',\n",
       "  'spotify:track:3cn8bRbgGBwS05SalGX9HK'),\n",
       " ('Diplo',\n",
       "  'Revolution - feat. Faustix & Imanos and Kai',\n",
       "  'spotify:track:0QXSvAR0qWcbqWPe2KFamv'),\n",
       " ('Jack Ü', 'Mind (feat. Kai)', 'spotify:track:6ZpR2XFuQJSHAQwg9495KZ'),\n",
       " ('Jack Ü',\n",
       "  'To Ü (feat. AlunaGeorge)',\n",
       "  'spotify:track:3UgSQu6WwrXfKKDq019IHE'),\n",
       " ('Diplo', 'Be Right There', 'spotify:track:1Wuwsq0BK4Abd7gRitOhXl'),\n",
       " ('Jack Ü',\n",
       "  'Take Ü There (feat. Kiesza)',\n",
       "  'spotify:track:2RpKh7kXSdO8NLrW9VQ46p'),\n",
       " ('Jack Ü',\n",
       "  'Febreze (feat. 2 Chainz)',\n",
       "  'spotify:track:48bSfSZaq9Aizbu4AWn4st'),\n",
       " ('Jack Ü',\n",
       "  'Beats Knockin (feat. Fly Boi Keno)',\n",
       "  'spotify:track:4gwF1NiLbZl2uKJDS3AX9O'),\n",
       " ('TroyBoi',\n",
       "  'Afterhours feat. Diplo & Nina Sky',\n",
       "  'spotify:track:1gV0hgMNdpSWeW7ZjSUKnX'),\n",
       " ('Crywolf', 'Shrike', 'spotify:track:4rkZdXbtsHHtY1Us4BHC08'),\n",
       " ('Crywolf',\n",
       "  'We Never Asked for This',\n",
       "  'spotify:track:4zNWzyZhNWf6dxQtyFsNK9'),\n",
       " ('Crywolf',\n",
       "  'Interlude; 9/23/87 4:34 am - Falling',\n",
       "  'spotify:track:5MqPWCKHllYs4lwUh52699'),\n",
       " ('Crywolf', 'Stomach It', 'spotify:track:1p7ec4hYOgmNw0lElbSOFh'),\n",
       " ('Crywolf',\n",
       "  'Interlude; A Ghost in the Wings',\n",
       "  'spotify:track:22gsUhJlNedmx5Fo1hTctq'),\n",
       " ('Crywolf', 'Halloween, 1987', 'spotify:track:0039tOs9Khnihi4dLWnwR9'),\n",
       " ('Crywolf',\n",
       "  'Dirge (Everything Is Over Now)',\n",
       "  'spotify:track:3MkdognO1wxt97g4BuLn2K'),\n",
       " ('Crywolf',\n",
       "  'Stomach It - Acoustic Version',\n",
       "  'spotify:track:5D38gCxrufRoMK5pBxtXLP'),\n",
       " ('Crywolf',\n",
       "  'Shrike - Niko The Kid VIP Edit',\n",
       "  'spotify:track:5lmFDRUw2oc3ye51sAdIz1'),\n",
       " ('Crywolf',\n",
       "  'Oceans, Pt. II - SLDGHMR Remix',\n",
       "  'spotify:track:62tSrLYZd3zPAHYjdKCgjM'),\n",
       " ('Crywolf',\n",
       "  'Runaway - Telepathic Teddy Bear Cover',\n",
       "  'spotify:track:5ycIQShMGbfu6RSiDPuSTL'),\n",
       " ('Crywolf',\n",
       "  'Oceans, Pt. II - Gladkill Remix',\n",
       "  'spotify:track:5lIsoJQVt0Xu03B5pFeMEn'),\n",
       " ('Crywolf', 'Ribcage - MaHi Remix', 'spotify:track:1rYjXlMmY9vS1W1Bi0hkDA'),\n",
       " ('Crywolf',\n",
       "  'Oceans, Pt. II - Rust & Lavier Cover',\n",
       "  'spotify:track:3KdZfbgop6di9X77lcqGgU'),\n",
       " ('Crywolf',\n",
       "  'Aporia - Samuel Proffitt Remix',\n",
       "  'spotify:track:0gStEIScOUcKzus1j7pHzN'),\n",
       " ('Crywolf',\n",
       "  'Ribcage - Killigrew Remix',\n",
       "  'spotify:track:2xGpqydIwQSv6TNAnkgeKD'),\n",
       " ('Owl City', 'Dreams And Disasters', 'spotify:track:4kbDYMLy5qdn1UqaNiNWsM'),\n",
       " ('Owl City', 'Shooting Star', 'spotify:track:7k5EcszNwUturoU20TTy1G'),\n",
       " ('Owl City', 'Gold', 'spotify:track:5pBCrF0gXKLZXj77BdJNh2'),\n",
       " ('Owl City', 'Dementia', 'spotify:track:4buwCc108hpNP4HaCWxudH'),\n",
       " ('Owl City', \"I'm Coming After You\", 'spotify:track:4l4QbK1WQsEILLklD4y0NE'),\n",
       " ('Owl City', 'Speed Of Love', 'spotify:track:4URyMVt4ZpmDQWd7D8rZ7k'),\n",
       " ('Owl City', 'Good Time', 'spotify:track:5w6TVvv71F8px5cObg2xnx'),\n",
       " ('Owl City', 'Embers', 'spotify:track:61M3DuWap0Y0RcFmWcrcQP'),\n",
       " ('Owl City', 'Silhouette', 'spotify:track:1RAseuTkq23YYq5H7z9Byt'),\n",
       " ('Owl City', 'Metropolis', 'spotify:track:1SwG77Y74JfKoCNAtKyWsf'),\n",
       " ('Owl City', 'Take It All Away', 'spotify:track:5F4QHfMWYrhluTbggEbIG9'),\n",
       " ('Owl City', 'The Real World', 'spotify:track:3W09f57XX44PL8wcVWUVXK'),\n",
       " ('Owl City',\n",
       "  'Deer In The Headlights',\n",
       "  'spotify:track:2MX7KX78uxMwkeeDyk6CR1'),\n",
       " ('Owl City', 'Angels', 'spotify:track:73calRAsTSbfybJiTT24K8'),\n",
       " ('Owl City',\n",
       "  \"Dreams Don't Turn To Dust\",\n",
       "  'spotify:track:30ffQypxIL8wWLsswetyLB'),\n",
       " ('Owl City', 'Honey And The Bee', 'spotify:track:219c16bgpbQclXy7v6QWRy'),\n",
       " ('Owl City', 'Kamikaze', 'spotify:track:5tYSlxEwNKlr5F3k3ZsI6R'),\n",
       " ('Owl City', 'January 28, 1986', 'spotify:track:2XHvUKizLgTJpmet7YWgZH'),\n",
       " ('Owl City', 'Galaxies', 'spotify:track:4jKa7EZaP8UaEBp2ijfzk6'),\n",
       " ('Owl City', 'Hospital Flowers', 'spotify:track:7zaudG77rXWJHudW5dSToM'),\n",
       " ('Owl City', 'Alligator Sky', 'spotify:track:4c3mIWKKMbGJlZukdMTBvB'),\n",
       " ('Owl City', 'The Yacht Club', 'spotify:track:1gaW5CtiGEd2s4Z7wqx8E4'),\n",
       " ('Owl City', 'Plant Life', 'spotify:track:3Uq06PHpVt4T9KYceuPYZn'),\n",
       " ('Owl City',\n",
       "  'Alligator Sky - No Rap Version',\n",
       "  'spotify:track:1ySt8XwpFybd76xgZHUa2R'),\n",
       " ('Kidnap', 'Birds That Fly', 'spotify:track:40rmgAoUoNCvJX9PNyOa01'),\n",
       " ('Illenium',\n",
       "  'Afterlife (feat. Echos)',\n",
       "  'spotify:track:5B7qDiafwNpIF5dCQAYPzB'),\n",
       " ('Parov Stelar', 'The Sun', 'spotify:track:16TgdSXa71GegvWppYh6Qp'),\n",
       " ('Cut Snake', 'Echo', 'spotify:track:5oyjGWItbh99sdQij175Sy'),\n",
       " ('Candyland', 'Speechless', 'spotify:track:72ZxxtVWKGiICLhyL2Fcix'),\n",
       " ('Möwe', 'Lovers Friends', 'spotify:track:0vo8W0MvJJnyRjVh4K74S6'),\n",
       " ('Cubicolor', 'Falling', 'spotify:track:6uBImZ47dzAPRcPN7gXd44'),\n",
       " ('Tube & Berger',\n",
       "  'Imprint of Pleasure',\n",
       "  'spotify:track:0ikhyMXGBKSx8Yb18h7prS'),\n",
       " ('Max Manie',\n",
       "  'Sunday - KlangTherapeuten \"Looking For Summer\" Remix',\n",
       "  'spotify:track:3YcAw0Uc94mb7n8DHMFWRa'),\n",
       " ('Tep No', 'The Last Ones Standing', 'spotify:track:4X6wMQec2NHdBhEGUwqUFV'),\n",
       " ('Gryffin', 'Heading Home', 'spotify:track:3Co501bJLDdgmZs5WQMR1V'),\n",
       " ('Alyx Ander',\n",
       "  'Close Enough (feat. Maria Z.)',\n",
       "  'spotify:track:2ihnCMoibnhbx2VF2by0Z7'),\n",
       " ('Gorgon City', 'Real', 'spotify:track:3N0BD0SDNoDhOgoykRaDTz'),\n",
       " ('Naxxos',\n",
       "  'New Orleans - Radio Edit',\n",
       "  'spotify:track:1XJ8hnbTkFD88KvtC4E8Uz'),\n",
       " ('GAMPER & DADONI', 'Oxas', 'spotify:track:3Zg6kO3S4FQ0jMfTIgHzyl'),\n",
       " ('Faul & Wad Ad',\n",
       "  'Changes (vs. Pnau) - Robin Schulz Remix Radio Edit',\n",
       "  'spotify:track:1iAvxtvK3GOwgCtaMLqxHL'),\n",
       " ('Damien Jurado',\n",
       "  'Ohio - filous Remix',\n",
       "  'spotify:track:6W4GTXLYX8HkmZGmVkfrSC'),\n",
       " ('Carmada',\n",
       "  'On Fire (feat. Maribelle) - Naderi Remix',\n",
       "  'spotify:track:0Z6GwLsuHlSkSi051md7De'),\n",
       " ('SNBRN',\n",
       "  'Beat the Sunrise - Gianni Kosta Remix',\n",
       "  'spotify:track:1hjPL7ExKEUjCzka7et4VP'),\n",
       " ('Wankelmut',\n",
       "  'My Head Is A Jungle - Radio Edit (Bonustrack)',\n",
       "  'spotify:track:3AUz2xcMnn1CDLDtFRCPeV'),\n",
       " ('Bondax', 'Giving It All', 'spotify:track:0KL7GdKXJWK2jQJyreA5Un'),\n",
       " ('Clean Bandit',\n",
       "  'Rather Be (feat. Jess Glynne) - Robin Schulz Edit',\n",
       "  'spotify:track:7g8WkymC8xQ4vb8IpIoJh3'),\n",
       " ('RKCB', 'Daydreaming (Virtu Remix)', 'spotify:track:3Xi8swTwqLNUyIUoXbsNyS'),\n",
       " ('Bolier', 'Riverbank', 'spotify:track:2DZ7nGnDyfatGSjOPfYgxf'),\n",
       " ('HAIM',\n",
       "  'Falling - Duke Dumont Remix',\n",
       "  'spotify:track:6EbSJq0RTcIgkffkm2D69j'),\n",
       " ('On June',\n",
       "  \"The Devil's Tears - Sam Feldt Edit Extended\",\n",
       "  'spotify:track:2BkhnVUuXzwTn2bpHkAQwU'),\n",
       " ('Tep No', 'Pacing', 'spotify:track:6cWZQNgaL8yLtezJvag9Y9'),\n",
       " ('Louis The Child',\n",
       "  \"It's Strange - Nine Lives Remix\",\n",
       "  'spotify:track:47kuT5uGV67YxqceDk0ZB9'),\n",
       " ('RÜFÜS', 'Like an Animal', 'spotify:track:05LoBwiXyb1sx3xV3S3tEd'),\n",
       " ('Avicii', 'Gonna Love Ya', 'spotify:track:7br84ZQ7X2IGahwaC2FlZs'),\n",
       " ('Parra for Cuva', 'Wicked Games', 'spotify:track:1yoO94wPL8khknS04ltxkn'),\n",
       " ('BCX', 'Take Care', 'spotify:track:7tirhoEiNOaHD2RYrjt1k9'),\n",
       " ('Snakehips',\n",
       "  'All My Friends - 99 Souls Remix',\n",
       "  'spotify:track:1szfOuGK4RWHrsHdiMimym'),\n",
       " ('Sam Feldt',\n",
       "  'Show Me Love - EDX Remix / Radio Edit',\n",
       "  'spotify:track:6PkzXU8dlwtfrwyTlUyVnv'),\n",
       " ('Marlon Roudette',\n",
       "  'When The Beat Drops Out',\n",
       "  'spotify:track:5aJhuze13LOoLthmiG8YIA'),\n",
       " ('RÜFÜS', 'Brighter', 'spotify:track:5g5QD2ddj7lbEFfv312Wjo'),\n",
       " ('Joris Voorn', 'Ringo - Original', 'spotify:track:0MLZgxAe28WhMLIepQ48f9'),\n",
       " ('Lilly Wood and The Prick',\n",
       "  'Prayer in C - Robin Schulz Radio Edit',\n",
       "  'spotify:track:0uVyZywUNOp6S0dU5r8TS8'),\n",
       " ('Parra for Cuva', 'Fading Nights', 'spotify:track:4bhoQCNYx5TjINvtSMiaAb'),\n",
       " ('CloZee', 'Red Forest', 'spotify:track:4DdoBfBEJ2gr6rUlRT34wz'),\n",
       " ('Yotto', 'Personal Space', 'spotify:track:3TYNQdnAM85I6P9UegzYKo'),\n",
       " ('Robin Schulz',\n",
       "  'Sun Goes Down (feat. Jasmine Thompson) - Radio Mix',\n",
       "  'spotify:track:4zLBcDtvYNVtF9fnG6lme3'),\n",
       " ('Dim Sum', 'High Love', 'spotify:track:3q2pCWZEsetC62qyxP7p1b'),\n",
       " ('RAC', 'We Belong - Odesza Remix', 'spotify:track:4tO93FtEpqdVA0b9RXK4xI'),\n",
       " ('Route 94',\n",
       "  'My Love - Oliver Nelson Remix',\n",
       "  'spotify:track:317zQvAdVYKiH8KBRkVoaC'),\n",
       " ('Lost Frequencies',\n",
       "  'Are You With Me - Radio Edit',\n",
       "  'spotify:track:2glGP8kEfACgJdZ86kWxhN'),\n",
       " ('Mr. Probz',\n",
       "  'Waves - Robin Schulz Radio Edit',\n",
       "  'spotify:track:5Sf3GyLEAzJXxZ5mbCPXTu'),\n",
       " ('Coldplay',\n",
       "  'A Sky Full of Stars - Robin Schulz Edit',\n",
       "  'spotify:track:57gkpm9dZdFfp1xoBvcZTx'),\n",
       " ('Matoma', 'Running Out', 'spotify:track:2H8LPaY3NSjmOFMH2Rygnz'),\n",
       " ('Justin Bieber', 'Take You', 'spotify:track:2m7DhPeRvWtFSPTVSLO8SV'),\n",
       " ('Dirtwire',\n",
       "  'Sailing the Solar Flares',\n",
       "  'spotify:track:3tubIxEQAIhJok2xNl2Fgf'),\n",
       " ('Arston & Sandro Silva', 'Takeover', 'spotify:track:797x9Zum7OlCrcv0dW2IUU'),\n",
       " ('Kygo', 'Stole the Show', 'spotify:track:5masKPHeAOVNgxdLebIcK7'),\n",
       " ('Sam Feldt', 'Show Me Love', 'spotify:track:6ksRossV4vKsXntCCZbhaM'),\n",
       " ('Sam Feldt', 'Been a While', 'spotify:track:5KWK2vKco16cG0EYxtnBTw'),\n",
       " ('Sam Feldt',\n",
       "  'Hot Skin - Radio Edit',\n",
       "  'spotify:track:5OppKZFuGrKMVpWRHzp4jM'),\n",
       " ('Sam Feldt', 'Feels Like Home', 'spotify:track:1w97EiomeIErOr2eZ9vZR8'),\n",
       " ('Sam Feldt',\n",
       "  'Bloesem - Original Mix',\n",
       "  'spotify:track:2lLUiGNewCnWn8HKnbDGAH'),\n",
       " ('Sam Feldt',\n",
       "  'Show Me Love - EDX Remix',\n",
       "  'spotify:track:7lB5RdmbcMOA9LeJDEhiT2'),\n",
       " ('Sam Feldt', 'Drive You Home', 'spotify:track:1zVXhBv0B436GAN26u0bes'),\n",
       " ('Sam Feldt', 'All the Kids', 'spotify:track:252BigTT0y0n8H1pY9Zykc'),\n",
       " ('Boehm', 'We Come - Radio Edit', 'spotify:track:4yRuPrh3Zf5NFJjbC6NvKp'),\n",
       " ('Gorgon City', 'Saving My Life', 'spotify:track:41ZXQFAywncRjnDvtTMYPw'),\n",
       " ('Gorgon City',\n",
       "  'Ready For Your Love',\n",
       "  'spotify:track:5wGLQvq6JoxYZX7V3ymPS5'),\n",
       " ('Alizzz',\n",
       "  'Your Love feat. Max Marshall',\n",
       "  'spotify:track:3QlghHX1jPG5RJYFjrJCNW'),\n",
       " ('Alizzz', 'Basic Complexity', 'spotify:track:1TsXWFlEFv6g6hIJu9mWsu'),\n",
       " ('Seven Lions', 'Strangers', 'spotify:track:2qIWuOrAN2aGyAnh6K5nxe'),\n",
       " ('Sidewalks and Skeletons', 'Body', 'spotify:track:1hmo5AzE4FA2sNx4It7H8v'),\n",
       " ('Jasmine Thompson', 'Fast Car', 'spotify:track:3jOivF6kp5bN9R4up7oDw7'),\n",
       " ('Jonas Blue', 'Fast Car', 'spotify:track:6OZh916QF8XNunWaP97WEZ'),\n",
       " ('Hippie Sabotage', 'Fast Car', 'spotify:track:6fn7SOgatNoHmnFDRmoq2l'),\n",
       " ('Handsome Ghost', 'Blood Stutter', 'spotify:track:55bwpavHoYVUv55RQ6kzhi'),\n",
       " ('Jack Ü',\n",
       "  \"Don't Do Drugs Just Take Some Jack Ü\",\n",
       "  'spotify:track:0iSGRQ1RNaG76qiXH03jyC'),\n",
       " ('Jack Ü',\n",
       "  'Jungle Bae (feat. Bunji Garlin & MX Prime)',\n",
       "  'spotify:track:7yJzk64ul9PFgVFUYbEzZL'),\n",
       " ('Jack Ü',\n",
       "  'Holla Out (feat. Snails & Taranchyla)',\n",
       "  'spotify:track:3LDKrOek8eqZA52IeauhrW'),\n",
       " ('Jack Ü',\n",
       "  'Where Are Ü Now (with Justin Bieber)',\n",
       "  'spotify:track:66hayvUbTotekKU3H4ta1f'),\n",
       " ('Jack Ü',\n",
       "  'Take Ü There (feat. Kiesza) - Missy Elliott Remix Bonus Track',\n",
       "  'spotify:track:4JJTel4WTX7VeyN3fe5CbS'),\n",
       " ('Bob Sinclar', 'Love Generation', 'spotify:track:7w10jGE7x0r1688itN2HeZ'),\n",
       " ('The Aston Shuffle',\n",
       "  'Only 1 feat. Nathaniel S Lewis',\n",
       "  'spotify:track:2Wl37W8UTUHU9wYfQ0HsF6'),\n",
       " ('Illenium',\n",
       "  \"It's All on U (feat. Liam O'Donnell)\",\n",
       "  'spotify:track:3qO8p5ccCElEk2MMAI0u4J'),\n",
       " ('Seven Lions', 'Days to Come', 'spotify:track:1FRFgyPNuqfXIRYlCJ1kwR'),\n",
       " ('EDEN', 'Gravity', 'spotify:track:0GxCUPDU0ePWJOeAQzNqao'),\n",
       " ('Adventure Club',\n",
       "  'Wonder (feat. The Kite String Tangle)',\n",
       "  'spotify:track:7vUvwzUlzQMyV4iGUgqvoT'),\n",
       " ('Ryan Farish', 'Hopes and Fears', 'spotify:track:6Vwh330NzOJTOaIRhxPJhj'),\n",
       " ('Hippie Sabotage',\n",
       "  'Show Me the World',\n",
       "  'spotify:track:4Z9dnW3wycENtnqDStjP9r'),\n",
       " ('Zeds Dead', 'Collapse', 'spotify:track:77ufFFJSnLcqS6m69zJtxz'),\n",
       " ('Bassnectar', 'Reaching Out', 'spotify:track:3anyoDE1gcNsRtLmkE55bU'),\n",
       " ('ayokay',\n",
       "  'Kings of Summer - Single Version',\n",
       "  'spotify:track:4Tid4MwqgR1CfKCun3tFon'),\n",
       " ('Zookeepers', 'Stranded', 'spotify:track:0g6SHe2SRb5y51mpBIvz1g'),\n",
       " ('Selena', 'Amor Prohibido', 'spotify:track:1kCewNSs909Xj1naXr36X8'),\n",
       " ('Selena', 'Baila Esta Cumbia', 'spotify:track:3lFGBrRWUxpTfhhq6lGBRw'),\n",
       " ('Selena y los Dinos', 'La Carcacha', 'spotify:track:0ob3zPIGXWwg2hyXJNs3Ct'),\n",
       " ('Selena', 'Besitos', 'spotify:track:7AbqXy9RdTfrKkk5FdJSa5'),\n",
       " ('Selena', 'Como La Flor', 'spotify:track:5ubqSAc9LxUS2CsMHcA4kF'),\n",
       " ('Selena',\n",
       "  'El Chico Del Apartamento 512',\n",
       "  'spotify:track:1lh3TnDpfNBNfLfOWghNnp'),\n",
       " ('Selena', 'Bidi Bidi Bom Bom', 'spotify:track:0o9Vr0BGIQPh32staLHcuU'),\n",
       " ('Selena y los Dinos', 'Quiero Ser', 'spotify:track:5RmDG0lMtHXQRUny77EM1e'),\n",
       " ('Selena', 'Si Una Vez', 'spotify:track:3zLQtoEeXA6Lr1sNrbyYbs'),\n",
       " ('Selena', 'Enamorada De Ti', 'spotify:track:3eHbKczzbh0zH5olpTgfW8'),\n",
       " ('Selena', 'Fotos Y Recuerdos', 'spotify:track:0kQOWm8vYnQEb2gVWITaAA'),\n",
       " ('Selena',\n",
       "  'No Quiero Saber - 2000 Mix',\n",
       "  'spotify:track:2pS2IdtMXpvaEONreUlSAo'),\n",
       " ('Selena', 'Aunque No Salga El Sol', 'spotify:track:23gEpPOd0jd6zPUnNTSLd3'),\n",
       " ('Selena', 'Tu, Solo Tu', 'spotify:track:2FGfzaBwu4ebqaGDmmFDLc'),\n",
       " ('Selena', 'I Could Fall In Love', 'spotify:track:3ACQkIMv6nGYHRpPGyS4BK'),\n",
       " ('Selena', 'Dreaming Of You', 'spotify:track:5EL8hqM8YQJHKKnzGdahly'),\n",
       " ('Mike Posner',\n",
       "  'I Took A Pill In Ibiza - Seeb Remix',\n",
       "  'spotify:track:17Fd6Yb7mSbinKG8LoWfFl'),\n",
       " ('Yusuf / Cat Stevens', 'Wild World', 'spotify:track:269OfNY9Je1QWaDnu31KKp'),\n",
       " ('Bob Dylan',\n",
       "  \"The Times They Are A-Changin'\",\n",
       "  'spotify:track:52vA3CYKZqZVdQnzRrdZt6'),\n",
       " ('Family of the Year', 'Hero', 'spotify:track:0yKK9to5WLMT35x8dRU1W5'),\n",
       " ('George Ezra',\n",
       "  'Budapest - Live from Spotify Stockholm',\n",
       "  'spotify:track:4HqU80xAozomP0XtgxAu6w'),\n",
       " ('The National', 'Gospel', 'spotify:track:4AFPPswU1ffqbfW2ahIoMw'),\n",
       " ('Jack Johnson', 'Breakdown', 'spotify:track:4VQu1ooCteGDynSZYUgvT4'),\n",
       " ('Jack Johnson', 'Rainbow', 'spotify:track:3x5FrVKxTEOAYGaVPDMgMU'),\n",
       " ('I Monster', 'Daydream In Blue', 'spotify:track:118kolZnbJBQvbOl0D4C71'),\n",
       " ('Jefferson Airplane',\n",
       "  'White Rabbit',\n",
       "  'spotify:track:4vpeKl0vMGdAXpZiQB2Dtd'),\n",
       " ('Nirvana',\n",
       "  'The Man Who Sold The World',\n",
       "  'spotify:track:15VRO9CQwMpbqUYA7e6Hwg'),\n",
       " ('Pink Floyd',\n",
       "  'Fearless - 2011 Remastered Version',\n",
       "  'spotify:track:5WEOx4ZXcfX3wvbfxsAoDO'),\n",
       " ('Gene Wilder',\n",
       "  'Pure Imagination - From \"Willy Wonka & The Chocolate Factory\" Soundtrack',\n",
       "  'spotify:track:17467hLI4TVcCfTCCPpDEy'),\n",
       " ('The Avalanches',\n",
       "  'Since I Left You',\n",
       "  'spotify:track:516V4vS25xnGdVgkBWO6Wf'),\n",
       " ('The Avalanches', 'Radio', 'spotify:track:027CQkZSId1SGW3h7xeOTC'),\n",
       " ('The Avalanches',\n",
       "  'Two Hearts In 3/4 Time',\n",
       "  'spotify:track:7obAv6wop4HzavH2eNU6SH'),\n",
       " ('The Avalanches', 'Close To You', 'spotify:track:7bCmSFlmcCBXeLWgfFP02W'),\n",
       " ('The Avalanches', 'Electricity', 'spotify:track:0Mg6Z3OP9fwIEPWHXsnufL'),\n",
       " ('The Avalanches', 'Tonight', 'spotify:track:63grpdfs3XAgbsTiYAGOI8'),\n",
       " ('The Avalanches',\n",
       "  'Frontier Psychiatrist',\n",
       "  'spotify:track:0E2UdlzNQP9I70MYumYlFo'),\n",
       " ('The Avalanches', 'ETOH', 'spotify:track:7mZ6HkP9xEh1c63qPMdCUt'),\n",
       " ('The Avalanches', 'Summer Crane', 'spotify:track:0KS0UD7DUNOTrPEu0fe0bh'),\n",
       " ('The Avalanches', 'Extra Kings', 'spotify:track:3UeKLLqEWk7VTDVzmXhdqm'),\n",
       " ('Jethro Tull',\n",
       "  'Songs From The Wood - 2003 Remastered Version',\n",
       "  'spotify:track:5AhyxWDDMvc3l7vttW68Al'),\n",
       " ('Jethro Tull',\n",
       "  'Jack In The Green - 2003 Remastered Version',\n",
       "  'spotify:track:3DRXMhmQsIFXltrlg6q8Ol'),\n",
       " ('Jethro Tull',\n",
       "  'Cup Of Wonder - 2003 Remastered Version',\n",
       "  'spotify:track:4uNHao5yYMjNiwKOCQDXJO'),\n",
       " ('Jethro Tull',\n",
       "  'Hunting Girl - 2003 Remastered Version',\n",
       "  'spotify:track:4q4drdvnOQ29rVAE9mDqf6'),\n",
       " ('Jethro Tull',\n",
       "  'Velvet Green - 2003 Remastered Version',\n",
       "  'spotify:track:4O1d8CrFMyQmj2AmdarD4r'),\n",
       " ('Jethro Tull',\n",
       "  'The Whistler - 2003 Remastered Version',\n",
       "  'spotify:track:6pDbR6ALIngNefnmsg7Osb'),\n",
       " ('Jethro Tull',\n",
       "  'Pibroch (Cap In Hand) - 2003 Remastered Version',\n",
       "  'spotify:track:1yAQkkJilBajMt4wOgzzbx'),\n",
       " ('Jethro Tull',\n",
       "  'Fire At Midnight - 2003 Remastered Version',\n",
       "  'spotify:track:7vNNRTIuxDTdAipB7Kzf3F'),\n",
       " ('Jethro Tull',\n",
       "  'Beltane - 2003 Remastered Version',\n",
       "  'spotify:track:6PGXDg4olmXeL46IP6mgbR'),\n",
       " ('Radiohead', 'Karma Police', 'spotify:track:3SVAN3BRByDmHOhKyIDxfC'),\n",
       " ('Radiohead',\n",
       "  'Everything In Its Right Place',\n",
       "  'spotify:track:5AiNZnMDCWwujIENPj9PV9'),\n",
       " ('Radiohead',\n",
       "  'Street Spirit (Fade Out)',\n",
       "  'spotify:track:5gz38AxRkD6Ywxd4fr2pLj'),\n",
       " ('Led Zeppelin', 'Black Dog', 'spotify:track:3qT4bUD1MaWpGrTwcvguhb'),\n",
       " ('Led Zeppelin', 'Rock And Roll', 'spotify:track:4PRGxHpCpF2yoOHYKQIEwD'),\n",
       " ('Led Zeppelin',\n",
       "  'The Battle Of Evermore',\n",
       "  'spotify:track:6MSoJM9UIFHozmBCduQRje'),\n",
       " ('Led Zeppelin',\n",
       "  'Misty Mountain Hop',\n",
       "  'spotify:track:5NnZ4JJxWiqqhYNu3rwmFj'),\n",
       " ('Led Zeppelin', 'Four Sticks', 'spotify:track:4Sc5qEOSFI5rfS9IDyu0GO'),\n",
       " ('Led Zeppelin',\n",
       "  'Going To California',\n",
       "  'spotify:track:70gbuMqwNBE2Y5rkQJE9By'),\n",
       " ('Led Zeppelin',\n",
       "  'When The Levee Breaks',\n",
       "  'spotify:track:05f8Hg3RSfiPSCBQOtxl3i'),\n",
       " ('Cream', 'I Feel Free', 'spotify:track:3n1wTBzxeQmpLOC4Dp77b9'),\n",
       " ('Cream', 'Spoonful', 'spotify:track:5v2Hwf7w2j4Xpy8kdRgpK2'),\n",
       " ('Cream', 'Strange Brew', 'spotify:track:3ET8TZWF5sP4SPfJK1lKun'),\n",
       " ('Cream', 'Sunshine Of Your Love', 'spotify:track:2BcvvHttiZRvguFM4hR398'),\n",
       " ('Cream',\n",
       "  'Crossroads - Live At Winterland, San Francisco / 1968',\n",
       "  'spotify:track:36xZr5VTIBoFSblxHEE4TJ'),\n",
       " ('The Doors', 'Riders On The Storm', 'spotify:track:14XWXWv5FoCbFzLksawpEe'),\n",
       " ('Frank Zappa', \"Joe's Garage\", 'spotify:track:2e0QRjJWXRFmesc7usNwDt'),\n",
       " ('Frank Zappa', 'Catholic Girls', 'spotify:track:4Szp1LEQVAdRKQv5mPpR0e'),\n",
       " ('Frank Zappa', 'Crew Slut', 'spotify:track:3sVhRzDOCqCIC5pHxDX0Vy'),\n",
       " ('Frank Zappa',\n",
       "  'Fembot In A Wet T-Shirt',\n",
       "  'spotify:track:47yav3oXfO554LiIRVJTxR'),\n",
       " ('Frank Zappa', 'On The Bus', 'spotify:track:3Izj7A9bwOKddAn4Z8i3tj'),\n",
       " ('Frank Zappa',\n",
       "  'Why Does It Hurt When I Pee?',\n",
       "  'spotify:track:6Nt7y2KqYlJwz3Ux8Wuo15'),\n",
       " ('Frank Zappa',\n",
       "  'Lucille Has Messed My Mind Up',\n",
       "  'spotify:track:3LWyakvL5pNHQir2jSHB6w'),\n",
       " ('Frank Zappa',\n",
       "  'A Token Of My Extreme',\n",
       "  'spotify:track:5MECiRmh4xlaOvGVB83vp3'),\n",
       " ('Frank Zappa', 'Stick It Out', 'spotify:track:4kh0wdJaQ8xmZyPSq4xR2L'),\n",
       " ('Frank Zappa', 'Sy Borg', 'spotify:track:78BCHDk2zG1MxtKwjhA4Wh'),\n",
       " ('Frank Zappa', 'Dong Work For Yuda', 'spotify:track:28ywNJXivcj3x8xVu7aY6E'),\n",
       " ('Frank Zappa', 'Keep It Greasey', 'spotify:track:6qfKObWjL5oWWeuhLIMgaY'),\n",
       " ('Frank Zappa', 'Outside Now', 'spotify:track:2dcn6Kjf9rhX6ATGUaEXPm'),\n",
       " ('Frank Zappa',\n",
       "  'He Used To Cut The Grass',\n",
       "  'spotify:track:3IajW3LkT2g6hoCRfcEecW'),\n",
       " ('Frank Zappa', 'Packard Goose', 'spotify:track:268wgBNW3jnlPVSrKndz44'),\n",
       " ('Frank Zappa',\n",
       "  'Watermelon In Easter Hay',\n",
       "  'spotify:track:5uSXPDwXLpYF7aLmTnB3Mb'),\n",
       " ('Frank Zappa',\n",
       "  'A Little Green Rosetta',\n",
       "  'spotify:track:2OOpQHaQV3AGreB7QAQNNP'),\n",
       " ('Daft Punk',\n",
       "  'Give Life Back to Music',\n",
       "  'spotify:track:0dEIca2nhcxDUV8C5QkPYb'),\n",
       " ('Daft Punk', 'The Game of Love', 'spotify:track:3ctALmweZBapfBdFiIVpji'),\n",
       " ('Daft Punk', 'Giorgio by Moroder', 'spotify:track:0oks4FnzhNp5QPTZtoet7c'),\n",
       " ('Daft Punk', 'Within', 'spotify:track:7Bxv0WL7UC6WwQpk9TzdMJ'),\n",
       " ('Daft Punk', 'Instant Crush', 'spotify:track:2cGxRwrMyEAp8dEbuZaVv6'),\n",
       " ('Daft Punk',\n",
       "  'Lose Yourself to Dance',\n",
       "  'spotify:track:5CMjjywI0eZMixPeqNd75R'),\n",
       " ('Daft Punk', 'Touch', 'spotify:track:7oaEjLP2dTJLJsITbAxTOz'),\n",
       " ('Daft Punk', 'Beyond', 'spotify:track:0k1xMUwn9sb7bZiqdT9ygx'),\n",
       " ('Daft Punk', 'Motherboard', 'spotify:track:79koEJRtKOOGJ0VSAF3FMk'),\n",
       " ('Daft Punk', 'Fragments of Time', 'spotify:track:0IedgQjjJ8Ad4B3UDQ5Lyn'),\n",
       " ('Daft Punk', \"Doin' it Right\", 'spotify:track:36c4JohayB9qd64eidQMBi'),\n",
       " ('Daft Punk', 'Contact', 'spotify:track:2KHRENHQzTIQ001nlP9Gdc'),\n",
       " ('Jimi Hendrix', 'Little Wing', 'spotify:track:1Eolhana7nKHYpcYpdVcT5'),\n",
       " ('Jimi Hendrix',\n",
       "  'Castles Made of Sand',\n",
       "  'spotify:track:3qebSLgUwaEqbwCM5sj5Kh'),\n",
       " ('Jimi Hendrix', 'Purple Haze', 'spotify:track:0wJoRiX5K5BxlqZTolB2LD'),\n",
       " ('Jimi Hendrix', 'Hey Joe', 'spotify:track:0NWPxcsf5vdjdiFUI8NgkP'),\n",
       " ('Jimi Hendrix',\n",
       "  'The Wind Cries Mary',\n",
       "  'spotify:track:5H6Jp0syB5yEPk7SWYdlmk'),\n",
       " ('Jimi Hendrix', 'Foxey Lady', 'spotify:track:23MrkN7g6Q5U7GLIxNHN1B'),\n",
       " ('Jimi Hendrix',\n",
       "  'All Along the Watchtower',\n",
       "  'spotify:track:2aoo2jlRnM3A0NyLQqMN2f'),\n",
       " ('Stevie Ray Vaughan', 'Texas Flood', 'spotify:track:5MtN38MGEWJt60LwtBmFNP'),\n",
       " ('Santana', 'Soul Sacrifice', 'spotify:track:4e0GkgtMPZFt41Ua8PlHQL'),\n",
       " ('Santana',\n",
       "  'Black Magic Woman / Gypsy Queen',\n",
       "  'spotify:track:7cDxjUnMitNKQC5c8RQUko'),\n",
       " ('Santana', 'Oye Como Va', 'spotify:track:5u6y4u5EgDv0peILf60H5t'),\n",
       " ('The Rastafarians',\n",
       "  \"I've Got to Get Away\",\n",
       "  'spotify:track:4PF49Kg1yT9A5UNsUjpLMg'),\n",
       " ('Sweet Valley', 'Bros Beyond', 'spotify:track:0Oyrj0xSlgD1C3rGV77BzH'),\n",
       " ('Sweet Valley', 'Stone', 'spotify:track:0YBAxmkEhsjEqLEjPq05Re'),\n",
       " ('Sweet Valley', 'Chaos Speed', 'spotify:track:5BvLepZxBHXF4mg4sSq5Ge'),\n",
       " ('Sweet Valley', 'Eternal Champ', 'spotify:track:08eiL7XNWtbIlrFjWwHLKz'),\n",
       " ('Sweet Valley',\n",
       "  'Motorcycle Renegade',\n",
       "  'spotify:track:1fIfQuLGvk2PfpXZcZYoQ9'),\n",
       " ('Sweet Valley', 'Spirit Temple', 'spotify:track:7kkPlpRIchSnzwB3IUhutg'),\n",
       " ('Sweet Valley',\n",
       "  'The Great Bay Shrines',\n",
       "  'spotify:track:2gLTqZnIzAQGZOAxpvVPv7'),\n",
       " ('Sweet Valley', 'Into The Forest', 'spotify:track:3IGJO2rcv86ljzoZ5PC7vm'),\n",
       " ('Sweet Valley', 'Golden Gauntlet', 'spotify:track:1A0YmbkSWdE3hGW3rctdU7'),\n",
       " ('The Doors',\n",
       "  'Break On Through (To The Other Side)',\n",
       "  'spotify:track:6ToM0uwxtPKo9CMpbPGYvM'),\n",
       " ('The Doors', 'Light My Fire', 'spotify:track:5uvosCdMlFdTXhoazkTI5R'),\n",
       " ...]"
      ]
     },
     "execution_count": 9,
     "metadata": {},
     "output_type": "execute_result"
    }
   ],
   "source": [
    "track_uri_tuple = [(x,y,z) for x,y,z in zip(tdf_final['artist_name'], tdf_final['track_name'], tdf_final['track_uri'])]\n",
    "track_uri_tuple"
   ]
  },
  {
   "cell_type": "code",
   "execution_count": 10,
   "metadata": {
    "cell_id": "00010-78519304-fc40-44c8-9a27-cfff3f286158",
    "deepnote_cell_type": "code",
    "execution_millis": 5,
    "execution_start": 1606608880695,
    "output_cleared": false,
    "source_hash": "e1b9e089",
    "tags": []
   },
   "outputs": [],
   "source": [
    "def get_track_uri_tuples(df): \n",
    "    \"\"\"\n",
    "    input:\n",
    "    df- dataframe of playlist from 'extract' tracks\n",
    "\n",
    "    output- removes duplicates of tracks and then returns all track uris of that df\n",
    "    \n",
    "    \"\"\"\n",
    "    df_final = df.drop_duplicates(['track_uri'])\n",
    "    track_uri_tuple = [(x,y,z) for x,y,z in zip(df_final['artist_name'], df_final['track_name'], df_final['track_uri'])]\n",
    "    return track_uri_tuple"
   ]
  },
  {
   "cell_type": "code",
   "execution_count": 11,
   "metadata": {
    "cell_id": "00012-2630b5b3-bf17-4c43-9026-809de2e92ba0",
    "deepnote_cell_type": "code",
    "execution_millis": 0,
    "execution_start": 1606608880743,
    "output_cleared": false,
    "source_hash": "7625f84b",
    "tags": []
   },
   "outputs": [],
   "source": [
    "def get_track_uri(track_uri_tuple):\n",
    "    \"\"\"\n",
    "    input:\n",
    "    track_uri_tuple - list of track_uris_tuples (artist name, song, track_uris)\n",
    "\n",
    "    output- just track_uris in same order for spotipy\n",
    "    \n",
    "    \"\"\"\n",
    "\n",
    "    track_uris = [x[2] for x in track_uri_tuple]\n",
    "    return track_uris\n",
    "\n",
    "\n",
    "track_uris = get_track_uri(track_uri_tuple)"
   ]
  },
  {
   "cell_type": "markdown",
   "metadata": {
    "cell_id": "00004-bd80942b-2d33-4187-86b8-459f7d589f8f",
    "deepnote_cell_type": "markdown",
    "output_cleared": false,
    "tags": []
   },
   "source": [
    "## Ferdie: Extracting Spotify Features"
   ]
  },
  {
   "cell_type": "markdown",
   "metadata": {
    "cell_id": "00005-850da3d6-13f6-4be0-a13e-e7828ead7268",
    "deepnote_cell_type": "markdown",
    "output_cleared": false,
    "tags": []
   },
   "source": [
    "` first need to authenticate properly, then given a list of track uri and name, gather attributes for that feature`"
   ]
  },
  {
   "cell_type": "code",
   "execution_count": 12,
   "metadata": {
    "cell_id": "00007-78fc59b0-0f25-4452-ae74-1c1dfc85044e",
    "deepnote_cell_type": "code",
    "execution_millis": 0,
    "execution_start": 1606608880743,
    "output_cleared": false,
    "source_hash": "7586918c",
    "tags": []
   },
   "outputs": [],
   "source": [
    "client_credentials_manager = SpotifyClientCredentials(client_id='911b425bc8c3496297b0a66d3df0b236', client_secret='REMOVED FOR PRIVACY)\n",
    "sp = spotipy.Spotify(client_credentials_manager=client_credentials_manager)"
   ]
  },
  {
   "cell_type": "code",
   "execution_count": 13,
   "metadata": {
    "cell_id": "00014-165c530b-62f5-4bdd-bddf-b9744cf97b73",
    "deepnote_cell_type": "code",
    "execution_millis": 152,
    "execution_start": 1606608880744,
    "output_cleared": false,
    "source_hash": "ce49623c",
    "tags": []
   },
   "outputs": [
    {
     "data": {
      "text/plain": [
       "{'album': {'album_type': 'album',\n",
       "  'artists': [{'external_urls': {'spotify': 'https://open.spotify.com/artist/0EodhzA6yW1bIdD5B4tcmJ'},\n",
       "    'href': 'https://api.spotify.com/v1/artists/0EodhzA6yW1bIdD5B4tcmJ',\n",
       "    'id': '0EodhzA6yW1bIdD5B4tcmJ',\n",
       "    'name': 'Bobby Darin',\n",
       "    'type': 'artist',\n",
       "    'uri': 'spotify:artist:0EodhzA6yW1bIdD5B4tcmJ'}],\n",
       "  'available_markets': ['AD',\n",
       "   'AE',\n",
       "   'AL',\n",
       "   'AR',\n",
       "   'AT',\n",
       "   'AU',\n",
       "   'BA',\n",
       "   'BE',\n",
       "   'BG',\n",
       "   'BH',\n",
       "   'BO',\n",
       "   'BR',\n",
       "   'BY',\n",
       "   'CA',\n",
       "   'CH',\n",
       "   'CL',\n",
       "   'CO',\n",
       "   'CR',\n",
       "   'CY',\n",
       "   'CZ',\n",
       "   'DE',\n",
       "   'DK',\n",
       "   'DO',\n",
       "   'DZ',\n",
       "   'EC',\n",
       "   'EE',\n",
       "   'EG',\n",
       "   'ES',\n",
       "   'FI',\n",
       "   'FR',\n",
       "   'GB',\n",
       "   'GR',\n",
       "   'GT',\n",
       "   'HK',\n",
       "   'HN',\n",
       "   'HR',\n",
       "   'HU',\n",
       "   'ID',\n",
       "   'IE',\n",
       "   'IL',\n",
       "   'IN',\n",
       "   'IS',\n",
       "   'IT',\n",
       "   'JO',\n",
       "   'JP',\n",
       "   'KW',\n",
       "   'KZ',\n",
       "   'LB',\n",
       "   'LI',\n",
       "   'LT',\n",
       "   'LU',\n",
       "   'LV',\n",
       "   'MA',\n",
       "   'MC',\n",
       "   'MD',\n",
       "   'ME',\n",
       "   'MK',\n",
       "   'MT',\n",
       "   'MX',\n",
       "   'MY',\n",
       "   'NI',\n",
       "   'NL',\n",
       "   'NO',\n",
       "   'NZ',\n",
       "   'OM',\n",
       "   'PA',\n",
       "   'PE',\n",
       "   'PH',\n",
       "   'PL',\n",
       "   'PS',\n",
       "   'PT',\n",
       "   'PY',\n",
       "   'QA',\n",
       "   'RO',\n",
       "   'RS',\n",
       "   'RU',\n",
       "   'SA',\n",
       "   'SE',\n",
       "   'SG',\n",
       "   'SI',\n",
       "   'SK',\n",
       "   'SV',\n",
       "   'TH',\n",
       "   'TN',\n",
       "   'TR',\n",
       "   'TW',\n",
       "   'UA',\n",
       "   'US',\n",
       "   'UY',\n",
       "   'VN',\n",
       "   'XK',\n",
       "   'ZA'],\n",
       "  'external_urls': {'spotify': 'https://open.spotify.com/album/5MsJK0kqiYIJDmd3cjkGMn'},\n",
       "  'href': 'https://api.spotify.com/v1/albums/5MsJK0kqiYIJDmd3cjkGMn',\n",
       "  'id': '5MsJK0kqiYIJDmd3cjkGMn',\n",
       "  'images': [{'height': 640,\n",
       "    'url': 'https://i.scdn.co/image/ab67616d0000b273e774643594281699bde1e4ed',\n",
       "    'width': 640},\n",
       "   {'height': 300,\n",
       "    'url': 'https://i.scdn.co/image/ab67616d00001e02e774643594281699bde1e4ed',\n",
       "    'width': 300},\n",
       "   {'height': 64,\n",
       "    'url': 'https://i.scdn.co/image/ab67616d00004851e774643594281699bde1e4ed',\n",
       "    'width': 64}],\n",
       "  'name': \"That's All\",\n",
       "  'release_date': '1959',\n",
       "  'release_date_precision': 'year',\n",
       "  'total_tracks': 12,\n",
       "  'type': 'album',\n",
       "  'uri': 'spotify:album:5MsJK0kqiYIJDmd3cjkGMn'},\n",
       " 'artists': [{'external_urls': {'spotify': 'https://open.spotify.com/artist/0EodhzA6yW1bIdD5B4tcmJ'},\n",
       "   'href': 'https://api.spotify.com/v1/artists/0EodhzA6yW1bIdD5B4tcmJ',\n",
       "   'id': '0EodhzA6yW1bIdD5B4tcmJ',\n",
       "   'name': 'Bobby Darin',\n",
       "   'type': 'artist',\n",
       "   'uri': 'spotify:artist:0EodhzA6yW1bIdD5B4tcmJ'}],\n",
       " 'available_markets': ['AD',\n",
       "  'AE',\n",
       "  'AL',\n",
       "  'AR',\n",
       "  'AT',\n",
       "  'AU',\n",
       "  'BA',\n",
       "  'BE',\n",
       "  'BG',\n",
       "  'BH',\n",
       "  'BO',\n",
       "  'BR',\n",
       "  'BY',\n",
       "  'CA',\n",
       "  'CH',\n",
       "  'CL',\n",
       "  'CO',\n",
       "  'CR',\n",
       "  'CY',\n",
       "  'CZ',\n",
       "  'DE',\n",
       "  'DK',\n",
       "  'DO',\n",
       "  'DZ',\n",
       "  'EC',\n",
       "  'EE',\n",
       "  'EG',\n",
       "  'ES',\n",
       "  'FI',\n",
       "  'FR',\n",
       "  'GB',\n",
       "  'GR',\n",
       "  'GT',\n",
       "  'HK',\n",
       "  'HN',\n",
       "  'HR',\n",
       "  'HU',\n",
       "  'ID',\n",
       "  'IE',\n",
       "  'IL',\n",
       "  'IN',\n",
       "  'IS',\n",
       "  'IT',\n",
       "  'JO',\n",
       "  'JP',\n",
       "  'KW',\n",
       "  'KZ',\n",
       "  'LB',\n",
       "  'LI',\n",
       "  'LT',\n",
       "  'LU',\n",
       "  'LV',\n",
       "  'MA',\n",
       "  'MC',\n",
       "  'MD',\n",
       "  'ME',\n",
       "  'MK',\n",
       "  'MT',\n",
       "  'MX',\n",
       "  'MY',\n",
       "  'NI',\n",
       "  'NL',\n",
       "  'NO',\n",
       "  'NZ',\n",
       "  'OM',\n",
       "  'PA',\n",
       "  'PE',\n",
       "  'PH',\n",
       "  'PL',\n",
       "  'PS',\n",
       "  'PT',\n",
       "  'PY',\n",
       "  'QA',\n",
       "  'RO',\n",
       "  'RS',\n",
       "  'RU',\n",
       "  'SA',\n",
       "  'SE',\n",
       "  'SG',\n",
       "  'SI',\n",
       "  'SK',\n",
       "  'SV',\n",
       "  'TH',\n",
       "  'TN',\n",
       "  'TR',\n",
       "  'TW',\n",
       "  'UA',\n",
       "  'US',\n",
       "  'UY',\n",
       "  'VN',\n",
       "  'XK',\n",
       "  'ZA'],\n",
       " 'disc_number': 1,\n",
       " 'duration_ms': 184333,\n",
       " 'explicit': False,\n",
       " 'external_ids': {'isrc': 'USEW10000025'},\n",
       " 'external_urls': {'spotify': 'https://open.spotify.com/track/3E5ndyOfO6vFDEIE42HA8o'},\n",
       " 'href': 'https://api.spotify.com/v1/tracks/3E5ndyOfO6vFDEIE42HA8o',\n",
       " 'id': '3E5ndyOfO6vFDEIE42HA8o',\n",
       " 'is_local': False,\n",
       " 'name': 'Mack the Knife',\n",
       " 'popularity': 62,\n",
       " 'preview_url': 'https://p.scdn.co/mp3-preview/e8b0f9dfca9fd213711a72271025bcb8014e4a13?cid=911b425bc8c3496297b0a66d3df0b236',\n",
       " 'track_number': 1,\n",
       " 'type': 'track',\n",
       " 'uri': 'spotify:track:3E5ndyOfO6vFDEIE42HA8o'}"
      ]
     },
     "execution_count": 13,
     "metadata": {},
     "output_type": "execute_result"
    }
   ],
   "source": [
    "##EXPLORING WHAT YOU CAN GET THROUGH TRACK URI:\n",
    "\"\"\"\n",
    "1. og spotify audio features\n",
    "2. 'available_markets'\n",
    "3. 'release_date'\n",
    "4. 'popularity'\n",
    "5. 'is_explicit'\n",
    "\"\"\"\n",
    "sp.tracks(tracks=track_uris[0:50])['tracks'][0]"
   ]
  },
  {
   "cell_type": "code",
   "execution_count": 15,
   "metadata": {
    "cell_id": "00019-e6f1d050-f3b1-428a-9de4-e9177e1e4045",
    "deepnote_cell_type": "code",
    "execution_millis": 80664,
    "execution_start": 1606608945191,
    "output_cleared": false,
    "source_hash": "b02fc0ce",
    "tags": []
   },
   "outputs": [
    {
     "data": {
      "application/vnd.deepnote.dataframe.v2+json": {
       "column_count": 20,
       "columns": [
        {
         "dtype": "object",
         "name": "Artist Name",
         "stats": {
          "categories": [
           {
            "count": 139,
            "name": "Elvis Presley"
           },
           {
            "count": 132,
            "name": "John Mayer"
           },
           {
            "count": 35804,
            "name": "9787 others"
           }
          ],
          "nan_count": 0,
          "unique_count": 9789
         }
        },
        {
         "dtype": "object",
         "name": "Song Name",
         "stats": {
          "categories": [
           {
            "count": 20,
            "name": "Stay"
           },
           {
            "count": 19,
            "name": "Home"
           },
           {
            "count": 36036,
            "name": "31313 others"
           }
          ],
          "nan_count": 0,
          "unique_count": 31315
         }
        },
        {
         "dtype": "float64",
         "name": "danceability"
        },
        {
         "dtype": "float64",
         "name": "energy"
        },
        {
         "dtype": "int64",
         "name": "key"
        },
        {
         "dtype": "float64",
         "name": "loudness"
        },
        {
         "dtype": "int64",
         "name": "mode"
        },
        {
         "dtype": "float64",
         "name": "speechiness"
        },
        {
         "dtype": "float64",
         "name": "acousticness"
        },
        {
         "dtype": "float64",
         "name": "instrumentalness"
        },
        {
         "dtype": "float64",
         "name": "liveness"
        },
        {
         "dtype": "float64",
         "name": "valence"
        },
        {
         "dtype": "float64",
         "name": "tempo"
        },
        {
         "dtype": "object",
         "name": "type"
        },
        {
         "dtype": "object",
         "name": "id"
        },
        {
         "dtype": "object",
         "name": "uri"
        },
        {
         "dtype": "object",
         "name": "track_href"
        },
        {
         "dtype": "object",
         "name": "analysis_url"
        },
        {
         "dtype": "int64",
         "name": "duration_ms"
        },
        {
         "dtype": "int64",
         "name": "time_signature"
        },
        {
         "dtype": "int64",
         "name": "_deepnote_index_column"
        }
       ],
       "row_count": 36075,
       "rows_bottom": [
        {
         "Artist Name": "Jocelyn Alice",
         "Song Name": "Bound To You",
         "_deepnote_index_column": 36050,
         "acousticness": 0.144,
         "analysis_url": "https://api.spotify.com/v1/audio-analysis/6MIwdFXHnImyz1TmsuUrEB",
         "danceability": 0.466,
         "duration_ms": 204343,
         "energy": 0.671,
         "id": "6MIwdFXHnImyz1TmsuUrEB",
         "instrumentalness": 0,
         "key": 5,
         "liveness": 0.29,
         "loudness": -4.757,
         "mode": 1,
         "speechiness": 0.138,
         "tempo": 137.512,
         "time_signature": 4,
         "track_href": "https://api.spotify.com/v1/tracks/6MIwdFXHnImyz1TmsuUrEB",
         "type": "audio_features",
         "uri": "spotify:track:6MIwdFXHnImyz1TmsuUrEB",
         "valence": 0.319
        },
        {
         "Artist Name": "Katy Perry",
         "Song Name": "Swish Swish",
         "_deepnote_index_column": 36051,
         "acousticness": 0.0196,
         "analysis_url": "https://api.spotify.com/v1/audio-analysis/2kVHAQKVtczchKctctzbtK",
         "danceability": 0.836,
         "duration_ms": 242510,
         "energy": 0.716,
         "id": "2kVHAQKVtczchKctctzbtK",
         "instrumentalness": 1.83e-05,
         "key": 5,
         "liveness": 0.101,
         "loudness": -5.211,
         "mode": 0,
         "speechiness": 0.0549,
         "tempo": 119.938,
         "time_signature": 4,
         "track_href": "https://api.spotify.com/v1/tracks/2kVHAQKVtczchKctctzbtK",
         "type": "audio_features",
         "uri": "spotify:track:2kVHAQKVtczchKctctzbtK",
         "valence": 0.534
        },
        {
         "Artist Name": "DNCE",
         "Song Name": "Truthfully",
         "_deepnote_index_column": 36052,
         "acousticness": 0.271,
         "analysis_url": "https://api.spotify.com/v1/audio-analysis/6RWaeePOtZROiS2kyQhMs3",
         "danceability": 0.72,
         "duration_ms": 182653,
         "energy": 0.649,
         "id": "6RWaeePOtZROiS2kyQhMs3",
         "instrumentalness": 0,
         "key": 8,
         "liveness": 0.335,
         "loudness": -6.886,
         "mode": 1,
         "speechiness": 0.0354,
         "tempo": 102.042,
         "time_signature": 4,
         "track_href": "https://api.spotify.com/v1/tracks/6RWaeePOtZROiS2kyQhMs3",
         "type": "audio_features",
         "uri": "spotify:track:6RWaeePOtZROiS2kyQhMs3",
         "valence": 0.569
        },
        {
         "Artist Name": "Lil Wayne",
         "Song Name": "Drop It Low feat Ester Dean",
         "_deepnote_index_column": 36053,
         "acousticness": 0.0248,
         "analysis_url": "https://api.spotify.com/v1/audio-analysis/56hxY4pQKHncSgBSEk7yF6",
         "danceability": 0.619,
         "duration_ms": 79000,
         "energy": 0.674,
         "id": "56hxY4pQKHncSgBSEk7yF6",
         "instrumentalness": 0,
         "key": 9,
         "liveness": 0.0972,
         "loudness": -6.231,
         "mode": 1,
         "speechiness": 0.395,
         "tempo": 175.65,
         "time_signature": 4,
         "track_href": "https://api.spotify.com/v1/tracks/56hxY4pQKHncSgBSEk7yF6",
         "type": "audio_features",
         "uri": "spotify:track:56hxY4pQKHncSgBSEk7yF6",
         "valence": 0.613
        },
        {
         "Artist Name": "Troy Ave",
         "Song Name": "Chuck Norris (Hoes & Gangstas)",
         "_deepnote_index_column": 36054,
         "acousticness": 0.0769,
         "analysis_url": "https://api.spotify.com/v1/audio-analysis/243clLmjTDhpqTBJmoK3yM",
         "danceability": 0.704,
         "duration_ms": 221727,
         "energy": 0.645,
         "id": "243clLmjTDhpqTBJmoK3yM",
         "instrumentalness": 0,
         "key": 2,
         "liveness": 0.107,
         "loudness": -7.647,
         "mode": 1,
         "speechiness": 0.374,
         "tempo": 106.082,
         "time_signature": 5,
         "track_href": "https://api.spotify.com/v1/tracks/243clLmjTDhpqTBJmoK3yM",
         "type": "audio_features",
         "uri": "spotify:track:243clLmjTDhpqTBJmoK3yM",
         "valence": 0.36
        },
        {
         "Artist Name": "Kid Ink",
         "Song Name": "Tattoo of My Name",
         "_deepnote_index_column": 36055,
         "acousticness": 0.0251,
         "analysis_url": "https://api.spotify.com/v1/audio-analysis/09DBJ6FZ6i1lWLR2Rb4QEB",
         "danceability": 0.801,
         "duration_ms": 208840,
         "energy": 0.749,
         "id": "09DBJ6FZ6i1lWLR2Rb4QEB",
         "instrumentalness": 0,
         "key": 2,
         "liveness": 0.108,
         "loudness": -4.66,
         "mode": 1,
         "speechiness": 0.0438,
         "tempo": 131.999,
         "time_signature": 4,
         "track_href": "https://api.spotify.com/v1/tracks/09DBJ6FZ6i1lWLR2Rb4QEB",
         "type": "audio_features",
         "uri": "spotify:track:09DBJ6FZ6i1lWLR2Rb4QEB",
         "valence": 0.846
        },
        {
         "Artist Name": "Tyga",
         "Song Name": "Real Deal",
         "_deepnote_index_column": 36056,
         "acousticness": 0.123,
         "analysis_url": "https://api.spotify.com/v1/audio-analysis/5Rv4qhjI9MMJmLpM0iHIKV",
         "danceability": 0.777,
         "duration_ms": 217287,
         "energy": 0.48,
         "id": "5Rv4qhjI9MMJmLpM0iHIKV",
         "instrumentalness": 0,
         "key": 1,
         "liveness": 0.23,
         "loudness": -7.296,
         "mode": 1,
         "speechiness": 0.157,
         "tempo": 80.027,
         "time_signature": 4,
         "track_href": "https://api.spotify.com/v1/tracks/5Rv4qhjI9MMJmLpM0iHIKV",
         "type": "audio_features",
         "uri": "spotify:track:5Rv4qhjI9MMJmLpM0iHIKV",
         "valence": 0.55
        },
        {
         "Artist Name": "Tyga",
         "Song Name": "40 Mill",
         "_deepnote_index_column": 36057,
         "acousticness": 0.0299,
         "analysis_url": "https://api.spotify.com/v1/audio-analysis/5uBNMdSk5d4xgwLbfGmq9S",
         "danceability": 0.733,
         "duration_ms": 185946,
         "energy": 0.883,
         "id": "5uBNMdSk5d4xgwLbfGmq9S",
         "instrumentalness": 1.15e-06,
         "key": 3,
         "liveness": 0.343,
         "loudness": -4.46,
         "mode": 1,
         "speechiness": 0.294,
         "tempo": 111.023,
         "time_signature": 4,
         "track_href": "https://api.spotify.com/v1/tracks/5uBNMdSk5d4xgwLbfGmq9S",
         "type": "audio_features",
         "uri": "spotify:track:5uBNMdSk5d4xgwLbfGmq9S",
         "valence": 0.519
        },
        {
         "Artist Name": "Tyga",
         "Song Name": "Bouncin On My D*ck",
         "_deepnote_index_column": 36058,
         "acousticness": 0.0341,
         "analysis_url": "https://api.spotify.com/v1/audio-analysis/3xJj1mU7B83yop2dA03Smk",
         "danceability": 0.926,
         "duration_ms": 195056,
         "energy": 0.474,
         "id": "3xJj1mU7B83yop2dA03Smk",
         "instrumentalness": 0,
         "key": 0,
         "liveness": 0.0643,
         "loudness": -9.604,
         "mode": 1,
         "speechiness": 0.429,
         "tempo": 95.962,
         "time_signature": 4,
         "track_href": "https://api.spotify.com/v1/tracks/3xJj1mU7B83yop2dA03Smk",
         "type": "audio_features",
         "uri": "spotify:track:3xJj1mU7B83yop2dA03Smk",
         "valence": 0.633
        },
        {
         "Artist Name": "Lil Uzi Vert",
         "Song Name": "Count Dem Rolls (feat. Uzi Gang)",
         "_deepnote_index_column": 36059,
         "acousticness": 0.196,
         "analysis_url": "https://api.spotify.com/v1/audio-analysis/1iJa3Lpd1uC0zp5ZBpAr4W",
         "danceability": 0.52,
         "duration_ms": 230818,
         "energy": 0.776,
         "id": "1iJa3Lpd1uC0zp5ZBpAr4W",
         "instrumentalness": 0,
         "key": 10,
         "liveness": 0.295,
         "loudness": -6.452,
         "mode": 0,
         "speechiness": 0.39,
         "tempo": 99.198,
         "time_signature": 3,
         "track_href": "https://api.spotify.com/v1/tracks/1iJa3Lpd1uC0zp5ZBpAr4W",
         "type": "audio_features",
         "uri": "spotify:track:1iJa3Lpd1uC0zp5ZBpAr4W",
         "valence": 0.445
        },
        {
         "Artist Name": "WillThaRapper",
         "Song Name": "Pull Up Hop Out",
         "_deepnote_index_column": 36060,
         "acousticness": 0.0958,
         "analysis_url": "https://api.spotify.com/v1/audio-analysis/3kFLioKmQO7tnGxb8OZ0Sy",
         "danceability": 0.898,
         "duration_ms": 237933,
         "energy": 0.651,
         "id": "3kFLioKmQO7tnGxb8OZ0Sy",
         "instrumentalness": 0,
         "key": 1,
         "liveness": 0.197,
         "loudness": -5.238,
         "mode": 1,
         "speechiness": 0.138,
         "tempo": 125.032,
         "time_signature": 4,
         "track_href": "https://api.spotify.com/v1/tracks/3kFLioKmQO7tnGxb8OZ0Sy",
         "type": "audio_features",
         "uri": "spotify:track:3kFLioKmQO7tnGxb8OZ0Sy",
         "valence": 0.355
        },
        {
         "Artist Name": "Mac Miller",
         "Song Name": "PA Nights",
         "_deepnote_index_column": 36061,
         "acousticness": 0.419,
         "analysis_url": "https://api.spotify.com/v1/audio-analysis/1abiRqY7SU7rAYVLRwXTG3",
         "danceability": 0.628,
         "duration_ms": 183720,
         "energy": 0.623,
         "id": "1abiRqY7SU7rAYVLRwXTG3",
         "instrumentalness": 0,
         "key": 0,
         "liveness": 0.105,
         "loudness": -6.816,
         "mode": 0,
         "speechiness": 0.207,
         "tempo": 89.902,
         "time_signature": 4,
         "track_href": "https://api.spotify.com/v1/tracks/1abiRqY7SU7rAYVLRwXTG3",
         "type": "audio_features",
         "uri": "spotify:track:1abiRqY7SU7rAYVLRwXTG3",
         "valence": 0.286
        },
        {
         "Artist Name": "Dice Soho",
         "Song Name": "Ripped Jeans",
         "_deepnote_index_column": 36062,
         "acousticness": 0.0424,
         "analysis_url": "https://api.spotify.com/v1/audio-analysis/1Mu2s1xOp8kDim3pm9xwBf",
         "danceability": 0.761,
         "duration_ms": 207151,
         "energy": 0.777,
         "id": "1Mu2s1xOp8kDim3pm9xwBf",
         "instrumentalness": 1.55e-06,
         "key": 1,
         "liveness": 0.0745,
         "loudness": -6.65,
         "mode": 0,
         "speechiness": 0.376,
         "tempo": 143.95,
         "time_signature": 4,
         "track_href": "https://api.spotify.com/v1/tracks/1Mu2s1xOp8kDim3pm9xwBf",
         "type": "audio_features",
         "uri": "spotify:track:1Mu2s1xOp8kDim3pm9xwBf",
         "valence": 0.506
        },
        {
         "Artist Name": "Jackson Breit",
         "Song Name": "Are You Down",
         "_deepnote_index_column": 36063,
         "acousticness": 0.0209,
         "analysis_url": "https://api.spotify.com/v1/audio-analysis/084cHnDkrrvq1EYepGsf0O",
         "danceability": 0.693,
         "duration_ms": 188000,
         "energy": 0.739,
         "id": "084cHnDkrrvq1EYepGsf0O",
         "instrumentalness": 0,
         "key": 3,
         "liveness": 0.16,
         "loudness": -6.969,
         "mode": 1,
         "speechiness": 0.0472,
         "tempo": 119.946,
         "time_signature": 4,
         "track_href": "https://api.spotify.com/v1/tracks/084cHnDkrrvq1EYepGsf0O",
         "type": "audio_features",
         "uri": "spotify:track:084cHnDkrrvq1EYepGsf0O",
         "valence": 0.44
        },
        {
         "Artist Name": "Post Malone",
         "Song Name": "Yours Truly, Austin Post",
         "_deepnote_index_column": 36064,
         "acousticness": 0.483,
         "analysis_url": "https://api.spotify.com/v1/audio-analysis/0LpiKjWMfZTkPPHonlM8nB",
         "danceability": 0.649,
         "duration_ms": 219147,
         "energy": 0.618,
         "id": "0LpiKjWMfZTkPPHonlM8nB",
         "instrumentalness": 2.53e-06,
         "key": 6,
         "liveness": 0.166,
         "loudness": -5.694,
         "mode": 1,
         "speechiness": 0.0672,
         "tempo": 125.977,
         "time_signature": 4,
         "track_href": "https://api.spotify.com/v1/tracks/0LpiKjWMfZTkPPHonlM8nB",
         "type": "audio_features",
         "uri": "spotify:track:0LpiKjWMfZTkPPHonlM8nB",
         "valence": 0.421
        },
        {
         "Artist Name": "Tyga",
         "Song Name": "Happy Birthday",
         "_deepnote_index_column": 36065,
         "acousticness": 0.148,
         "analysis_url": "https://api.spotify.com/v1/audio-analysis/2rD6jR5Bq4iqGQDexKlge0",
         "danceability": 0.772,
         "duration_ms": 204400,
         "energy": 0.74,
         "id": "2rD6jR5Bq4iqGQDexKlge0",
         "instrumentalness": 1.02e-06,
         "key": 1,
         "liveness": 0.173,
         "loudness": -5.688,
         "mode": 1,
         "speechiness": 0.0791,
         "tempo": 90.04,
         "time_signature": 4,
         "track_href": "https://api.spotify.com/v1/tracks/2rD6jR5Bq4iqGQDexKlge0",
         "type": "audio_features",
         "uri": "spotify:track:2rD6jR5Bq4iqGQDexKlge0",
         "valence": 0.65
        },
        {
         "Artist Name": "MistaRogers",
         "Song Name": "Like You (Remix)",
         "_deepnote_index_column": 36066,
         "acousticness": 0.0375,
         "analysis_url": "https://api.spotify.com/v1/audio-analysis/1JwXRMw0fSXjZyB7jhuJck",
         "danceability": 0.815,
         "duration_ms": 198432,
         "energy": 0.6,
         "id": "1JwXRMw0fSXjZyB7jhuJck",
         "instrumentalness": 0,
         "key": 8,
         "liveness": 0.158,
         "loudness": -4.464,
         "mode": 1,
         "speechiness": 0.214,
         "tempo": 95.985,
         "time_signature": 4,
         "track_href": "https://api.spotify.com/v1/tracks/1JwXRMw0fSXjZyB7jhuJck",
         "type": "audio_features",
         "uri": "spotify:track:1JwXRMw0fSXjZyB7jhuJck",
         "valence": 0.307
        },
        {
         "Artist Name": "Pink Guy",
         "Song Name": "Stfu",
         "_deepnote_index_column": 36067,
         "acousticness": 0.552,
         "analysis_url": "https://api.spotify.com/v1/audio-analysis/5IJbTPhcj0IjdzUaYqwe2I",
         "danceability": 0.827,
         "duration_ms": 224493,
         "energy": 0.524,
         "id": "5IJbTPhcj0IjdzUaYqwe2I",
         "instrumentalness": 0.000112,
         "key": 10,
         "liveness": 0.198,
         "loudness": -9.819,
         "mode": 1,
         "speechiness": 0.0536,
         "tempo": 136.785,
         "time_signature": 4,
         "track_href": "https://api.spotify.com/v1/tracks/5IJbTPhcj0IjdzUaYqwe2I",
         "type": "audio_features",
         "uri": "spotify:track:5IJbTPhcj0IjdzUaYqwe2I",
         "valence": 0.356
        },
        {
         "Artist Name": "Wale",
         "Song Name": "Fashion Week (feat. G-Eazy)",
         "_deepnote_index_column": 36068,
         "acousticness": 0.0423,
         "analysis_url": "https://api.spotify.com/v1/audio-analysis/7Asg82VZIPN0sNnNA9IwnW",
         "danceability": 0.881,
         "duration_ms": 237733,
         "energy": 0.889,
         "id": "7Asg82VZIPN0sNnNA9IwnW",
         "instrumentalness": 1.32e-06,
         "key": 11,
         "liveness": 0.108,
         "loudness": -5.401,
         "mode": 1,
         "speechiness": 0.0944,
         "tempo": 106.054,
         "time_signature": 4,
         "track_href": "https://api.spotify.com/v1/tracks/7Asg82VZIPN0sNnNA9IwnW",
         "type": "audio_features",
         "uri": "spotify:track:7Asg82VZIPN0sNnNA9IwnW",
         "valence": 0.492
        },
        {
         "Artist Name": "Childish Gambino",
         "Song Name": "California",
         "_deepnote_index_column": 36069,
         "acousticness": 0.306,
         "analysis_url": "https://api.spotify.com/v1/audio-analysis/5sHde7fFQ5TthEulnBllhi",
         "danceability": 0.878,
         "duration_ms": 165267,
         "energy": 0.436,
         "id": "5sHde7fFQ5TthEulnBllhi",
         "instrumentalness": 0,
         "key": 3,
         "liveness": 0.112,
         "loudness": -11.184,
         "mode": 1,
         "speechiness": 0.558,
         "tempo": 148.94,
         "time_signature": 4,
         "track_href": "https://api.spotify.com/v1/tracks/5sHde7fFQ5TthEulnBllhi",
         "type": "audio_features",
         "uri": "spotify:track:5sHde7fFQ5TthEulnBllhi",
         "valence": 0.861
        },
        {
         "Artist Name": "6LACK",
         "Song Name": "Rules",
         "_deepnote_index_column": 36070,
         "acousticness": 0.178,
         "analysis_url": "https://api.spotify.com/v1/audio-analysis/6HmWy7ttkeZGG2KEtt8AqX",
         "danceability": 0.682,
         "duration_ms": 211867,
         "energy": 0.758,
         "id": "6HmWy7ttkeZGG2KEtt8AqX",
         "instrumentalness": 0.00158,
         "key": 8,
         "liveness": 0.0964,
         "loudness": -6.13,
         "mode": 0,
         "speechiness": 0.155,
         "tempo": 147.045,
         "time_signature": 4,
         "track_href": "https://api.spotify.com/v1/tracks/6HmWy7ttkeZGG2KEtt8AqX",
         "type": "audio_features",
         "uri": "spotify:track:6HmWy7ttkeZGG2KEtt8AqX",
         "valence": 0.638
        },
        {
         "Artist Name": "Lil Uzi Vert",
         "Song Name": "How To Talk",
         "_deepnote_index_column": 36071,
         "acousticness": 0.741,
         "analysis_url": "https://api.spotify.com/v1/audio-analysis/0ro5QCkSCtbfhMHnvMase3",
         "danceability": 0.728,
         "duration_ms": 201544,
         "energy": 0.73,
         "id": "0ro5QCkSCtbfhMHnvMase3",
         "instrumentalness": 0,
         "key": 5,
         "liveness": 0.705,
         "loudness": -5.402,
         "mode": 1,
         "speechiness": 0.213,
         "tempo": 136.052,
         "time_signature": 4,
         "track_href": "https://api.spotify.com/v1/tracks/0ro5QCkSCtbfhMHnvMase3",
         "type": "audio_features",
         "uri": "spotify:track:0ro5QCkSCtbfhMHnvMase3",
         "valence": 0.736
        },
        {
         "Artist Name": "blackbear",
         "Song Name": "90210 (feat. G-Eazy)",
         "_deepnote_index_column": 36072,
         "acousticness": 0.0306,
         "analysis_url": "https://api.spotify.com/v1/audio-analysis/4hdog9vyyqG9pcppG2Izek",
         "danceability": 0.707,
         "duration_ms": 223296,
         "energy": 0.707,
         "id": "4hdog9vyyqG9pcppG2Izek",
         "instrumentalness": 0,
         "key": 11,
         "liveness": 0.127,
         "loudness": -6.161,
         "mode": 0,
         "speechiness": 0.0375,
         "tempo": 104.039,
         "time_signature": 4,
         "track_href": "https://api.spotify.com/v1/tracks/4hdog9vyyqG9pcppG2Izek",
         "type": "audio_features",
         "uri": "spotify:track:4hdog9vyyqG9pcppG2Izek",
         "valence": 0.231
        },
        {
         "Artist Name": "G-Eazy",
         "Song Name": "Eyes Closed",
         "_deepnote_index_column": 36073,
         "acousticness": 0.0468,
         "analysis_url": "https://api.spotify.com/v1/audio-analysis/0rZ3xYyjHM9B1IBD9ixZ08",
         "danceability": 0.715,
         "duration_ms": 204054,
         "energy": 0.763,
         "id": "0rZ3xYyjHM9B1IBD9ixZ08",
         "instrumentalness": 0,
         "key": 11,
         "liveness": 0.103,
         "loudness": -6.329,
         "mode": 0,
         "speechiness": 0.24,
         "tempo": 133.987,
         "time_signature": 4,
         "track_href": "https://api.spotify.com/v1/tracks/0rZ3xYyjHM9B1IBD9ixZ08",
         "type": "audio_features",
         "uri": "spotify:track:0rZ3xYyjHM9B1IBD9ixZ08",
         "valence": 0.395
        },
        {
         "Artist Name": "MOD SUN",
         "Song Name": "Goddess",
         "_deepnote_index_column": 36074,
         "acousticness": 0.00399,
         "analysis_url": "https://api.spotify.com/v1/audio-analysis/7CNZ3khSSPtNZP08xgeacl",
         "danceability": 0.574,
         "duration_ms": 194645,
         "energy": 0.916,
         "id": "7CNZ3khSSPtNZP08xgeacl",
         "instrumentalness": 0.00161,
         "key": 4,
         "liveness": 0.485,
         "loudness": -7.61,
         "mode": 1,
         "speechiness": 0.0955,
         "tempo": 164.001,
         "time_signature": 4,
         "track_href": "https://api.spotify.com/v1/tracks/7CNZ3khSSPtNZP08xgeacl",
         "type": "audio_features",
         "uri": "spotify:track:7CNZ3khSSPtNZP08xgeacl",
         "valence": 0.69
        }
       ],
       "rows_top": [
        {
         "Artist Name": "Bobby Darin",
         "Song Name": "Mack The Knife",
         "_deepnote_index_column": 0,
         "acousticness": 0.76,
         "analysis_url": "https://api.spotify.com/v1/audio-analysis/3E5ndyOfO6vFDEIE42HA8o",
         "danceability": 0.549,
         "duration_ms": 184333,
         "energy": 0.529,
         "id": "3E5ndyOfO6vFDEIE42HA8o",
         "instrumentalness": 0,
         "key": 3,
         "liveness": 0.206,
         "loudness": -12.291,
         "mode": 0,
         "speechiness": 0.108,
         "tempo": 82.755,
         "time_signature": 4,
         "track_href": "https://api.spotify.com/v1/tracks/3E5ndyOfO6vFDEIE42HA8o",
         "type": "audio_features",
         "uri": "spotify:track:3E5ndyOfO6vFDEIE42HA8o",
         "valence": 0.464
        },
        {
         "Artist Name": "Frank Sinatra",
         "Song Name": "Fly Me To The Moon",
         "_deepnote_index_column": 1,
         "acousticness": 0.474,
         "analysis_url": "https://api.spotify.com/v1/audio-analysis/2y8Eez5cFFf2JzD546LThM",
         "danceability": 0.657,
         "duration_ms": 147000,
         "energy": 0.26,
         "id": "2y8Eez5cFFf2JzD546LThM",
         "instrumentalness": 0,
         "key": 7,
         "liveness": 0.0656,
         "loudness": -14.251,
         "mode": 1,
         "speechiness": 0.0521,
         "tempo": 119.358,
         "time_signature": 4,
         "track_href": "https://api.spotify.com/v1/tracks/2y8Eez5cFFf2JzD546LThM",
         "type": "audio_features",
         "uri": "spotify:track:2y8Eez5cFFf2JzD546LThM",
         "valence": 0.378
        },
        {
         "Artist Name": "Etta James",
         "Song Name": "At Last - Single Version",
         "_deepnote_index_column": 2,
         "acousticness": 0.721,
         "analysis_url": "https://api.spotify.com/v1/audio-analysis/0CmIALzGn4vHIHJG4n3Q4z",
         "danceability": 0.168,
         "duration_ms": 182400,
         "energy": 0.326,
         "id": "0CmIALzGn4vHIHJG4n3Q4z",
         "instrumentalness": 0.0006,
         "key": 5,
         "liveness": 0.316,
         "loudness": -9.981,
         "mode": 1,
         "speechiness": 0.0324,
         "tempo": 174.794,
         "time_signature": 3,
         "track_href": "https://api.spotify.com/v1/tracks/0CmIALzGn4vHIHJG4n3Q4z",
         "type": "audio_features",
         "uri": "spotify:track:0CmIALzGn4vHIHJG4n3Q4z",
         "valence": 0.322
        },
        {
         "Artist Name": "Ella Fitzgerald",
         "Song Name": "Dream A Little Dream Of Me",
         "_deepnote_index_column": 3,
         "acousticness": 0.939,
         "analysis_url": "https://api.spotify.com/v1/audio-analysis/3Bbbz0IGORWZSLf9UqsAL4",
         "danceability": 0.631,
         "duration_ms": 182267,
         "energy": 0.127,
         "id": "3Bbbz0IGORWZSLf9UqsAL4",
         "instrumentalness": 0,
         "key": 0,
         "liveness": 0.0732,
         "loudness": -15.333,
         "mode": 1,
         "speechiness": 0.0949,
         "tempo": 76.559,
         "time_signature": 4,
         "track_href": "https://api.spotify.com/v1/tracks/3Bbbz0IGORWZSLf9UqsAL4",
         "type": "audio_features",
         "uri": "spotify:track:3Bbbz0IGORWZSLf9UqsAL4",
         "valence": 0.322
        },
        {
         "Artist Name": "The Chordettes",
         "Song Name": "Mister sandman",
         "_deepnote_index_column": 4,
         "acousticness": 0.841,
         "analysis_url": "https://api.spotify.com/v1/audio-analysis/433nBELvOOtHlZFUO8mZml",
         "danceability": 0.616,
         "duration_ms": 147267,
         "energy": 0.298,
         "id": "433nBELvOOtHlZFUO8mZml",
         "instrumentalness": 0,
         "key": 9,
         "liveness": 0.0605,
         "loudness": -13.191,
         "mode": 1,
         "speechiness": 0.052,
         "tempo": 108.779,
         "time_signature": 4,
         "track_href": "https://api.spotify.com/v1/tracks/433nBELvOOtHlZFUO8mZml",
         "type": "audio_features",
         "uri": "spotify:track:433nBELvOOtHlZFUO8mZml",
         "valence": 0.569
        },
        {
         "Artist Name": "Sam Cooke",
         "Song Name": "(What A) Wonderful World - Remastered",
         "_deepnote_index_column": 5,
         "acousticness": 0.734,
         "analysis_url": "https://api.spotify.com/v1/audio-analysis/27K3ZDS5B4fwjhwyihrdzC",
         "danceability": 0.524,
         "duration_ms": 125507,
         "energy": 0.543,
         "id": "27K3ZDS5B4fwjhwyihrdzC",
         "instrumentalness": 0,
         "key": 11,
         "liveness": 0.275,
         "loudness": -9.889,
         "mode": 1,
         "speechiness": 0.0397,
         "tempo": 128.091,
         "time_signature": 4,
         "track_href": "https://api.spotify.com/v1/tracks/27K3ZDS5B4fwjhwyihrdzC",
         "type": "audio_features",
         "uri": "spotify:track:27K3ZDS5B4fwjhwyihrdzC",
         "valence": 0.877
        },
        {
         "Artist Name": "The Temptations",
         "Song Name": "My Girl",
         "_deepnote_index_column": 6,
         "acousticness": 0.635,
         "analysis_url": "https://api.spotify.com/v1/audio-analysis/6RrXd9Hph4hYR4bf3dbM6H",
         "danceability": 0.572,
         "duration_ms": 165000,
         "energy": 0.418,
         "id": "6RrXd9Hph4hYR4bf3dbM6H",
         "instrumentalness": 0,
         "key": 0,
         "liveness": 0.0961,
         "loudness": -10.738,
         "mode": 1,
         "speechiness": 0.0349,
         "tempo": 104.566,
         "time_signature": 4,
         "track_href": "https://api.spotify.com/v1/tracks/6RrXd9Hph4hYR4bf3dbM6H",
         "type": "audio_features",
         "uri": "spotify:track:6RrXd9Hph4hYR4bf3dbM6H",
         "valence": 0.694
        },
        {
         "Artist Name": "Louis Armstrong",
         "Song Name": "La Vie En Rose - Single Version",
         "_deepnote_index_column": 7,
         "acousticness": 0.866,
         "analysis_url": "https://api.spotify.com/v1/audio-analysis/0AX6pLXtyR2vPLv2KYErAg",
         "danceability": 0.582,
         "duration_ms": 204400,
         "energy": 0.0766,
         "id": "0AX6pLXtyR2vPLv2KYErAg",
         "instrumentalness": 0.00394,
         "key": 0,
         "liveness": 0.091,
         "loudness": -12.544,
         "mode": 1,
         "speechiness": 0.0603,
         "tempo": 70.443,
         "time_signature": 4,
         "track_href": "https://api.spotify.com/v1/tracks/0AX6pLXtyR2vPLv2KYErAg",
         "type": "audio_features",
         "uri": "spotify:track:0AX6pLXtyR2vPLv2KYErAg",
         "valence": 0.274
        },
        {
         "Artist Name": "Frank Sinatra",
         "Song Name": "Somethin' Stupid",
         "_deepnote_index_column": 8,
         "acousticness": 0.753,
         "analysis_url": "https://api.spotify.com/v1/audio-analysis/3cVWNLd0uEHkc2tnBoE3Ay",
         "danceability": 0.262,
         "duration_ms": 162493,
         "energy": 0.328,
         "id": "3cVWNLd0uEHkc2tnBoE3Ay",
         "instrumentalness": 0,
         "key": 4,
         "liveness": 0.227,
         "loudness": -12.897,
         "mode": 1,
         "speechiness": 0.0376,
         "tempo": 207.074,
         "time_signature": 4,
         "track_href": "https://api.spotify.com/v1/tracks/3cVWNLd0uEHkc2tnBoE3Ay",
         "type": "audio_features",
         "uri": "spotify:track:3cVWNLd0uEHkc2tnBoE3Ay",
         "valence": 0.533
        },
        {
         "Artist Name": "Nina Simone",
         "Song Name": "Feeling Good",
         "_deepnote_index_column": 9,
         "acousticness": 0.864,
         "analysis_url": "https://api.spotify.com/v1/audio-analysis/61S0mEfdRtJ62Fc7fPqx0U",
         "danceability": 0.399,
         "duration_ms": 174000,
         "energy": 0.326,
         "id": "61S0mEfdRtJ62Fc7fPqx0U",
         "instrumentalness": 0,
         "key": 7,
         "liveness": 0.191,
         "loudness": -9.239,
         "mode": 0,
         "speechiness": 0.0386,
         "tempo": 79.206,
         "time_signature": 4,
         "track_href": "https://api.spotify.com/v1/tracks/61S0mEfdRtJ62Fc7fPqx0U",
         "type": "audio_features",
         "uri": "spotify:track:61S0mEfdRtJ62Fc7fPqx0U",
         "valence": 0.546
        },
        {
         "Artist Name": "Louis Armstrong",
         "Song Name": "What A Wonderful World - Single Version",
         "_deepnote_index_column": 10,
         "acousticness": 0.729,
         "analysis_url": "https://api.spotify.com/v1/audio-analysis/29U7stRjqHU6rMiS8BfaI9",
         "danceability": 0.271,
         "duration_ms": 139227,
         "energy": 0.165,
         "id": "29U7stRjqHU6rMiS8BfaI9",
         "instrumentalness": 1.6e-06,
         "key": 5,
         "liveness": 0.118,
         "loudness": -20.652,
         "mode": 1,
         "speechiness": 0.0351,
         "tempo": 77.082,
         "time_signature": 4,
         "track_href": "https://api.spotify.com/v1/tracks/29U7stRjqHU6rMiS8BfaI9",
         "type": "audio_features",
         "uri": "spotify:track:29U7stRjqHU6rMiS8BfaI9",
         "valence": 0.203
        },
        {
         "Artist Name": "Marvin Gaye",
         "Song Name": "Ain't No Mountain High Enough",
         "_deepnote_index_column": 11,
         "acousticness": 0.482,
         "analysis_url": "https://api.spotify.com/v1/audio-analysis/2H3ZUSE54pST4ubRd5FzFR",
         "danceability": 0.669,
         "duration_ms": 151667,
         "energy": 0.616,
         "id": "2H3ZUSE54pST4ubRd5FzFR",
         "instrumentalness": 0,
         "key": 11,
         "liveness": 0.179,
         "loudness": -10.776,
         "mode": 0,
         "speechiness": 0.033,
         "tempo": 130.037,
         "time_signature": 4,
         "track_href": "https://api.spotify.com/v1/tracks/2H3ZUSE54pST4ubRd5FzFR",
         "type": "audio_features",
         "uri": "spotify:track:2H3ZUSE54pST4ubRd5FzFR",
         "valence": 0.818
        },
        {
         "Artist Name": "The Marvelettes",
         "Song Name": "Please Mr. Postman",
         "_deepnote_index_column": 12,
         "acousticness": 0.729,
         "analysis_url": "https://api.spotify.com/v1/audio-analysis/6jX5mso4x00c1EiNMrTU9U",
         "danceability": 0.785,
         "duration_ms": 148040,
         "energy": 0.776,
         "id": "6jX5mso4x00c1EiNMrTU9U",
         "instrumentalness": 0,
         "key": 2,
         "liveness": 0.181,
         "loudness": -5.259,
         "mode": 1,
         "speechiness": 0.0312,
         "tempo": 121.505,
         "time_signature": 4,
         "track_href": "https://api.spotify.com/v1/tracks/6jX5mso4x00c1EiNMrTU9U",
         "type": "audio_features",
         "uri": "spotify:track:6jX5mso4x00c1EiNMrTU9U",
         "valence": 0.967
        },
        {
         "Artist Name": "The Supremes",
         "Song Name": "You Can't Hurry Love",
         "_deepnote_index_column": 13,
         "acousticness": 0.318,
         "analysis_url": "https://api.spotify.com/v1/audio-analysis/5bQduNI1lNfkNbDCKhBNX6",
         "danceability": 0.472,
         "duration_ms": 167933,
         "energy": 0.712,
         "id": "5bQduNI1lNfkNbDCKhBNX6",
         "instrumentalness": 0,
         "key": 10,
         "liveness": 0.0824,
         "loudness": -9.301,
         "mode": 1,
         "speechiness": 0.0758,
         "tempo": 192.915,
         "time_signature": 4,
         "track_href": "https://api.spotify.com/v1/tracks/5bQduNI1lNfkNbDCKhBNX6",
         "type": "audio_features",
         "uri": "spotify:track:5bQduNI1lNfkNbDCKhBNX6",
         "valence": 0.693
        },
        {
         "Artist Name": "Frank Sinatra",
         "Song Name": "My Way",
         "_deepnote_index_column": 14,
         "acousticness": 0.395,
         "analysis_url": "https://api.spotify.com/v1/audio-analysis/40tAOP3DPqmVD6L1h45Jp6",
         "danceability": 0.279,
         "duration_ms": 274933,
         "energy": 0.454,
         "id": "40tAOP3DPqmVD6L1h45Jp6",
         "instrumentalness": 0,
         "key": 2,
         "liveness": 0.198,
         "loudness": -7.733,
         "mode": 1,
         "speechiness": 0.0316,
         "tempo": 150.661,
         "time_signature": 4,
         "track_href": "https://api.spotify.com/v1/tracks/40tAOP3DPqmVD6L1h45Jp6",
         "type": "audio_features",
         "uri": "spotify:track:40tAOP3DPqmVD6L1h45Jp6",
         "valence": 0.216
        },
        {
         "Artist Name": "James Brown & The Famous Flames",
         "Song Name": "It's A Man's, Man's, Man's World",
         "_deepnote_index_column": 15,
         "acousticness": 0.717,
         "analysis_url": "https://api.spotify.com/v1/audio-analysis/5BLBpcQLF54Lxg3ufn1GCT",
         "danceability": 0.534,
         "duration_ms": 167373,
         "energy": 0.247,
         "id": "5BLBpcQLF54Lxg3ufn1GCT",
         "instrumentalness": 8.19e-05,
         "key": 3,
         "liveness": 0.119,
         "loudness": -16.588,
         "mode": 0,
         "speechiness": 0.0435,
         "tempo": 80.5,
         "time_signature": 3,
         "track_href": "https://api.spotify.com/v1/tracks/5BLBpcQLF54Lxg3ufn1GCT",
         "type": "audio_features",
         "uri": "spotify:track:5BLBpcQLF54Lxg3ufn1GCT",
         "valence": 0.566
        },
        {
         "Artist Name": "Stevie Wonder",
         "Song Name": "For Once In My Life",
         "_deepnote_index_column": 16,
         "acousticness": 0.301,
         "analysis_url": "https://api.spotify.com/v1/audio-analysis/2yNWwardt8VzlpNBWrGYD6",
         "danceability": 0.566,
         "duration_ms": 170600,
         "energy": 0.482,
         "id": "2yNWwardt8VzlpNBWrGYD6",
         "instrumentalness": 0,
         "key": 6,
         "liveness": 0.269,
         "loudness": -13.047,
         "mode": 1,
         "speechiness": 0.0411,
         "tempo": 109.046,
         "time_signature": 4,
         "track_href": "https://api.spotify.com/v1/tracks/2yNWwardt8VzlpNBWrGYD6",
         "type": "audio_features",
         "uri": "spotify:track:2yNWwardt8VzlpNBWrGYD6",
         "valence": 0.856
        },
        {
         "Artist Name": "James Brown & The Famous Flames",
         "Song Name": "I Got You (I Feel Good)",
         "_deepnote_index_column": 17,
         "acousticness": 0.446,
         "analysis_url": "https://api.spotify.com/v1/audio-analysis/0rTkE0FmT4zT2xL6GXwosU",
         "danceability": 0.608,
         "duration_ms": 165800,
         "energy": 0.471,
         "id": "0rTkE0FmT4zT2xL6GXwosU",
         "instrumentalness": 3.63e-06,
         "key": 0,
         "liveness": 0.369,
         "loudness": -8.664,
         "mode": 1,
         "speechiness": 0.0945,
         "tempo": 70.702,
         "time_signature": 3,
         "track_href": "https://api.spotify.com/v1/tracks/0rTkE0FmT4zT2xL6GXwosU",
         "type": "audio_features",
         "uri": "spotify:track:0rTkE0FmT4zT2xL6GXwosU",
         "valence": 0.682
        },
        {
         "Artist Name": "Marvin Gaye",
         "Song Name": "I Heard It Through The Grapevine",
         "_deepnote_index_column": 18,
         "acousticness": 0.195,
         "analysis_url": "https://api.spotify.com/v1/audio-analysis/27m1soUndRthrAA1ediOXn",
         "danceability": 0.729,
         "duration_ms": 195267,
         "energy": 0.324,
         "id": "27m1soUndRthrAA1ediOXn",
         "instrumentalness": 0,
         "key": 8,
         "liveness": 0.101,
         "loudness": -13.017,
         "mode": 0,
         "speechiness": 0.0393,
         "tempo": 116.855,
         "time_signature": 4,
         "track_href": "https://api.spotify.com/v1/tracks/27m1soUndRthrAA1ediOXn",
         "type": "audio_features",
         "uri": "spotify:track:27m1soUndRthrAA1ediOXn",
         "valence": 0.679
        },
        {
         "Artist Name": "The Supremes",
         "Song Name": "Baby Love - Juke Box Single Version",
         "_deepnote_index_column": 19,
         "acousticness": 0.776,
         "analysis_url": "https://api.spotify.com/v1/audio-analysis/5uM9zdUz8PpYJME9wZCM4W",
         "danceability": 0.594,
         "duration_ms": 156333,
         "energy": 0.698,
         "id": "5uM9zdUz8PpYJME9wZCM4W",
         "instrumentalness": 0,
         "key": 2,
         "liveness": 0.237,
         "loudness": -6.524,
         "mode": 0,
         "speechiness": 0.0365,
         "tempo": 135.821,
         "time_signature": 4,
         "track_href": "https://api.spotify.com/v1/tracks/5uM9zdUz8PpYJME9wZCM4W",
         "type": "audio_features",
         "uri": "spotify:track:5uM9zdUz8PpYJME9wZCM4W",
         "valence": 0.649
        },
        {
         "Artist Name": "Etta James",
         "Song Name": "Something's Got A Hold On Me - Single Version",
         "_deepnote_index_column": 20,
         "acousticness": 0.641,
         "analysis_url": "https://api.spotify.com/v1/audio-analysis/1WhtxWwY7ra5rLrlHWWJaI",
         "danceability": 0.517,
         "duration_ms": 167600,
         "energy": 0.539,
         "id": "1WhtxWwY7ra5rLrlHWWJaI",
         "instrumentalness": 0,
         "key": 1,
         "liveness": 0.641,
         "loudness": -6.663,
         "mode": 1,
         "speechiness": 0.0699,
         "tempo": 75.328,
         "time_signature": 4,
         "track_href": "https://api.spotify.com/v1/tracks/1WhtxWwY7ra5rLrlHWWJaI",
         "type": "audio_features",
         "uri": "spotify:track:1WhtxWwY7ra5rLrlHWWJaI",
         "valence": 0.671
        },
        {
         "Artist Name": "Buddy Holly",
         "Song Name": "Everyday - Single Version",
         "_deepnote_index_column": 21,
         "acousticness": 0.584,
         "analysis_url": "https://api.spotify.com/v1/audio-analysis/6qfIne1xNg5GDcmg73x0N8",
         "danceability": 0.747,
         "duration_ms": 129120,
         "energy": 0.219,
         "id": "6qfIne1xNg5GDcmg73x0N8",
         "instrumentalness": 2.57e-05,
         "key": 3,
         "liveness": 0.107,
         "loudness": -12.562,
         "mode": 1,
         "speechiness": 0.0371,
         "tempo": 135.562,
         "time_signature": 4,
         "track_href": "https://api.spotify.com/v1/tracks/6qfIne1xNg5GDcmg73x0N8",
         "type": "audio_features",
         "uri": "spotify:track:6qfIne1xNg5GDcmg73x0N8",
         "valence": 0.498
        },
        {
         "Artist Name": "Bill Withers",
         "Song Name": "Lean on Me",
         "_deepnote_index_column": 22,
         "acousticness": 0.782,
         "analysis_url": "https://api.spotify.com/v1/audio-analysis/3M8FzayQWtkvOhqMn2V4T2",
         "danceability": 0.619,
         "duration_ms": 258835,
         "energy": 0.22,
         "id": "3M8FzayQWtkvOhqMn2V4T2",
         "instrumentalness": 1.19e-05,
         "key": 0,
         "liveness": 0.124,
         "loudness": -13.843,
         "mode": 1,
         "speechiness": 0.0667,
         "tempo": 75.16,
         "time_signature": 4,
         "track_href": "https://api.spotify.com/v1/tracks/3M8FzayQWtkvOhqMn2V4T2",
         "type": "audio_features",
         "uri": "spotify:track:3M8FzayQWtkvOhqMn2V4T2",
         "valence": 0.423
        },
        {
         "Artist Name": "Frank Sinatra",
         "Song Name": "The Way You Look Tonight",
         "_deepnote_index_column": 23,
         "acousticness": 0.855,
         "analysis_url": "https://api.spotify.com/v1/audio-analysis/4pV1bl7OiFW4mMNLmsgQGC",
         "danceability": 0.589,
         "duration_ms": 201200,
         "energy": 0.369,
         "id": "4pV1bl7OiFW4mMNLmsgQGC",
         "instrumentalness": 0,
         "key": 5,
         "liveness": 0.352,
         "loudness": -8.678,
         "mode": 0,
         "speechiness": 0.0321,
         "tempo": 132.953,
         "time_signature": 4,
         "track_href": "https://api.spotify.com/v1/tracks/4pV1bl7OiFW4mMNLmsgQGC",
         "type": "audio_features",
         "uri": "spotify:track:4pV1bl7OiFW4mMNLmsgQGC",
         "valence": 0.529
        },
        {
         "Artist Name": "Sam Cooke",
         "Song Name": "You Send Me - Remastered",
         "_deepnote_index_column": 24,
         "acousticness": 0.883,
         "analysis_url": "https://api.spotify.com/v1/audio-analysis/2QW3aWIzjEDdHFPZFvOlXX",
         "danceability": 0.565,
         "duration_ms": 163267,
         "energy": 0.286,
         "id": "2QW3aWIzjEDdHFPZFvOlXX",
         "instrumentalness": 0,
         "key": 4,
         "liveness": 0.178,
         "loudness": -10.871,
         "mode": 0,
         "speechiness": 0.0289,
         "tempo": 95.964,
         "time_signature": 4,
         "track_href": "https://api.spotify.com/v1/tracks/2QW3aWIzjEDdHFPZFvOlXX",
         "type": "audio_features",
         "uri": "spotify:track:2QW3aWIzjEDdHFPZFvOlXX",
         "valence": 0.487
        }
       ]
      },
      "text/html": [
       "<div>\n",
       "<style scoped>\n",
       "    .dataframe tbody tr th:only-of-type {\n",
       "        vertical-align: middle;\n",
       "    }\n",
       "\n",
       "    .dataframe tbody tr th {\n",
       "        vertical-align: top;\n",
       "    }\n",
       "\n",
       "    .dataframe thead th {\n",
       "        text-align: right;\n",
       "    }\n",
       "</style>\n",
       "<table border=\"1\" class=\"dataframe\">\n",
       "  <thead>\n",
       "    <tr style=\"text-align: right;\">\n",
       "      <th></th>\n",
       "      <th>Artist Name</th>\n",
       "      <th>Song Name</th>\n",
       "      <th>danceability</th>\n",
       "      <th>energy</th>\n",
       "      <th>key</th>\n",
       "      <th>loudness</th>\n",
       "      <th>mode</th>\n",
       "      <th>speechiness</th>\n",
       "      <th>acousticness</th>\n",
       "      <th>instrumentalness</th>\n",
       "      <th>liveness</th>\n",
       "      <th>valence</th>\n",
       "      <th>tempo</th>\n",
       "      <th>type</th>\n",
       "      <th>id</th>\n",
       "      <th>uri</th>\n",
       "      <th>track_href</th>\n",
       "      <th>analysis_url</th>\n",
       "      <th>duration_ms</th>\n",
       "      <th>time_signature</th>\n",
       "    </tr>\n",
       "  </thead>\n",
       "  <tbody>\n",
       "    <tr>\n",
       "      <th>0</th>\n",
       "      <td>Bobby Darin</td>\n",
       "      <td>Mack The Knife</td>\n",
       "      <td>0.549</td>\n",
       "      <td>0.529</td>\n",
       "      <td>3</td>\n",
       "      <td>-12.291</td>\n",
       "      <td>0</td>\n",
       "      <td>0.1080</td>\n",
       "      <td>0.76000</td>\n",
       "      <td>0.00000</td>\n",
       "      <td>0.2060</td>\n",
       "      <td>0.464</td>\n",
       "      <td>82.755</td>\n",
       "      <td>audio_features</td>\n",
       "      <td>3E5ndyOfO6vFDEIE42HA8o</td>\n",
       "      <td>spotify:track:3E5ndyOfO6vFDEIE42HA8o</td>\n",
       "      <td>https://api.spotify.com/v1/tracks/3E5ndyOfO6vF...</td>\n",
       "      <td>https://api.spotify.com/v1/audio-analysis/3E5n...</td>\n",
       "      <td>184333</td>\n",
       "      <td>4</td>\n",
       "    </tr>\n",
       "    <tr>\n",
       "      <th>1</th>\n",
       "      <td>Frank Sinatra</td>\n",
       "      <td>Fly Me To The Moon</td>\n",
       "      <td>0.657</td>\n",
       "      <td>0.260</td>\n",
       "      <td>7</td>\n",
       "      <td>-14.251</td>\n",
       "      <td>1</td>\n",
       "      <td>0.0521</td>\n",
       "      <td>0.47400</td>\n",
       "      <td>0.00000</td>\n",
       "      <td>0.0656</td>\n",
       "      <td>0.378</td>\n",
       "      <td>119.358</td>\n",
       "      <td>audio_features</td>\n",
       "      <td>2y8Eez5cFFf2JzD546LThM</td>\n",
       "      <td>spotify:track:2y8Eez5cFFf2JzD546LThM</td>\n",
       "      <td>https://api.spotify.com/v1/tracks/2y8Eez5cFFf2...</td>\n",
       "      <td>https://api.spotify.com/v1/audio-analysis/2y8E...</td>\n",
       "      <td>147000</td>\n",
       "      <td>4</td>\n",
       "    </tr>\n",
       "    <tr>\n",
       "      <th>2</th>\n",
       "      <td>Etta James</td>\n",
       "      <td>At Last - Single Version</td>\n",
       "      <td>0.168</td>\n",
       "      <td>0.326</td>\n",
       "      <td>5</td>\n",
       "      <td>-9.981</td>\n",
       "      <td>1</td>\n",
       "      <td>0.0324</td>\n",
       "      <td>0.72100</td>\n",
       "      <td>0.00060</td>\n",
       "      <td>0.3160</td>\n",
       "      <td>0.322</td>\n",
       "      <td>174.794</td>\n",
       "      <td>audio_features</td>\n",
       "      <td>0CmIALzGn4vHIHJG4n3Q4z</td>\n",
       "      <td>spotify:track:0CmIALzGn4vHIHJG4n3Q4z</td>\n",
       "      <td>https://api.spotify.com/v1/tracks/0CmIALzGn4vH...</td>\n",
       "      <td>https://api.spotify.com/v1/audio-analysis/0CmI...</td>\n",
       "      <td>182400</td>\n",
       "      <td>3</td>\n",
       "    </tr>\n",
       "    <tr>\n",
       "      <th>3</th>\n",
       "      <td>Ella Fitzgerald</td>\n",
       "      <td>Dream A Little Dream Of Me</td>\n",
       "      <td>0.631</td>\n",
       "      <td>0.127</td>\n",
       "      <td>0</td>\n",
       "      <td>-15.333</td>\n",
       "      <td>1</td>\n",
       "      <td>0.0949</td>\n",
       "      <td>0.93900</td>\n",
       "      <td>0.00000</td>\n",
       "      <td>0.0732</td>\n",
       "      <td>0.322</td>\n",
       "      <td>76.559</td>\n",
       "      <td>audio_features</td>\n",
       "      <td>3Bbbz0IGORWZSLf9UqsAL4</td>\n",
       "      <td>spotify:track:3Bbbz0IGORWZSLf9UqsAL4</td>\n",
       "      <td>https://api.spotify.com/v1/tracks/3Bbbz0IGORWZ...</td>\n",
       "      <td>https://api.spotify.com/v1/audio-analysis/3Bbb...</td>\n",
       "      <td>182267</td>\n",
       "      <td>4</td>\n",
       "    </tr>\n",
       "    <tr>\n",
       "      <th>4</th>\n",
       "      <td>The Chordettes</td>\n",
       "      <td>Mister sandman</td>\n",
       "      <td>0.616</td>\n",
       "      <td>0.298</td>\n",
       "      <td>9</td>\n",
       "      <td>-13.191</td>\n",
       "      <td>1</td>\n",
       "      <td>0.0520</td>\n",
       "      <td>0.84100</td>\n",
       "      <td>0.00000</td>\n",
       "      <td>0.0605</td>\n",
       "      <td>0.569</td>\n",
       "      <td>108.779</td>\n",
       "      <td>audio_features</td>\n",
       "      <td>433nBELvOOtHlZFUO8mZml</td>\n",
       "      <td>spotify:track:433nBELvOOtHlZFUO8mZml</td>\n",
       "      <td>https://api.spotify.com/v1/tracks/433nBELvOOtH...</td>\n",
       "      <td>https://api.spotify.com/v1/audio-analysis/433n...</td>\n",
       "      <td>147267</td>\n",
       "      <td>4</td>\n",
       "    </tr>\n",
       "    <tr>\n",
       "      <th>...</th>\n",
       "      <td>...</td>\n",
       "      <td>...</td>\n",
       "      <td>...</td>\n",
       "      <td>...</td>\n",
       "      <td>...</td>\n",
       "      <td>...</td>\n",
       "      <td>...</td>\n",
       "      <td>...</td>\n",
       "      <td>...</td>\n",
       "      <td>...</td>\n",
       "      <td>...</td>\n",
       "      <td>...</td>\n",
       "      <td>...</td>\n",
       "      <td>...</td>\n",
       "      <td>...</td>\n",
       "      <td>...</td>\n",
       "      <td>...</td>\n",
       "      <td>...</td>\n",
       "      <td>...</td>\n",
       "      <td>...</td>\n",
       "    </tr>\n",
       "    <tr>\n",
       "      <th>36070</th>\n",
       "      <td>6LACK</td>\n",
       "      <td>Rules</td>\n",
       "      <td>0.682</td>\n",
       "      <td>0.758</td>\n",
       "      <td>8</td>\n",
       "      <td>-6.130</td>\n",
       "      <td>0</td>\n",
       "      <td>0.1550</td>\n",
       "      <td>0.17800</td>\n",
       "      <td>0.00158</td>\n",
       "      <td>0.0964</td>\n",
       "      <td>0.638</td>\n",
       "      <td>147.045</td>\n",
       "      <td>audio_features</td>\n",
       "      <td>6HmWy7ttkeZGG2KEtt8AqX</td>\n",
       "      <td>spotify:track:6HmWy7ttkeZGG2KEtt8AqX</td>\n",
       "      <td>https://api.spotify.com/v1/tracks/6HmWy7ttkeZG...</td>\n",
       "      <td>https://api.spotify.com/v1/audio-analysis/6HmW...</td>\n",
       "      <td>211867</td>\n",
       "      <td>4</td>\n",
       "    </tr>\n",
       "    <tr>\n",
       "      <th>36071</th>\n",
       "      <td>Lil Uzi Vert</td>\n",
       "      <td>How To Talk</td>\n",
       "      <td>0.728</td>\n",
       "      <td>0.730</td>\n",
       "      <td>5</td>\n",
       "      <td>-5.402</td>\n",
       "      <td>1</td>\n",
       "      <td>0.2130</td>\n",
       "      <td>0.74100</td>\n",
       "      <td>0.00000</td>\n",
       "      <td>0.7050</td>\n",
       "      <td>0.736</td>\n",
       "      <td>136.052</td>\n",
       "      <td>audio_features</td>\n",
       "      <td>0ro5QCkSCtbfhMHnvMase3</td>\n",
       "      <td>spotify:track:0ro5QCkSCtbfhMHnvMase3</td>\n",
       "      <td>https://api.spotify.com/v1/tracks/0ro5QCkSCtbf...</td>\n",
       "      <td>https://api.spotify.com/v1/audio-analysis/0ro5...</td>\n",
       "      <td>201544</td>\n",
       "      <td>4</td>\n",
       "    </tr>\n",
       "    <tr>\n",
       "      <th>36072</th>\n",
       "      <td>blackbear</td>\n",
       "      <td>90210 (feat. G-Eazy)</td>\n",
       "      <td>0.707</td>\n",
       "      <td>0.707</td>\n",
       "      <td>11</td>\n",
       "      <td>-6.161</td>\n",
       "      <td>0</td>\n",
       "      <td>0.0375</td>\n",
       "      <td>0.03060</td>\n",
       "      <td>0.00000</td>\n",
       "      <td>0.1270</td>\n",
       "      <td>0.231</td>\n",
       "      <td>104.039</td>\n",
       "      <td>audio_features</td>\n",
       "      <td>4hdog9vyyqG9pcppG2Izek</td>\n",
       "      <td>spotify:track:4hdog9vyyqG9pcppG2Izek</td>\n",
       "      <td>https://api.spotify.com/v1/tracks/4hdog9vyyqG9...</td>\n",
       "      <td>https://api.spotify.com/v1/audio-analysis/4hdo...</td>\n",
       "      <td>223296</td>\n",
       "      <td>4</td>\n",
       "    </tr>\n",
       "    <tr>\n",
       "      <th>36073</th>\n",
       "      <td>G-Eazy</td>\n",
       "      <td>Eyes Closed</td>\n",
       "      <td>0.715</td>\n",
       "      <td>0.763</td>\n",
       "      <td>11</td>\n",
       "      <td>-6.329</td>\n",
       "      <td>0</td>\n",
       "      <td>0.2400</td>\n",
       "      <td>0.04680</td>\n",
       "      <td>0.00000</td>\n",
       "      <td>0.1030</td>\n",
       "      <td>0.395</td>\n",
       "      <td>133.987</td>\n",
       "      <td>audio_features</td>\n",
       "      <td>0rZ3xYyjHM9B1IBD9ixZ08</td>\n",
       "      <td>spotify:track:0rZ3xYyjHM9B1IBD9ixZ08</td>\n",
       "      <td>https://api.spotify.com/v1/tracks/0rZ3xYyjHM9B...</td>\n",
       "      <td>https://api.spotify.com/v1/audio-analysis/0rZ3...</td>\n",
       "      <td>204054</td>\n",
       "      <td>4</td>\n",
       "    </tr>\n",
       "    <tr>\n",
       "      <th>36074</th>\n",
       "      <td>MOD SUN</td>\n",
       "      <td>Goddess</td>\n",
       "      <td>0.574</td>\n",
       "      <td>0.916</td>\n",
       "      <td>4</td>\n",
       "      <td>-7.610</td>\n",
       "      <td>1</td>\n",
       "      <td>0.0955</td>\n",
       "      <td>0.00399</td>\n",
       "      <td>0.00161</td>\n",
       "      <td>0.4850</td>\n",
       "      <td>0.690</td>\n",
       "      <td>164.001</td>\n",
       "      <td>audio_features</td>\n",
       "      <td>7CNZ3khSSPtNZP08xgeacl</td>\n",
       "      <td>spotify:track:7CNZ3khSSPtNZP08xgeacl</td>\n",
       "      <td>https://api.spotify.com/v1/tracks/7CNZ3khSSPtN...</td>\n",
       "      <td>https://api.spotify.com/v1/audio-analysis/7CNZ...</td>\n",
       "      <td>194645</td>\n",
       "      <td>4</td>\n",
       "    </tr>\n",
       "  </tbody>\n",
       "</table>\n",
       "<p>36075 rows × 20 columns</p>\n",
       "</div>"
      ],
      "text/plain": [
       "           Artist Name                   Song Name  danceability  energy  key  \\\n",
       "0          Bobby Darin              Mack The Knife         0.549   0.529    3   \n",
       "1        Frank Sinatra          Fly Me To The Moon         0.657   0.260    7   \n",
       "2           Etta James    At Last - Single Version         0.168   0.326    5   \n",
       "3      Ella Fitzgerald  Dream A Little Dream Of Me         0.631   0.127    0   \n",
       "4       The Chordettes              Mister sandman         0.616   0.298    9   \n",
       "...                ...                         ...           ...     ...  ...   \n",
       "36070            6LACK                       Rules         0.682   0.758    8   \n",
       "36071     Lil Uzi Vert                 How To Talk         0.728   0.730    5   \n",
       "36072        blackbear        90210 (feat. G-Eazy)         0.707   0.707   11   \n",
       "36073           G-Eazy                 Eyes Closed         0.715   0.763   11   \n",
       "36074          MOD SUN                     Goddess         0.574   0.916    4   \n",
       "\n",
       "       loudness  mode  speechiness  acousticness  instrumentalness  liveness  \\\n",
       "0       -12.291     0       0.1080       0.76000           0.00000    0.2060   \n",
       "1       -14.251     1       0.0521       0.47400           0.00000    0.0656   \n",
       "2        -9.981     1       0.0324       0.72100           0.00060    0.3160   \n",
       "3       -15.333     1       0.0949       0.93900           0.00000    0.0732   \n",
       "4       -13.191     1       0.0520       0.84100           0.00000    0.0605   \n",
       "...         ...   ...          ...           ...               ...       ...   \n",
       "36070    -6.130     0       0.1550       0.17800           0.00158    0.0964   \n",
       "36071    -5.402     1       0.2130       0.74100           0.00000    0.7050   \n",
       "36072    -6.161     0       0.0375       0.03060           0.00000    0.1270   \n",
       "36073    -6.329     0       0.2400       0.04680           0.00000    0.1030   \n",
       "36074    -7.610     1       0.0955       0.00399           0.00161    0.4850   \n",
       "\n",
       "       valence    tempo            type                      id  \\\n",
       "0        0.464   82.755  audio_features  3E5ndyOfO6vFDEIE42HA8o   \n",
       "1        0.378  119.358  audio_features  2y8Eez5cFFf2JzD546LThM   \n",
       "2        0.322  174.794  audio_features  0CmIALzGn4vHIHJG4n3Q4z   \n",
       "3        0.322   76.559  audio_features  3Bbbz0IGORWZSLf9UqsAL4   \n",
       "4        0.569  108.779  audio_features  433nBELvOOtHlZFUO8mZml   \n",
       "...        ...      ...             ...                     ...   \n",
       "36070    0.638  147.045  audio_features  6HmWy7ttkeZGG2KEtt8AqX   \n",
       "36071    0.736  136.052  audio_features  0ro5QCkSCtbfhMHnvMase3   \n",
       "36072    0.231  104.039  audio_features  4hdog9vyyqG9pcppG2Izek   \n",
       "36073    0.395  133.987  audio_features  0rZ3xYyjHM9B1IBD9ixZ08   \n",
       "36074    0.690  164.001  audio_features  7CNZ3khSSPtNZP08xgeacl   \n",
       "\n",
       "                                        uri  \\\n",
       "0      spotify:track:3E5ndyOfO6vFDEIE42HA8o   \n",
       "1      spotify:track:2y8Eez5cFFf2JzD546LThM   \n",
       "2      spotify:track:0CmIALzGn4vHIHJG4n3Q4z   \n",
       "3      spotify:track:3Bbbz0IGORWZSLf9UqsAL4   \n",
       "4      spotify:track:433nBELvOOtHlZFUO8mZml   \n",
       "...                                     ...   \n",
       "36070  spotify:track:6HmWy7ttkeZGG2KEtt8AqX   \n",
       "36071  spotify:track:0ro5QCkSCtbfhMHnvMase3   \n",
       "36072  spotify:track:4hdog9vyyqG9pcppG2Izek   \n",
       "36073  spotify:track:0rZ3xYyjHM9B1IBD9ixZ08   \n",
       "36074  spotify:track:7CNZ3khSSPtNZP08xgeacl   \n",
       "\n",
       "                                              track_href  \\\n",
       "0      https://api.spotify.com/v1/tracks/3E5ndyOfO6vF...   \n",
       "1      https://api.spotify.com/v1/tracks/2y8Eez5cFFf2...   \n",
       "2      https://api.spotify.com/v1/tracks/0CmIALzGn4vH...   \n",
       "3      https://api.spotify.com/v1/tracks/3Bbbz0IGORWZ...   \n",
       "4      https://api.spotify.com/v1/tracks/433nBELvOOtH...   \n",
       "...                                                  ...   \n",
       "36070  https://api.spotify.com/v1/tracks/6HmWy7ttkeZG...   \n",
       "36071  https://api.spotify.com/v1/tracks/0ro5QCkSCtbf...   \n",
       "36072  https://api.spotify.com/v1/tracks/4hdog9vyyqG9...   \n",
       "36073  https://api.spotify.com/v1/tracks/0rZ3xYyjHM9B...   \n",
       "36074  https://api.spotify.com/v1/tracks/7CNZ3khSSPtN...   \n",
       "\n",
       "                                            analysis_url  duration_ms  \\\n",
       "0      https://api.spotify.com/v1/audio-analysis/3E5n...       184333   \n",
       "1      https://api.spotify.com/v1/audio-analysis/2y8E...       147000   \n",
       "2      https://api.spotify.com/v1/audio-analysis/0CmI...       182400   \n",
       "3      https://api.spotify.com/v1/audio-analysis/3Bbb...       182267   \n",
       "4      https://api.spotify.com/v1/audio-analysis/433n...       147267   \n",
       "...                                                  ...          ...   \n",
       "36070  https://api.spotify.com/v1/audio-analysis/6HmW...       211867   \n",
       "36071  https://api.spotify.com/v1/audio-analysis/0ro5...       201544   \n",
       "36072  https://api.spotify.com/v1/audio-analysis/4hdo...       223296   \n",
       "36073  https://api.spotify.com/v1/audio-analysis/0rZ3...       204054   \n",
       "36074  https://api.spotify.com/v1/audio-analysis/7CNZ...       194645   \n",
       "\n",
       "       time_signature  \n",
       "0                   4  \n",
       "1                   4  \n",
       "2                   3  \n",
       "3                   4  \n",
       "4                   4  \n",
       "...               ...  \n",
       "36070               4  \n",
       "36071               4  \n",
       "36072               4  \n",
       "36073               4  \n",
       "36074               4  \n",
       "\n",
       "[36075 rows x 20 columns]"
      ]
     },
     "execution_count": 15,
     "metadata": {},
     "output_type": "execute_result"
    }
   ],
   "source": [
    "def get_audio_features(track_uri_tuple):\n",
    "    \"\"\"\n",
    "    input: track_uri_tuple\n",
    "    output: a dataframe with all audio_features \n",
    "\n",
    "    \"\"\"\n",
    "    track_uris = get_track_uri(track_uri_tuple)\n",
    "    audio_features_dict = {}\n",
    "    track_uri_length = len(track_uri_tuple)\n",
    "\n",
    "    ## UNFORTUNATELY YOU CAN ONLY GRAB 100 AUDIO FEATURES AT A TIME, HAVE TO LOOP AND MANUALLY ADD TO DICTIONARY.\n",
    "    i = 0\n",
    "    while i < track_uri_length:\n",
    "        af = sp.audio_features(tracks=track_uris[0+i:100+i])\n",
    "        #indexing might be off near the end, need if statement if there's remainder, get rest of track >> probably use try and except\n",
    "\n",
    "        for b in np.arange(len(af)):\n",
    "            current_tuple = track_uri_tuple[i+b]\n",
    "            audio_features_dict[current_tuple] = af[b]\n",
    "        i+= 100\n",
    "    \n",
    "    xf = pd.DataFrame.from_dict(audio_features_dict, 'index')\n",
    "    df_final = xf.reset_index().rename(columns={\"level_0\": \"Artist Name\", \"level_1\": \"Song Name\"}).drop('level_2', axis =1)\n",
    "\n",
    "    return df_final\n",
    "\n",
    "get_audio_features(track_uri_tuple)"
   ]
  },
  {
   "cell_type": "markdown",
   "metadata": {
    "cell_id": "00016-fa83a394-38c3-4b5c-867e-11cc158f742c",
    "deepnote_cell_type": "markdown",
    "output_cleared": false,
    "tags": []
   },
   "source": [
    "## Ferdie: Looping across all .json files located in directory"
   ]
  },
  {
   "cell_type": "code",
   "execution_count": 16,
   "metadata": {
    "cell_id": "00022-671a0ce8-86e0-43f9-b286-364c89533653",
    "deepnote_cell_type": "code",
    "execution_millis": 0,
    "execution_start": 1606609103443,
    "output_cleared": false,
    "source_hash": "9cad624c",
    "tags": []
   },
   "outputs": [],
   "source": [
    "def convert_json_to_features(path):\n",
    "    \"\"\"\n",
    "    input: file name path (example: \"/home/jovyan/work/mpd.slice.29000-29999.json\")\n",
    "    output: final_df with audio features\n",
    "    \"\"\"\n",
    "    ##Initial json to df conversion, removes duplicates found in list\n",
    "    df = convert_json_to_df(path)\n",
    "    df_a = extract_tracks(df)\n",
    "    df_final = df_a.drop_duplicates(['track_uri'])\n",
    "    ## converting track uri to dataframe with features\n",
    "    tuples = get_track_uri_tuples(df_final)\n",
    "    final_df = get_audio_features(tuples)\n",
    "    return final_df"
   ]
  },
  {
   "cell_type": "code",
   "execution_count": 17,
   "metadata": {
    "cell_id": "00025-56a78a67-f5f4-4445-836f-d55c7b4c0538",
    "deepnote_cell_type": "code",
    "execution_millis": 0,
    "execution_start": 1606609103937,
    "output_cleared": false,
    "source_hash": "83409830",
    "tags": []
   },
   "outputs": [],
   "source": [
    "import os, json\n",
    "\n",
    "def convert_json_to_features_direct(directory):\n",
    "\n",
    "    #directory #example = '/home/jovyan/work/'\n",
    "    json_files = [pos_json for pos_json in os.listdir(directory) if pos_json.endswith('.json')]\n",
    "    \n",
    "    initial_path = directory + json_files[0]\n",
    "    initial_df = convert_json_to_features(initial_path)\n",
    "\n",
    "    for i in np.arange(1, len(json_files)):\n",
    "        new_path = directory + json_files[i]\n",
    "        new_df = convert_json_to_features(new_path)\n",
    "        initial_df = pd.concat([initial_df, new_df])\n",
    "    return initial_df"
   ]
  },
  {
   "cell_type": "code",
   "execution_count": 18,
   "metadata": {
    "cell_id": "00025-47350de3-6116-4c75-8b33-e9d41204f324",
    "deepnote_cell_type": "code",
    "execution_millis": 397663,
    "execution_start": 1606609104519,
    "output_cleared": false,
    "source_hash": "f679313a",
    "tags": []
   },
   "outputs": [],
   "source": [
    "t1 = convert_json_to_features_direct('/home/jovyan/work/')"
   ]
  },
  {
   "cell_type": "code",
   "execution_count": 19,
   "metadata": {
    "cell_id": "00024-08934204-cf1b-442a-9eeb-eb437e781fb7",
    "deepnote_cell_type": "code",
    "execution_millis": 0,
    "execution_start": 1606609502223,
    "output_cleared": false,
    "source_hash": "210ea913",
    "tags": []
   },
   "outputs": [
    {
     "data": {
      "text/plain": [
       "(139915, 20)"
      ]
     },
     "execution_count": 19,
     "metadata": {},
     "output_type": "execute_result"
    }
   ],
   "source": [
    "t1.shape"
   ]
  },
  {
   "cell_type": "code",
   "execution_count": 20,
   "metadata": {
    "cell_id": "00024-503a5471-e35e-4e6f-a3b2-05061570dc13",
    "deepnote_cell_type": "code",
    "execution_millis": 92,
    "execution_start": 1606609502224,
    "output_cleared": false,
    "source_hash": "c4619907",
    "tags": []
   },
   "outputs": [],
   "source": [
    "t1_final = t1.drop_duplicates(['uri']).reset_index(drop = True) #Final DF after 4 json files (a lot of duplicates)"
   ]
  },
  {
   "cell_type": "code",
   "execution_count": 21,
   "metadata": {
    "cell_id": "00026-ce097147-7fb9-416c-bd08-cf4739bc323a",
    "deepnote_cell_type": "code",
    "execution_millis": 3,
    "execution_start": 1606609502317,
    "output_cleared": false,
    "source_hash": "1697b11d",
    "tags": []
   },
   "outputs": [],
   "source": [
    "### CellOutputSizeError --> commented out for now\n",
    "#t1_final.to_csv()"
   ]
  },
  {
   "cell_type": "code",
   "execution_count": 21,
   "metadata": {
    "cell_id": "00027-95c148ad-990a-4869-bbe8-0b22ae6a4a1c",
    "deepnote_cell_type": "code",
    "execution_millis": 1,
    "execution_start": 1606609502321,
    "output_cleared": false,
    "source_hash": "b623e53d",
    "tags": []
   },
   "outputs": [],
   "source": []
  },
  {
   "cell_type": "markdown",
   "metadata": {
    "cell_id": "00026-a10ca034-1d38-4525-a41d-ac9b25a670ae",
    "deepnote_cell_type": "markdown",
    "output_cleared": false,
    "tags": []
   },
   "source": [
    "# Psalm: KNN Exploration\n",
    "\n",
    "Inspired by: https://www.kaggle.com/danielgrijalvas/finding-songs-that-match-sw-s-style-using-knn"
   ]
  },
  {
   "cell_type": "markdown",
   "metadata": {
    "cell_id": "00027-dfa3aff1-e181-47ff-afcb-a4c92039cd88",
    "deepnote_cell_type": "markdown",
    "output_cleared": false,
    "tags": []
   },
   "source": [
    "To Look Into: \n",
    "- Using k-means instead of k nearest neighbors given that our labels aren't known.\n",
    "    - Inspiration: https://towardsdatascience.com/clustering-music-to-create-your-personal-playlists-on-spotify-using-python-and-k-means-a39c4158589a\n",
    "    - https://medium.com/datadriveninvestor/k-means-clustering-using-spotify-data-45435a7cd32a\n",
    "    - Based on clustering by similarity\n",
    "    - Once clustered, randomize song selection to build playlist?\n",
    "- Number of song inputs\n",
    "\n",
    "Potential KNN Process:\n",
    "- (optional) for each song, determine KBest defining features\n",
    "- EASY/RISKY: Use 'pid' to find similar songs? --> knn classifies song and associates it with a playlist, go through playlist to find similar songs?\n",
    "- HARD/RISKY: Use defining features to determine class value (boolean) for whether song in dataset matches the input\n",
    "    - values within a certain interval --> class = 1; else, class = 0\n",
    "    - Preprocessing: Create columns in df to reflect whether intervals or passed\n",
    "\n",
    "- Fit to KNN. \n",
    "- Predict with test set.\n",
    "- Use knn.predict_proba(*test set*) to determine simlarity\n",
    "\n",
    "https://scikit-learn.org/stable/modules/generated/sklearn.neighbors.BallTree.html\n",
    "Fit BallTree, apply KNN? --> Method used by data x team"
   ]
  },
  {
   "cell_type": "code",
   "execution_count": 22,
   "metadata": {
    "cell_id": "00028-adab1e25-40b3-48cb-9c8b-ab71b7d163b9",
    "deepnote_cell_type": "code",
    "execution_millis": 3,
    "execution_start": 1606609502325,
    "output_cleared": false,
    "source_hash": "8212718c",
    "tags": []
   },
   "outputs": [],
   "source": [
    "def drop_string(df):\n",
    "    \"\"\"\n",
    "    Drops the non-integer and non-float type columns for fitting to KNN model.\n",
    "    Returns the formatted DataFrame.\n",
    "    \n",
    "    input: \n",
    "    df (DataFrame) - \n",
    "    \n",
    "    output:\n",
    "    Formatted dataframe of the playlist\n",
    "    \"\"\"\n",
    "    return df.select_dtypes(exclude=['string', 'object'])"
   ]
  },
  {
   "cell_type": "code",
   "execution_count": 23,
   "metadata": {
    "cell_id": "00028-20b3dde6-56e7-4076-9fb0-6055de81b6ec",
    "deepnote_cell_type": "code",
    "execution_millis": 54,
    "execution_start": 1606609502332,
    "output_cleared": false,
    "source_hash": "a8274c8e",
    "tags": []
   },
   "outputs": [
    {
     "data": {
      "application/vnd.deepnote.dataframe.v2+json": {
       "column_count": 20,
       "columns": [
        {
         "dtype": "object",
         "name": "Artist Name",
         "stats": {
          "categories": [
           {
            "count": 1,
            "name": "Bobby Darin"
           },
           {
            "count": 1,
            "name": "Frank Sinatra"
           },
           {
            "count": 3,
            "name": "3 others"
           }
          ],
          "nan_count": 0,
          "unique_count": 5
         }
        },
        {
         "dtype": "object",
         "name": "Song Name",
         "stats": {
          "categories": [
           {
            "count": 1,
            "name": "Mack The Knife"
           },
           {
            "count": 1,
            "name": "Fly Me To The Moon"
           },
           {
            "count": 3,
            "name": "3 others"
           }
          ],
          "nan_count": 0,
          "unique_count": 5
         }
        },
        {
         "dtype": "float64",
         "name": "danceability",
         "stats": {
          "histogram": [
           {
            "bin_end": 0.2169,
            "bin_start": 0.168,
            "count": 1
           },
           {
            "bin_end": 0.26580000000000004,
            "bin_start": 0.2169,
            "count": 0
           },
           {
            "bin_end": 0.3147,
            "bin_start": 0.26580000000000004,
            "count": 0
           },
           {
            "bin_end": 0.36360000000000003,
            "bin_start": 0.3147,
            "count": 0
           },
           {
            "bin_end": 0.4125,
            "bin_start": 0.36360000000000003,
            "count": 0
           },
           {
            "bin_end": 0.46140000000000003,
            "bin_start": 0.4125,
            "count": 0
           },
           {
            "bin_end": 0.5103,
            "bin_start": 0.46140000000000003,
            "count": 0
           },
           {
            "bin_end": 0.5592,
            "bin_start": 0.5103,
            "count": 1
           },
           {
            "bin_end": 0.6081,
            "bin_start": 0.5592,
            "count": 0
           },
           {
            "bin_end": 0.657,
            "bin_start": 0.6081,
            "count": 3
           }
          ],
          "max": 0.657,
          "min": 0.168,
          "nan_count": 0,
          "unique_count": 5
         }
        },
        {
         "dtype": "float64",
         "name": "energy",
         "stats": {
          "histogram": [
           {
            "bin_end": 0.16720000000000002,
            "bin_start": 0.127,
            "count": 1
           },
           {
            "bin_end": 0.2074,
            "bin_start": 0.16720000000000002,
            "count": 0
           },
           {
            "bin_end": 0.2476,
            "bin_start": 0.2074,
            "count": 0
           },
           {
            "bin_end": 0.2878,
            "bin_start": 0.2476,
            "count": 1
           },
           {
            "bin_end": 0.328,
            "bin_start": 0.2878,
            "count": 2
           },
           {
            "bin_end": 0.36819999999999997,
            "bin_start": 0.328,
            "count": 0
           },
           {
            "bin_end": 0.4084,
            "bin_start": 0.36819999999999997,
            "count": 0
           },
           {
            "bin_end": 0.4486,
            "bin_start": 0.4084,
            "count": 0
           },
           {
            "bin_end": 0.4888,
            "bin_start": 0.4486,
            "count": 0
           },
           {
            "bin_end": 0.529,
            "bin_start": 0.4888,
            "count": 1
           }
          ],
          "max": 0.529,
          "min": 0.127,
          "nan_count": 0,
          "unique_count": 5
         }
        },
        {
         "dtype": "int64",
         "name": "key",
         "stats": {
          "histogram": [
           {
            "bin_end": 0.9,
            "bin_start": 0,
            "count": 1
           },
           {
            "bin_end": 1.8,
            "bin_start": 0.9,
            "count": 0
           },
           {
            "bin_end": 2.7,
            "bin_start": 1.8,
            "count": 0
           },
           {
            "bin_end": 3.6,
            "bin_start": 2.7,
            "count": 1
           },
           {
            "bin_end": 4.5,
            "bin_start": 3.6,
            "count": 0
           },
           {
            "bin_end": 5.4,
            "bin_start": 4.5,
            "count": 1
           },
           {
            "bin_end": 6.3,
            "bin_start": 5.4,
            "count": 0
           },
           {
            "bin_end": 7.2,
            "bin_start": 6.3,
            "count": 1
           },
           {
            "bin_end": 8.1,
            "bin_start": 7.2,
            "count": 0
           },
           {
            "bin_end": 9,
            "bin_start": 8.1,
            "count": 1
           }
          ],
          "max": 9,
          "min": 0,
          "nan_count": 0,
          "unique_count": 5
         }
        },
        {
         "dtype": "float64",
         "name": "loudness",
         "stats": {
          "histogram": [
           {
            "bin_end": -14.7978,
            "bin_start": -15.333,
            "count": 1
           },
           {
            "bin_end": -14.2626,
            "bin_start": -14.7978,
            "count": 0
           },
           {
            "bin_end": -13.7274,
            "bin_start": -14.2626,
            "count": 1
           },
           {
            "bin_end": -13.1922,
            "bin_start": -13.7274,
            "count": 0
           },
           {
            "bin_end": -12.657,
            "bin_start": -13.1922,
            "count": 1
           },
           {
            "bin_end": -12.1218,
            "bin_start": -12.657,
            "count": 1
           },
           {
            "bin_end": -11.5866,
            "bin_start": -12.1218,
            "count": 0
           },
           {
            "bin_end": -11.051400000000001,
            "bin_start": -11.5866,
            "count": 0
           },
           {
            "bin_end": -10.516200000000001,
            "bin_start": -11.051400000000001,
            "count": 0
           },
           {
            "bin_end": -9.981,
            "bin_start": -10.516200000000001,
            "count": 1
           }
          ],
          "max": -9.981,
          "min": -15.333,
          "nan_count": 0,
          "unique_count": 5
         }
        },
        {
         "dtype": "int64",
         "name": "mode",
         "stats": {
          "histogram": [
           {
            "bin_end": 0.1,
            "bin_start": 0,
            "count": 1
           },
           {
            "bin_end": 0.2,
            "bin_start": 0.1,
            "count": 0
           },
           {
            "bin_end": 0.30000000000000004,
            "bin_start": 0.2,
            "count": 0
           },
           {
            "bin_end": 0.4,
            "bin_start": 0.30000000000000004,
            "count": 0
           },
           {
            "bin_end": 0.5,
            "bin_start": 0.4,
            "count": 0
           },
           {
            "bin_end": 0.6000000000000001,
            "bin_start": 0.5,
            "count": 0
           },
           {
            "bin_end": 0.7000000000000001,
            "bin_start": 0.6000000000000001,
            "count": 0
           },
           {
            "bin_end": 0.8,
            "bin_start": 0.7000000000000001,
            "count": 0
           },
           {
            "bin_end": 0.9,
            "bin_start": 0.8,
            "count": 0
           },
           {
            "bin_end": 1,
            "bin_start": 0.9,
            "count": 4
           }
          ],
          "max": 1,
          "min": 0,
          "nan_count": 0,
          "unique_count": 2
         }
        },
        {
         "dtype": "float64",
         "name": "speechiness",
         "stats": {
          "histogram": [
           {
            "bin_end": 0.039959999999999996,
            "bin_start": 0.0324,
            "count": 1
           },
           {
            "bin_end": 0.04752,
            "bin_start": 0.039959999999999996,
            "count": 0
           },
           {
            "bin_end": 0.05508,
            "bin_start": 0.04752,
            "count": 2
           },
           {
            "bin_end": 0.06264,
            "bin_start": 0.05508,
            "count": 0
           },
           {
            "bin_end": 0.0702,
            "bin_start": 0.06264,
            "count": 0
           },
           {
            "bin_end": 0.07776,
            "bin_start": 0.0702,
            "count": 0
           },
           {
            "bin_end": 0.08532000000000001,
            "bin_start": 0.07776,
            "count": 0
           },
           {
            "bin_end": 0.09287999999999999,
            "bin_start": 0.08532000000000001,
            "count": 0
           },
           {
            "bin_end": 0.10044,
            "bin_start": 0.09287999999999999,
            "count": 1
           },
           {
            "bin_end": 0.108,
            "bin_start": 0.10044,
            "count": 1
           }
          ],
          "max": 0.108,
          "min": 0.0324,
          "nan_count": 0,
          "unique_count": 5
         }
        },
        {
         "dtype": "float64",
         "name": "acousticness",
         "stats": {
          "histogram": [
           {
            "bin_end": 0.5205,
            "bin_start": 0.474,
            "count": 1
           },
           {
            "bin_end": 0.567,
            "bin_start": 0.5205,
            "count": 0
           },
           {
            "bin_end": 0.6134999999999999,
            "bin_start": 0.567,
            "count": 0
           },
           {
            "bin_end": 0.6599999999999999,
            "bin_start": 0.6134999999999999,
            "count": 0
           },
           {
            "bin_end": 0.7064999999999999,
            "bin_start": 0.6599999999999999,
            "count": 0
           },
           {
            "bin_end": 0.753,
            "bin_start": 0.7064999999999999,
            "count": 1
           },
           {
            "bin_end": 0.7995,
            "bin_start": 0.753,
            "count": 1
           },
           {
            "bin_end": 0.846,
            "bin_start": 0.7995,
            "count": 1
           },
           {
            "bin_end": 0.8925,
            "bin_start": 0.846,
            "count": 0
           },
           {
            "bin_end": 0.939,
            "bin_start": 0.8925,
            "count": 1
           }
          ],
          "max": 0.939,
          "min": 0.474,
          "nan_count": 0,
          "unique_count": 5
         }
        },
        {
         "dtype": "float64",
         "name": "instrumentalness",
         "stats": {
          "histogram": [
           {
            "bin_end": 5.9999999999999995e-05,
            "bin_start": 0,
            "count": 4
           },
           {
            "bin_end": 0.00011999999999999999,
            "bin_start": 5.9999999999999995e-05,
            "count": 0
           },
           {
            "bin_end": 0.00017999999999999998,
            "bin_start": 0.00011999999999999999,
            "count": 0
           },
           {
            "bin_end": 0.00023999999999999998,
            "bin_start": 0.00017999999999999998,
            "count": 0
           },
           {
            "bin_end": 0.0003,
            "bin_start": 0.00023999999999999998,
            "count": 0
           },
           {
            "bin_end": 0.00035999999999999997,
            "bin_start": 0.0003,
            "count": 0
           },
           {
            "bin_end": 0.00041999999999999996,
            "bin_start": 0.00035999999999999997,
            "count": 0
           },
           {
            "bin_end": 0.00047999999999999996,
            "bin_start": 0.00041999999999999996,
            "count": 0
           },
           {
            "bin_end": 0.0005399999999999999,
            "bin_start": 0.00047999999999999996,
            "count": 0
           },
           {
            "bin_end": 0.0006,
            "bin_start": 0.0005399999999999999,
            "count": 1
           }
          ],
          "max": 0.0006,
          "min": 0,
          "nan_count": 0,
          "unique_count": 2
         }
        },
        {
         "dtype": "float64",
         "name": "liveness",
         "stats": {
          "histogram": [
           {
            "bin_end": 0.08605,
            "bin_start": 0.0605,
            "count": 3
           },
           {
            "bin_end": 0.1116,
            "bin_start": 0.08605,
            "count": 0
           },
           {
            "bin_end": 0.13715,
            "bin_start": 0.1116,
            "count": 0
           },
           {
            "bin_end": 0.1627,
            "bin_start": 0.13715,
            "count": 0
           },
           {
            "bin_end": 0.18825,
            "bin_start": 0.1627,
            "count": 0
           },
           {
            "bin_end": 0.2138,
            "bin_start": 0.18825,
            "count": 1
           },
           {
            "bin_end": 0.23935,
            "bin_start": 0.2138,
            "count": 0
           },
           {
            "bin_end": 0.2649,
            "bin_start": 0.23935,
            "count": 0
           },
           {
            "bin_end": 0.29045,
            "bin_start": 0.2649,
            "count": 0
           },
           {
            "bin_end": 0.316,
            "bin_start": 0.29045,
            "count": 1
           }
          ],
          "max": 0.316,
          "min": 0.0605,
          "nan_count": 0,
          "unique_count": 5
         }
        },
        {
         "dtype": "float64",
         "name": "valence",
         "stats": {
          "histogram": [
           {
            "bin_end": 0.3467,
            "bin_start": 0.322,
            "count": 2
           },
           {
            "bin_end": 0.3714,
            "bin_start": 0.3467,
            "count": 0
           },
           {
            "bin_end": 0.3961,
            "bin_start": 0.3714,
            "count": 1
           },
           {
            "bin_end": 0.42079999999999995,
            "bin_start": 0.3961,
            "count": 0
           },
           {
            "bin_end": 0.4455,
            "bin_start": 0.42079999999999995,
            "count": 0
           },
           {
            "bin_end": 0.47019999999999995,
            "bin_start": 0.4455,
            "count": 1
           },
           {
            "bin_end": 0.49489999999999995,
            "bin_start": 0.47019999999999995,
            "count": 0
           },
           {
            "bin_end": 0.5196,
            "bin_start": 0.49489999999999995,
            "count": 0
           },
           {
            "bin_end": 0.5443,
            "bin_start": 0.5196,
            "count": 0
           },
           {
            "bin_end": 0.569,
            "bin_start": 0.5443,
            "count": 1
           }
          ],
          "max": 0.569,
          "min": 0.322,
          "nan_count": 0,
          "unique_count": 4
         }
        },
        {
         "dtype": "float64",
         "name": "tempo",
         "stats": {
          "histogram": [
           {
            "bin_end": 86.3825,
            "bin_start": 76.559,
            "count": 2
           },
           {
            "bin_end": 96.206,
            "bin_start": 86.3825,
            "count": 0
           },
           {
            "bin_end": 106.0295,
            "bin_start": 96.206,
            "count": 0
           },
           {
            "bin_end": 115.85300000000001,
            "bin_start": 106.0295,
            "count": 1
           },
           {
            "bin_end": 125.6765,
            "bin_start": 115.85300000000001,
            "count": 1
           },
           {
            "bin_end": 135.5,
            "bin_start": 125.6765,
            "count": 0
           },
           {
            "bin_end": 145.32350000000002,
            "bin_start": 135.5,
            "count": 0
           },
           {
            "bin_end": 155.147,
            "bin_start": 145.32350000000002,
            "count": 0
           },
           {
            "bin_end": 164.97050000000002,
            "bin_start": 155.147,
            "count": 0
           },
           {
            "bin_end": 174.794,
            "bin_start": 164.97050000000002,
            "count": 1
           }
          ],
          "max": 174.794,
          "min": 76.559,
          "nan_count": 0,
          "unique_count": 5
         }
        },
        {
         "dtype": "object",
         "name": "type",
         "stats": {
          "categories": [
           {
            "count": 5,
            "name": "audio_features"
           }
          ],
          "nan_count": 0,
          "unique_count": 1
         }
        },
        {
         "dtype": "object",
         "name": "id",
         "stats": {
          "categories": [
           {
            "count": 1,
            "name": "3E5ndyOfO6vFDEIE42HA8o"
           },
           {
            "count": 1,
            "name": "2y8Eez5cFFf2JzD546LThM"
           },
           {
            "count": 3,
            "name": "3 others"
           }
          ],
          "nan_count": 0,
          "unique_count": 5
         }
        },
        {
         "dtype": "object",
         "name": "uri",
         "stats": {
          "categories": [
           {
            "count": 1,
            "name": "spotify:track:3E5ndyOfO6vFDEIE42HA8o"
           },
           {
            "count": 1,
            "name": "spotify:track:2y8Eez5cFFf2JzD546LThM"
           },
           {
            "count": 3,
            "name": "3 others"
           }
          ],
          "nan_count": 0,
          "unique_count": 5
         }
        },
        {
         "dtype": "object",
         "name": "track_href",
         "stats": {
          "categories": [
           {
            "count": 1,
            "name": "https://api.spotify.com/v1/tracks/3E5ndyOfO6vFDEIE42HA8o"
           },
           {
            "count": 1,
            "name": "https://api.spotify.com/v1/tracks/2y8Eez5cFFf2JzD546LThM"
           },
           {
            "count": 3,
            "name": "3 others"
           }
          ],
          "nan_count": 0,
          "unique_count": 5
         }
        },
        {
         "dtype": "object",
         "name": "analysis_url",
         "stats": {
          "categories": [
           {
            "count": 1,
            "name": "https://api.spotify.com/v1/audio-analysis/3E5ndyOfO6vFDEIE42HA8o"
           },
           {
            "count": 1,
            "name": "https://api.spotify.com/v1/audio-analysis/2y8Eez5cFFf2JzD546LThM"
           },
           {
            "count": 3,
            "name": "3 others"
           }
          ],
          "nan_count": 0,
          "unique_count": 5
         }
        },
        {
         "dtype": "int64",
         "name": "duration_ms",
         "stats": {
          "histogram": [
           {
            "bin_end": 150733.3,
            "bin_start": 147000,
            "count": 2
           },
           {
            "bin_end": 154466.6,
            "bin_start": 150733.3,
            "count": 0
           },
           {
            "bin_end": 158199.9,
            "bin_start": 154466.6,
            "count": 0
           },
           {
            "bin_end": 161933.2,
            "bin_start": 158199.9,
            "count": 0
           },
           {
            "bin_end": 165666.5,
            "bin_start": 161933.2,
            "count": 0
           },
           {
            "bin_end": 169399.8,
            "bin_start": 165666.5,
            "count": 0
           },
           {
            "bin_end": 173133.1,
            "bin_start": 169399.8,
            "count": 0
           },
           {
            "bin_end": 176866.4,
            "bin_start": 173133.1,
            "count": 0
           },
           {
            "bin_end": 180599.7,
            "bin_start": 176866.4,
            "count": 0
           },
           {
            "bin_end": 184333,
            "bin_start": 180599.7,
            "count": 3
           }
          ],
          "max": 184333,
          "min": 147000,
          "nan_count": 0,
          "unique_count": 5
         }
        },
        {
         "dtype": "int64",
         "name": "time_signature",
         "stats": {
          "histogram": [
           {
            "bin_end": 3.1,
            "bin_start": 3,
            "count": 1
           },
           {
            "bin_end": 3.2,
            "bin_start": 3.1,
            "count": 0
           },
           {
            "bin_end": 3.3,
            "bin_start": 3.2,
            "count": 0
           },
           {
            "bin_end": 3.4,
            "bin_start": 3.3,
            "count": 0
           },
           {
            "bin_end": 3.5,
            "bin_start": 3.4,
            "count": 0
           },
           {
            "bin_end": 3.6,
            "bin_start": 3.5,
            "count": 0
           },
           {
            "bin_end": 3.7,
            "bin_start": 3.6,
            "count": 0
           },
           {
            "bin_end": 3.8,
            "bin_start": 3.7,
            "count": 0
           },
           {
            "bin_end": 3.9,
            "bin_start": 3.8,
            "count": 0
           },
           {
            "bin_end": 4,
            "bin_start": 3.9,
            "count": 4
           }
          ],
          "max": 4,
          "min": 3,
          "nan_count": 0,
          "unique_count": 2
         }
        },
        {
         "dtype": "int64",
         "name": "_deepnote_index_column"
        }
       ],
       "row_count": 5,
       "rows_bottom": null,
       "rows_top": [
        {
         "Artist Name": "Bobby Darin",
         "Song Name": "Mack The Knife",
         "_deepnote_index_column": 0,
         "acousticness": 0.76,
         "analysis_url": "https://api.spotify.com/v1/audio-analysis/3E5ndyOfO6vFDEIE42HA8o",
         "danceability": 0.549,
         "duration_ms": 184333,
         "energy": 0.529,
         "id": "3E5ndyOfO6vFDEIE42HA8o",
         "instrumentalness": 0,
         "key": 3,
         "liveness": 0.206,
         "loudness": -12.291,
         "mode": 0,
         "speechiness": 0.108,
         "tempo": 82.755,
         "time_signature": 4,
         "track_href": "https://api.spotify.com/v1/tracks/3E5ndyOfO6vFDEIE42HA8o",
         "type": "audio_features",
         "uri": "spotify:track:3E5ndyOfO6vFDEIE42HA8o",
         "valence": 0.464
        },
        {
         "Artist Name": "Frank Sinatra",
         "Song Name": "Fly Me To The Moon",
         "_deepnote_index_column": 1,
         "acousticness": 0.474,
         "analysis_url": "https://api.spotify.com/v1/audio-analysis/2y8Eez5cFFf2JzD546LThM",
         "danceability": 0.657,
         "duration_ms": 147000,
         "energy": 0.26,
         "id": "2y8Eez5cFFf2JzD546LThM",
         "instrumentalness": 0,
         "key": 7,
         "liveness": 0.0656,
         "loudness": -14.251,
         "mode": 1,
         "speechiness": 0.0521,
         "tempo": 119.358,
         "time_signature": 4,
         "track_href": "https://api.spotify.com/v1/tracks/2y8Eez5cFFf2JzD546LThM",
         "type": "audio_features",
         "uri": "spotify:track:2y8Eez5cFFf2JzD546LThM",
         "valence": 0.378
        },
        {
         "Artist Name": "Etta James",
         "Song Name": "At Last - Single Version",
         "_deepnote_index_column": 2,
         "acousticness": 0.721,
         "analysis_url": "https://api.spotify.com/v1/audio-analysis/0CmIALzGn4vHIHJG4n3Q4z",
         "danceability": 0.168,
         "duration_ms": 182400,
         "energy": 0.326,
         "id": "0CmIALzGn4vHIHJG4n3Q4z",
         "instrumentalness": 0.0006,
         "key": 5,
         "liveness": 0.316,
         "loudness": -9.981,
         "mode": 1,
         "speechiness": 0.0324,
         "tempo": 174.794,
         "time_signature": 3,
         "track_href": "https://api.spotify.com/v1/tracks/0CmIALzGn4vHIHJG4n3Q4z",
         "type": "audio_features",
         "uri": "spotify:track:0CmIALzGn4vHIHJG4n3Q4z",
         "valence": 0.322
        },
        {
         "Artist Name": "Ella Fitzgerald",
         "Song Name": "Dream A Little Dream Of Me",
         "_deepnote_index_column": 3,
         "acousticness": 0.939,
         "analysis_url": "https://api.spotify.com/v1/audio-analysis/3Bbbz0IGORWZSLf9UqsAL4",
         "danceability": 0.631,
         "duration_ms": 182267,
         "energy": 0.127,
         "id": "3Bbbz0IGORWZSLf9UqsAL4",
         "instrumentalness": 0,
         "key": 0,
         "liveness": 0.0732,
         "loudness": -15.333,
         "mode": 1,
         "speechiness": 0.0949,
         "tempo": 76.559,
         "time_signature": 4,
         "track_href": "https://api.spotify.com/v1/tracks/3Bbbz0IGORWZSLf9UqsAL4",
         "type": "audio_features",
         "uri": "spotify:track:3Bbbz0IGORWZSLf9UqsAL4",
         "valence": 0.322
        },
        {
         "Artist Name": "The Chordettes",
         "Song Name": "Mister sandman",
         "_deepnote_index_column": 4,
         "acousticness": 0.841,
         "analysis_url": "https://api.spotify.com/v1/audio-analysis/433nBELvOOtHlZFUO8mZml",
         "danceability": 0.616,
         "duration_ms": 147267,
         "energy": 0.298,
         "id": "433nBELvOOtHlZFUO8mZml",
         "instrumentalness": 0,
         "key": 9,
         "liveness": 0.0605,
         "loudness": -13.191,
         "mode": 1,
         "speechiness": 0.052,
         "tempo": 108.779,
         "time_signature": 4,
         "track_href": "https://api.spotify.com/v1/tracks/433nBELvOOtHlZFUO8mZml",
         "type": "audio_features",
         "uri": "spotify:track:433nBELvOOtHlZFUO8mZml",
         "valence": 0.569
        }
       ]
      },
      "text/html": [
       "<div>\n",
       "<style scoped>\n",
       "    .dataframe tbody tr th:only-of-type {\n",
       "        vertical-align: middle;\n",
       "    }\n",
       "\n",
       "    .dataframe tbody tr th {\n",
       "        vertical-align: top;\n",
       "    }\n",
       "\n",
       "    .dataframe thead th {\n",
       "        text-align: right;\n",
       "    }\n",
       "</style>\n",
       "<table border=\"1\" class=\"dataframe\">\n",
       "  <thead>\n",
       "    <tr style=\"text-align: right;\">\n",
       "      <th></th>\n",
       "      <th>Artist Name</th>\n",
       "      <th>Song Name</th>\n",
       "      <th>danceability</th>\n",
       "      <th>energy</th>\n",
       "      <th>key</th>\n",
       "      <th>loudness</th>\n",
       "      <th>mode</th>\n",
       "      <th>speechiness</th>\n",
       "      <th>acousticness</th>\n",
       "      <th>instrumentalness</th>\n",
       "      <th>liveness</th>\n",
       "      <th>valence</th>\n",
       "      <th>tempo</th>\n",
       "      <th>type</th>\n",
       "      <th>id</th>\n",
       "      <th>uri</th>\n",
       "      <th>track_href</th>\n",
       "      <th>analysis_url</th>\n",
       "      <th>duration_ms</th>\n",
       "      <th>time_signature</th>\n",
       "    </tr>\n",
       "  </thead>\n",
       "  <tbody>\n",
       "    <tr>\n",
       "      <th>0</th>\n",
       "      <td>Bobby Darin</td>\n",
       "      <td>Mack The Knife</td>\n",
       "      <td>0.549</td>\n",
       "      <td>0.529</td>\n",
       "      <td>3</td>\n",
       "      <td>-12.291</td>\n",
       "      <td>0</td>\n",
       "      <td>0.1080</td>\n",
       "      <td>0.760</td>\n",
       "      <td>0.0000</td>\n",
       "      <td>0.2060</td>\n",
       "      <td>0.464</td>\n",
       "      <td>82.755</td>\n",
       "      <td>audio_features</td>\n",
       "      <td>3E5ndyOfO6vFDEIE42HA8o</td>\n",
       "      <td>spotify:track:3E5ndyOfO6vFDEIE42HA8o</td>\n",
       "      <td>https://api.spotify.com/v1/tracks/3E5ndyOfO6vF...</td>\n",
       "      <td>https://api.spotify.com/v1/audio-analysis/3E5n...</td>\n",
       "      <td>184333</td>\n",
       "      <td>4</td>\n",
       "    </tr>\n",
       "    <tr>\n",
       "      <th>1</th>\n",
       "      <td>Frank Sinatra</td>\n",
       "      <td>Fly Me To The Moon</td>\n",
       "      <td>0.657</td>\n",
       "      <td>0.260</td>\n",
       "      <td>7</td>\n",
       "      <td>-14.251</td>\n",
       "      <td>1</td>\n",
       "      <td>0.0521</td>\n",
       "      <td>0.474</td>\n",
       "      <td>0.0000</td>\n",
       "      <td>0.0656</td>\n",
       "      <td>0.378</td>\n",
       "      <td>119.358</td>\n",
       "      <td>audio_features</td>\n",
       "      <td>2y8Eez5cFFf2JzD546LThM</td>\n",
       "      <td>spotify:track:2y8Eez5cFFf2JzD546LThM</td>\n",
       "      <td>https://api.spotify.com/v1/tracks/2y8Eez5cFFf2...</td>\n",
       "      <td>https://api.spotify.com/v1/audio-analysis/2y8E...</td>\n",
       "      <td>147000</td>\n",
       "      <td>4</td>\n",
       "    </tr>\n",
       "    <tr>\n",
       "      <th>2</th>\n",
       "      <td>Etta James</td>\n",
       "      <td>At Last - Single Version</td>\n",
       "      <td>0.168</td>\n",
       "      <td>0.326</td>\n",
       "      <td>5</td>\n",
       "      <td>-9.981</td>\n",
       "      <td>1</td>\n",
       "      <td>0.0324</td>\n",
       "      <td>0.721</td>\n",
       "      <td>0.0006</td>\n",
       "      <td>0.3160</td>\n",
       "      <td>0.322</td>\n",
       "      <td>174.794</td>\n",
       "      <td>audio_features</td>\n",
       "      <td>0CmIALzGn4vHIHJG4n3Q4z</td>\n",
       "      <td>spotify:track:0CmIALzGn4vHIHJG4n3Q4z</td>\n",
       "      <td>https://api.spotify.com/v1/tracks/0CmIALzGn4vH...</td>\n",
       "      <td>https://api.spotify.com/v1/audio-analysis/0CmI...</td>\n",
       "      <td>182400</td>\n",
       "      <td>3</td>\n",
       "    </tr>\n",
       "    <tr>\n",
       "      <th>3</th>\n",
       "      <td>Ella Fitzgerald</td>\n",
       "      <td>Dream A Little Dream Of Me</td>\n",
       "      <td>0.631</td>\n",
       "      <td>0.127</td>\n",
       "      <td>0</td>\n",
       "      <td>-15.333</td>\n",
       "      <td>1</td>\n",
       "      <td>0.0949</td>\n",
       "      <td>0.939</td>\n",
       "      <td>0.0000</td>\n",
       "      <td>0.0732</td>\n",
       "      <td>0.322</td>\n",
       "      <td>76.559</td>\n",
       "      <td>audio_features</td>\n",
       "      <td>3Bbbz0IGORWZSLf9UqsAL4</td>\n",
       "      <td>spotify:track:3Bbbz0IGORWZSLf9UqsAL4</td>\n",
       "      <td>https://api.spotify.com/v1/tracks/3Bbbz0IGORWZ...</td>\n",
       "      <td>https://api.spotify.com/v1/audio-analysis/3Bbb...</td>\n",
       "      <td>182267</td>\n",
       "      <td>4</td>\n",
       "    </tr>\n",
       "    <tr>\n",
       "      <th>4</th>\n",
       "      <td>The Chordettes</td>\n",
       "      <td>Mister sandman</td>\n",
       "      <td>0.616</td>\n",
       "      <td>0.298</td>\n",
       "      <td>9</td>\n",
       "      <td>-13.191</td>\n",
       "      <td>1</td>\n",
       "      <td>0.0520</td>\n",
       "      <td>0.841</td>\n",
       "      <td>0.0000</td>\n",
       "      <td>0.0605</td>\n",
       "      <td>0.569</td>\n",
       "      <td>108.779</td>\n",
       "      <td>audio_features</td>\n",
       "      <td>433nBELvOOtHlZFUO8mZml</td>\n",
       "      <td>spotify:track:433nBELvOOtHlZFUO8mZml</td>\n",
       "      <td>https://api.spotify.com/v1/tracks/433nBELvOOtH...</td>\n",
       "      <td>https://api.spotify.com/v1/audio-analysis/433n...</td>\n",
       "      <td>147267</td>\n",
       "      <td>4</td>\n",
       "    </tr>\n",
       "  </tbody>\n",
       "</table>\n",
       "</div>"
      ],
      "text/plain": [
       "       Artist Name                   Song Name  danceability  energy  key  \\\n",
       "0      Bobby Darin              Mack The Knife         0.549   0.529    3   \n",
       "1    Frank Sinatra          Fly Me To The Moon         0.657   0.260    7   \n",
       "2       Etta James    At Last - Single Version         0.168   0.326    5   \n",
       "3  Ella Fitzgerald  Dream A Little Dream Of Me         0.631   0.127    0   \n",
       "4   The Chordettes              Mister sandman         0.616   0.298    9   \n",
       "\n",
       "   loudness  mode  speechiness  acousticness  instrumentalness  liveness  \\\n",
       "0   -12.291     0       0.1080         0.760            0.0000    0.2060   \n",
       "1   -14.251     1       0.0521         0.474            0.0000    0.0656   \n",
       "2    -9.981     1       0.0324         0.721            0.0006    0.3160   \n",
       "3   -15.333     1       0.0949         0.939            0.0000    0.0732   \n",
       "4   -13.191     1       0.0520         0.841            0.0000    0.0605   \n",
       "\n",
       "   valence    tempo            type                      id  \\\n",
       "0    0.464   82.755  audio_features  3E5ndyOfO6vFDEIE42HA8o   \n",
       "1    0.378  119.358  audio_features  2y8Eez5cFFf2JzD546LThM   \n",
       "2    0.322  174.794  audio_features  0CmIALzGn4vHIHJG4n3Q4z   \n",
       "3    0.322   76.559  audio_features  3Bbbz0IGORWZSLf9UqsAL4   \n",
       "4    0.569  108.779  audio_features  433nBELvOOtHlZFUO8mZml   \n",
       "\n",
       "                                    uri  \\\n",
       "0  spotify:track:3E5ndyOfO6vFDEIE42HA8o   \n",
       "1  spotify:track:2y8Eez5cFFf2JzD546LThM   \n",
       "2  spotify:track:0CmIALzGn4vHIHJG4n3Q4z   \n",
       "3  spotify:track:3Bbbz0IGORWZSLf9UqsAL4   \n",
       "4  spotify:track:433nBELvOOtHlZFUO8mZml   \n",
       "\n",
       "                                          track_href  \\\n",
       "0  https://api.spotify.com/v1/tracks/3E5ndyOfO6vF...   \n",
       "1  https://api.spotify.com/v1/tracks/2y8Eez5cFFf2...   \n",
       "2  https://api.spotify.com/v1/tracks/0CmIALzGn4vH...   \n",
       "3  https://api.spotify.com/v1/tracks/3Bbbz0IGORWZ...   \n",
       "4  https://api.spotify.com/v1/tracks/433nBELvOOtH...   \n",
       "\n",
       "                                        analysis_url  duration_ms  \\\n",
       "0  https://api.spotify.com/v1/audio-analysis/3E5n...       184333   \n",
       "1  https://api.spotify.com/v1/audio-analysis/2y8E...       147000   \n",
       "2  https://api.spotify.com/v1/audio-analysis/0CmI...       182400   \n",
       "3  https://api.spotify.com/v1/audio-analysis/3Bbb...       182267   \n",
       "4  https://api.spotify.com/v1/audio-analysis/433n...       147267   \n",
       "\n",
       "   time_signature  \n",
       "0               4  \n",
       "1               4  \n",
       "2               3  \n",
       "3               4  \n",
       "4               4  "
      ]
     },
     "execution_count": 23,
     "metadata": {},
     "output_type": "execute_result"
    }
   ],
   "source": [
    "t1_final.head()"
   ]
  },
  {
   "cell_type": "code",
   "execution_count": 24,
   "metadata": {
    "cell_id": "00027-e2d6c05e-f59d-48e2-882a-3898d23fcc0e",
    "deepnote_cell_type": "code",
    "execution_millis": 44,
    "execution_start": 1606609502431,
    "output_cleared": false,
    "source_hash": "ecdd051a",
    "tags": []
   },
   "outputs": [],
   "source": [
    "from sklearn.model_selection import train_test_split\n",
    "from sklearn.neighbors import KNeighborsClassifier\n",
    "\n",
    "# Using 'mode' as a placeholder for now to test process. Switch out for class once decided upon.\n",
    "y = t1_final['key']\n",
    "\n",
    "X = t1_final.drop(columns = 'key')\n",
    "X_train, X_test, y_train, y_test = train_test_split(X, y, test_size=0.30)\n"
   ]
  },
  {
   "cell_type": "markdown",
   "metadata": {
    "cell_id": "00027-aa99edb3-d439-48ce-b399-13dbabf662cf",
    "deepnote_cell_type": "markdown",
    "output_cleared": false,
    "tags": []
   },
   "source": []
  },
  {
   "cell_type": "code",
   "execution_count": 25,
   "metadata": {
    "cell_id": "00029-a0afd886-01e5-4bd3-a895-0324a65339f7",
    "deepnote_cell_type": "code",
    "execution_millis": 985,
    "execution_start": 1606609502518,
    "output_cleared": false,
    "source_hash": "98436dce",
    "tags": []
   },
   "outputs": [],
   "source": [
    "from sklearn.neighbors import KNeighborsClassifier\n",
    "\n",
    "formatted_X_train = drop_string(X_train)\n",
    "\n",
    "knn = KNeighborsClassifier(n_neighbors = 5)\n",
    "knn.fit(formatted_X_train, y_train)\n",
    "\n",
    "formatted_X_test = drop_string(X_test)\n",
    "preds = knn.predict(formatted_X_test)"
   ]
  },
  {
   "cell_type": "code",
   "execution_count": 26,
   "metadata": {
    "cell_id": "00032-1341452a-7233-489a-8bd4-796f8141a637",
    "deepnote_cell_type": "code",
    "execution_millis": 187,
    "execution_start": 1606609503512,
    "output_cleared": false,
    "source_hash": "80521886",
    "tags": []
   },
   "outputs": [
    {
     "data": {
      "text/plain": [
       "array([[0. , 0.4, 0.2, ..., 0. , 0. , 0.2],\n",
       "       [0. , 0. , 0. , ..., 0.2, 0. , 0. ],\n",
       "       [0. , 0. , 0. , ..., 0.2, 0.2, 0.2],\n",
       "       ...,\n",
       "       [0.2, 0. , 0. , ..., 0.2, 0.2, 0.2],\n",
       "       [0.2, 0.2, 0.2, ..., 0. , 0. , 0. ],\n",
       "       [0. , 0.4, 0.2, ..., 0.2, 0. , 0. ]])"
      ]
     },
     "execution_count": 26,
     "metadata": {},
     "output_type": "execute_result"
    }
   ],
   "source": [
    "# probabililty of correctness\n",
    "probabilities = knn.predict_proba(formatted_X_test)\n",
    "probabilities"
   ]
  },
  {
   "cell_type": "code",
   "execution_count": 27,
   "metadata": {
    "cell_id": "00033-e76e21f8-47aa-4b3e-8dc0-64e2d1d79f4e",
    "deepnote_cell_type": "code",
    "execution_millis": 59,
    "execution_start": 1606609503714,
    "output_cleared": false,
    "source_hash": "62823507",
    "tags": []
   },
   "outputs": [
    {
     "name": "stderr",
     "output_type": "stream",
     "text": [
      "/opt/venv/lib/python3.7/site-packages/ipykernel_launcher.py:1: SettingWithCopyWarning: \n",
      "A value is trying to be set on a copy of a slice from a DataFrame.\n",
      "Try using .loc[row_indexer,col_indexer] = value instead\n",
      "\n",
      "See the caveats in the documentation: https://pandas.pydata.org/pandas-docs/stable/user_guide/indexing.html#returning-a-view-versus-a-copy\n",
      "  \"\"\"Entry point for launching an IPython kernel.\n"
     ]
    },
    {
     "data": {
      "application/vnd.deepnote.dataframe.v2+json": {
       "column_count": 20,
       "columns": [
        {
         "dtype": "object",
         "name": "Artist Name",
         "stats": {
          "categories": [
           {
            "count": 1,
            "name": "Ed Tullett"
           },
           {
            "count": 1,
            "name": "Children Of Bodom"
           },
           {
            "count": 3,
            "name": "3 others"
           }
          ],
          "nan_count": 0,
          "unique_count": 5
         }
        },
        {
         "dtype": "object",
         "name": "Song Name",
         "stats": {
          "categories": [
           {
            "count": 1,
            "name": "Faux"
           },
           {
            "count": 1,
            "name": "Are You Dead Yet"
           },
           {
            "count": 3,
            "name": "3 others"
           }
          ],
          "nan_count": 0,
          "unique_count": 5
         }
        },
        {
         "dtype": "float64",
         "name": "danceability",
         "stats": {
          "histogram": [
           {
            "bin_end": 0.28859999999999997,
            "bin_start": 0.242,
            "count": 1
           },
           {
            "bin_end": 0.3352,
            "bin_start": 0.28859999999999997,
            "count": 0
           },
           {
            "bin_end": 0.3818,
            "bin_start": 0.3352,
            "count": 0
           },
           {
            "bin_end": 0.4284,
            "bin_start": 0.3818,
            "count": 0
           },
           {
            "bin_end": 0.475,
            "bin_start": 0.4284,
            "count": 1
           },
           {
            "bin_end": 0.5216,
            "bin_start": 0.475,
            "count": 0
           },
           {
            "bin_end": 0.5682,
            "bin_start": 0.5216,
            "count": 1
           },
           {
            "bin_end": 0.6148,
            "bin_start": 0.5682,
            "count": 0
           },
           {
            "bin_end": 0.6614,
            "bin_start": 0.6148,
            "count": 1
           },
           {
            "bin_end": 0.708,
            "bin_start": 0.6614,
            "count": 1
           }
          ],
          "max": 0.708,
          "min": 0.242,
          "nan_count": 0,
          "unique_count": 5
         }
        },
        {
         "dtype": "float64",
         "name": "energy",
         "stats": {
          "histogram": [
           {
            "bin_end": 0.45940000000000003,
            "bin_start": 0.403,
            "count": 3
           },
           {
            "bin_end": 0.5158,
            "bin_start": 0.45940000000000003,
            "count": 0
           },
           {
            "bin_end": 0.5722,
            "bin_start": 0.5158,
            "count": 0
           },
           {
            "bin_end": 0.6286,
            "bin_start": 0.5722,
            "count": 0
           },
           {
            "bin_end": 0.685,
            "bin_start": 0.6286,
            "count": 0
           },
           {
            "bin_end": 0.7414,
            "bin_start": 0.685,
            "count": 0
           },
           {
            "bin_end": 0.7978,
            "bin_start": 0.7414,
            "count": 1
           },
           {
            "bin_end": 0.8542,
            "bin_start": 0.7978,
            "count": 0
           },
           {
            "bin_end": 0.9106,
            "bin_start": 0.8542,
            "count": 0
           },
           {
            "bin_end": 0.967,
            "bin_start": 0.9106,
            "count": 1
           }
          ],
          "max": 0.967,
          "min": 0.403,
          "nan_count": 0,
          "unique_count": 5
         }
        },
        {
         "dtype": "float64",
         "name": "loudness",
         "stats": {
          "histogram": [
           {
            "bin_end": -11.2151,
            "bin_start": -12.129,
            "count": 1
           },
           {
            "bin_end": -10.3012,
            "bin_start": -11.2151,
            "count": 0
           },
           {
            "bin_end": -9.3873,
            "bin_start": -10.3012,
            "count": 0
           },
           {
            "bin_end": -8.4734,
            "bin_start": -9.3873,
            "count": 1
           },
           {
            "bin_end": -7.5595,
            "bin_start": -8.4734,
            "count": 1
           },
           {
            "bin_end": -6.6456,
            "bin_start": -7.5595,
            "count": 0
           },
           {
            "bin_end": -5.7317,
            "bin_start": -6.6456,
            "count": 0
           },
           {
            "bin_end": -4.8178,
            "bin_start": -5.7317,
            "count": 0
           },
           {
            "bin_end": -3.9039,
            "bin_start": -4.8178,
            "count": 1
           },
           {
            "bin_end": -2.99,
            "bin_start": -3.9039,
            "count": 1
           }
          ],
          "max": -2.99,
          "min": -12.129,
          "nan_count": 0,
          "unique_count": 5
         }
        },
        {
         "dtype": "int64",
         "name": "mode",
         "stats": {
          "histogram": [
           {
            "bin_end": 0.6,
            "bin_start": 0.5,
            "count": 0
           },
           {
            "bin_end": 0.7,
            "bin_start": 0.6,
            "count": 0
           },
           {
            "bin_end": 0.8,
            "bin_start": 0.7,
            "count": 0
           },
           {
            "bin_end": 0.9,
            "bin_start": 0.8,
            "count": 0
           },
           {
            "bin_end": 1,
            "bin_start": 0.9,
            "count": 0
           },
           {
            "bin_end": 1.1,
            "bin_start": 1,
            "count": 5
           },
           {
            "bin_end": 1.2000000000000002,
            "bin_start": 1.1,
            "count": 0
           },
           {
            "bin_end": 1.3,
            "bin_start": 1.2000000000000002,
            "count": 0
           },
           {
            "bin_end": 1.4,
            "bin_start": 1.3,
            "count": 0
           },
           {
            "bin_end": 1.5,
            "bin_start": 1.4,
            "count": 0
           }
          ],
          "max": 1,
          "min": 1,
          "nan_count": 0,
          "unique_count": 1
         }
        },
        {
         "dtype": "float64",
         "name": "speechiness",
         "stats": {
          "histogram": [
           {
            "bin_end": 0.030440000000000002,
            "bin_start": 0.0253,
            "count": 2
           },
           {
            "bin_end": 0.03558,
            "bin_start": 0.030440000000000002,
            "count": 1
           },
           {
            "bin_end": 0.04072,
            "bin_start": 0.03558,
            "count": 0
           },
           {
            "bin_end": 0.04586,
            "bin_start": 0.04072,
            "count": 0
           },
           {
            "bin_end": 0.051000000000000004,
            "bin_start": 0.04586,
            "count": 1
           },
           {
            "bin_end": 0.05614,
            "bin_start": 0.051000000000000004,
            "count": 0
           },
           {
            "bin_end": 0.06128,
            "bin_start": 0.05614,
            "count": 0
           },
           {
            "bin_end": 0.06642,
            "bin_start": 0.06128,
            "count": 0
           },
           {
            "bin_end": 0.07156,
            "bin_start": 0.06642,
            "count": 0
           },
           {
            "bin_end": 0.0767,
            "bin_start": 0.07156,
            "count": 1
           }
          ],
          "max": 0.0767,
          "min": 0.0253,
          "nan_count": 0,
          "unique_count": 5
         }
        },
        {
         "dtype": "float64",
         "name": "acousticness",
         "stats": {
          "histogram": [
           {
            "bin_end": 0.08600565199999999,
            "bin_start": 6.28e-06,
            "count": 1
           },
           {
            "bin_end": 0.17200502399999998,
            "bin_start": 0.08600565199999999,
            "count": 0
           },
           {
            "bin_end": 0.258004396,
            "bin_start": 0.17200502399999998,
            "count": 1
           },
           {
            "bin_end": 0.344003768,
            "bin_start": 0.258004396,
            "count": 1
           },
           {
            "bin_end": 0.43000313999999995,
            "bin_start": 0.344003768,
            "count": 0
           },
           {
            "bin_end": 0.516002512,
            "bin_start": 0.43000313999999995,
            "count": 1
           },
           {
            "bin_end": 0.602001884,
            "bin_start": 0.516002512,
            "count": 0
           },
           {
            "bin_end": 0.688001256,
            "bin_start": 0.602001884,
            "count": 0
           },
           {
            "bin_end": 0.7740006279999999,
            "bin_start": 0.688001256,
            "count": 0
           },
           {
            "bin_end": 0.86,
            "bin_start": 0.7740006279999999,
            "count": 1
           }
          ],
          "max": 0.86,
          "min": 6.28e-06,
          "nan_count": 0,
          "unique_count": 5
         }
        },
        {
         "dtype": "float64",
         "name": "instrumentalness",
         "stats": {
          "histogram": [
           {
            "bin_end": 0.031,
            "bin_start": 0,
            "count": 3
           },
           {
            "bin_end": 0.062,
            "bin_start": 0.031,
            "count": 0
           },
           {
            "bin_end": 0.093,
            "bin_start": 0.062,
            "count": 0
           },
           {
            "bin_end": 0.124,
            "bin_start": 0.093,
            "count": 0
           },
           {
            "bin_end": 0.155,
            "bin_start": 0.124,
            "count": 0
           },
           {
            "bin_end": 0.186,
            "bin_start": 0.155,
            "count": 0
           },
           {
            "bin_end": 0.217,
            "bin_start": 0.186,
            "count": 0
           },
           {
            "bin_end": 0.248,
            "bin_start": 0.217,
            "count": 1
           },
           {
            "bin_end": 0.279,
            "bin_start": 0.248,
            "count": 0
           },
           {
            "bin_end": 0.31,
            "bin_start": 0.279,
            "count": 1
           }
          ],
          "max": 0.31,
          "min": 0,
          "nan_count": 0,
          "unique_count": 3
         }
        },
        {
         "dtype": "float64",
         "name": "liveness",
         "stats": {
          "histogram": [
           {
            "bin_end": 0.16425,
            "bin_start": 0.0745,
            "count": 3
           },
           {
            "bin_end": 0.254,
            "bin_start": 0.16425,
            "count": 0
           },
           {
            "bin_end": 0.34375,
            "bin_start": 0.254,
            "count": 1
           },
           {
            "bin_end": 0.4335,
            "bin_start": 0.34375,
            "count": 0
           },
           {
            "bin_end": 0.52325,
            "bin_start": 0.4335,
            "count": 0
           },
           {
            "bin_end": 0.613,
            "bin_start": 0.52325,
            "count": 0
           },
           {
            "bin_end": 0.70275,
            "bin_start": 0.613,
            "count": 0
           },
           {
            "bin_end": 0.7925,
            "bin_start": 0.70275,
            "count": 0
           },
           {
            "bin_end": 0.88225,
            "bin_start": 0.7925,
            "count": 0
           },
           {
            "bin_end": 0.972,
            "bin_start": 0.88225,
            "count": 1
           }
          ],
          "max": 0.972,
          "min": 0.0745,
          "nan_count": 0,
          "unique_count": 5
         }
        },
        {
         "dtype": "float64",
         "name": "valence",
         "stats": {
          "histogram": [
           {
            "bin_end": 0.2838,
            "bin_start": 0.25,
            "count": 1
           },
           {
            "bin_end": 0.3176,
            "bin_start": 0.2838,
            "count": 2
           },
           {
            "bin_end": 0.3514,
            "bin_start": 0.3176,
            "count": 0
           },
           {
            "bin_end": 0.3852,
            "bin_start": 0.3514,
            "count": 0
           },
           {
            "bin_end": 0.419,
            "bin_start": 0.3852,
            "count": 1
           },
           {
            "bin_end": 0.4528,
            "bin_start": 0.419,
            "count": 0
           },
           {
            "bin_end": 0.4866,
            "bin_start": 0.4528,
            "count": 0
           },
           {
            "bin_end": 0.5204,
            "bin_start": 0.4866,
            "count": 0
           },
           {
            "bin_end": 0.5542,
            "bin_start": 0.5204,
            "count": 0
           },
           {
            "bin_end": 0.588,
            "bin_start": 0.5542,
            "count": 1
           }
          ],
          "max": 0.588,
          "min": 0.25,
          "nan_count": 0,
          "unique_count": 5
         }
        },
        {
         "dtype": "float64",
         "name": "tempo",
         "stats": {
          "histogram": [
           {
            "bin_end": 81.05449999999999,
            "bin_start": 73.847,
            "count": 1
           },
           {
            "bin_end": 88.262,
            "bin_start": 81.05449999999999,
            "count": 0
           },
           {
            "bin_end": 95.4695,
            "bin_start": 88.262,
            "count": 1
           },
           {
            "bin_end": 102.67699999999999,
            "bin_start": 95.4695,
            "count": 1
           },
           {
            "bin_end": 109.8845,
            "bin_start": 102.67699999999999,
            "count": 0
           },
           {
            "bin_end": 117.092,
            "bin_start": 109.8845,
            "count": 0
           },
           {
            "bin_end": 124.2995,
            "bin_start": 117.092,
            "count": 0
           },
           {
            "bin_end": 131.507,
            "bin_start": 124.2995,
            "count": 0
           },
           {
            "bin_end": 138.7145,
            "bin_start": 131.507,
            "count": 0
           },
           {
            "bin_end": 145.922,
            "bin_start": 138.7145,
            "count": 2
           }
          ],
          "max": 145.922,
          "min": 73.847,
          "nan_count": 0,
          "unique_count": 5
         }
        },
        {
         "dtype": "object",
         "name": "type",
         "stats": {
          "categories": [
           {
            "count": 5,
            "name": "audio_features"
           }
          ],
          "nan_count": 0,
          "unique_count": 1
         }
        },
        {
         "dtype": "object",
         "name": "id",
         "stats": {
          "categories": [
           {
            "count": 1,
            "name": "0d9UAfLZnNNKhr5zUd9nfv"
           },
           {
            "count": 1,
            "name": "7i6UQPAHgqgMGJJK7elUGS"
           },
           {
            "count": 3,
            "name": "3 others"
           }
          ],
          "nan_count": 0,
          "unique_count": 5
         }
        },
        {
         "dtype": "object",
         "name": "uri",
         "stats": {
          "categories": [
           {
            "count": 1,
            "name": "spotify:track:0d9UAfLZnNNKhr5zUd9nfv"
           },
           {
            "count": 1,
            "name": "spotify:track:7i6UQPAHgqgMGJJK7elUGS"
           },
           {
            "count": 3,
            "name": "3 others"
           }
          ],
          "nan_count": 0,
          "unique_count": 5
         }
        },
        {
         "dtype": "object",
         "name": "track_href",
         "stats": {
          "categories": [
           {
            "count": 1,
            "name": "https://api.spotify.com/v1/tracks/0d9UAfLZnNNKhr5zUd9nfv"
           },
           {
            "count": 1,
            "name": "https://api.spotify.com/v1/tracks/7i6UQPAHgqgMGJJK7elUGS"
           },
           {
            "count": 3,
            "name": "3 others"
           }
          ],
          "nan_count": 0,
          "unique_count": 5
         }
        },
        {
         "dtype": "object",
         "name": "analysis_url",
         "stats": {
          "categories": [
           {
            "count": 1,
            "name": "https://api.spotify.com/v1/audio-analysis/0d9UAfLZnNNKhr5zUd9nfv"
           },
           {
            "count": 1,
            "name": "https://api.spotify.com/v1/audio-analysis/7i6UQPAHgqgMGJJK7elUGS"
           },
           {
            "count": 3,
            "name": "3 others"
           }
          ],
          "nan_count": 0,
          "unique_count": 5
         }
        },
        {
         "dtype": "int64",
         "name": "duration_ms",
         "stats": {
          "histogram": [
           {
            "bin_end": 159937.5,
            "bin_start": 147467,
            "count": 1
           },
           {
            "bin_end": 172408,
            "bin_start": 159937.5,
            "count": 0
           },
           {
            "bin_end": 184878.5,
            "bin_start": 172408,
            "count": 0
           },
           {
            "bin_end": 197349,
            "bin_start": 184878.5,
            "count": 0
           },
           {
            "bin_end": 209819.5,
            "bin_start": 197349,
            "count": 0
           },
           {
            "bin_end": 222290,
            "bin_start": 209819.5,
            "count": 0
           },
           {
            "bin_end": 234760.5,
            "bin_start": 222290,
            "count": 1
           },
           {
            "bin_end": 247231,
            "bin_start": 234760.5,
            "count": 1
           },
           {
            "bin_end": 259701.5,
            "bin_start": 247231,
            "count": 0
           },
           {
            "bin_end": 272172,
            "bin_start": 259701.5,
            "count": 2
           }
          ],
          "max": 272172,
          "min": 147467,
          "nan_count": 0,
          "unique_count": 5
         }
        },
        {
         "dtype": "int64",
         "name": "time_signature",
         "stats": {
          "histogram": [
           {
            "bin_end": 3.1,
            "bin_start": 3,
            "count": 1
           },
           {
            "bin_end": 3.2,
            "bin_start": 3.1,
            "count": 0
           },
           {
            "bin_end": 3.3,
            "bin_start": 3.2,
            "count": 0
           },
           {
            "bin_end": 3.4,
            "bin_start": 3.3,
            "count": 0
           },
           {
            "bin_end": 3.5,
            "bin_start": 3.4,
            "count": 0
           },
           {
            "bin_end": 3.6,
            "bin_start": 3.5,
            "count": 0
           },
           {
            "bin_end": 3.7,
            "bin_start": 3.6,
            "count": 0
           },
           {
            "bin_end": 3.8,
            "bin_start": 3.7,
            "count": 0
           },
           {
            "bin_end": 3.9,
            "bin_start": 3.8,
            "count": 0
           },
           {
            "bin_end": 4,
            "bin_start": 3.9,
            "count": 4
           }
          ],
          "max": 4,
          "min": 3,
          "nan_count": 0,
          "unique_count": 2
         }
        },
        {
         "dtype": "float64",
         "name": "Probability of Correctness",
         "stats": {
          "histogram": [
           {
            "bin_end": 0.04,
            "bin_start": 0,
            "count": 4
           },
           {
            "bin_end": 0.08,
            "bin_start": 0.04,
            "count": 0
           },
           {
            "bin_end": 0.12,
            "bin_start": 0.08,
            "count": 0
           },
           {
            "bin_end": 0.16,
            "bin_start": 0.12,
            "count": 0
           },
           {
            "bin_end": 0.2,
            "bin_start": 0.16,
            "count": 0
           },
           {
            "bin_end": 0.24,
            "bin_start": 0.2,
            "count": 0
           },
           {
            "bin_end": 0.28,
            "bin_start": 0.24,
            "count": 0
           },
           {
            "bin_end": 0.32,
            "bin_start": 0.28,
            "count": 0
           },
           {
            "bin_end": 0.36,
            "bin_start": 0.32,
            "count": 0
           },
           {
            "bin_end": 0.4,
            "bin_start": 0.36,
            "count": 1
           }
          ],
          "max": 0.4,
          "min": 0,
          "nan_count": 0,
          "unique_count": 2
         }
        },
        {
         "dtype": "int64",
         "name": "_deepnote_index_column"
        }
       ],
       "row_count": 5,
       "rows_bottom": null,
       "rows_top": [
        {
         "Artist Name": "Ed Tullett",
         "Probability of Correctness": 0.4,
         "Song Name": "Faux",
         "_deepnote_index_column": 4879,
         "acousticness": 0.86,
         "analysis_url": "https://api.spotify.com/v1/audio-analysis/0d9UAfLZnNNKhr5zUd9nfv",
         "danceability": 0.242,
         "duration_ms": 272172,
         "energy": 0.421,
         "id": "0d9UAfLZnNNKhr5zUd9nfv",
         "instrumentalness": 0.233,
         "liveness": 0.108,
         "loudness": -12.129,
         "mode": 1,
         "speechiness": 0.0309,
         "tempo": 144.937,
         "time_signature": 3,
         "track_href": "https://api.spotify.com/v1/tracks/0d9UAfLZnNNKhr5zUd9nfv",
         "type": "audio_features",
         "uri": "spotify:track:0d9UAfLZnNNKhr5zUd9nfv",
         "valence": 0.25
        },
        {
         "Artist Name": "Children Of Bodom",
         "Probability of Correctness": 0,
         "Song Name": "Are You Dead Yet",
         "_deepnote_index_column": 74842,
         "acousticness": 6.28e-06,
         "analysis_url": "https://api.spotify.com/v1/audio-analysis/7i6UQPAHgqgMGJJK7elUGS",
         "danceability": 0.467,
         "duration_ms": 234880,
         "energy": 0.967,
         "id": "7i6UQPAHgqgMGJJK7elUGS",
         "instrumentalness": 0.31,
         "liveness": 0.301,
         "loudness": -2.99,
         "mode": 1,
         "speechiness": 0.0491,
         "tempo": 95.991,
         "time_signature": 4,
         "track_href": "https://api.spotify.com/v1/tracks/7i6UQPAHgqgMGJJK7elUGS",
         "type": "audio_features",
         "uri": "spotify:track:7i6UQPAHgqgMGJJK7elUGS",
         "valence": 0.312
        },
        {
         "Artist Name": "Amy Winehouse",
         "Probability of Correctness": 0,
         "Song Name": "I Heard Love Is Blind - Live At Concorde, Brighton / 2008",
         "_deepnote_index_column": 31323,
         "acousticness": 0.24,
         "analysis_url": "https://api.spotify.com/v1/audio-analysis/1xYOULOeZuBdO3dvDz2BwH",
         "danceability": 0.708,
         "duration_ms": 147467,
         "energy": 0.403,
         "id": "1xYOULOeZuBdO3dvDz2BwH",
         "instrumentalness": 0,
         "liveness": 0.972,
         "loudness": -9.266,
         "mode": 1,
         "speechiness": 0.0767,
         "tempo": 73.847,
         "time_signature": 4,
         "track_href": "https://api.spotify.com/v1/tracks/1xYOULOeZuBdO3dvDz2BwH",
         "type": "audio_features",
         "uri": "spotify:track:1xYOULOeZuBdO3dvDz2BwH",
         "valence": 0.418
        },
        {
         "Artist Name": "Glee Cast",
         "Probability of Correctness": 0,
         "Song Name": "Landslide (Glee Cast Version featuring Gwyneth Paltrow)",
         "_deepnote_index_column": 17409,
         "acousticness": 0.434,
         "analysis_url": "https://api.spotify.com/v1/audio-analysis/0DuRaBhrsPbIyQfakgQrlI",
         "danceability": 0.637,
         "duration_ms": 226760,
         "energy": 0.416,
         "id": "0DuRaBhrsPbIyQfakgQrlI",
         "instrumentalness": 0,
         "liveness": 0.139,
         "loudness": -7.595,
         "mode": 1,
         "speechiness": 0.0269,
         "tempo": 145.922,
         "time_signature": 4,
         "track_href": "https://api.spotify.com/v1/tracks/0DuRaBhrsPbIyQfakgQrlI",
         "type": "audio_features",
         "uri": "spotify:track:0DuRaBhrsPbIyQfakgQrlI",
         "valence": 0.588
        },
        {
         "Artist Name": "Keith Anderson",
         "Probability of Correctness": 0,
         "Song Name": "Every Time I Hear Your Name",
         "_deepnote_index_column": 80412,
         "acousticness": 0.277,
         "analysis_url": "https://api.spotify.com/v1/audio-analysis/3aVCHTY93NQQbOcDDbwwXA",
         "danceability": 0.562,
         "duration_ms": 263027,
         "energy": 0.757,
         "id": "3aVCHTY93NQQbOcDDbwwXA",
         "instrumentalness": 0,
         "liveness": 0.0745,
         "loudness": -3.945,
         "mode": 1,
         "speechiness": 0.0253,
         "tempo": 93.02,
         "time_signature": 4,
         "track_href": "https://api.spotify.com/v1/tracks/3aVCHTY93NQQbOcDDbwwXA",
         "type": "audio_features",
         "uri": "spotify:track:3aVCHTY93NQQbOcDDbwwXA",
         "valence": 0.299
        }
       ]
      },
      "text/html": [
       "<div>\n",
       "<style scoped>\n",
       "    .dataframe tbody tr th:only-of-type {\n",
       "        vertical-align: middle;\n",
       "    }\n",
       "\n",
       "    .dataframe tbody tr th {\n",
       "        vertical-align: top;\n",
       "    }\n",
       "\n",
       "    .dataframe thead th {\n",
       "        text-align: right;\n",
       "    }\n",
       "</style>\n",
       "<table border=\"1\" class=\"dataframe\">\n",
       "  <thead>\n",
       "    <tr style=\"text-align: right;\">\n",
       "      <th></th>\n",
       "      <th>Artist Name</th>\n",
       "      <th>Song Name</th>\n",
       "      <th>danceability</th>\n",
       "      <th>energy</th>\n",
       "      <th>loudness</th>\n",
       "      <th>mode</th>\n",
       "      <th>speechiness</th>\n",
       "      <th>acousticness</th>\n",
       "      <th>instrumentalness</th>\n",
       "      <th>liveness</th>\n",
       "      <th>valence</th>\n",
       "      <th>tempo</th>\n",
       "      <th>type</th>\n",
       "      <th>id</th>\n",
       "      <th>uri</th>\n",
       "      <th>track_href</th>\n",
       "      <th>analysis_url</th>\n",
       "      <th>duration_ms</th>\n",
       "      <th>time_signature</th>\n",
       "      <th>Probability of Correctness</th>\n",
       "    </tr>\n",
       "  </thead>\n",
       "  <tbody>\n",
       "    <tr>\n",
       "      <th>4879</th>\n",
       "      <td>Ed Tullett</td>\n",
       "      <td>Faux</td>\n",
       "      <td>0.242</td>\n",
       "      <td>0.421</td>\n",
       "      <td>-12.129</td>\n",
       "      <td>1</td>\n",
       "      <td>0.0309</td>\n",
       "      <td>0.860000</td>\n",
       "      <td>0.233</td>\n",
       "      <td>0.1080</td>\n",
       "      <td>0.250</td>\n",
       "      <td>144.937</td>\n",
       "      <td>audio_features</td>\n",
       "      <td>0d9UAfLZnNNKhr5zUd9nfv</td>\n",
       "      <td>spotify:track:0d9UAfLZnNNKhr5zUd9nfv</td>\n",
       "      <td>https://api.spotify.com/v1/tracks/0d9UAfLZnNNK...</td>\n",
       "      <td>https://api.spotify.com/v1/audio-analysis/0d9U...</td>\n",
       "      <td>272172</td>\n",
       "      <td>3</td>\n",
       "      <td>0.4</td>\n",
       "    </tr>\n",
       "    <tr>\n",
       "      <th>74842</th>\n",
       "      <td>Children Of Bodom</td>\n",
       "      <td>Are You Dead Yet</td>\n",
       "      <td>0.467</td>\n",
       "      <td>0.967</td>\n",
       "      <td>-2.990</td>\n",
       "      <td>1</td>\n",
       "      <td>0.0491</td>\n",
       "      <td>0.000006</td>\n",
       "      <td>0.310</td>\n",
       "      <td>0.3010</td>\n",
       "      <td>0.312</td>\n",
       "      <td>95.991</td>\n",
       "      <td>audio_features</td>\n",
       "      <td>7i6UQPAHgqgMGJJK7elUGS</td>\n",
       "      <td>spotify:track:7i6UQPAHgqgMGJJK7elUGS</td>\n",
       "      <td>https://api.spotify.com/v1/tracks/7i6UQPAHgqgM...</td>\n",
       "      <td>https://api.spotify.com/v1/audio-analysis/7i6U...</td>\n",
       "      <td>234880</td>\n",
       "      <td>4</td>\n",
       "      <td>0.0</td>\n",
       "    </tr>\n",
       "    <tr>\n",
       "      <th>31323</th>\n",
       "      <td>Amy Winehouse</td>\n",
       "      <td>I Heard Love Is Blind - Live At Concorde, Brig...</td>\n",
       "      <td>0.708</td>\n",
       "      <td>0.403</td>\n",
       "      <td>-9.266</td>\n",
       "      <td>1</td>\n",
       "      <td>0.0767</td>\n",
       "      <td>0.240000</td>\n",
       "      <td>0.000</td>\n",
       "      <td>0.9720</td>\n",
       "      <td>0.418</td>\n",
       "      <td>73.847</td>\n",
       "      <td>audio_features</td>\n",
       "      <td>1xYOULOeZuBdO3dvDz2BwH</td>\n",
       "      <td>spotify:track:1xYOULOeZuBdO3dvDz2BwH</td>\n",
       "      <td>https://api.spotify.com/v1/tracks/1xYOULOeZuBd...</td>\n",
       "      <td>https://api.spotify.com/v1/audio-analysis/1xYO...</td>\n",
       "      <td>147467</td>\n",
       "      <td>4</td>\n",
       "      <td>0.0</td>\n",
       "    </tr>\n",
       "    <tr>\n",
       "      <th>17409</th>\n",
       "      <td>Glee Cast</td>\n",
       "      <td>Landslide (Glee Cast Version featuring Gwyneth...</td>\n",
       "      <td>0.637</td>\n",
       "      <td>0.416</td>\n",
       "      <td>-7.595</td>\n",
       "      <td>1</td>\n",
       "      <td>0.0269</td>\n",
       "      <td>0.434000</td>\n",
       "      <td>0.000</td>\n",
       "      <td>0.1390</td>\n",
       "      <td>0.588</td>\n",
       "      <td>145.922</td>\n",
       "      <td>audio_features</td>\n",
       "      <td>0DuRaBhrsPbIyQfakgQrlI</td>\n",
       "      <td>spotify:track:0DuRaBhrsPbIyQfakgQrlI</td>\n",
       "      <td>https://api.spotify.com/v1/tracks/0DuRaBhrsPbI...</td>\n",
       "      <td>https://api.spotify.com/v1/audio-analysis/0DuR...</td>\n",
       "      <td>226760</td>\n",
       "      <td>4</td>\n",
       "      <td>0.0</td>\n",
       "    </tr>\n",
       "    <tr>\n",
       "      <th>80412</th>\n",
       "      <td>Keith Anderson</td>\n",
       "      <td>Every Time I Hear Your Name</td>\n",
       "      <td>0.562</td>\n",
       "      <td>0.757</td>\n",
       "      <td>-3.945</td>\n",
       "      <td>1</td>\n",
       "      <td>0.0253</td>\n",
       "      <td>0.277000</td>\n",
       "      <td>0.000</td>\n",
       "      <td>0.0745</td>\n",
       "      <td>0.299</td>\n",
       "      <td>93.020</td>\n",
       "      <td>audio_features</td>\n",
       "      <td>3aVCHTY93NQQbOcDDbwwXA</td>\n",
       "      <td>spotify:track:3aVCHTY93NQQbOcDDbwwXA</td>\n",
       "      <td>https://api.spotify.com/v1/tracks/3aVCHTY93NQQ...</td>\n",
       "      <td>https://api.spotify.com/v1/audio-analysis/3aVC...</td>\n",
       "      <td>263027</td>\n",
       "      <td>4</td>\n",
       "      <td>0.0</td>\n",
       "    </tr>\n",
       "  </tbody>\n",
       "</table>\n",
       "</div>"
      ],
      "text/plain": [
       "             Artist Name                                          Song Name  \\\n",
       "4879          Ed Tullett                                               Faux   \n",
       "74842  Children Of Bodom                                   Are You Dead Yet   \n",
       "31323      Amy Winehouse  I Heard Love Is Blind - Live At Concorde, Brig...   \n",
       "17409          Glee Cast  Landslide (Glee Cast Version featuring Gwyneth...   \n",
       "80412     Keith Anderson                        Every Time I Hear Your Name   \n",
       "\n",
       "       danceability  energy  loudness  mode  speechiness  acousticness  \\\n",
       "4879          0.242   0.421   -12.129     1       0.0309      0.860000   \n",
       "74842         0.467   0.967    -2.990     1       0.0491      0.000006   \n",
       "31323         0.708   0.403    -9.266     1       0.0767      0.240000   \n",
       "17409         0.637   0.416    -7.595     1       0.0269      0.434000   \n",
       "80412         0.562   0.757    -3.945     1       0.0253      0.277000   \n",
       "\n",
       "       instrumentalness  liveness  valence    tempo            type  \\\n",
       "4879              0.233    0.1080    0.250  144.937  audio_features   \n",
       "74842             0.310    0.3010    0.312   95.991  audio_features   \n",
       "31323             0.000    0.9720    0.418   73.847  audio_features   \n",
       "17409             0.000    0.1390    0.588  145.922  audio_features   \n",
       "80412             0.000    0.0745    0.299   93.020  audio_features   \n",
       "\n",
       "                           id                                   uri  \\\n",
       "4879   0d9UAfLZnNNKhr5zUd9nfv  spotify:track:0d9UAfLZnNNKhr5zUd9nfv   \n",
       "74842  7i6UQPAHgqgMGJJK7elUGS  spotify:track:7i6UQPAHgqgMGJJK7elUGS   \n",
       "31323  1xYOULOeZuBdO3dvDz2BwH  spotify:track:1xYOULOeZuBdO3dvDz2BwH   \n",
       "17409  0DuRaBhrsPbIyQfakgQrlI  spotify:track:0DuRaBhrsPbIyQfakgQrlI   \n",
       "80412  3aVCHTY93NQQbOcDDbwwXA  spotify:track:3aVCHTY93NQQbOcDDbwwXA   \n",
       "\n",
       "                                              track_href  \\\n",
       "4879   https://api.spotify.com/v1/tracks/0d9UAfLZnNNK...   \n",
       "74842  https://api.spotify.com/v1/tracks/7i6UQPAHgqgM...   \n",
       "31323  https://api.spotify.com/v1/tracks/1xYOULOeZuBd...   \n",
       "17409  https://api.spotify.com/v1/tracks/0DuRaBhrsPbI...   \n",
       "80412  https://api.spotify.com/v1/tracks/3aVCHTY93NQQ...   \n",
       "\n",
       "                                            analysis_url  duration_ms  \\\n",
       "4879   https://api.spotify.com/v1/audio-analysis/0d9U...       272172   \n",
       "74842  https://api.spotify.com/v1/audio-analysis/7i6U...       234880   \n",
       "31323  https://api.spotify.com/v1/audio-analysis/1xYO...       147467   \n",
       "17409  https://api.spotify.com/v1/audio-analysis/0DuR...       226760   \n",
       "80412  https://api.spotify.com/v1/audio-analysis/3aVC...       263027   \n",
       "\n",
       "       time_signature  Probability of Correctness  \n",
       "4879                3                         0.4  \n",
       "74842               4                         0.0  \n",
       "31323               4                         0.0  \n",
       "17409               4                         0.0  \n",
       "80412               4                         0.0  "
      ]
     },
     "execution_count": 27,
     "metadata": {},
     "output_type": "execute_result"
    }
   ],
   "source": [
    "X_test['Probability of Correctness'] = [prob[1] for prob in probabilities]\n",
    "X_test.head()"
   ]
  },
  {
   "cell_type": "code",
   "execution_count": 28,
   "metadata": {
    "cell_id": "00034-0d5d8658-5ce9-4547-8184-4199eb468e3a",
    "deepnote_cell_type": "code",
    "execution_millis": 135,
    "execution_start": 1606609503776,
    "output_cleared": false,
    "source_hash": "4691b227",
    "tags": []
   },
   "outputs": [
    {
     "data": {
      "application/vnd.deepnote.dataframe.v2+json": {
       "column_count": 20,
       "columns": [
        {
         "dtype": "object",
         "name": "Artist Name",
         "stats": {
          "categories": [
           {
            "count": 61,
            "name": "Pearl Jam"
           },
           {
            "count": 58,
            "name": "Tim McGraw"
           },
           {
            "count": 27726,
            "name": "10873 others"
           }
          ],
          "nan_count": 0,
          "unique_count": 10875
         }
        },
        {
         "dtype": "object",
         "name": "Song Name",
         "stats": {
          "categories": [
           {
            "count": 15,
            "name": "Breathe"
           },
           {
            "count": 14,
            "name": "Home"
           },
           {
            "count": 27816,
            "name": "25069 others"
           }
          ],
          "nan_count": 0,
          "unique_count": 25071
         }
        },
        {
         "dtype": "float64",
         "name": "danceability",
         "stats": {
          "histogram": [
           {
            "bin_end": 0.0988,
            "bin_start": 0,
            "count": 73
           },
           {
            "bin_end": 0.1976,
            "bin_start": 0.0988,
            "count": 444
           },
           {
            "bin_end": 0.2964,
            "bin_start": 0.1976,
            "count": 1219
           },
           {
            "bin_end": 0.3952,
            "bin_start": 0.2964,
            "count": 2427
           },
           {
            "bin_end": 0.494,
            "bin_start": 0.3952,
            "count": 4259
           },
           {
            "bin_end": 0.5928,
            "bin_start": 0.494,
            "count": 6113
           },
           {
            "bin_end": 0.6916,
            "bin_start": 0.5928,
            "count": 5925
           },
           {
            "bin_end": 0.7904,
            "bin_start": 0.6916,
            "count": 4668
           },
           {
            "bin_end": 0.8892,
            "bin_start": 0.7904,
            "count": 2242
           },
           {
            "bin_end": 0.988,
            "bin_start": 0.8892,
            "count": 475
           }
          ],
          "max": 0.988,
          "min": 0,
          "nan_count": 0,
          "unique_count": 934
         }
        },
        {
         "dtype": "float64",
         "name": "energy"
        },
        {
         "dtype": "float64",
         "name": "loudness"
        },
        {
         "dtype": "int64",
         "name": "mode"
        },
        {
         "dtype": "float64",
         "name": "speechiness"
        },
        {
         "dtype": "float64",
         "name": "acousticness"
        },
        {
         "dtype": "float64",
         "name": "instrumentalness"
        },
        {
         "dtype": "float64",
         "name": "liveness"
        },
        {
         "dtype": "float64",
         "name": "valence"
        },
        {
         "dtype": "float64",
         "name": "tempo"
        },
        {
         "dtype": "object",
         "name": "type"
        },
        {
         "dtype": "object",
         "name": "id"
        },
        {
         "dtype": "object",
         "name": "uri"
        },
        {
         "dtype": "object",
         "name": "track_href"
        },
        {
         "dtype": "object",
         "name": "analysis_url"
        },
        {
         "dtype": "int64",
         "name": "duration_ms"
        },
        {
         "dtype": "int64",
         "name": "time_signature"
        },
        {
         "dtype": "float64",
         "name": "Probability of Correctness"
        },
        {
         "dtype": "int64",
         "name": "_deepnote_index_column"
        }
       ],
       "row_count": 27845,
       "rows_bottom": [
        {
         "Artist Name": "Seo In Guk",
         "Probability of Correctness": 0,
         "Song Name": "BeBe",
         "_deepnote_index_column": 60659,
         "acousticness": 0.144,
         "analysis_url": "https://api.spotify.com/v1/audio-analysis/3NWk8kXCYEMczkIpKnNeC5",
         "danceability": 0.524,
         "duration_ms": 213037,
         "energy": 0.785,
         "id": "3NWk8kXCYEMczkIpKnNeC5",
         "instrumentalness": 0,
         "liveness": 0.0897,
         "loudness": -3.089,
         "mode": 0,
         "speechiness": 0.0528,
         "tempo": 149.897,
         "time_signature": 4,
         "track_href": "https://api.spotify.com/v1/tracks/3NWk8kXCYEMczkIpKnNeC5",
         "type": "audio_features",
         "uri": "spotify:track:3NWk8kXCYEMczkIpKnNeC5",
         "valence": 0.667
        },
        {
         "Artist Name": "Colony House",
         "Probability of Correctness": 0,
         "Song Name": "You & I",
         "_deepnote_index_column": 38174,
         "acousticness": 0.00274,
         "analysis_url": "https://api.spotify.com/v1/audio-analysis/7yhNr2wj7mZcpRG5K2Zgj6",
         "danceability": 0.474,
         "duration_ms": 206893,
         "energy": 0.846,
         "id": "7yhNr2wj7mZcpRG5K2Zgj6",
         "instrumentalness": 4.99e-06,
         "liveness": 0.292,
         "loudness": -5.447,
         "mode": 1,
         "speechiness": 0.0727,
         "tempo": 98.931,
         "time_signature": 4,
         "track_href": "https://api.spotify.com/v1/tracks/7yhNr2wj7mZcpRG5K2Zgj6",
         "type": "audio_features",
         "uri": "spotify:track:7yhNr2wj7mZcpRG5K2Zgj6",
         "valence": 0.487
        },
        {
         "Artist Name": "Excision",
         "Probability of Correctness": 0,
         "Song Name": "Swerve - Original Mix",
         "_deepnote_index_column": 83916,
         "acousticness": 2.51e-05,
         "analysis_url": "https://api.spotify.com/v1/audio-analysis/7M8hBK0bD8VJZRrf2Epy1V",
         "danceability": 0.882,
         "duration_ms": 322500,
         "energy": 0.645,
         "id": "7M8hBK0bD8VJZRrf2Epy1V",
         "instrumentalness": 0.936,
         "liveness": 0.112,
         "loudness": -4.871,
         "mode": 1,
         "speechiness": 0.0914,
         "tempo": 128.018,
         "time_signature": 4,
         "track_href": "https://api.spotify.com/v1/tracks/7M8hBK0bD8VJZRrf2Epy1V",
         "type": "audio_features",
         "uri": "spotify:track:7M8hBK0bD8VJZRrf2Epy1V",
         "valence": 0.0356
        },
        {
         "Artist Name": "Skooly",
         "Probability of Correctness": 0,
         "Song Name": "Roccsan",
         "_deepnote_index_column": 48929,
         "acousticness": 0.0939,
         "analysis_url": "https://api.spotify.com/v1/audio-analysis/3S8KiMWBRmcExAVM0wjn9O",
         "danceability": 0.59,
         "duration_ms": 228012,
         "energy": 0.577,
         "id": "3S8KiMWBRmcExAVM0wjn9O",
         "instrumentalness": 4.28e-06,
         "liveness": 0.186,
         "loudness": -7.749,
         "mode": 1,
         "speechiness": 0.0524,
         "tempo": 185.005,
         "time_signature": 4,
         "track_href": "https://api.spotify.com/v1/tracks/3S8KiMWBRmcExAVM0wjn9O",
         "type": "audio_features",
         "uri": "spotify:track:3S8KiMWBRmcExAVM0wjn9O",
         "valence": 0.161
        },
        {
         "Artist Name": "Raleigh Ritchie",
         "Probability of Correctness": 0,
         "Song Name": "Stay Inside - The Internet Remix",
         "_deepnote_index_column": 6596,
         "acousticness": 0.107,
         "analysis_url": "https://api.spotify.com/v1/audio-analysis/63lESekLwG2qmA6yqaRVAJ",
         "danceability": 0.581,
         "duration_ms": 164413,
         "energy": 0.458,
         "id": "63lESekLwG2qmA6yqaRVAJ",
         "instrumentalness": 0,
         "liveness": 0.0879,
         "loudness": -9.142,
         "mode": 0,
         "speechiness": 0.234,
         "tempo": 87.463,
         "time_signature": 4,
         "track_href": "https://api.spotify.com/v1/tracks/63lESekLwG2qmA6yqaRVAJ",
         "type": "audio_features",
         "uri": "spotify:track:63lESekLwG2qmA6yqaRVAJ",
         "valence": 0.373
        },
        {
         "Artist Name": "Twenty One Pilots",
         "Probability of Correctness": 0,
         "Song Name": "Holding On To You",
         "_deepnote_index_column": 7058,
         "acousticness": 0.241,
         "analysis_url": "https://api.spotify.com/v1/audio-analysis/3C3cr2JQwXIhqAHqOardVO",
         "danceability": 0.608,
         "duration_ms": 263733,
         "energy": 0.776,
         "id": "3C3cr2JQwXIhqAHqOardVO",
         "instrumentalness": 0,
         "liveness": 0.0713,
         "loudness": -3.635,
         "mode": 1,
         "speechiness": 0.0511,
         "tempo": 89.996,
         "time_signature": 4,
         "track_href": "https://api.spotify.com/v1/tracks/3C3cr2JQwXIhqAHqOardVO",
         "type": "audio_features",
         "uri": "spotify:track:3C3cr2JQwXIhqAHqOardVO",
         "valence": 0.814
        },
        {
         "Artist Name": "Speaker Knockerz",
         "Probability of Correctness": 0,
         "Song Name": "Pull up (feat. Swag Hollywood & Dluhvify)",
         "_deepnote_index_column": 70006,
         "acousticness": 0.0231,
         "analysis_url": "https://api.spotify.com/v1/audio-analysis/4AnIS1s36dZqUuGmvG98cb",
         "danceability": 0.929,
         "duration_ms": 189040,
         "energy": 0.729,
         "id": "4AnIS1s36dZqUuGmvG98cb",
         "instrumentalness": 0,
         "liveness": 0.146,
         "loudness": -6.906,
         "mode": 1,
         "speechiness": 0.234,
         "tempo": 117.027,
         "time_signature": 4,
         "track_href": "https://api.spotify.com/v1/tracks/4AnIS1s36dZqUuGmvG98cb",
         "type": "audio_features",
         "uri": "spotify:track:4AnIS1s36dZqUuGmvG98cb",
         "valence": 0.612
        },
        {
         "Artist Name": "Norah Jones",
         "Probability of Correctness": 0,
         "Song Name": "Chasing Pirates",
         "_deepnote_index_column": 39796,
         "acousticness": 0.547,
         "analysis_url": "https://api.spotify.com/v1/audio-analysis/7GsLrzsAash4bp75SltRaN",
         "danceability": 0.85,
         "duration_ms": 160907,
         "energy": 0.468,
         "id": "7GsLrzsAash4bp75SltRaN",
         "instrumentalness": 0.0667,
         "liveness": 0.106,
         "loudness": -9.09,
         "mode": 0,
         "speechiness": 0.039,
         "tempo": 106.974,
         "time_signature": 4,
         "track_href": "https://api.spotify.com/v1/tracks/7GsLrzsAash4bp75SltRaN",
         "type": "audio_features",
         "uri": "spotify:track:7GsLrzsAash4bp75SltRaN",
         "valence": 0.76
        },
        {
         "Artist Name": "Steve Angello",
         "Probability of Correctness": 0,
         "Song Name": "Wasted Love (feat. Dougy)",
         "_deepnote_index_column": 67053,
         "acousticness": 0.475,
         "analysis_url": "https://api.spotify.com/v1/audio-analysis/7CHTBgMzqMmv0sw3rlwuhL",
         "danceability": 0.539,
         "duration_ms": 209531,
         "energy": 0.936,
         "id": "7CHTBgMzqMmv0sw3rlwuhL",
         "instrumentalness": 0.104,
         "liveness": 0.106,
         "loudness": -3.803,
         "mode": 1,
         "speechiness": 0.112,
         "tempo": 128.015,
         "time_signature": 4,
         "track_href": "https://api.spotify.com/v1/tracks/7CHTBgMzqMmv0sw3rlwuhL",
         "type": "audio_features",
         "uri": "spotify:track:7CHTBgMzqMmv0sw3rlwuhL",
         "valence": 0.225
        },
        {
         "Artist Name": "Jacob Sartorius",
         "Probability of Correctness": 0,
         "Song Name": "Bingo",
         "_deepnote_index_column": 82342,
         "acousticness": 0.000238,
         "analysis_url": "https://api.spotify.com/v1/audio-analysis/6nujTShu6cBuonGXas5KX8",
         "danceability": 0.586,
         "duration_ms": 170310,
         "energy": 0.49,
         "id": "6nujTShu6cBuonGXas5KX8",
         "instrumentalness": 0,
         "liveness": 0.137,
         "loudness": -5.254,
         "mode": 0,
         "speechiness": 0.428,
         "tempo": 73.248,
         "time_signature": 3,
         "track_href": "https://api.spotify.com/v1/tracks/6nujTShu6cBuonGXas5KX8",
         "type": "audio_features",
         "uri": "spotify:track:6nujTShu6cBuonGXas5KX8",
         "valence": 0.3
        },
        {
         "Artist Name": "Shaman's Harvest",
         "Probability of Correctness": 0,
         "Song Name": "Ten Million Voices",
         "_deepnote_index_column": 47587,
         "acousticness": 0.00798,
         "analysis_url": "https://api.spotify.com/v1/audio-analysis/7lpeJLwyVWkgvEVKWa65ag",
         "danceability": 0.49,
         "duration_ms": 238227,
         "energy": 0.71,
         "id": "7lpeJLwyVWkgvEVKWa65ag",
         "instrumentalness": 0,
         "liveness": 0.127,
         "loudness": -3.135,
         "mode": 0,
         "speechiness": 0.0332,
         "tempo": 112.661,
         "time_signature": 4,
         "track_href": "https://api.spotify.com/v1/tracks/7lpeJLwyVWkgvEVKWa65ag",
         "type": "audio_features",
         "uri": "spotify:track:7lpeJLwyVWkgvEVKWa65ag",
         "valence": 0.437
        },
        {
         "Artist Name": "Infected Mushroom",
         "Probability of Correctness": 0,
         "Song Name": "Where Do I Belong",
         "_deepnote_index_column": 41418,
         "acousticness": 0.542,
         "analysis_url": "https://api.spotify.com/v1/audio-analysis/3VWsBrDVQDygBhWGX0UwbE",
         "danceability": 0.698,
         "duration_ms": 206485,
         "energy": 0.842,
         "id": "3VWsBrDVQDygBhWGX0UwbE",
         "instrumentalness": 1.62e-06,
         "liveness": 0.17,
         "loudness": -3.971,
         "mode": 0,
         "speechiness": 0.231,
         "tempo": 167.98,
         "time_signature": 4,
         "track_href": "https://api.spotify.com/v1/tracks/3VWsBrDVQDygBhWGX0UwbE",
         "type": "audio_features",
         "uri": "spotify:track:3VWsBrDVQDygBhWGX0UwbE",
         "valence": 0.945
        },
        {
         "Artist Name": "Coldplay",
         "Probability of Correctness": 0,
         "Song Name": "Talk",
         "_deepnote_index_column": 42973,
         "acousticness": 0.00541,
         "analysis_url": "https://api.spotify.com/v1/audio-analysis/4wzt5Rrk3W98pHXAqutuJw",
         "danceability": 0.415,
         "duration_ms": 311292,
         "energy": 0.554,
         "id": "4wzt5Rrk3W98pHXAqutuJw",
         "instrumentalness": 0.00202,
         "liveness": 0.155,
         "loudness": -10.839,
         "mode": 0,
         "speechiness": 0.0334,
         "tempo": 120.318,
         "time_signature": 4,
         "track_href": "https://api.spotify.com/v1/tracks/4wzt5Rrk3W98pHXAqutuJw",
         "type": "audio_features",
         "uri": "spotify:track:4wzt5Rrk3W98pHXAqutuJw",
         "valence": 0.163
        },
        {
         "Artist Name": "Trevor Hall",
         "Probability of Correctness": 0,
         "Song Name": "Guidance",
         "_deepnote_index_column": 69955,
         "acousticness": 0.654,
         "analysis_url": "https://api.spotify.com/v1/audio-analysis/7jfKDe6QizfrbkeHr4Cfqp",
         "danceability": 0.509,
         "duration_ms": 277667,
         "energy": 0.618,
         "id": "7jfKDe6QizfrbkeHr4Cfqp",
         "instrumentalness": 0.594,
         "liveness": 0.0883,
         "loudness": -10.514,
         "mode": 1,
         "speechiness": 0.0581,
         "tempo": 159.994,
         "time_signature": 4,
         "track_href": "https://api.spotify.com/v1/tracks/7jfKDe6QizfrbkeHr4Cfqp",
         "type": "audio_features",
         "uri": "spotify:track:7jfKDe6QizfrbkeHr4Cfqp",
         "valence": 0.136
        },
        {
         "Artist Name": "Titus Andronicus",
         "Probability of Correctness": 0,
         "Song Name": "Upon Viewing Oregon's Landscape With The Flood Of Detritus",
         "_deepnote_index_column": 36725,
         "acousticness": 0.258,
         "analysis_url": "https://api.spotify.com/v1/audio-analysis/1NVGKL5giCzzuH0KubPaQ2",
         "danceability": 0.343,
         "duration_ms": 207307,
         "energy": 0.93,
         "id": "1NVGKL5giCzzuH0KubPaQ2",
         "instrumentalness": 0.0011,
         "liveness": 0.104,
         "loudness": -3.321,
         "mode": 1,
         "speechiness": 0.0695,
         "tempo": 92.024,
         "time_signature": 4,
         "track_href": "https://api.spotify.com/v1/tracks/1NVGKL5giCzzuH0KubPaQ2",
         "type": "audio_features",
         "uri": "spotify:track:1NVGKL5giCzzuH0KubPaQ2",
         "valence": 0.748
        },
        {
         "Artist Name": "Mint Condition",
         "Probability of Correctness": 0,
         "Song Name": "What Kind Of Man Would I Be",
         "_deepnote_index_column": 38137,
         "acousticness": 0.39,
         "analysis_url": "https://api.spotify.com/v1/audio-analysis/5qR3pYQIC10S7aD2YBjgui",
         "danceability": 0.651,
         "duration_ms": 264600,
         "energy": 0.498,
         "id": "5qR3pYQIC10S7aD2YBjgui",
         "instrumentalness": 0,
         "liveness": 0.143,
         "loudness": -8.868,
         "mode": 0,
         "speechiness": 0.0318,
         "tempo": 109.906,
         "time_signature": 4,
         "track_href": "https://api.spotify.com/v1/tracks/5qR3pYQIC10S7aD2YBjgui",
         "type": "audio_features",
         "uri": "spotify:track:5qR3pYQIC10S7aD2YBjgui",
         "valence": 0.423
        },
        {
         "Artist Name": "Wade Bowen",
         "Probability of Correctness": 0,
         "Song Name": "Songs About Trucks",
         "_deepnote_index_column": 23863,
         "acousticness": 0.0933,
         "analysis_url": "https://api.spotify.com/v1/audio-analysis/1NJFtyJJVpwOmPVeE886Hb",
         "danceability": 0.639,
         "duration_ms": 201693,
         "energy": 0.668,
         "id": "1NJFtyJJVpwOmPVeE886Hb",
         "instrumentalness": 0,
         "liveness": 0.105,
         "loudness": -7.328,
         "mode": 1,
         "speechiness": 0.0279,
         "tempo": 116.993,
         "time_signature": 4,
         "track_href": "https://api.spotify.com/v1/tracks/1NJFtyJJVpwOmPVeE886Hb",
         "type": "audio_features",
         "uri": "spotify:track:1NJFtyJJVpwOmPVeE886Hb",
         "valence": 0.477
        },
        {
         "Artist Name": "M-Phazes",
         "Probability of Correctness": 0,
         "Song Name": "Messiah",
         "_deepnote_index_column": 44954,
         "acousticness": 0.0208,
         "analysis_url": "https://api.spotify.com/v1/audio-analysis/5yRDS8rO2nWrNxcVcsCPl4",
         "danceability": 0.554,
         "duration_ms": 223543,
         "energy": 0.662,
         "id": "5yRDS8rO2nWrNxcVcsCPl4",
         "instrumentalness": 0.000365,
         "liveness": 0.131,
         "loudness": -8.369,
         "mode": 1,
         "speechiness": 0.0667,
         "tempo": 136.992,
         "time_signature": 4,
         "track_href": "https://api.spotify.com/v1/tracks/5yRDS8rO2nWrNxcVcsCPl4",
         "type": "audio_features",
         "uri": "spotify:track:5yRDS8rO2nWrNxcVcsCPl4",
         "valence": 0.373
        },
        {
         "Artist Name": "Luciano",
         "Probability of Correctness": 0,
         "Song Name": "No Evil",
         "_deepnote_index_column": 39138,
         "acousticness": 0.041,
         "analysis_url": "https://api.spotify.com/v1/audio-analysis/317RE1GUiC25Qg9e0gTnQ4",
         "danceability": 0.742,
         "duration_ms": 249133,
         "energy": 0.744,
         "id": "317RE1GUiC25Qg9e0gTnQ4",
         "instrumentalness": 0,
         "liveness": 0.314,
         "loudness": -5.866,
         "mode": 0,
         "speechiness": 0.225,
         "tempo": 156.072,
         "time_signature": 4,
         "track_href": "https://api.spotify.com/v1/tracks/317RE1GUiC25Qg9e0gTnQ4",
         "type": "audio_features",
         "uri": "spotify:track:317RE1GUiC25Qg9e0gTnQ4",
         "valence": 0.861
        },
        {
         "Artist Name": "Pentatonix",
         "Probability of Correctness": 0,
         "Song Name": "Sing",
         "_deepnote_index_column": 63621,
         "acousticness": 0.0355,
         "analysis_url": "https://api.spotify.com/v1/audio-analysis/4940HtUKC4VDtiC5s4t4MT",
         "danceability": 0.642,
         "duration_ms": 177240,
         "energy": 0.827,
         "id": "4940HtUKC4VDtiC5s4t4MT",
         "instrumentalness": 0,
         "liveness": 0.133,
         "loudness": -4.36,
         "mode": 1,
         "speechiness": 0.0867,
         "tempo": 154.983,
         "time_signature": 4,
         "track_href": "https://api.spotify.com/v1/tracks/4940HtUKC4VDtiC5s4t4MT",
         "type": "audio_features",
         "uri": "spotify:track:4940HtUKC4VDtiC5s4t4MT",
         "valence": 0.692
        },
        {
         "Artist Name": "Golden",
         "Probability of Correctness": 0,
         "Song Name": "You're Always Loved",
         "_deepnote_index_column": 13086,
         "acousticness": 0.79,
         "analysis_url": "https://api.spotify.com/v1/audio-analysis/6YelAEU4fYMKXFxG5q235W",
         "danceability": 0.578,
         "duration_ms": 249873,
         "energy": 0.325,
         "id": "6YelAEU4fYMKXFxG5q235W",
         "instrumentalness": 0,
         "liveness": 0.298,
         "loudness": -7.078,
         "mode": 1,
         "speechiness": 0.0264,
         "tempo": 157.833,
         "time_signature": 4,
         "track_href": "https://api.spotify.com/v1/tracks/6YelAEU4fYMKXFxG5q235W",
         "type": "audio_features",
         "uri": "spotify:track:6YelAEU4fYMKXFxG5q235W",
         "valence": 0.555
        },
        {
         "Artist Name": "Chris Brown",
         "Probability of Correctness": 0,
         "Song Name": "Body Shots",
         "_deepnote_index_column": 45798,
         "acousticness": 0.00604,
         "analysis_url": "https://api.spotify.com/v1/audio-analysis/5bAwc4oM3fwqdidTHwaVnZ",
         "danceability": 0.598,
         "duration_ms": 222387,
         "energy": 0.59,
         "id": "5bAwc4oM3fwqdidTHwaVnZ",
         "instrumentalness": 0,
         "liveness": 0.0425,
         "loudness": -7.593,
         "mode": 0,
         "speechiness": 0.107,
         "tempo": 144.781,
         "time_signature": 4,
         "track_href": "https://api.spotify.com/v1/tracks/5bAwc4oM3fwqdidTHwaVnZ",
         "type": "audio_features",
         "uri": "spotify:track:5bAwc4oM3fwqdidTHwaVnZ",
         "valence": 0.515
        },
        {
         "Artist Name": "Ahmad Lewis",
         "Probability of Correctness": 0,
         "Song Name": "Back In The Day - Remix",
         "_deepnote_index_column": 69072,
         "acousticness": 0.342,
         "analysis_url": "https://api.spotify.com/v1/audio-analysis/5gUVdjfPWoaKoRiEMHBX6P",
         "danceability": 0.63,
         "duration_ms": 303373,
         "energy": 0.641,
         "id": "5gUVdjfPWoaKoRiEMHBX6P",
         "instrumentalness": 0,
         "liveness": 0.588,
         "loudness": -6.67,
         "mode": 0,
         "speechiness": 0.369,
         "tempo": 79.523,
         "time_signature": 4,
         "track_href": "https://api.spotify.com/v1/tracks/5gUVdjfPWoaKoRiEMHBX6P",
         "type": "audio_features",
         "uri": "spotify:track:5gUVdjfPWoaKoRiEMHBX6P",
         "valence": 0.541
        },
        {
         "Artist Name": "Fuel",
         "Probability of Correctness": 0,
         "Song Name": "Daniel",
         "_deepnote_index_column": 52231,
         "acousticness": 0.805,
         "analysis_url": "https://api.spotify.com/v1/audio-analysis/0BGAynw6Ic9QhFwMihARQl",
         "danceability": 0.589,
         "duration_ms": 269893,
         "energy": 0.287,
         "id": "0BGAynw6Ic9QhFwMihARQl",
         "instrumentalness": 5.82e-06,
         "liveness": 0.0925,
         "loudness": -9.508,
         "mode": 1,
         "speechiness": 0.0316,
         "tempo": 116.351,
         "time_signature": 4,
         "track_href": "https://api.spotify.com/v1/tracks/0BGAynw6Ic9QhFwMihARQl",
         "type": "audio_features",
         "uri": "spotify:track:0BGAynw6Ic9QhFwMihARQl",
         "valence": 0.161
        },
        {
         "Artist Name": "Mississippi Fred McDowell",
         "Probability of Correctness": 0,
         "Song Name": "Soon One Mornin' (Death Come A-Creepin' In My Room)",
         "_deepnote_index_column": 88792,
         "acousticness": 0.891,
         "analysis_url": "https://api.spotify.com/v1/audio-analysis/1szoyZVD3yvVyStDUd74Ep",
         "danceability": 0.575,
         "duration_ms": 191658,
         "energy": 0.0979,
         "id": "1szoyZVD3yvVyStDUd74Ep",
         "instrumentalness": 0.0699,
         "liveness": 0.228,
         "loudness": -19.243,
         "mode": 0,
         "speechiness": 0.042,
         "tempo": 135.431,
         "time_signature": 4,
         "track_href": "https://api.spotify.com/v1/tracks/1szoyZVD3yvVyStDUd74Ep",
         "type": "audio_features",
         "uri": "spotify:track:1szoyZVD3yvVyStDUd74Ep",
         "valence": 0.478
        }
       ],
       "rows_top": [
        {
         "Artist Name": "Trina",
         "Probability of Correctness": 0.8,
         "Song Name": "B***h I Don't Need U",
         "_deepnote_index_column": 74300,
         "acousticness": 0.04,
         "analysis_url": "https://api.spotify.com/v1/audio-analysis/5mzG3pceHwGZN1o6s3zAlq",
         "danceability": 0.824,
         "duration_ms": 138173,
         "energy": 0.663,
         "id": "5mzG3pceHwGZN1o6s3zAlq",
         "instrumentalness": 0,
         "liveness": 0.0875,
         "loudness": -5.228,
         "mode": 1,
         "speechiness": 0.322,
         "tempo": 155.43,
         "time_signature": 4,
         "track_href": "https://api.spotify.com/v1/tracks/5mzG3pceHwGZN1o6s3zAlq",
         "type": "audio_features",
         "uri": "spotify:track:5mzG3pceHwGZN1o6s3zAlq",
         "valence": 0.764
        },
        {
         "Artist Name": "Regulo Caro",
         "Probability of Correctness": 0.8,
         "Song Name": "Cicatriiices",
         "_deepnote_index_column": 42495,
         "acousticness": 0.626,
         "analysis_url": "https://api.spotify.com/v1/audio-analysis/795iKycRJtgee21MTf9nat",
         "danceability": 0.756,
         "duration_ms": 166173,
         "energy": 0.688,
         "id": "795iKycRJtgee21MTf9nat",
         "instrumentalness": 0,
         "liveness": 0.118,
         "loudness": -2.85,
         "mode": 1,
         "speechiness": 0.0299,
         "tempo": 103.98,
         "time_signature": 4,
         "track_href": "https://api.spotify.com/v1/tracks/795iKycRJtgee21MTf9nat",
         "type": "audio_features",
         "uri": "spotify:track:795iKycRJtgee21MTf9nat",
         "valence": 0.962
        },
        {
         "Artist Name": "Foxx",
         "Probability of Correctness": 0.8,
         "Song Name": "Smokin Loud",
         "_deepnote_index_column": 85233,
         "acousticness": 0.0241,
         "analysis_url": "https://api.spotify.com/v1/audio-analysis/32pehhGftaYKKu80kjjrGr",
         "danceability": 0.818,
         "duration_ms": 315627,
         "energy": 0.506,
         "id": "32pehhGftaYKKu80kjjrGr",
         "instrumentalness": 0,
         "liveness": 0.108,
         "loudness": -10.24,
         "mode": 1,
         "speechiness": 0.39,
         "tempo": 168.954,
         "time_signature": 4,
         "track_href": "https://api.spotify.com/v1/tracks/32pehhGftaYKKu80kjjrGr",
         "type": "audio_features",
         "uri": "spotify:track:32pehhGftaYKKu80kjjrGr",
         "valence": 0.704
        },
        {
         "Artist Name": "George Strait",
         "Probability of Correctness": 0.8,
         "Song Name": "Heartland - Pure Country/Soundtrack Version",
         "_deepnote_index_column": 49957,
         "acousticness": 0.0521,
         "analysis_url": "https://api.spotify.com/v1/audio-analysis/0U4R6UqrJo43TmImPku9H8",
         "danceability": 0.449,
         "duration_ms": 138160,
         "energy": 0.89,
         "id": "0U4R6UqrJo43TmImPku9H8",
         "instrumentalness": 7.7e-05,
         "liveness": 0.112,
         "loudness": -9.5,
         "mode": 1,
         "speechiness": 0.05,
         "tempo": 156.983,
         "time_signature": 4,
         "track_href": "https://api.spotify.com/v1/tracks/0U4R6UqrJo43TmImPku9H8",
         "type": "audio_features",
         "uri": "spotify:track:0U4R6UqrJo43TmImPku9H8",
         "valence": 0.695
        },
        {
         "Artist Name": "Janet Jackson",
         "Probability of Correctness": 0.8,
         "Song Name": "Thinkin' Bout My Ex",
         "_deepnote_index_column": 60327,
         "acousticness": 0.301,
         "analysis_url": "https://api.spotify.com/v1/audio-analysis/4HsitPIASpAezYrZal7xH9",
         "danceability": 0.584,
         "duration_ms": 273773,
         "energy": 0.563,
         "id": "4HsitPIASpAezYrZal7xH9",
         "instrumentalness": 1.32e-05,
         "liveness": 0.648,
         "loudness": -8.071,
         "mode": 1,
         "speechiness": 0.0905,
         "tempo": 78.989,
         "time_signature": 4,
         "track_href": "https://api.spotify.com/v1/tracks/4HsitPIASpAezYrZal7xH9",
         "type": "audio_features",
         "uri": "spotify:track:4HsitPIASpAezYrZal7xH9",
         "valence": 0.15
        },
        {
         "Artist Name": "Drop City Yacht Club",
         "Probability of Correctness": 0.8,
         "Song Name": "Mister Dean",
         "_deepnote_index_column": 54271,
         "acousticness": 0.0366,
         "analysis_url": "https://api.spotify.com/v1/audio-analysis/7FxVs5LXnePtwuNUdrn8o8",
         "danceability": 0.685,
         "duration_ms": 246840,
         "energy": 0.871,
         "id": "7FxVs5LXnePtwuNUdrn8o8",
         "instrumentalness": 0,
         "liveness": 0.849,
         "loudness": -3.372,
         "mode": 1,
         "speechiness": 0.254,
         "tempo": 145.035,
         "time_signature": 4,
         "track_href": "https://api.spotify.com/v1/tracks/7FxVs5LXnePtwuNUdrn8o8",
         "type": "audio_features",
         "uri": "spotify:track:7FxVs5LXnePtwuNUdrn8o8",
         "valence": 0.63
        },
        {
         "Artist Name": "The Blues Brothers",
         "Probability of Correctness": 0.8,
         "Song Name": "Think",
         "_deepnote_index_column": 91324,
         "acousticness": 0.495,
         "analysis_url": "https://api.spotify.com/v1/audio-analysis/6kie23fo40j9gBNWGWg5Dc",
         "danceability": 0.653,
         "duration_ms": 195307,
         "energy": 0.836,
         "id": "6kie23fo40j9gBNWGWg5Dc",
         "instrumentalness": 0.000232,
         "liveness": 0.24,
         "loudness": -5.594,
         "mode": 1,
         "speechiness": 0.188,
         "tempo": 128.628,
         "time_signature": 4,
         "track_href": "https://api.spotify.com/v1/tracks/6kie23fo40j9gBNWGWg5Dc",
         "type": "audio_features",
         "uri": "spotify:track:6kie23fo40j9gBNWGWg5Dc",
         "valence": 0.713
        },
        {
         "Artist Name": "Elise Estrada",
         "Probability of Correctness": 0.8,
         "Song Name": "Die For You (feat. Celeb)",
         "_deepnote_index_column": 89743,
         "acousticness": 0.0208,
         "analysis_url": "https://api.spotify.com/v1/audio-analysis/0mkw3jjOONKQDL4n9OFf9l",
         "danceability": 0.741,
         "duration_ms": 195324,
         "energy": 0.696,
         "id": "0mkw3jjOONKQDL4n9OFf9l",
         "instrumentalness": 0,
         "liveness": 0.0721,
         "loudness": -5.939,
         "mode": 1,
         "speechiness": 0.0425,
         "tempo": 124.958,
         "time_signature": 4,
         "track_href": "https://api.spotify.com/v1/tracks/0mkw3jjOONKQDL4n9OFf9l",
         "type": "audio_features",
         "uri": "spotify:track:0mkw3jjOONKQDL4n9OFf9l",
         "valence": 0.43
        },
        {
         "Artist Name": "Exmag",
         "Probability of Correctness": 0.8,
         "Song Name": "Ten Thousand Chains",
         "_deepnote_index_column": 5095,
         "acousticness": 0.0394,
         "analysis_url": "https://api.spotify.com/v1/audio-analysis/49kmlpsy6Ic6b3G4m4RUpX",
         "danceability": 0.587,
         "duration_ms": 242353,
         "energy": 0.548,
         "id": "49kmlpsy6Ic6b3G4m4RUpX",
         "instrumentalness": 0.807,
         "liveness": 0.57,
         "loudness": -10.558,
         "mode": 1,
         "speechiness": 0.0347,
         "tempo": 102.007,
         "time_signature": 4,
         "track_href": "https://api.spotify.com/v1/tracks/49kmlpsy6Ic6b3G4m4RUpX",
         "type": "audio_features",
         "uri": "spotify:track:49kmlpsy6Ic6b3G4m4RUpX",
         "valence": 0.118
        },
        {
         "Artist Name": "Murs",
         "Probability of Correctness": 0.8,
         "Song Name": "Everything",
         "_deepnote_index_column": 92725,
         "acousticness": 0.000443,
         "analysis_url": "https://api.spotify.com/v1/audio-analysis/3ut5Nkw2Hbv76fpzmujOFp",
         "danceability": 0.682,
         "duration_ms": 214027,
         "energy": 0.814,
         "id": "3ut5Nkw2Hbv76fpzmujOFp",
         "instrumentalness": 0.000449,
         "liveness": 0.332,
         "loudness": -4.549,
         "mode": 1,
         "speechiness": 0.118,
         "tempo": 88.045,
         "time_signature": 4,
         "track_href": "https://api.spotify.com/v1/tracks/3ut5Nkw2Hbv76fpzmujOFp",
         "type": "audio_features",
         "uri": "spotify:track:3ut5Nkw2Hbv76fpzmujOFp",
         "valence": 0.681
        },
        {
         "Artist Name": "Lifehouse",
         "Probability of Correctness": 0.8,
         "Song Name": "Halfway Gone",
         "_deepnote_index_column": 119,
         "acousticness": 0.000449,
         "analysis_url": "https://api.spotify.com/v1/audio-analysis/7JtQLJcOyVJKUPdUC4lggE",
         "danceability": 0.542,
         "duration_ms": 195307,
         "energy": 0.919,
         "id": "7JtQLJcOyVJKUPdUC4lggE",
         "instrumentalness": 0,
         "liveness": 0.244,
         "loudness": -4.826,
         "mode": 0,
         "speechiness": 0.0417,
         "tempo": 125.014,
         "time_signature": 4,
         "track_href": "https://api.spotify.com/v1/tracks/7JtQLJcOyVJKUPdUC4lggE",
         "type": "audio_features",
         "uri": "spotify:track:7JtQLJcOyVJKUPdUC4lggE",
         "valence": 0.504
        },
        {
         "Artist Name": "Wild Moccasins",
         "Probability of Correctness": 0.6,
         "Song Name": "Open Sesames",
         "_deepnote_index_column": 2725,
         "acousticness": 0.12,
         "analysis_url": "https://api.spotify.com/v1/audio-analysis/3B31KPjo2If40GCAnF6CU9",
         "danceability": 0.559,
         "duration_ms": 238320,
         "energy": 0.767,
         "id": "3B31KPjo2If40GCAnF6CU9",
         "instrumentalness": 5.83e-05,
         "liveness": 0.0721,
         "loudness": -5.605,
         "mode": 1,
         "speechiness": 0.0336,
         "tempo": 107.997,
         "time_signature": 4,
         "track_href": "https://api.spotify.com/v1/tracks/3B31KPjo2If40GCAnF6CU9",
         "type": "audio_features",
         "uri": "spotify:track:3B31KPjo2If40GCAnF6CU9",
         "valence": 0.357
        },
        {
         "Artist Name": "Machine Gun Kelly",
         "Probability of Correctness": 0.6,
         "Song Name": "Make It Happen",
         "_deepnote_index_column": 17037,
         "acousticness": 0.0533,
         "analysis_url": "https://api.spotify.com/v1/audio-analysis/2mCRr2EjObwLYpYyL4tiyt",
         "danceability": 0.729,
         "duration_ms": 282400,
         "energy": 0.695,
         "id": "2mCRr2EjObwLYpYyL4tiyt",
         "instrumentalness": 0,
         "liveness": 0.121,
         "loudness": -8.982,
         "mode": 1,
         "speechiness": 0.0563,
         "tempo": 101.02,
         "time_signature": 4,
         "track_href": "https://api.spotify.com/v1/tracks/2mCRr2EjObwLYpYyL4tiyt",
         "type": "audio_features",
         "uri": "spotify:track:2mCRr2EjObwLYpYyL4tiyt",
         "valence": 0.368
        },
        {
         "Artist Name": "RAC",
         "Probability of Correctness": 0.6,
         "Song Name": "The Beautiful Game",
         "_deepnote_index_column": 13362,
         "acousticness": 0.374,
         "analysis_url": "https://api.spotify.com/v1/audio-analysis/71oB7X0NTlrPaGV351oNqv",
         "danceability": 0.443,
         "duration_ms": 272587,
         "energy": 0.643,
         "id": "71oB7X0NTlrPaGV351oNqv",
         "instrumentalness": 0.000106,
         "liveness": 0.1,
         "loudness": -6.519,
         "mode": 1,
         "speechiness": 0.0386,
         "tempo": 105,
         "time_signature": 4,
         "track_href": "https://api.spotify.com/v1/tracks/71oB7X0NTlrPaGV351oNqv",
         "type": "audio_features",
         "uri": "spotify:track:71oB7X0NTlrPaGV351oNqv",
         "valence": 0.451
        },
        {
         "Artist Name": "Haystak",
         "Probability of Correctness": 0.6,
         "Song Name": "Bonnie and Clyde",
         "_deepnote_index_column": 56956,
         "acousticness": 0.0327,
         "analysis_url": "https://api.spotify.com/v1/audio-analysis/5AlWuIrob29cW0mxtxYCeh",
         "danceability": 0.674,
         "duration_ms": 275773,
         "energy": 0.545,
         "id": "5AlWuIrob29cW0mxtxYCeh",
         "instrumentalness": 2.06e-05,
         "liveness": 0.112,
         "loudness": -5.749,
         "mode": 0,
         "speechiness": 0.0417,
         "tempo": 86.001,
         "time_signature": 4,
         "track_href": "https://api.spotify.com/v1/tracks/5AlWuIrob29cW0mxtxYCeh",
         "type": "audio_features",
         "uri": "spotify:track:5AlWuIrob29cW0mxtxYCeh",
         "valence": 0.489
        },
        {
         "Artist Name": "Janine",
         "Probability of Correctness": 0.6,
         "Song Name": "Hold Me (feat. Tunji Ige) - Ghost Loft Remix",
         "_deepnote_index_column": 67311,
         "acousticness": 0.0996,
         "analysis_url": "https://api.spotify.com/v1/audio-analysis/0Q4xzv0jaVTuKT0k2N5dIQ",
         "danceability": 0.79,
         "duration_ms": 227062,
         "energy": 0.428,
         "id": "0Q4xzv0jaVTuKT0k2N5dIQ",
         "instrumentalness": 0.0132,
         "liveness": 0.353,
         "loudness": -11.893,
         "mode": 0,
         "speechiness": 0.0429,
         "tempo": 117.996,
         "time_signature": 4,
         "track_href": "https://api.spotify.com/v1/tracks/0Q4xzv0jaVTuKT0k2N5dIQ",
         "type": "audio_features",
         "uri": "spotify:track:0Q4xzv0jaVTuKT0k2N5dIQ",
         "valence": 0.36
        },
        {
         "Artist Name": "TJR",
         "Probability of Correctness": 0.6,
         "Song Name": "We Wanna Party",
         "_deepnote_index_column": 34264,
         "acousticness": 0.0101,
         "analysis_url": "https://api.spotify.com/v1/audio-analysis/2ea76RAWZqeJLG7mMuNLkg",
         "danceability": 0.768,
         "duration_ms": 167813,
         "energy": 0.952,
         "id": "2ea76RAWZqeJLG7mMuNLkg",
         "instrumentalness": 0.000121,
         "liveness": 0.0901,
         "loudness": -2.191,
         "mode": 1,
         "speechiness": 0.151,
         "tempo": 128.006,
         "time_signature": 4,
         "track_href": "https://api.spotify.com/v1/tracks/2ea76RAWZqeJLG7mMuNLkg",
         "type": "audio_features",
         "uri": "spotify:track:2ea76RAWZqeJLG7mMuNLkg",
         "valence": 0.67
        },
        {
         "Artist Name": "Varials",
         "Probability of Correctness": 0.6,
         "Song Name": "Anything To Numb",
         "_deepnote_index_column": 84941,
         "acousticness": 1.24e-05,
         "analysis_url": "https://api.spotify.com/v1/audio-analysis/7zPFVRs1iJ006sKZQ4S4ap",
         "danceability": 0.419,
         "duration_ms": 191933,
         "energy": 0.927,
         "id": "7zPFVRs1iJ006sKZQ4S4ap",
         "instrumentalness": 0.775,
         "liveness": 0.427,
         "loudness": -4.811,
         "mode": 1,
         "speechiness": 0.113,
         "tempo": 157.986,
         "time_signature": 3,
         "track_href": "https://api.spotify.com/v1/tracks/7zPFVRs1iJ006sKZQ4S4ap",
         "type": "audio_features",
         "uri": "spotify:track:7zPFVRs1iJ006sKZQ4S4ap",
         "valence": 0.277
        },
        {
         "Artist Name": "Dervish",
         "Probability of Correctness": 0.6,
         "Song Name": "The Lovers Token",
         "_deepnote_index_column": 28578,
         "acousticness": 0.888,
         "analysis_url": "https://api.spotify.com/v1/audio-analysis/0s6DAwaIvyGsXydyEILHtM",
         "danceability": 0.499,
         "duration_ms": 283307,
         "energy": 0.252,
         "id": "0s6DAwaIvyGsXydyEILHtM",
         "instrumentalness": 0,
         "liveness": 0.0744,
         "loudness": -9.389,
         "mode": 1,
         "speechiness": 0.0287,
         "tempo": 104.747,
         "time_signature": 3,
         "track_href": "https://api.spotify.com/v1/tracks/0s6DAwaIvyGsXydyEILHtM",
         "type": "audio_features",
         "uri": "spotify:track:0s6DAwaIvyGsXydyEILHtM",
         "valence": 0.461
        },
        {
         "Artist Name": "Ape Drums",
         "Probability of Correctness": 0.6,
         "Song Name": "LFUTP (feat. Rizzoo Rizzoo & Lil Uzi Vert)",
         "_deepnote_index_column": 38537,
         "acousticness": 0.0727,
         "analysis_url": "https://api.spotify.com/v1/audio-analysis/0JOLrb7F0VwFUNGBwh4Ajq",
         "danceability": 0.498,
         "duration_ms": 200005,
         "energy": 0.873,
         "id": "0JOLrb7F0VwFUNGBwh4Ajq",
         "instrumentalness": 0.00314,
         "liveness": 0.243,
         "loudness": -4.946,
         "mode": 1,
         "speechiness": 0.151,
         "tempo": 120.006,
         "time_signature": 4,
         "track_href": "https://api.spotify.com/v1/tracks/0JOLrb7F0VwFUNGBwh4Ajq",
         "type": "audio_features",
         "uri": "spotify:track:0JOLrb7F0VwFUNGBwh4Ajq",
         "valence": 0.529
        },
        {
         "Artist Name": "Ocean Park Standoff",
         "Probability of Correctness": 0.6,
         "Song Name": "Good News",
         "_deepnote_index_column": 22198,
         "acousticness": 0.172,
         "analysis_url": "https://api.spotify.com/v1/audio-analysis/1dXCXb006YbPSAajh6qhaF",
         "danceability": 0.602,
         "duration_ms": 188139,
         "energy": 0.793,
         "id": "1dXCXb006YbPSAajh6qhaF",
         "instrumentalness": 0,
         "liveness": 0.069,
         "loudness": -4.043,
         "mode": 1,
         "speechiness": 0.0767,
         "tempo": 90.093,
         "time_signature": 4,
         "track_href": "https://api.spotify.com/v1/tracks/1dXCXb006YbPSAajh6qhaF",
         "type": "audio_features",
         "uri": "spotify:track:1dXCXb006YbPSAajh6qhaF",
         "valence": 0.283
        },
        {
         "Artist Name": "Tommy Roe",
         "Probability of Correctness": 0.6,
         "Song Name": "Dizzy",
         "_deepnote_index_column": 64765,
         "acousticness": 0.00727,
         "analysis_url": "https://api.spotify.com/v1/audio-analysis/3jJKKhg0t4HpdfNDyGiZDy",
         "danceability": 0.802,
         "duration_ms": 176693,
         "energy": 0.407,
         "id": "3jJKKhg0t4HpdfNDyGiZDy",
         "instrumentalness": 0.00147,
         "liveness": 0.0626,
         "loudness": -10.857,
         "mode": 1,
         "speechiness": 0.0309,
         "tempo": 104.058,
         "time_signature": 4,
         "track_href": "https://api.spotify.com/v1/tracks/3jJKKhg0t4HpdfNDyGiZDy",
         "type": "audio_features",
         "uri": "spotify:track:3jJKKhg0t4HpdfNDyGiZDy",
         "valence": 0.821
        },
        {
         "Artist Name": "Xuitcasecity",
         "Probability of Correctness": 0.6,
         "Song Name": "Need Somebody",
         "_deepnote_index_column": 89469,
         "acousticness": 0.252,
         "analysis_url": "https://api.spotify.com/v1/audio-analysis/3UmtRRyDBhjHzaMpG351F0",
         "danceability": 0.424,
         "duration_ms": 188220,
         "energy": 0.647,
         "id": "3UmtRRyDBhjHzaMpG351F0",
         "instrumentalness": 0,
         "liveness": 0.208,
         "loudness": -6.556,
         "mode": 1,
         "speechiness": 0.188,
         "tempo": 89.793,
         "time_signature": 4,
         "track_href": "https://api.spotify.com/v1/tracks/3UmtRRyDBhjHzaMpG351F0",
         "type": "audio_features",
         "uri": "spotify:track:3UmtRRyDBhjHzaMpG351F0",
         "valence": 0.262
        },
        {
         "Artist Name": "will.i.am",
         "Probability of Correctness": 0.6,
         "Song Name": "This Is Love - Afrojack Remix",
         "_deepnote_index_column": 81821,
         "acousticness": 0.023,
         "analysis_url": "https://api.spotify.com/v1/audio-analysis/0NkF2CPCF3rAzyEDFt9UlF",
         "danceability": 0.639,
         "duration_ms": 315640,
         "energy": 0.813,
         "id": "0NkF2CPCF3rAzyEDFt9UlF",
         "instrumentalness": 1.56e-05,
         "liveness": 0.656,
         "loudness": -4.471,
         "mode": 1,
         "speechiness": 0.149,
         "tempo": 129.054,
         "time_signature": 4,
         "track_href": "https://api.spotify.com/v1/tracks/0NkF2CPCF3rAzyEDFt9UlF",
         "type": "audio_features",
         "uri": "spotify:track:0NkF2CPCF3rAzyEDFt9UlF",
         "valence": 0.313
        },
        {
         "Artist Name": "Jeremy Camp",
         "Probability of Correctness": 0.6,
         "Song Name": "Overcome",
         "_deepnote_index_column": 35591,
         "acousticness": 0.528,
         "analysis_url": "https://api.spotify.com/v1/audio-analysis/1xBIgVOzLS8zbi4vcFSqMK",
         "danceability": 0.224,
         "duration_ms": 483560,
         "energy": 0.493,
         "id": "1xBIgVOzLS8zbi4vcFSqMK",
         "instrumentalness": 0,
         "liveness": 0.0782,
         "loudness": -7.499,
         "mode": 1,
         "speechiness": 0.0318,
         "tempo": 142.918,
         "time_signature": 3,
         "track_href": "https://api.spotify.com/v1/tracks/1xBIgVOzLS8zbi4vcFSqMK",
         "type": "audio_features",
         "uri": "spotify:track:1xBIgVOzLS8zbi4vcFSqMK",
         "valence": 0.0739
        }
       ]
      },
      "text/html": [
       "<div>\n",
       "<style scoped>\n",
       "    .dataframe tbody tr th:only-of-type {\n",
       "        vertical-align: middle;\n",
       "    }\n",
       "\n",
       "    .dataframe tbody tr th {\n",
       "        vertical-align: top;\n",
       "    }\n",
       "\n",
       "    .dataframe thead th {\n",
       "        text-align: right;\n",
       "    }\n",
       "</style>\n",
       "<table border=\"1\" class=\"dataframe\">\n",
       "  <thead>\n",
       "    <tr style=\"text-align: right;\">\n",
       "      <th></th>\n",
       "      <th>Artist Name</th>\n",
       "      <th>Song Name</th>\n",
       "      <th>danceability</th>\n",
       "      <th>energy</th>\n",
       "      <th>loudness</th>\n",
       "      <th>mode</th>\n",
       "      <th>speechiness</th>\n",
       "      <th>acousticness</th>\n",
       "      <th>instrumentalness</th>\n",
       "      <th>liveness</th>\n",
       "      <th>valence</th>\n",
       "      <th>tempo</th>\n",
       "      <th>type</th>\n",
       "      <th>id</th>\n",
       "      <th>uri</th>\n",
       "      <th>track_href</th>\n",
       "      <th>analysis_url</th>\n",
       "      <th>duration_ms</th>\n",
       "      <th>time_signature</th>\n",
       "      <th>Probability of Correctness</th>\n",
       "    </tr>\n",
       "  </thead>\n",
       "  <tbody>\n",
       "    <tr>\n",
       "      <th>74300</th>\n",
       "      <td>Trina</td>\n",
       "      <td>B***h I Don't Need U</td>\n",
       "      <td>0.824</td>\n",
       "      <td>0.6630</td>\n",
       "      <td>-5.228</td>\n",
       "      <td>1</td>\n",
       "      <td>0.3220</td>\n",
       "      <td>0.04000</td>\n",
       "      <td>0.000000</td>\n",
       "      <td>0.0875</td>\n",
       "      <td>0.764</td>\n",
       "      <td>155.430</td>\n",
       "      <td>audio_features</td>\n",
       "      <td>5mzG3pceHwGZN1o6s3zAlq</td>\n",
       "      <td>spotify:track:5mzG3pceHwGZN1o6s3zAlq</td>\n",
       "      <td>https://api.spotify.com/v1/tracks/5mzG3pceHwGZ...</td>\n",
       "      <td>https://api.spotify.com/v1/audio-analysis/5mzG...</td>\n",
       "      <td>138173</td>\n",
       "      <td>4</td>\n",
       "      <td>0.8</td>\n",
       "    </tr>\n",
       "    <tr>\n",
       "      <th>42495</th>\n",
       "      <td>Regulo Caro</td>\n",
       "      <td>Cicatriiices</td>\n",
       "      <td>0.756</td>\n",
       "      <td>0.6880</td>\n",
       "      <td>-2.850</td>\n",
       "      <td>1</td>\n",
       "      <td>0.0299</td>\n",
       "      <td>0.62600</td>\n",
       "      <td>0.000000</td>\n",
       "      <td>0.1180</td>\n",
       "      <td>0.962</td>\n",
       "      <td>103.980</td>\n",
       "      <td>audio_features</td>\n",
       "      <td>795iKycRJtgee21MTf9nat</td>\n",
       "      <td>spotify:track:795iKycRJtgee21MTf9nat</td>\n",
       "      <td>https://api.spotify.com/v1/tracks/795iKycRJtge...</td>\n",
       "      <td>https://api.spotify.com/v1/audio-analysis/795i...</td>\n",
       "      <td>166173</td>\n",
       "      <td>4</td>\n",
       "      <td>0.8</td>\n",
       "    </tr>\n",
       "    <tr>\n",
       "      <th>85233</th>\n",
       "      <td>Foxx</td>\n",
       "      <td>Smokin Loud</td>\n",
       "      <td>0.818</td>\n",
       "      <td>0.5060</td>\n",
       "      <td>-10.240</td>\n",
       "      <td>1</td>\n",
       "      <td>0.3900</td>\n",
       "      <td>0.02410</td>\n",
       "      <td>0.000000</td>\n",
       "      <td>0.1080</td>\n",
       "      <td>0.704</td>\n",
       "      <td>168.954</td>\n",
       "      <td>audio_features</td>\n",
       "      <td>32pehhGftaYKKu80kjjrGr</td>\n",
       "      <td>spotify:track:32pehhGftaYKKu80kjjrGr</td>\n",
       "      <td>https://api.spotify.com/v1/tracks/32pehhGftaYK...</td>\n",
       "      <td>https://api.spotify.com/v1/audio-analysis/32pe...</td>\n",
       "      <td>315627</td>\n",
       "      <td>4</td>\n",
       "      <td>0.8</td>\n",
       "    </tr>\n",
       "    <tr>\n",
       "      <th>49957</th>\n",
       "      <td>George Strait</td>\n",
       "      <td>Heartland - Pure Country/Soundtrack Version</td>\n",
       "      <td>0.449</td>\n",
       "      <td>0.8900</td>\n",
       "      <td>-9.500</td>\n",
       "      <td>1</td>\n",
       "      <td>0.0500</td>\n",
       "      <td>0.05210</td>\n",
       "      <td>0.000077</td>\n",
       "      <td>0.1120</td>\n",
       "      <td>0.695</td>\n",
       "      <td>156.983</td>\n",
       "      <td>audio_features</td>\n",
       "      <td>0U4R6UqrJo43TmImPku9H8</td>\n",
       "      <td>spotify:track:0U4R6UqrJo43TmImPku9H8</td>\n",
       "      <td>https://api.spotify.com/v1/tracks/0U4R6UqrJo43...</td>\n",
       "      <td>https://api.spotify.com/v1/audio-analysis/0U4R...</td>\n",
       "      <td>138160</td>\n",
       "      <td>4</td>\n",
       "      <td>0.8</td>\n",
       "    </tr>\n",
       "    <tr>\n",
       "      <th>60327</th>\n",
       "      <td>Janet Jackson</td>\n",
       "      <td>Thinkin' Bout My Ex</td>\n",
       "      <td>0.584</td>\n",
       "      <td>0.5630</td>\n",
       "      <td>-8.071</td>\n",
       "      <td>1</td>\n",
       "      <td>0.0905</td>\n",
       "      <td>0.30100</td>\n",
       "      <td>0.000013</td>\n",
       "      <td>0.6480</td>\n",
       "      <td>0.150</td>\n",
       "      <td>78.989</td>\n",
       "      <td>audio_features</td>\n",
       "      <td>4HsitPIASpAezYrZal7xH9</td>\n",
       "      <td>spotify:track:4HsitPIASpAezYrZal7xH9</td>\n",
       "      <td>https://api.spotify.com/v1/tracks/4HsitPIASpAe...</td>\n",
       "      <td>https://api.spotify.com/v1/audio-analysis/4Hsi...</td>\n",
       "      <td>273773</td>\n",
       "      <td>4</td>\n",
       "      <td>0.8</td>\n",
       "    </tr>\n",
       "    <tr>\n",
       "      <th>...</th>\n",
       "      <td>...</td>\n",
       "      <td>...</td>\n",
       "      <td>...</td>\n",
       "      <td>...</td>\n",
       "      <td>...</td>\n",
       "      <td>...</td>\n",
       "      <td>...</td>\n",
       "      <td>...</td>\n",
       "      <td>...</td>\n",
       "      <td>...</td>\n",
       "      <td>...</td>\n",
       "      <td>...</td>\n",
       "      <td>...</td>\n",
       "      <td>...</td>\n",
       "      <td>...</td>\n",
       "      <td>...</td>\n",
       "      <td>...</td>\n",
       "      <td>...</td>\n",
       "      <td>...</td>\n",
       "      <td>...</td>\n",
       "    </tr>\n",
       "    <tr>\n",
       "      <th>13086</th>\n",
       "      <td>Golden</td>\n",
       "      <td>You're Always Loved</td>\n",
       "      <td>0.578</td>\n",
       "      <td>0.3250</td>\n",
       "      <td>-7.078</td>\n",
       "      <td>1</td>\n",
       "      <td>0.0264</td>\n",
       "      <td>0.79000</td>\n",
       "      <td>0.000000</td>\n",
       "      <td>0.2980</td>\n",
       "      <td>0.555</td>\n",
       "      <td>157.833</td>\n",
       "      <td>audio_features</td>\n",
       "      <td>6YelAEU4fYMKXFxG5q235W</td>\n",
       "      <td>spotify:track:6YelAEU4fYMKXFxG5q235W</td>\n",
       "      <td>https://api.spotify.com/v1/tracks/6YelAEU4fYMK...</td>\n",
       "      <td>https://api.spotify.com/v1/audio-analysis/6Yel...</td>\n",
       "      <td>249873</td>\n",
       "      <td>4</td>\n",
       "      <td>0.0</td>\n",
       "    </tr>\n",
       "    <tr>\n",
       "      <th>45798</th>\n",
       "      <td>Chris Brown</td>\n",
       "      <td>Body Shots</td>\n",
       "      <td>0.598</td>\n",
       "      <td>0.5900</td>\n",
       "      <td>-7.593</td>\n",
       "      <td>0</td>\n",
       "      <td>0.1070</td>\n",
       "      <td>0.00604</td>\n",
       "      <td>0.000000</td>\n",
       "      <td>0.0425</td>\n",
       "      <td>0.515</td>\n",
       "      <td>144.781</td>\n",
       "      <td>audio_features</td>\n",
       "      <td>5bAwc4oM3fwqdidTHwaVnZ</td>\n",
       "      <td>spotify:track:5bAwc4oM3fwqdidTHwaVnZ</td>\n",
       "      <td>https://api.spotify.com/v1/tracks/5bAwc4oM3fwq...</td>\n",
       "      <td>https://api.spotify.com/v1/audio-analysis/5bAw...</td>\n",
       "      <td>222387</td>\n",
       "      <td>4</td>\n",
       "      <td>0.0</td>\n",
       "    </tr>\n",
       "    <tr>\n",
       "      <th>69072</th>\n",
       "      <td>Ahmad Lewis</td>\n",
       "      <td>Back In The Day - Remix</td>\n",
       "      <td>0.630</td>\n",
       "      <td>0.6410</td>\n",
       "      <td>-6.670</td>\n",
       "      <td>0</td>\n",
       "      <td>0.3690</td>\n",
       "      <td>0.34200</td>\n",
       "      <td>0.000000</td>\n",
       "      <td>0.5880</td>\n",
       "      <td>0.541</td>\n",
       "      <td>79.523</td>\n",
       "      <td>audio_features</td>\n",
       "      <td>5gUVdjfPWoaKoRiEMHBX6P</td>\n",
       "      <td>spotify:track:5gUVdjfPWoaKoRiEMHBX6P</td>\n",
       "      <td>https://api.spotify.com/v1/tracks/5gUVdjfPWoaK...</td>\n",
       "      <td>https://api.spotify.com/v1/audio-analysis/5gUV...</td>\n",
       "      <td>303373</td>\n",
       "      <td>4</td>\n",
       "      <td>0.0</td>\n",
       "    </tr>\n",
       "    <tr>\n",
       "      <th>52231</th>\n",
       "      <td>Fuel</td>\n",
       "      <td>Daniel</td>\n",
       "      <td>0.589</td>\n",
       "      <td>0.2870</td>\n",
       "      <td>-9.508</td>\n",
       "      <td>1</td>\n",
       "      <td>0.0316</td>\n",
       "      <td>0.80500</td>\n",
       "      <td>0.000006</td>\n",
       "      <td>0.0925</td>\n",
       "      <td>0.161</td>\n",
       "      <td>116.351</td>\n",
       "      <td>audio_features</td>\n",
       "      <td>0BGAynw6Ic9QhFwMihARQl</td>\n",
       "      <td>spotify:track:0BGAynw6Ic9QhFwMihARQl</td>\n",
       "      <td>https://api.spotify.com/v1/tracks/0BGAynw6Ic9Q...</td>\n",
       "      <td>https://api.spotify.com/v1/audio-analysis/0BGA...</td>\n",
       "      <td>269893</td>\n",
       "      <td>4</td>\n",
       "      <td>0.0</td>\n",
       "    </tr>\n",
       "    <tr>\n",
       "      <th>88792</th>\n",
       "      <td>Mississippi Fred McDowell</td>\n",
       "      <td>Soon One Mornin' (Death Come A-Creepin' In My ...</td>\n",
       "      <td>0.575</td>\n",
       "      <td>0.0979</td>\n",
       "      <td>-19.243</td>\n",
       "      <td>0</td>\n",
       "      <td>0.0420</td>\n",
       "      <td>0.89100</td>\n",
       "      <td>0.069900</td>\n",
       "      <td>0.2280</td>\n",
       "      <td>0.478</td>\n",
       "      <td>135.431</td>\n",
       "      <td>audio_features</td>\n",
       "      <td>1szoyZVD3yvVyStDUd74Ep</td>\n",
       "      <td>spotify:track:1szoyZVD3yvVyStDUd74Ep</td>\n",
       "      <td>https://api.spotify.com/v1/tracks/1szoyZVD3yvV...</td>\n",
       "      <td>https://api.spotify.com/v1/audio-analysis/1szo...</td>\n",
       "      <td>191658</td>\n",
       "      <td>4</td>\n",
       "      <td>0.0</td>\n",
       "    </tr>\n",
       "  </tbody>\n",
       "</table>\n",
       "<p>27845 rows × 20 columns</p>\n",
       "</div>"
      ],
      "text/plain": [
       "                     Artist Name  \\\n",
       "74300                      Trina   \n",
       "42495                Regulo Caro   \n",
       "85233                       Foxx   \n",
       "49957              George Strait   \n",
       "60327              Janet Jackson   \n",
       "...                          ...   \n",
       "13086                     Golden   \n",
       "45798                Chris Brown   \n",
       "69072                Ahmad Lewis   \n",
       "52231                       Fuel   \n",
       "88792  Mississippi Fred McDowell   \n",
       "\n",
       "                                               Song Name  danceability  \\\n",
       "74300                               B***h I Don't Need U         0.824   \n",
       "42495                                       Cicatriiices         0.756   \n",
       "85233                                        Smokin Loud         0.818   \n",
       "49957        Heartland - Pure Country/Soundtrack Version         0.449   \n",
       "60327                                Thinkin' Bout My Ex         0.584   \n",
       "...                                                  ...           ...   \n",
       "13086                                You're Always Loved         0.578   \n",
       "45798                                         Body Shots         0.598   \n",
       "69072                            Back In The Day - Remix         0.630   \n",
       "52231                                             Daniel         0.589   \n",
       "88792  Soon One Mornin' (Death Come A-Creepin' In My ...         0.575   \n",
       "\n",
       "       energy  loudness  mode  speechiness  acousticness  instrumentalness  \\\n",
       "74300  0.6630    -5.228     1       0.3220       0.04000          0.000000   \n",
       "42495  0.6880    -2.850     1       0.0299       0.62600          0.000000   \n",
       "85233  0.5060   -10.240     1       0.3900       0.02410          0.000000   \n",
       "49957  0.8900    -9.500     1       0.0500       0.05210          0.000077   \n",
       "60327  0.5630    -8.071     1       0.0905       0.30100          0.000013   \n",
       "...       ...       ...   ...          ...           ...               ...   \n",
       "13086  0.3250    -7.078     1       0.0264       0.79000          0.000000   \n",
       "45798  0.5900    -7.593     0       0.1070       0.00604          0.000000   \n",
       "69072  0.6410    -6.670     0       0.3690       0.34200          0.000000   \n",
       "52231  0.2870    -9.508     1       0.0316       0.80500          0.000006   \n",
       "88792  0.0979   -19.243     0       0.0420       0.89100          0.069900   \n",
       "\n",
       "       liveness  valence    tempo            type                      id  \\\n",
       "74300    0.0875    0.764  155.430  audio_features  5mzG3pceHwGZN1o6s3zAlq   \n",
       "42495    0.1180    0.962  103.980  audio_features  795iKycRJtgee21MTf9nat   \n",
       "85233    0.1080    0.704  168.954  audio_features  32pehhGftaYKKu80kjjrGr   \n",
       "49957    0.1120    0.695  156.983  audio_features  0U4R6UqrJo43TmImPku9H8   \n",
       "60327    0.6480    0.150   78.989  audio_features  4HsitPIASpAezYrZal7xH9   \n",
       "...         ...      ...      ...             ...                     ...   \n",
       "13086    0.2980    0.555  157.833  audio_features  6YelAEU4fYMKXFxG5q235W   \n",
       "45798    0.0425    0.515  144.781  audio_features  5bAwc4oM3fwqdidTHwaVnZ   \n",
       "69072    0.5880    0.541   79.523  audio_features  5gUVdjfPWoaKoRiEMHBX6P   \n",
       "52231    0.0925    0.161  116.351  audio_features  0BGAynw6Ic9QhFwMihARQl   \n",
       "88792    0.2280    0.478  135.431  audio_features  1szoyZVD3yvVyStDUd74Ep   \n",
       "\n",
       "                                        uri  \\\n",
       "74300  spotify:track:5mzG3pceHwGZN1o6s3zAlq   \n",
       "42495  spotify:track:795iKycRJtgee21MTf9nat   \n",
       "85233  spotify:track:32pehhGftaYKKu80kjjrGr   \n",
       "49957  spotify:track:0U4R6UqrJo43TmImPku9H8   \n",
       "60327  spotify:track:4HsitPIASpAezYrZal7xH9   \n",
       "...                                     ...   \n",
       "13086  spotify:track:6YelAEU4fYMKXFxG5q235W   \n",
       "45798  spotify:track:5bAwc4oM3fwqdidTHwaVnZ   \n",
       "69072  spotify:track:5gUVdjfPWoaKoRiEMHBX6P   \n",
       "52231  spotify:track:0BGAynw6Ic9QhFwMihARQl   \n",
       "88792  spotify:track:1szoyZVD3yvVyStDUd74Ep   \n",
       "\n",
       "                                              track_href  \\\n",
       "74300  https://api.spotify.com/v1/tracks/5mzG3pceHwGZ...   \n",
       "42495  https://api.spotify.com/v1/tracks/795iKycRJtge...   \n",
       "85233  https://api.spotify.com/v1/tracks/32pehhGftaYK...   \n",
       "49957  https://api.spotify.com/v1/tracks/0U4R6UqrJo43...   \n",
       "60327  https://api.spotify.com/v1/tracks/4HsitPIASpAe...   \n",
       "...                                                  ...   \n",
       "13086  https://api.spotify.com/v1/tracks/6YelAEU4fYMK...   \n",
       "45798  https://api.spotify.com/v1/tracks/5bAwc4oM3fwq...   \n",
       "69072  https://api.spotify.com/v1/tracks/5gUVdjfPWoaK...   \n",
       "52231  https://api.spotify.com/v1/tracks/0BGAynw6Ic9Q...   \n",
       "88792  https://api.spotify.com/v1/tracks/1szoyZVD3yvV...   \n",
       "\n",
       "                                            analysis_url  duration_ms  \\\n",
       "74300  https://api.spotify.com/v1/audio-analysis/5mzG...       138173   \n",
       "42495  https://api.spotify.com/v1/audio-analysis/795i...       166173   \n",
       "85233  https://api.spotify.com/v1/audio-analysis/32pe...       315627   \n",
       "49957  https://api.spotify.com/v1/audio-analysis/0U4R...       138160   \n",
       "60327  https://api.spotify.com/v1/audio-analysis/4Hsi...       273773   \n",
       "...                                                  ...          ...   \n",
       "13086  https://api.spotify.com/v1/audio-analysis/6Yel...       249873   \n",
       "45798  https://api.spotify.com/v1/audio-analysis/5bAw...       222387   \n",
       "69072  https://api.spotify.com/v1/audio-analysis/5gUV...       303373   \n",
       "52231  https://api.spotify.com/v1/audio-analysis/0BGA...       269893   \n",
       "88792  https://api.spotify.com/v1/audio-analysis/1szo...       191658   \n",
       "\n",
       "       time_signature  Probability of Correctness  \n",
       "74300               4                         0.8  \n",
       "42495               4                         0.8  \n",
       "85233               4                         0.8  \n",
       "49957               4                         0.8  \n",
       "60327               4                         0.8  \n",
       "...               ...                         ...  \n",
       "13086               4                         0.0  \n",
       "45798               4                         0.0  \n",
       "69072               4                         0.0  \n",
       "52231               4                         0.0  \n",
       "88792               4                         0.0  \n",
       "\n",
       "[27845 rows x 20 columns]"
      ]
     },
     "execution_count": 28,
     "metadata": {},
     "output_type": "execute_result"
    }
   ],
   "source": [
    "# Sorting by similarity\n",
    "X_test.sort_values('Probability of Correctness', ascending=False)"
   ]
  },
  {
   "cell_type": "code",
   "execution_count": 29,
   "metadata": {
    "cell_id": "00033-02b0bcc6-f4b4-4701-84a0-e0406051d670",
    "deepnote_cell_type": "code",
    "execution_millis": 6,
    "execution_start": 1606609503913,
    "output_cleared": false,
    "source_hash": "eefb7ce2",
    "tags": []
   },
   "outputs": [
    {
     "data": {
      "text/plain": [
       "Artist Name          object\n",
       "Song Name            object\n",
       "danceability        float64\n",
       "energy              float64\n",
       "loudness            float64\n",
       "mode                  int64\n",
       "speechiness         float64\n",
       "acousticness        float64\n",
       "instrumentalness    float64\n",
       "liveness            float64\n",
       "valence             float64\n",
       "tempo               float64\n",
       "type                 object\n",
       "id                   object\n",
       "uri                  object\n",
       "track_href           object\n",
       "analysis_url         object\n",
       "duration_ms           int64\n",
       "time_signature        int64\n",
       "dtype: object"
      ]
     },
     "execution_count": 29,
     "metadata": {},
     "output_type": "execute_result"
    }
   ],
   "source": [
    "X_train.dtypes"
   ]
  },
  {
   "cell_type": "markdown",
   "metadata": {
    "cell_id": "00037-a3436212-6ef2-4467-8211-27f49363803e",
    "deepnote_cell_type": "markdown",
    "output_cleared": false,
    "tags": []
   },
   "source": []
  },
  {
   "cell_type": "markdown",
   "metadata": {
    "cell_id": "00038-02b9b305-6b76-4db7-adc4-156d99c4fb20",
    "deepnote_cell_type": "markdown",
    "output_cleared": false,
    "tags": []
   },
   "source": [
    "## Exploring Spotify's Genres:"
   ]
  },
  {
   "cell_type": "code",
   "execution_count": 30,
   "metadata": {
    "cell_id": "00039-76ef1eef-ebd5-4103-8c82-4d07553267e1",
    "deepnote_cell_type": "code",
    "execution_millis": 43,
    "execution_start": 1606609503920,
    "output_cleared": false,
    "source_hash": "61c60eb5",
    "tags": []
   },
   "outputs": [
    {
     "data": {
      "text/plain": [
       "{'genres': ['acoustic',\n",
       "  'afrobeat',\n",
       "  'alt-rock',\n",
       "  'alternative',\n",
       "  'ambient',\n",
       "  'anime',\n",
       "  'black-metal',\n",
       "  'bluegrass',\n",
       "  'blues',\n",
       "  'bossanova',\n",
       "  'brazil',\n",
       "  'breakbeat',\n",
       "  'british',\n",
       "  'cantopop',\n",
       "  'chicago-house',\n",
       "  'children',\n",
       "  'chill',\n",
       "  'classical',\n",
       "  'club',\n",
       "  'comedy',\n",
       "  'country',\n",
       "  'dance',\n",
       "  'dancehall',\n",
       "  'death-metal',\n",
       "  'deep-house',\n",
       "  'detroit-techno',\n",
       "  'disco',\n",
       "  'disney',\n",
       "  'drum-and-bass',\n",
       "  'dub',\n",
       "  'dubstep',\n",
       "  'edm',\n",
       "  'electro',\n",
       "  'electronic',\n",
       "  'emo',\n",
       "  'folk',\n",
       "  'forro',\n",
       "  'french',\n",
       "  'funk',\n",
       "  'garage',\n",
       "  'german',\n",
       "  'gospel',\n",
       "  'goth',\n",
       "  'grindcore',\n",
       "  'groove',\n",
       "  'grunge',\n",
       "  'guitar',\n",
       "  'happy',\n",
       "  'hard-rock',\n",
       "  'hardcore',\n",
       "  'hardstyle',\n",
       "  'heavy-metal',\n",
       "  'hip-hop',\n",
       "  'holidays',\n",
       "  'honky-tonk',\n",
       "  'house',\n",
       "  'idm',\n",
       "  'indian',\n",
       "  'indie',\n",
       "  'indie-pop',\n",
       "  'industrial',\n",
       "  'iranian',\n",
       "  'j-dance',\n",
       "  'j-idol',\n",
       "  'j-pop',\n",
       "  'j-rock',\n",
       "  'jazz',\n",
       "  'k-pop',\n",
       "  'kids',\n",
       "  'latin',\n",
       "  'latino',\n",
       "  'malay',\n",
       "  'mandopop',\n",
       "  'metal',\n",
       "  'metal-misc',\n",
       "  'metalcore',\n",
       "  'minimal-techno',\n",
       "  'movies',\n",
       "  'mpb',\n",
       "  'new-age',\n",
       "  'new-release',\n",
       "  'opera',\n",
       "  'pagode',\n",
       "  'party',\n",
       "  'philippines-opm',\n",
       "  'piano',\n",
       "  'pop',\n",
       "  'pop-film',\n",
       "  'post-dubstep',\n",
       "  'power-pop',\n",
       "  'progressive-house',\n",
       "  'psych-rock',\n",
       "  'punk',\n",
       "  'punk-rock',\n",
       "  'r-n-b',\n",
       "  'rainy-day',\n",
       "  'reggae',\n",
       "  'reggaeton',\n",
       "  'road-trip',\n",
       "  'rock',\n",
       "  'rock-n-roll',\n",
       "  'rockabilly',\n",
       "  'romance',\n",
       "  'sad',\n",
       "  'salsa',\n",
       "  'samba',\n",
       "  'sertanejo',\n",
       "  'show-tunes',\n",
       "  'singer-songwriter',\n",
       "  'ska',\n",
       "  'sleep',\n",
       "  'songwriter',\n",
       "  'soul',\n",
       "  'soundtracks',\n",
       "  'spanish',\n",
       "  'study',\n",
       "  'summer',\n",
       "  'swedish',\n",
       "  'synth-pop',\n",
       "  'tango',\n",
       "  'techno',\n",
       "  'trance',\n",
       "  'trip-hop',\n",
       "  'turkish',\n",
       "  'work-out',\n",
       "  'world-music']}"
      ]
     },
     "execution_count": 30,
     "metadata": {},
     "output_type": "execute_result"
    }
   ],
   "source": [
    "sp.recommendation_genre_seeds() #figuring out a way how this is attributed"
   ]
  },
  {
   "cell_type": "code",
   "execution_count": 30,
   "metadata": {
    "cell_id": "00040-12b4dcca-2b00-4a4b-861f-effe35541a23",
    "deepnote_cell_type": "code",
    "execution_millis": 3,
    "execution_start": 1606609503966,
    "output_cleared": false,
    "source_hash": "b623e53d",
    "tags": []
   },
   "outputs": [],
   "source": []
  },
  {
   "cell_type": "code",
   "execution_count": 31,
   "metadata": {
    "cell_id": "00040-94a54486-347a-46ff-be57-70a3affdbdb6",
    "deepnote_cell_type": "code",
    "execution_millis": 6,
    "execution_start": 1606609504014,
    "output_cleared": false,
    "source_hash": "c8063fc5",
    "tags": []
   },
   "outputs": [
    {
     "name": "stderr",
     "output_type": "stream",
     "text": [
      "HTTP Error for GET to https://api.spotify.com/v1/recommendations returned 400 due to invalid request\n"
     ]
    },
    {
     "ename": "SpotifyException",
     "evalue": "http status: 400, code:-1 - https://api.spotify.com/v1/recommendations?limit=20:\n invalid request, reason: None",
     "output_type": "error",
     "traceback": [
      "\u001b[0;31m---------------------------------------------------------------------------\u001b[0m",
      "\u001b[0;31mHTTPError\u001b[0m                                 Traceback (most recent call last)",
      "\u001b[0;32m/opt/venv/lib/python3.7/site-packages/spotipy/client.py\u001b[0m in \u001b[0;36m_internal_call\u001b[0;34m(self, method, url, payload, params)\u001b[0m\n\u001b[1;32m    244\u001b[0m \u001b[0;34m\u001b[0m\u001b[0m\n\u001b[0;32m--> 245\u001b[0;31m             \u001b[0mresponse\u001b[0m\u001b[0;34m.\u001b[0m\u001b[0mraise_for_status\u001b[0m\u001b[0;34m(\u001b[0m\u001b[0;34m)\u001b[0m\u001b[0;34m\u001b[0m\u001b[0;34m\u001b[0m\u001b[0m\n\u001b[0m\u001b[1;32m    246\u001b[0m             \u001b[0mresults\u001b[0m \u001b[0;34m=\u001b[0m \u001b[0mresponse\u001b[0m\u001b[0;34m.\u001b[0m\u001b[0mjson\u001b[0m\u001b[0;34m(\u001b[0m\u001b[0;34m)\u001b[0m\u001b[0;34m\u001b[0m\u001b[0;34m\u001b[0m\u001b[0m\n",
      "\u001b[0;32m/opt/venv/lib/python3.7/site-packages/requests/models.py\u001b[0m in \u001b[0;36mraise_for_status\u001b[0;34m(self)\u001b[0m\n\u001b[1;32m    942\u001b[0m         \u001b[0;32mif\u001b[0m \u001b[0mhttp_error_msg\u001b[0m\u001b[0;34m:\u001b[0m\u001b[0;34m\u001b[0m\u001b[0;34m\u001b[0m\u001b[0m\n\u001b[0;32m--> 943\u001b[0;31m             \u001b[0;32mraise\u001b[0m \u001b[0mHTTPError\u001b[0m\u001b[0;34m(\u001b[0m\u001b[0mhttp_error_msg\u001b[0m\u001b[0;34m,\u001b[0m \u001b[0mresponse\u001b[0m\u001b[0;34m=\u001b[0m\u001b[0mself\u001b[0m\u001b[0;34m)\u001b[0m\u001b[0;34m\u001b[0m\u001b[0;34m\u001b[0m\u001b[0m\n\u001b[0m\u001b[1;32m    944\u001b[0m \u001b[0;34m\u001b[0m\u001b[0m\n",
      "\u001b[0;31mHTTPError\u001b[0m: 400 Client Error: Bad Request for url: https://api.spotify.com/v1/recommendations?limit=20",
      "\nDuring handling of the above exception, another exception occurred:\n",
      "\u001b[0;31mSpotifyException\u001b[0m                          Traceback (most recent call last)",
      "\u001b[0;32m<ipython-input-31-8afd607101cb>\u001b[0m in \u001b[0;36m<module>\u001b[0;34m\u001b[0m\n\u001b[1;32m      1\u001b[0m \u001b[0;31m# Not sure what this is @Ferdie or Claire?\u001b[0m\u001b[0;34m\u001b[0m\u001b[0;34m\u001b[0m\u001b[0;34m\u001b[0m\u001b[0m\n\u001b[0;32m----> 2\u001b[0;31m \u001b[0msp\u001b[0m\u001b[0;34m.\u001b[0m\u001b[0mrecommendations\u001b[0m\u001b[0;34m(\u001b[0m\u001b[0;34m)\u001b[0m\u001b[0;34m\u001b[0m\u001b[0;34m\u001b[0m\u001b[0m\n\u001b[0m",
      "\u001b[0;32m/opt/venv/lib/python3.7/site-packages/spotipy/client.py\u001b[0m in \u001b[0;36mrecommendations\u001b[0;34m(self, seed_artists, seed_genres, seed_tracks, limit, country, **kwargs)\u001b[0m\n\u001b[1;32m   1595\u001b[0m                 \u001b[0;32mif\u001b[0m \u001b[0mparam\u001b[0m \u001b[0;32min\u001b[0m \u001b[0mkwargs\u001b[0m\u001b[0;34m:\u001b[0m\u001b[0;34m\u001b[0m\u001b[0;34m\u001b[0m\u001b[0m\n\u001b[1;32m   1596\u001b[0m                     \u001b[0mparams\u001b[0m\u001b[0;34m[\u001b[0m\u001b[0mparam\u001b[0m\u001b[0;34m]\u001b[0m \u001b[0;34m=\u001b[0m \u001b[0mkwargs\u001b[0m\u001b[0;34m[\u001b[0m\u001b[0mparam\u001b[0m\u001b[0;34m]\u001b[0m\u001b[0;34m\u001b[0m\u001b[0;34m\u001b[0m\u001b[0m\n\u001b[0;32m-> 1597\u001b[0;31m         \u001b[0;32mreturn\u001b[0m \u001b[0mself\u001b[0m\u001b[0;34m.\u001b[0m\u001b[0m_get\u001b[0m\u001b[0;34m(\u001b[0m\u001b[0;34m\"recommendations\"\u001b[0m\u001b[0;34m,\u001b[0m \u001b[0;34m**\u001b[0m\u001b[0mparams\u001b[0m\u001b[0;34m)\u001b[0m\u001b[0;34m\u001b[0m\u001b[0;34m\u001b[0m\u001b[0m\n\u001b[0m\u001b[1;32m   1598\u001b[0m \u001b[0;34m\u001b[0m\u001b[0m\n\u001b[1;32m   1599\u001b[0m     \u001b[0;32mdef\u001b[0m \u001b[0mrecommendation_genre_seeds\u001b[0m\u001b[0;34m(\u001b[0m\u001b[0mself\u001b[0m\u001b[0;34m)\u001b[0m\u001b[0;34m:\u001b[0m\u001b[0;34m\u001b[0m\u001b[0;34m\u001b[0m\u001b[0m\n",
      "\u001b[0;32m/opt/venv/lib/python3.7/site-packages/spotipy/client.py\u001b[0m in \u001b[0;36m_get\u001b[0;34m(self, url, args, payload, **kwargs)\u001b[0m\n\u001b[1;32m    289\u001b[0m             \u001b[0mkwargs\u001b[0m\u001b[0;34m.\u001b[0m\u001b[0mupdate\u001b[0m\u001b[0;34m(\u001b[0m\u001b[0margs\u001b[0m\u001b[0;34m)\u001b[0m\u001b[0;34m\u001b[0m\u001b[0;34m\u001b[0m\u001b[0m\n\u001b[1;32m    290\u001b[0m \u001b[0;34m\u001b[0m\u001b[0m\n\u001b[0;32m--> 291\u001b[0;31m         \u001b[0;32mreturn\u001b[0m \u001b[0mself\u001b[0m\u001b[0;34m.\u001b[0m\u001b[0m_internal_call\u001b[0m\u001b[0;34m(\u001b[0m\u001b[0;34m\"GET\"\u001b[0m\u001b[0;34m,\u001b[0m \u001b[0murl\u001b[0m\u001b[0;34m,\u001b[0m \u001b[0mpayload\u001b[0m\u001b[0;34m,\u001b[0m \u001b[0mkwargs\u001b[0m\u001b[0;34m)\u001b[0m\u001b[0;34m\u001b[0m\u001b[0;34m\u001b[0m\u001b[0m\n\u001b[0m\u001b[1;32m    292\u001b[0m \u001b[0;34m\u001b[0m\u001b[0m\n\u001b[1;32m    293\u001b[0m     \u001b[0;32mdef\u001b[0m \u001b[0m_post\u001b[0m\u001b[0;34m(\u001b[0m\u001b[0mself\u001b[0m\u001b[0;34m,\u001b[0m \u001b[0murl\u001b[0m\u001b[0;34m,\u001b[0m \u001b[0margs\u001b[0m\u001b[0;34m=\u001b[0m\u001b[0;32mNone\u001b[0m\u001b[0;34m,\u001b[0m \u001b[0mpayload\u001b[0m\u001b[0;34m=\u001b[0m\u001b[0;32mNone\u001b[0m\u001b[0;34m,\u001b[0m \u001b[0;34m**\u001b[0m\u001b[0mkwargs\u001b[0m\u001b[0;34m)\u001b[0m\u001b[0;34m:\u001b[0m\u001b[0;34m\u001b[0m\u001b[0;34m\u001b[0m\u001b[0m\n",
      "\u001b[0;32m/opt/venv/lib/python3.7/site-packages/spotipy/client.py\u001b[0m in \u001b[0;36m_internal_call\u001b[0;34m(self, method, url, payload, params)\u001b[0m\n\u001b[1;32m    264\u001b[0m                 \u001b[0;34m\"%s:\\n %s\"\u001b[0m \u001b[0;34m%\u001b[0m \u001b[0;34m(\u001b[0m\u001b[0mresponse\u001b[0m\u001b[0;34m.\u001b[0m\u001b[0murl\u001b[0m\u001b[0;34m,\u001b[0m \u001b[0mmsg\u001b[0m\u001b[0;34m)\u001b[0m\u001b[0;34m,\u001b[0m\u001b[0;34m\u001b[0m\u001b[0;34m\u001b[0m\u001b[0m\n\u001b[1;32m    265\u001b[0m                 \u001b[0mreason\u001b[0m\u001b[0;34m=\u001b[0m\u001b[0mreason\u001b[0m\u001b[0;34m,\u001b[0m\u001b[0;34m\u001b[0m\u001b[0;34m\u001b[0m\u001b[0m\n\u001b[0;32m--> 266\u001b[0;31m                 \u001b[0mheaders\u001b[0m\u001b[0;34m=\u001b[0m\u001b[0mresponse\u001b[0m\u001b[0;34m.\u001b[0m\u001b[0mheaders\u001b[0m\u001b[0;34m,\u001b[0m\u001b[0;34m\u001b[0m\u001b[0;34m\u001b[0m\u001b[0m\n\u001b[0m\u001b[1;32m    267\u001b[0m             )\n\u001b[1;32m    268\u001b[0m         \u001b[0;32mexcept\u001b[0m \u001b[0mrequests\u001b[0m\u001b[0;34m.\u001b[0m\u001b[0mexceptions\u001b[0m\u001b[0;34m.\u001b[0m\u001b[0mRetryError\u001b[0m \u001b[0;32mas\u001b[0m \u001b[0mretry_error\u001b[0m\u001b[0;34m:\u001b[0m\u001b[0;34m\u001b[0m\u001b[0;34m\u001b[0m\u001b[0m\n",
      "\u001b[0;31mSpotifyException\u001b[0m: http status: 400, code:-1 - https://api.spotify.com/v1/recommendations?limit=20:\n invalid request, reason: None"
     ]
    }
   ],
   "source": [
    "# Not sure what this is @Ferdie or Claire?\n",
    "#sp.recommendations()"
   ]
  },
  {
   "cell_type": "markdown",
   "metadata": {
    "cell_id": "00040-48e3fa61-7945-4f8a-9eaa-4c65721e817d",
    "deepnote_cell_type": "markdown",
    "output_cleared": false,
    "tags": []
   },
   "source": [
    "## K-Means Clustering (Psalm)\n",
    "\n",
    "Finding the Best K for clustering and creating clusters"
   ]
  },
  {
   "cell_type": "code",
   "execution_count": 1,
   "metadata": {
    "cell_id": "00043-961735f4-76a8-4baa-817c-fa3011d70a85",
    "deepnote_cell_type": "code",
    "execution_millis": 68,
    "output_cleared": false,
    "source_hash": "a22bc15d",
    "tags": []
   },
   "outputs": [],
   "source": [
    "X = t1_final.copy() #hi i accidentally stopped the code from running so im just gonna restart running the notebook"
   ]
  },
  {
   "cell_type": "code",
   "execution_count": 33,
   "metadata": {
    "cell_id": "00043-45cfcfe1-6fb5-4a1a-ba5d-4d6f515f656d",
    "deepnote_cell_type": "code",
    "execution_millis": 2,
    "execution_start": 1606609878119,
    "output_cleared": false,
    "source_hash": "5f528bdf",
    "tags": []
   },
   "outputs": [],
   "source": [
    "sample_input = X.iloc[:1, :]\n",
    "oh = drop_string(sample_input)\n",
    "oh\n",
    "X_train = X.iloc[1:, :]\n",
    "#kmeans.predict(oh)\n",
    "#kmeans.predict(drop_string(X).head().iloc[0, :].reshape(-1, 1))"
   ]
  },
  {
   "cell_type": "markdown",
   "metadata": {
    "cell_id": "00045-983bcba3-d4a4-435a-be33-ffbc0931074c",
    "deepnote_cell_type": "markdown",
    "output_cleared": false,
    "tags": []
   },
   "source": [
    "### Finding the Best k for k clusters"
   ]
  },
  {
   "cell_type": "code",
   "execution_count": null,
   "metadata": {
    "cell_id": "00040-f2bcd40b-e773-4250-bb92-c4b7a5bff9b4",
    "deepnote_cell_type": "code",
    "execution_millis": 237565,
    "output_cleared": false,
    "source_hash": "9ed3d95c",
    "tags": []
   },
   "outputs": [],
   "source": [
    "from sklearn.cluster import KMeans\n",
    "\n",
    "### Finding best K's\n",
    "max_diff = -999999\n",
    "best_k = dict()\n",
    "\n",
    "avg_sum_squares = []\n",
    "\n",
    "# calculation method\n",
    "for k in range(1, 20):\n",
    "  kmeans = KMeans(n_clusters = k, random_state = 42)\n",
    "  kmeans.fit(drop_string(X_train))\n",
    "\n",
    "  avg_sum_squares += [kmeans.inertia_]\n",
    "\n",
    "  if k == 1:\n",
    "    prev_inertia = kmeans.inertia_\n",
    "\n",
    "  else:\n",
    "    slope = prev_inertia - kmeans.inertia_\n",
    "    prev_inertia = kmeans.inertia_\n",
    "\n",
    "    max_diff = max(max_diff, slope)\n",
    "\n",
    "    if max_diff <= slope:\n",
    "      best_k[max_diff] = k\n",
    "\n",
    "plt.scatter(range(1, 20), avg_sum_squares)\n",
    "print(\"Calculated Best K:\", best_k[max_diff])\n",
    "\n",
    "k = best_k[max_diff]\n"
   ]
  },
  {
   "cell_type": "code",
   "execution_count": null,
   "metadata": {
    "cell_id": "00046-34af53d4-6ee4-4985-a439-75695e97b0a8",
    "deepnote_cell_type": "code",
    "execution_millis": 37,
    "output_cleared": false,
    "source_hash": "7c234d23",
    "tags": []
   },
   "outputs": [],
   "source": [
    "X_train.head()"
   ]
  },
  {
   "cell_type": "code",
   "execution_count": null,
   "metadata": {
    "cell_id": "00044-a1d5e7c2-e5c4-42ac-aa63-6dd81c7ba7fd",
    "deepnote_cell_type": "code",
    "execution_millis": 1795,
    "output_cleared": false,
    "source_hash": "c5041b58",
    "tags": []
   },
   "outputs": [],
   "source": [
    "  kmeans = KMeans(n_clusters = k, random_state = 42)\n",
    "  kmeans.fit(drop_string(X_train))\n",
    "  kmeans.predict(oh)"
   ]
  },
  {
   "cell_type": "code",
   "execution_count": null,
   "metadata": {
    "cell_id": "00047-cf9aaf38-e77c-4e5e-af92-ab212fb2e107",
    "deepnote_cell_type": "code",
    "execution_millis": 237,
    "output_cleared": false,
    "source_hash": "686fc49c",
    "tags": []
   },
   "outputs": [],
   "source": [
    "  X_train['kmeans'] = kmeans.labels_\n",
    "\n",
    "  X_train"
   ]
  },
  {
   "cell_type": "code",
   "execution_count": null,
   "metadata": {
    "cell_id": "00045-f4f25ce4-b505-43d9-b53b-5fb3a9dc42fa",
    "deepnote_cell_type": "code",
    "execution_millis": 26,
    "output_cleared": false,
    "source_hash": "e211126d",
    "tags": []
   },
   "outputs": [],
   "source": [
    "print(len(X_train[X_train['kmeans'] == 0]))\n",
    "len(X_train)"
   ]
  },
  {
   "cell_type": "code",
   "execution_count": 32,
   "metadata": {
    "cell_id": "00050-d2c00cf3-ca77-46d9-b265-86c5ad40d0e0",
    "deepnote_cell_type": "code",
    "execution_millis": 1,
    "output_cleared": false,
    "source_hash": "dbc63cac",
    "tags": []
   },
   "outputs": [],
   "source": [
    "X_train[X_train['kmeans'] == 0]\n",
    "sample_input"
   ]
  },
  {
   "cell_type": "markdown",
   "metadata": {
    "cell_id": "00051-0d103ff0-361e-4987-bce9-9b5fc9852daf",
    "deepnote_cell_type": "markdown",
    "output_cleared": false,
    "tags": []
   },
   "source": [
    "### Kmeans Process Scratch work"
   ]
  },
  {
   "cell_type": "code",
   "execution_count": null,
   "metadata": {
    "cell_id": "00045-4a604a41-5c51-4fca-bac2-ccf336d261b1",
    "deepnote_cell_type": "code",
    "execution_millis": 1,
    "output_cleared": false,
    "source_hash": "8ccd16b0",
    "tags": []
   },
   "outputs": [],
   "source": [
    "#kmeans.predict(# features for song input)\n",
    "# Look at cluster predicted\n",
    "# Extract songs\n",
    "\n",
    "### OPTIONS FOR NARROWING DOWN SONG CHOICES\n",
    "## 1. Run clustering recursively\n",
    "## 2. Compare input to available choices using some tight interval, extract songs from those that remain after filtering."
   ]
  },
  {
   "cell_type": "markdown",
   "metadata": {
    "cell_id": "00044-7af6aed8-3b21-4d58-807d-b4985e7fe183",
    "deepnote_cell_type": "markdown",
    "output_cleared": false,
    "tags": []
   },
   "source": [
    "## Dimension Reduction using T-SNE "
   ]
  },
  {
   "cell_type": "markdown",
   "metadata": {
    "cell_id": "00045-8a67f171-c8ae-49ac-a6a3-c97219d95e7e",
    "deepnote_cell_type": "markdown",
    "output_cleared": false,
    "tags": []
   },
   "source": [
    "Reduce 13 features to 2 features for better visualization of the data\n",
    "\n",
    "Visualize using Prof's package"
   ]
  },
  {
   "cell_type": "code",
   "execution_count": null,
   "metadata": {
    "cell_id": "00049-d60e474f-bb49-4bed-a658-da91620abc09",
    "deepnote_cell_type": "code",
    "execution_millis": 54,
    "output_cleared": false,
    "source_hash": "a8274c8e",
    "tags": []
   },
   "outputs": [],
   "source": [
    "t1_final.head()"
   ]
  },
  {
   "cell_type": "code",
   "execution_count": null,
   "metadata": {
    "cell_id": "00051-6c62c398-5e97-4f02-9b2a-1dd99a5213ed",
    "deepnote_cell_type": "code",
    "execution_millis": 3,
    "output_cleared": false,
    "source_hash": "b17c6500",
    "tags": []
   },
   "outputs": [],
   "source": [
    "t1_final.shape"
   ]
  },
  {
   "cell_type": "code",
   "execution_count": null,
   "metadata": {
    "cell_id": "00053-3f9a83ff-4d9b-4c09-9cce-10ece9fc17ba",
    "deepnote_cell_type": "code",
    "execution_millis": 45,
    "output_cleared": false,
    "source_hash": "7e7a5589",
    "tags": []
   },
   "outputs": [],
   "source": [
    "t1_edit = t1_final[['danceability', 'energy', 'key', 'loudness', 'mode', 'speechiness', 'acousticness', 'instrumentalness', 'liveness', 'valence', 'tempo', 'duration_ms', 'time_signature']]\n",
    "t1_edit.head()"
   ]
  },
  {
   "cell_type": "code",
   "execution_count": null,
   "metadata": {
    "cell_id": "00054-0dfa2497-8b85-4c6c-918b-f0792e4358eb",
    "deepnote_cell_type": "code",
    "execution_millis": 0,
    "output_cleared": false,
    "source_hash": "22ec8401",
    "tags": []
   },
   "outputs": [],
   "source": [
    "t1_edit.to_numpy()"
   ]
  },
  {
   "cell_type": "code",
   "execution_count": null,
   "metadata": {
    "cell_id": "00047-edbc4a31-cd1c-46c9-8660-a7ac2158db59",
    "deepnote_cell_type": "code",
    "output_cleared": false,
    "source_hash": "56c30f27",
    "tags": []
   },
   "outputs": [],
   "source": [
    "# Needs to be an array of vectors\n",
    "\n",
    "#sorry psalm! this dimension reduction is taking a long ass time"
   ]
  },
  {
   "cell_type": "code",
   "execution_count": null,
   "metadata": {
    "cell_id": "00046-7a7f4572-8dbb-4774-8d81-196c7fd148e8",
    "deepnote_cell_type": "code",
    "execution_millis": 1089948,
    "output_cleared": false,
    "source_hash": "955e046a",
    "tags": []
   },
   "outputs": [],
   "source": [
    "from sklearn.manifold import TSNE\n",
    "\n",
    "# Lets dim reduce the ## dimension vectors to 2 dimensions to vizualise the dataset \n",
    "# vector_list needs to be a Xarray, shape (n_samples, n_features) or (n_samples, n_samples)\n",
    "\n",
    "data_embed=TSNE(n_components=2, perplexity=50, verbose=2, method='barnes_hut').fit_transform(t1_edit.to_numpy())\n",
    "\n",
    "\n",
    "## Parameters\n",
    "## n_components = number of dimensions you want your data to be reduced\n",
    "## preplexity =  Number of neighboours to fit the gaussian , normally 30 "
   ]
  },
  {
   "cell_type": "code",
   "execution_count": null,
   "metadata": {
    "cell_id": "00057-5391affb-3223-41f3-9e6c-3ff22eaa64be",
    "deepnote_cell_type": "code",
    "execution_millis": 2,
    "output_cleared": false,
    "source_hash": "36b758e8",
    "tags": []
   },
   "outputs": [],
   "source": [
    "## Vizualise\n",
    "%matplotlib inline\n",
    "from matplotlib import pyplot as plt"
   ]
  },
  {
   "cell_type": "code",
   "execution_count": null,
   "metadata": {
    "cell_id": "00058-bf991ef2-eeec-4e5d-9e29-30aaa9ebd4fd",
    "deepnote_cell_type": "code",
    "execution_millis": 185,
    "output_cleared": false,
    "source_hash": "a1b05d07",
    "tags": []
   },
   "outputs": [],
   "source": [
    "x_axis= data_embed[:,0]\n",
    "y_axis=data_embed[:,1]\n",
    "\n",
    "plt.scatter(x_axis, y_axis, s=5)\n",
    "plt.show() ## The plots vary each time you run them "
   ]
  },
  {
   "cell_type": "markdown",
   "metadata": {
    "cell_id": "00048-11069b9c-1bfd-488c-b157-c5b8bbe35e11",
    "deepnote_cell_type": "markdown",
    "output_cleared": false,
    "tags": []
   },
   "source": [
    "## Visualization using Prof's Scatter Plot"
   ]
  },
  {
   "cell_type": "code",
   "execution_count": null,
   "metadata": {
    "cell_id": "00050-423ca58d-d0e9-4926-ae88-eb31633abb0b",
    "deepnote_cell_type": "code",
    "execution_millis": 0,
    "output_cleared": false,
    "source_hash": "fed9f552",
    "tags": []
   },
   "outputs": [],
   "source": [
    "from IPython.display import Javascript\n",
    "from IPython.display import IFrame"
   ]
  },
  {
   "cell_type": "code",
   "execution_count": null,
   "metadata": {
    "cell_id": "00051-7acd925e-fa4a-463f-bd3a-00cb9ccd673c",
    "deepnote_cell_type": "code",
    "execution_millis": 1646,
    "output_cleared": false,
    "source_hash": "70df3872",
    "tags": []
   },
   "outputs": [],
   "source": [
    "# clone d3-scatterplot to your local directory\n",
    "!git clone https://github.com/CAHLR/d3-scatterplot.git"
   ]
  },
  {
   "cell_type": "code",
   "execution_count": null,
   "metadata": {
    "cell_id": "00062-be2707fb-bbd0-4758-892f-a0acc6ad8a89",
    "deepnote_cell_type": "code",
    "execution_millis": 0,
    "output_cleared": false,
    "source_hash": "60cf7d78",
    "tags": []
   },
   "outputs": [],
   "source": [
    "def show_port(port, data_file, width=600, height=800):\n",
    "  display(Javascript(\"\"\"\n",
    "  (async ()=>{\n",
    "    fm = document.createElement('iframe')\n",
    "    fm.src = await google.colab.kernel.proxyPort(%d) + '/index.html?dataset=%s'\n",
    "    fm.width = '90%%'\n",
    "    fm.height = '%d'\n",
    "    fm.frameBorder = 0\n",
    "    document.body.append(fm)\n",
    "  })();\n",
    "  \"\"\" % (port, data_file, height)))"
   ]
  },
  {
   "cell_type": "code",
   "execution_count": null,
   "metadata": {
    "cell_id": "00063-b73a111f-0531-4718-a312-cc9c82504b54",
    "deepnote_cell_type": "code",
    "execution_millis": 0,
    "output_cleared": false,
    "source_hash": "4f2f5f92",
    "tags": []
   },
   "outputs": [],
   "source": [
    "# Format data to be in form\n",
    "# x | y | feature_1 | feature_2... \n",
    "df_scatter = pd.DataFrame({'x': x_axis, 'y': y_axis, 'feature_1':t1_final['Song Name']})\n",
    "df_scatter.head()"
   ]
  },
  {
   "cell_type": "code",
   "execution_count": null,
   "metadata": {
    "cell_id": "00064-203d41a7-6c7f-4392-bf20-879b8907b505",
    "deepnote_cell_type": "code",
    "execution_millis": 297,
    "output_cleared": false,
    "source_hash": "eaacd1e1",
    "tags": []
   },
   "outputs": [],
   "source": [
    "# Have to convert the df into a tsv file\n",
    "df_scatter.to_csv('d3-scatterplot/df_scatter.tsv', sep='\\t', index=False)\n"
   ]
  },
  {
   "cell_type": "code",
   "execution_count": null,
   "metadata": {
    "cell_id": "00065-4a9ad391-7ae5-4467-b622-9b8ff49da907",
    "deepnote_cell_type": "code",
    "output_cleared": false,
    "source_hash": "da751e57",
    "tags": []
   },
   "outputs": [],
   "source": [
    "# Need to figure out how to actually visualize the data in deepnote\n",
    "# df_scatter.tsv already saved"
   ]
  },
  {
   "cell_type": "code",
   "execution_count": null,
   "metadata": {
    "cell_id": "00063-fb3c18f1-51a8-4ff0-ba2a-0bb18324bd2e",
    "deepnote_cell_type": "code",
    "execution_millis": 0,
    "output_cleared": false,
    "source_hash": "51226082",
    "tags": []
   },
   "outputs": [],
   "source": [
    "port = 8000\n",
    "data_file = 'df_scatter.tsv'\n",
    "height = 1600\n",
    "\n",
    "get_ipython().system_raw('cd d3-scatterplot && python3 -m http.server %d &' % port) \n",
    "show_port(port, data_file, height)"
   ]
  },
  {
   "cell_type": "code",
   "execution_count": null,
   "metadata": {
    "cell_id": "00062-4be87cce-2534-481b-aee3-50b8b8be7cdc",
    "deepnote_cell_type": "code",
    "output_cleared": false,
    "source_hash": "d47d8c45",
    "tags": []
   },
   "outputs": [],
   "source": [
    "# # run the http server on your local machine\n",
    "# get_ipython().system_raw('cd d3-scatterplot && python3 -m http.server 8000 &') \n",
    "\n",
    "# # To enable, add &[OPTION_NAME]=[FEATURE_NAME] after the dataset=[YOUR_DATASET] in \n",
    "# # the URL (e.g. http://localhost:8000/index.html?dataset=example.tsv&color=feature%202 \n",
    "# # [N.B. %20 is the URL encoding for whitespace characters]).\n",
    "# # display example.tsv with d3-scatterplot in your jupyter notebook\n",
    "\n",
    "# IFrame('http://127.0.0.1:8000/index.html?dataset=example.tsv', width=1000, height=1000)"
   ]
  },
  {
   "cell_type": "code",
   "execution_count": null,
   "metadata": {
    "cell_id": "00053-0350152a-7605-42ce-a031-46e1c886327b",
    "deepnote_cell_type": "code",
    "output_cleared": false,
    "source_hash": "b623e53d",
    "tags": []
   },
   "outputs": [],
   "source": []
  },
  {
   "cell_type": "code",
   "execution_count": null,
   "metadata": {
    "cell_id": "00053-491af3dd-d264-49d6-94af-b4b939002089",
    "deepnote_cell_type": "code",
    "output_cleared": false,
    "source_hash": "b623e53d",
    "tags": []
   },
   "outputs": [],
   "source": []
  },
  {
   "cell_type": "code",
   "execution_count": null,
   "metadata": {
    "cell_id": "00055-d05b2ce0-79b7-4ee0-bcac-df61cd2a82e5",
    "deepnote_cell_type": "code",
    "output_cleared": false,
    "source_hash": "b623e53d",
    "tags": []
   },
   "outputs": [],
   "source": []
  }
 ],
 "metadata": {
  "deepnote_execution_queue": [
   {
    "cellId": "00040-f2bcd40b-e773-4250-bb92-c4b7a5bff9b4",
    "msgId": "243f318e-36f2-4c43-a4dc-1a5b46694610",
    "sessionId": "15327ebe-2828-408a-8846-0ebbad697860"
   },
   {
    "cellId": "00046-34af53d4-6ee4-4985-a439-75695e97b0a8",
    "msgId": "69173d68-2502-4b75-b0e9-8ff0a65af76f",
    "sessionId": "15327ebe-2828-408a-8846-0ebbad697860"
   },
   {
    "cellId": "00044-a1d5e7c2-e5c4-42ac-aa63-6dd81c7ba7fd",
    "msgId": "a8909694-9f9e-44a5-96cd-1a91f6824460",
    "sessionId": "15327ebe-2828-408a-8846-0ebbad697860"
   },
   {
    "cellId": "00047-cf9aaf38-e77c-4e5e-af92-ab212fb2e107",
    "msgId": "79724c23-0cfc-4fe0-aa31-1b693ba0ca06",
    "sessionId": "15327ebe-2828-408a-8846-0ebbad697860"
   },
   {
    "cellId": "00045-f4f25ce4-b505-43d9-b53b-5fb3a9dc42fa",
    "msgId": "931c8e9e-d081-4787-be68-c9499c8e522a",
    "sessionId": "15327ebe-2828-408a-8846-0ebbad697860"
   },
   {
    "cellId": "00050-d2c00cf3-ca77-46d9-b265-86c5ad40d0e0",
    "msgId": "df70c702-aeae-4edd-92be-f27edc788281",
    "sessionId": "15327ebe-2828-408a-8846-0ebbad697860"
   },
   {
    "cellId": "00045-4a604a41-5c51-4fca-bac2-ccf336d261b1",
    "msgId": "5df96aea-7a18-4aa3-8e02-1a33c5e47df1",
    "sessionId": "15327ebe-2828-408a-8846-0ebbad697860"
   },
   {
    "cellId": "00049-d60e474f-bb49-4bed-a658-da91620abc09",
    "msgId": "b6b38038-8176-46b5-b8d8-bd0ab9f33407",
    "sessionId": "15327ebe-2828-408a-8846-0ebbad697860"
   },
   {
    "cellId": "00051-6c62c398-5e97-4f02-9b2a-1dd99a5213ed",
    "msgId": "3cc3c92c-8dad-4f34-8760-46414db2113a",
    "sessionId": "15327ebe-2828-408a-8846-0ebbad697860"
   },
   {
    "cellId": "00053-3f9a83ff-4d9b-4c09-9cce-10ece9fc17ba",
    "msgId": "f61fe6c9-1624-40b9-bac1-bf7610a5a9b1",
    "sessionId": "15327ebe-2828-408a-8846-0ebbad697860"
   },
   {
    "cellId": "00054-0dfa2497-8b85-4c6c-918b-f0792e4358eb",
    "msgId": "d65ceb38-4c11-4793-87ad-658b85d185f7",
    "sessionId": "15327ebe-2828-408a-8846-0ebbad697860"
   },
   {
    "cellId": "00047-edbc4a31-cd1c-46c9-8660-a7ac2158db59",
    "msgId": "96c149f5-bed2-4384-9b16-aaa94a7b11a7",
    "sessionId": "15327ebe-2828-408a-8846-0ebbad697860"
   },
   {
    "cellId": "00046-7a7f4572-8dbb-4774-8d81-196c7fd148e8",
    "msgId": "bfe875af-026b-489e-a6c9-540c5da4fcca",
    "sessionId": "15327ebe-2828-408a-8846-0ebbad697860"
   },
   {
    "cellId": "00057-5391affb-3223-41f3-9e6c-3ff22eaa64be",
    "msgId": "4bc6d821-49e3-401f-8f3a-c5b22087285b",
    "sessionId": "15327ebe-2828-408a-8846-0ebbad697860"
   },
   {
    "cellId": "00058-bf991ef2-eeec-4e5d-9e29-30aaa9ebd4fd",
    "msgId": "8ce7693d-0bec-48ec-a35e-18325286f8c9",
    "sessionId": "15327ebe-2828-408a-8846-0ebbad697860"
   }
  ],
  "deepnote_notebook_id": "d53c2e83-e573-4382-b7ed-173620aed86d",
  "kernelspec": {
   "display_name": "Python 3",
   "language": "python",
   "name": "python3"
  },
  "language_info": {
   "codemirror_mode": {
    "name": "ipython",
    "version": 3
   },
   "file_extension": ".py",
   "mimetype": "text/x-python",
   "name": "python",
   "nbconvert_exporter": "python",
   "pygments_lexer": "ipython3",
   "version": "3.7.6"
  }
 },
 "nbformat": 4,
 "nbformat_minor": 2
}
