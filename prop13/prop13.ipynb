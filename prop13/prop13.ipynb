{
  "nbformat": 4,
  "nbformat_minor": 0,
  "metadata": {
    "colab": {
      "name": "CP101_assignment3_data_processing.ipynb",
      "provenance": [],
      "collapsed_sections": []
    },
    "kernelspec": {
      "name": "python3",
      "display_name": "Python 3"
    }
  },
  "cells": [
    {
      "cell_type": "markdown",
      "metadata": {
        "id": "1nYd0-jCrYzl"
      },
      "source": [
        "### import data"
      ]
    },
    {
      "cell_type": "code",
      "metadata": {
        "id": "L8D-cUOgiGGj",
        "colab": {
          "base_uri": "https://localhost:8080/"
        },
        "outputId": "07ca2cf6-51be-43d3-a270-5b54f688c94d"
      },
      "source": [
        "from google.colab import drive\n",
        "drive.mount('/content/drive', force_remount = True)"
      ],
      "execution_count": null,
      "outputs": [
        {
          "output_type": "stream",
          "text": [
            "Mounted at /content/drive\n"
          ],
          "name": "stdout"
        }
      ]
    },
    {
      "cell_type": "code",
      "metadata": {
        "id": "MUZOxtBdmqdv",
        "colab": {
          "base_uri": "https://localhost:8080/"
        },
        "outputId": "66a7a10d-ed96-4acb-cf2f-fb840173e9aa"
      },
      "source": [
        "import pandas as pd\n",
        "import numpy as np\n",
        "alameda = pd.read_csv(\"/content/drive/My Drive/cp101project3_data/ARB_ASSR_ALAMEDA.csv\")"
      ],
      "execution_count": null,
      "outputs": [
        {
          "output_type": "stream",
          "text": [
            "/usr/local/lib/python3.6/dist-packages/IPython/core/interactiveshell.py:2718: DtypeWarning: Columns (9,21,22,33,34,40,42,45,53,68,168,175,177,187,188) have mixed types.Specify dtype option on import or set low_memory=False.\n",
            "  interactivity=interactivity, compiler=compiler, result=result)\n"
          ],
          "name": "stderr"
        }
      ]
    },
    {
      "cell_type": "code",
      "metadata": {
        "id": "XV5_bAkyvKd7",
        "colab": {
          "base_uri": "https://localhost:8080/",
          "height": 575
        },
        "outputId": "60fa5dec-d826-4c26-e18e-807c6a9da328"
      },
      "source": [
        "alameda"
      ],
      "execution_count": null,
      "outputs": [
        {
          "output_type": "execute_result",
          "data": {
            "text/html": [
              "<div>\n",
              "<style scoped>\n",
              "    .dataframe tbody tr th:only-of-type {\n",
              "        vertical-align: middle;\n",
              "    }\n",
              "\n",
              "    .dataframe tbody tr th {\n",
              "        vertical-align: top;\n",
              "    }\n",
              "\n",
              "    .dataframe thead th {\n",
              "        text-align: right;\n",
              "    }\n",
              "</style>\n",
              "<table border=\"1\" class=\"dataframe\">\n",
              "  <thead>\n",
              "    <tr style=\"text-align: right;\">\n",
              "      <th></th>\n",
              "      <th>SA_PROPERTY_ID</th>\n",
              "      <th>SA_SCM_ID</th>\n",
              "      <th>MM_STATE_CODE</th>\n",
              "      <th>MM_MUNI_NAME</th>\n",
              "      <th>MM_FIPS_STATE_CODE</th>\n",
              "      <th>MM_FIPS_MUNI_CODE</th>\n",
              "      <th>MM_FIPS_COUNTY_NAME</th>\n",
              "      <th>SA_PARCEL_NBR_PRIMARY</th>\n",
              "      <th>SA_PARCEL_NBR_REFERENCE</th>\n",
              "      <th>SA_PARCEL_ACCOUNT_NBR</th>\n",
              "      <th>SA_PARCEL_NBR_ALT</th>\n",
              "      <th>SA_PARCEL_NBR_PREVIOUS</th>\n",
              "      <th>SA_PARCEL_NBR_CHANGE_YR</th>\n",
              "      <th>SA_YR_APN_ADDED</th>\n",
              "      <th>SA_OWNER_1</th>\n",
              "      <th>SA_OWNER_1_FIRST</th>\n",
              "      <th>SA_OWNER_1_MID</th>\n",
              "      <th>SA_OWNER_1_LAST</th>\n",
              "      <th>SA_OWNER_1_SUF</th>\n",
              "      <th>SA_OWNER_1_SP_FIRST</th>\n",
              "      <th>SA_OWNER_1_SP_MID</th>\n",
              "      <th>SA_OWNER_1_SP_SUF</th>\n",
              "      <th>SA_OWNER_1_GROUP</th>\n",
              "      <th>SA_OWNER_1_ET_FLAG</th>\n",
              "      <th>SA_OWNER_1_TRUST_FLAG</th>\n",
              "      <th>SA_OWNER_1_TYPE</th>\n",
              "      <th>SA_OWNER_2</th>\n",
              "      <th>SA_OWNER_2_FIRST</th>\n",
              "      <th>SA_OWNER_2_MID</th>\n",
              "      <th>SA_OWNER_2_LAST</th>\n",
              "      <th>SA_OWNER_2_SUF</th>\n",
              "      <th>SA_OWNER_2_SP_FIRST</th>\n",
              "      <th>SA_OWNER_2_SP_MID</th>\n",
              "      <th>SA_OWNER_2_SP_SUF</th>\n",
              "      <th>SA_OWNER_2_GROUP</th>\n",
              "      <th>SA_OWNER_2_ET_FLAG</th>\n",
              "      <th>SA_OWNER_2_TRUST_FLAG</th>\n",
              "      <th>SA_OWNER_2_TYPE</th>\n",
              "      <th>SA_OWNERSHIP_STATUS_CODE</th>\n",
              "      <th>SA_COMPANY_FLAG</th>\n",
              "      <th>...</th>\n",
              "      <th>SA_NBR_BATH_3QTR</th>\n",
              "      <th>SA_NBR_BATH_FULL</th>\n",
              "      <th>SA_NBR_BATH_BSMT_HALF</th>\n",
              "      <th>SA_NBR_BATH_BSMT_FULL</th>\n",
              "      <th>SA_NBR_BATH_DQ</th>\n",
              "      <th>SA_NBR_BEDRMS</th>\n",
              "      <th>SA_NBR_RMS</th>\n",
              "      <th>SA_NBR_STORIES</th>\n",
              "      <th>SA_NBR_UNITS</th>\n",
              "      <th>SA_PATIO_PORCH_CODE</th>\n",
              "      <th>SA_POOL_CODE</th>\n",
              "      <th>SA_PRIVACY_CODE</th>\n",
              "      <th>SA_ROOF_CODE</th>\n",
              "      <th>SA_SQFT</th>\n",
              "      <th>SA_SQFT_ASSR_TOT</th>\n",
              "      <th>SA_SQFT_DQ</th>\n",
              "      <th>SA_STRUCTURE_CODE</th>\n",
              "      <th>SA_STRUCTURE_NBR</th>\n",
              "      <th>SA_VIEW_CODE</th>\n",
              "      <th>SA_YR_BLT</th>\n",
              "      <th>SA_YR_BLT_EFFECT</th>\n",
              "      <th>SR_UNIQUE_ID</th>\n",
              "      <th>SR_UNIQUE_ID_NOVAL</th>\n",
              "      <th>SA_DATE_TRANSFER</th>\n",
              "      <th>SA_VAL_TRANSFER</th>\n",
              "      <th>SA_DOC_NBR_FMT</th>\n",
              "      <th>SA_DATE_NOVAL_TRANSFER</th>\n",
              "      <th>SA_DOC_NBR_NOVAL</th>\n",
              "      <th>PROCESS_ID</th>\n",
              "      <th>SA_X_COORD</th>\n",
              "      <th>SA_Y_COORD</th>\n",
              "      <th>SA_GEO_QLTY_CODE</th>\n",
              "      <th>SA_CENSUS_TRACT</th>\n",
              "      <th>SA_CENSUS_BLOCK_GROUP</th>\n",
              "      <th>CORE_BASED_STATISTICAL_AREA_CODE</th>\n",
              "      <th>MINOR_CIVIL_DIVISION_CODE</th>\n",
              "      <th>FIPS_PLACE_CODE</th>\n",
              "      <th>SA_INACTIVE_PARCEL_FLAG</th>\n",
              "      <th>SA_SHELL_PARCEL_FLAG</th>\n",
              "      <th>FILLER</th>\n",
              "    </tr>\n",
              "  </thead>\n",
              "  <tbody>\n",
              "    <tr>\n",
              "      <th>0</th>\n",
              "      <td>38146934</td>\n",
              "      <td>33</td>\n",
              "      <td>CA</td>\n",
              "      <td>ALAMEDA</td>\n",
              "      <td>6</td>\n",
              "      <td>1</td>\n",
              "      <td>ALAMEDA</td>\n",
              "      <td>018 035500900</td>\n",
              "      <td>NaN</td>\n",
              "      <td>NaN</td>\n",
              "      <td>NaN</td>\n",
              "      <td>000O035500900</td>\n",
              "      <td>2011.0</td>\n",
              "      <td>2011.0</td>\n",
              "      <td>W P CO 843-1-2-3</td>\n",
              "      <td>W P CO 843-1-2-3</td>\n",
              "      <td>NaN</td>\n",
              "      <td>NaN</td>\n",
              "      <td>NaN</td>\n",
              "      <td>NaN</td>\n",
              "      <td>NaN</td>\n",
              "      <td>NaN</td>\n",
              "      <td>NaN</td>\n",
              "      <td>NaN</td>\n",
              "      <td>NaN</td>\n",
              "      <td>1.0</td>\n",
              "      <td>NaN</td>\n",
              "      <td>NaN</td>\n",
              "      <td>NaN</td>\n",
              "      <td>NaN</td>\n",
              "      <td>NaN</td>\n",
              "      <td>NaN</td>\n",
              "      <td>NaN</td>\n",
              "      <td>NaN</td>\n",
              "      <td>NaN</td>\n",
              "      <td>NaN</td>\n",
              "      <td>NaN</td>\n",
              "      <td>NaN</td>\n",
              "      <td>NaN</td>\n",
              "      <td>Y</td>\n",
              "      <td>...</td>\n",
              "      <td>0.0</td>\n",
              "      <td>0.0</td>\n",
              "      <td>0.0</td>\n",
              "      <td>0.0</td>\n",
              "      <td>0.0</td>\n",
              "      <td>0.0</td>\n",
              "      <td>0.0</td>\n",
              "      <td>0.0</td>\n",
              "      <td>0.0</td>\n",
              "      <td>NaN</td>\n",
              "      <td>NaN</td>\n",
              "      <td>NaN</td>\n",
              "      <td>NaN</td>\n",
              "      <td>0.0</td>\n",
              "      <td>0.0</td>\n",
              "      <td>0.0</td>\n",
              "      <td>NaN</td>\n",
              "      <td>0</td>\n",
              "      <td>NaN</td>\n",
              "      <td>NaN</td>\n",
              "      <td>NaN</td>\n",
              "      <td>NaN</td>\n",
              "      <td>0</td>\n",
              "      <td>NaN</td>\n",
              "      <td>0.0</td>\n",
              "      <td>NaN</td>\n",
              "      <td>NaN</td>\n",
              "      <td>NaN</td>\n",
              "      <td>145032</td>\n",
              "      <td>122.307539</td>\n",
              "      <td>37.795023</td>\n",
              "      <td>0</td>\n",
              "      <td>982000.0</td>\n",
              "      <td>1.0</td>\n",
              "      <td>41860.0</td>\n",
              "      <td>92230.0</td>\n",
              "      <td>53000.0</td>\n",
              "      <td>NaN</td>\n",
              "      <td>NaN</td>\n",
              "      <td>NaN</td>\n",
              "    </tr>\n",
              "    <tr>\n",
              "      <th>1</th>\n",
              "      <td>38146935</td>\n",
              "      <td>33</td>\n",
              "      <td>CA</td>\n",
              "      <td>ALAMEDA</td>\n",
              "      <td>6</td>\n",
              "      <td>1</td>\n",
              "      <td>ALAMEDA</td>\n",
              "      <td>018 035501000</td>\n",
              "      <td>NaN</td>\n",
              "      <td>NaN</td>\n",
              "      <td>NaN</td>\n",
              "      <td>000O035501000</td>\n",
              "      <td>2011.0</td>\n",
              "      <td>2011.0</td>\n",
              "      <td>CITY OF OAKLAND</td>\n",
              "      <td>CITY OF OAKLAND</td>\n",
              "      <td>NaN</td>\n",
              "      <td>NaN</td>\n",
              "      <td>NaN</td>\n",
              "      <td>NaN</td>\n",
              "      <td>NaN</td>\n",
              "      <td>NaN</td>\n",
              "      <td>NaN</td>\n",
              "      <td>NaN</td>\n",
              "      <td>NaN</td>\n",
              "      <td>1.0</td>\n",
              "      <td>NaN</td>\n",
              "      <td>NaN</td>\n",
              "      <td>NaN</td>\n",
              "      <td>NaN</td>\n",
              "      <td>NaN</td>\n",
              "      <td>NaN</td>\n",
              "      <td>NaN</td>\n",
              "      <td>NaN</td>\n",
              "      <td>NaN</td>\n",
              "      <td>NaN</td>\n",
              "      <td>NaN</td>\n",
              "      <td>NaN</td>\n",
              "      <td>CO</td>\n",
              "      <td>Y</td>\n",
              "      <td>...</td>\n",
              "      <td>0.0</td>\n",
              "      <td>0.0</td>\n",
              "      <td>0.0</td>\n",
              "      <td>0.0</td>\n",
              "      <td>0.0</td>\n",
              "      <td>0.0</td>\n",
              "      <td>0.0</td>\n",
              "      <td>0.0</td>\n",
              "      <td>0.0</td>\n",
              "      <td>NaN</td>\n",
              "      <td>NaN</td>\n",
              "      <td>NaN</td>\n",
              "      <td>NaN</td>\n",
              "      <td>0.0</td>\n",
              "      <td>0.0</td>\n",
              "      <td>0.0</td>\n",
              "      <td>NaN</td>\n",
              "      <td>0</td>\n",
              "      <td>NaN</td>\n",
              "      <td>NaN</td>\n",
              "      <td>NaN</td>\n",
              "      <td>NaN</td>\n",
              "      <td>0</td>\n",
              "      <td>NaN</td>\n",
              "      <td>0.0</td>\n",
              "      <td>NaN</td>\n",
              "      <td>NaN</td>\n",
              "      <td>NaN</td>\n",
              "      <td>145032</td>\n",
              "      <td>122.314487</td>\n",
              "      <td>37.807953</td>\n",
              "      <td>0</td>\n",
              "      <td>981900.0</td>\n",
              "      <td>1.0</td>\n",
              "      <td>41860.0</td>\n",
              "      <td>92230.0</td>\n",
              "      <td>53000.0</td>\n",
              "      <td>NaN</td>\n",
              "      <td>NaN</td>\n",
              "      <td>NaN</td>\n",
              "    </tr>\n",
              "    <tr>\n",
              "      <th>2</th>\n",
              "      <td>38146936</td>\n",
              "      <td>33</td>\n",
              "      <td>CA</td>\n",
              "      <td>ALAMEDA</td>\n",
              "      <td>6</td>\n",
              "      <td>1</td>\n",
              "      <td>ALAMEDA</td>\n",
              "      <td>018 037500100</td>\n",
              "      <td>NaN</td>\n",
              "      <td>NaN</td>\n",
              "      <td>NaN</td>\n",
              "      <td>000O037500100</td>\n",
              "      <td>2011.0</td>\n",
              "      <td>2011.0</td>\n",
              "      <td>EAST BAY MUNICIPAL UTILITY DISTRICT</td>\n",
              "      <td>EAST BAY MUNICIPAL UTILITY DISTRICT</td>\n",
              "      <td>NaN</td>\n",
              "      <td>NaN</td>\n",
              "      <td>NaN</td>\n",
              "      <td>NaN</td>\n",
              "      <td>NaN</td>\n",
              "      <td>NaN</td>\n",
              "      <td>NaN</td>\n",
              "      <td>NaN</td>\n",
              "      <td>NaN</td>\n",
              "      <td>1.0</td>\n",
              "      <td>NaN</td>\n",
              "      <td>NaN</td>\n",
              "      <td>NaN</td>\n",
              "      <td>NaN</td>\n",
              "      <td>NaN</td>\n",
              "      <td>NaN</td>\n",
              "      <td>NaN</td>\n",
              "      <td>NaN</td>\n",
              "      <td>NaN</td>\n",
              "      <td>NaN</td>\n",
              "      <td>NaN</td>\n",
              "      <td>NaN</td>\n",
              "      <td>CO</td>\n",
              "      <td>Y</td>\n",
              "      <td>...</td>\n",
              "      <td>0.0</td>\n",
              "      <td>0.0</td>\n",
              "      <td>0.0</td>\n",
              "      <td>0.0</td>\n",
              "      <td>0.0</td>\n",
              "      <td>0.0</td>\n",
              "      <td>0.0</td>\n",
              "      <td>0.0</td>\n",
              "      <td>0.0</td>\n",
              "      <td>NaN</td>\n",
              "      <td>NaN</td>\n",
              "      <td>NaN</td>\n",
              "      <td>NaN</td>\n",
              "      <td>0.0</td>\n",
              "      <td>0.0</td>\n",
              "      <td>0.0</td>\n",
              "      <td>NaN</td>\n",
              "      <td>0</td>\n",
              "      <td>NaN</td>\n",
              "      <td>NaN</td>\n",
              "      <td>NaN</td>\n",
              "      <td>NaN</td>\n",
              "      <td>0</td>\n",
              "      <td>NaN</td>\n",
              "      <td>0.0</td>\n",
              "      <td>NaN</td>\n",
              "      <td>NaN</td>\n",
              "      <td>NaN</td>\n",
              "      <td>145032</td>\n",
              "      <td>122.310801</td>\n",
              "      <td>37.808592</td>\n",
              "      <td>0</td>\n",
              "      <td>981900.0</td>\n",
              "      <td>1.0</td>\n",
              "      <td>41860.0</td>\n",
              "      <td>92230.0</td>\n",
              "      <td>53000.0</td>\n",
              "      <td>NaN</td>\n",
              "      <td>NaN</td>\n",
              "      <td>NaN</td>\n",
              "    </tr>\n",
              "    <tr>\n",
              "      <th>3</th>\n",
              "      <td>38146937</td>\n",
              "      <td>33</td>\n",
              "      <td>CA</td>\n",
              "      <td>ALAMEDA</td>\n",
              "      <td>6</td>\n",
              "      <td>1</td>\n",
              "      <td>ALAMEDA</td>\n",
              "      <td>018 037500302</td>\n",
              "      <td>NaN</td>\n",
              "      <td>NaN</td>\n",
              "      <td>NaN</td>\n",
              "      <td>000O037500302</td>\n",
              "      <td>2011.0</td>\n",
              "      <td>2011.0</td>\n",
              "      <td>S P CO 872-1-2C-9</td>\n",
              "      <td>S P CO 872-1-2C-9</td>\n",
              "      <td>NaN</td>\n",
              "      <td>NaN</td>\n",
              "      <td>NaN</td>\n",
              "      <td>NaN</td>\n",
              "      <td>NaN</td>\n",
              "      <td>NaN</td>\n",
              "      <td>NaN</td>\n",
              "      <td>NaN</td>\n",
              "      <td>NaN</td>\n",
              "      <td>1.0</td>\n",
              "      <td>LEONARD,SHIRLEY</td>\n",
              "      <td>SHIRLEY</td>\n",
              "      <td>NaN</td>\n",
              "      <td>LEONARD</td>\n",
              "      <td>NaN</td>\n",
              "      <td>NaN</td>\n",
              "      <td>NaN</td>\n",
              "      <td>NaN</td>\n",
              "      <td>NaN</td>\n",
              "      <td>NaN</td>\n",
              "      <td>NaN</td>\n",
              "      <td>0.0</td>\n",
              "      <td>NaN</td>\n",
              "      <td>Y</td>\n",
              "      <td>...</td>\n",
              "      <td>0.0</td>\n",
              "      <td>0.0</td>\n",
              "      <td>0.0</td>\n",
              "      <td>0.0</td>\n",
              "      <td>0.0</td>\n",
              "      <td>0.0</td>\n",
              "      <td>0.0</td>\n",
              "      <td>0.0</td>\n",
              "      <td>0.0</td>\n",
              "      <td>NaN</td>\n",
              "      <td>NaN</td>\n",
              "      <td>NaN</td>\n",
              "      <td>NaN</td>\n",
              "      <td>0.0</td>\n",
              "      <td>0.0</td>\n",
              "      <td>0.0</td>\n",
              "      <td>NaN</td>\n",
              "      <td>0</td>\n",
              "      <td>NaN</td>\n",
              "      <td>NaN</td>\n",
              "      <td>NaN</td>\n",
              "      <td>NaN</td>\n",
              "      <td>0</td>\n",
              "      <td>NaN</td>\n",
              "      <td>0.0</td>\n",
              "      <td>NaN</td>\n",
              "      <td>NaN</td>\n",
              "      <td>NaN</td>\n",
              "      <td>145032</td>\n",
              "      <td>122.310639</td>\n",
              "      <td>37.808585</td>\n",
              "      <td>0</td>\n",
              "      <td>981900.0</td>\n",
              "      <td>1.0</td>\n",
              "      <td>41860.0</td>\n",
              "      <td>92230.0</td>\n",
              "      <td>53000.0</td>\n",
              "      <td>NaN</td>\n",
              "      <td>NaN</td>\n",
              "      <td>NaN</td>\n",
              "    </tr>\n",
              "    <tr>\n",
              "      <th>4</th>\n",
              "      <td>38146949</td>\n",
              "      <td>33</td>\n",
              "      <td>CA</td>\n",
              "      <td>ALAMEDA</td>\n",
              "      <td>6</td>\n",
              "      <td>1</td>\n",
              "      <td>ALAMEDA</td>\n",
              "      <td>018 038500100</td>\n",
              "      <td>NaN</td>\n",
              "      <td>NaN</td>\n",
              "      <td>NaN</td>\n",
              "      <td>000O038500100</td>\n",
              "      <td>2011.0</td>\n",
              "      <td>2011.0</td>\n",
              "      <td>CITY OF OAKLAND</td>\n",
              "      <td>CITY OF OAKLAND</td>\n",
              "      <td>NaN</td>\n",
              "      <td>NaN</td>\n",
              "      <td>NaN</td>\n",
              "      <td>NaN</td>\n",
              "      <td>NaN</td>\n",
              "      <td>NaN</td>\n",
              "      <td>NaN</td>\n",
              "      <td>NaN</td>\n",
              "      <td>NaN</td>\n",
              "      <td>1.0</td>\n",
              "      <td>NaN</td>\n",
              "      <td>NaN</td>\n",
              "      <td>NaN</td>\n",
              "      <td>NaN</td>\n",
              "      <td>NaN</td>\n",
              "      <td>NaN</td>\n",
              "      <td>NaN</td>\n",
              "      <td>NaN</td>\n",
              "      <td>NaN</td>\n",
              "      <td>NaN</td>\n",
              "      <td>NaN</td>\n",
              "      <td>NaN</td>\n",
              "      <td>CO</td>\n",
              "      <td>Y</td>\n",
              "      <td>...</td>\n",
              "      <td>0.0</td>\n",
              "      <td>0.0</td>\n",
              "      <td>0.0</td>\n",
              "      <td>0.0</td>\n",
              "      <td>0.0</td>\n",
              "      <td>0.0</td>\n",
              "      <td>0.0</td>\n",
              "      <td>0.0</td>\n",
              "      <td>0.0</td>\n",
              "      <td>NaN</td>\n",
              "      <td>NaN</td>\n",
              "      <td>NaN</td>\n",
              "      <td>NaN</td>\n",
              "      <td>0.0</td>\n",
              "      <td>0.0</td>\n",
              "      <td>0.0</td>\n",
              "      <td>NaN</td>\n",
              "      <td>0</td>\n",
              "      <td>NaN</td>\n",
              "      <td>NaN</td>\n",
              "      <td>NaN</td>\n",
              "      <td>389479287.0</td>\n",
              "      <td>0</td>\n",
              "      <td>19681203.0</td>\n",
              "      <td>0.0</td>\n",
              "      <td>0000133593</td>\n",
              "      <td>NaN</td>\n",
              "      <td>NaN</td>\n",
              "      <td>145032</td>\n",
              "      <td>122.301122</td>\n",
              "      <td>37.795091</td>\n",
              "      <td>0</td>\n",
              "      <td>982000.0</td>\n",
              "      <td>1.0</td>\n",
              "      <td>41860.0</td>\n",
              "      <td>92230.0</td>\n",
              "      <td>53000.0</td>\n",
              "      <td>NaN</td>\n",
              "      <td>NaN</td>\n",
              "      <td>NaN</td>\n",
              "    </tr>\n",
              "    <tr>\n",
              "      <th>...</th>\n",
              "      <td>...</td>\n",
              "      <td>...</td>\n",
              "      <td>...</td>\n",
              "      <td>...</td>\n",
              "      <td>...</td>\n",
              "      <td>...</td>\n",
              "      <td>...</td>\n",
              "      <td>...</td>\n",
              "      <td>...</td>\n",
              "      <td>...</td>\n",
              "      <td>...</td>\n",
              "      <td>...</td>\n",
              "      <td>...</td>\n",
              "      <td>...</td>\n",
              "      <td>...</td>\n",
              "      <td>...</td>\n",
              "      <td>...</td>\n",
              "      <td>...</td>\n",
              "      <td>...</td>\n",
              "      <td>...</td>\n",
              "      <td>...</td>\n",
              "      <td>...</td>\n",
              "      <td>...</td>\n",
              "      <td>...</td>\n",
              "      <td>...</td>\n",
              "      <td>...</td>\n",
              "      <td>...</td>\n",
              "      <td>...</td>\n",
              "      <td>...</td>\n",
              "      <td>...</td>\n",
              "      <td>...</td>\n",
              "      <td>...</td>\n",
              "      <td>...</td>\n",
              "      <td>...</td>\n",
              "      <td>...</td>\n",
              "      <td>...</td>\n",
              "      <td>...</td>\n",
              "      <td>...</td>\n",
              "      <td>...</td>\n",
              "      <td>...</td>\n",
              "      <td>...</td>\n",
              "      <td>...</td>\n",
              "      <td>...</td>\n",
              "      <td>...</td>\n",
              "      <td>...</td>\n",
              "      <td>...</td>\n",
              "      <td>...</td>\n",
              "      <td>...</td>\n",
              "      <td>...</td>\n",
              "      <td>...</td>\n",
              "      <td>...</td>\n",
              "      <td>...</td>\n",
              "      <td>...</td>\n",
              "      <td>...</td>\n",
              "      <td>...</td>\n",
              "      <td>...</td>\n",
              "      <td>...</td>\n",
              "      <td>...</td>\n",
              "      <td>...</td>\n",
              "      <td>...</td>\n",
              "      <td>...</td>\n",
              "      <td>...</td>\n",
              "      <td>...</td>\n",
              "      <td>...</td>\n",
              "      <td>...</td>\n",
              "      <td>...</td>\n",
              "      <td>...</td>\n",
              "      <td>...</td>\n",
              "      <td>...</td>\n",
              "      <td>...</td>\n",
              "      <td>...</td>\n",
              "      <td>...</td>\n",
              "      <td>...</td>\n",
              "      <td>...</td>\n",
              "      <td>...</td>\n",
              "      <td>...</td>\n",
              "      <td>...</td>\n",
              "      <td>...</td>\n",
              "      <td>...</td>\n",
              "      <td>...</td>\n",
              "      <td>...</td>\n",
              "    </tr>\n",
              "    <tr>\n",
              "      <th>448178</th>\n",
              "      <td>156790920</td>\n",
              "      <td>33</td>\n",
              "      <td>CA</td>\n",
              "      <td>ALAMEDA</td>\n",
              "      <td>6</td>\n",
              "      <td>1</td>\n",
              "      <td>ALAMEDA</td>\n",
              "      <td>985 010204700</td>\n",
              "      <td>NaN</td>\n",
              "      <td>NaN</td>\n",
              "      <td>NaN</td>\n",
              "      <td>NaN</td>\n",
              "      <td>2013.0</td>\n",
              "      <td>2013.0</td>\n",
              "      <td>HAMID,KHALIQ D &amp; YASMEEN</td>\n",
              "      <td>KHALIQ</td>\n",
              "      <td>D</td>\n",
              "      <td>HAMID</td>\n",
              "      <td>NaN</td>\n",
              "      <td>YASMEEN</td>\n",
              "      <td>NaN</td>\n",
              "      <td>NaN</td>\n",
              "      <td>NaN</td>\n",
              "      <td>NaN</td>\n",
              "      <td>NaN</td>\n",
              "      <td>0.0</td>\n",
              "      <td>NaN</td>\n",
              "      <td>NaN</td>\n",
              "      <td>NaN</td>\n",
              "      <td>NaN</td>\n",
              "      <td>NaN</td>\n",
              "      <td>NaN</td>\n",
              "      <td>NaN</td>\n",
              "      <td>NaN</td>\n",
              "      <td>NaN</td>\n",
              "      <td>NaN</td>\n",
              "      <td>NaN</td>\n",
              "      <td>NaN</td>\n",
              "      <td>CP</td>\n",
              "      <td>NaN</td>\n",
              "      <td>...</td>\n",
              "      <td>0.0</td>\n",
              "      <td>0.0</td>\n",
              "      <td>0.0</td>\n",
              "      <td>0.0</td>\n",
              "      <td>0.0</td>\n",
              "      <td>0.0</td>\n",
              "      <td>0.0</td>\n",
              "      <td>0.0</td>\n",
              "      <td>0.0</td>\n",
              "      <td>NaN</td>\n",
              "      <td>NaN</td>\n",
              "      <td>NaN</td>\n",
              "      <td>NaN</td>\n",
              "      <td>0.0</td>\n",
              "      <td>0.0</td>\n",
              "      <td>0.0</td>\n",
              "      <td>NaN</td>\n",
              "      <td>0</td>\n",
              "      <td>NaN</td>\n",
              "      <td>NaN</td>\n",
              "      <td>NaN</td>\n",
              "      <td>410490843.0</td>\n",
              "      <td>0</td>\n",
              "      <td>20140213.0</td>\n",
              "      <td>859000.0</td>\n",
              "      <td>0000048457</td>\n",
              "      <td>NaN</td>\n",
              "      <td>NaN</td>\n",
              "      <td>147232</td>\n",
              "      <td>121.849460</td>\n",
              "      <td>37.715988</td>\n",
              "      <td>9</td>\n",
              "      <td>450751.0</td>\n",
              "      <td>1.0</td>\n",
              "      <td>41860.0</td>\n",
              "      <td>91660.0</td>\n",
              "      <td>20018.0</td>\n",
              "      <td>NaN</td>\n",
              "      <td>NaN</td>\n",
              "      <td>NaN</td>\n",
              "    </tr>\n",
              "    <tr>\n",
              "      <th>448179</th>\n",
              "      <td>156790921</td>\n",
              "      <td>33</td>\n",
              "      <td>CA</td>\n",
              "      <td>ALAMEDA</td>\n",
              "      <td>6</td>\n",
              "      <td>1</td>\n",
              "      <td>ALAMEDA</td>\n",
              "      <td>985 010204800</td>\n",
              "      <td>NaN</td>\n",
              "      <td>NaN</td>\n",
              "      <td>NaN</td>\n",
              "      <td>NaN</td>\n",
              "      <td>2013.0</td>\n",
              "      <td>2013.0</td>\n",
              "      <td>RAGHUWANSHI,RAVINDRA &amp; SMITA</td>\n",
              "      <td>RAVINDRA</td>\n",
              "      <td>NaN</td>\n",
              "      <td>RAGHUWANSHI</td>\n",
              "      <td>NaN</td>\n",
              "      <td>SMITA</td>\n",
              "      <td>NaN</td>\n",
              "      <td>NaN</td>\n",
              "      <td>NaN</td>\n",
              "      <td>NaN</td>\n",
              "      <td>NaN</td>\n",
              "      <td>0.0</td>\n",
              "      <td>NaN</td>\n",
              "      <td>NaN</td>\n",
              "      <td>NaN</td>\n",
              "      <td>NaN</td>\n",
              "      <td>NaN</td>\n",
              "      <td>NaN</td>\n",
              "      <td>NaN</td>\n",
              "      <td>NaN</td>\n",
              "      <td>NaN</td>\n",
              "      <td>NaN</td>\n",
              "      <td>NaN</td>\n",
              "      <td>NaN</td>\n",
              "      <td>JT</td>\n",
              "      <td>NaN</td>\n",
              "      <td>...</td>\n",
              "      <td>0.0</td>\n",
              "      <td>0.0</td>\n",
              "      <td>0.0</td>\n",
              "      <td>0.0</td>\n",
              "      <td>0.0</td>\n",
              "      <td>0.0</td>\n",
              "      <td>0.0</td>\n",
              "      <td>0.0</td>\n",
              "      <td>0.0</td>\n",
              "      <td>NaN</td>\n",
              "      <td>NaN</td>\n",
              "      <td>NaN</td>\n",
              "      <td>NaN</td>\n",
              "      <td>0.0</td>\n",
              "      <td>0.0</td>\n",
              "      <td>0.0</td>\n",
              "      <td>NaN</td>\n",
              "      <td>0</td>\n",
              "      <td>NaN</td>\n",
              "      <td>NaN</td>\n",
              "      <td>NaN</td>\n",
              "      <td>409081585.0</td>\n",
              "      <td>0</td>\n",
              "      <td>20140131.0</td>\n",
              "      <td>819000.0</td>\n",
              "      <td>0000026609</td>\n",
              "      <td>NaN</td>\n",
              "      <td>NaN</td>\n",
              "      <td>146976</td>\n",
              "      <td>121.849460</td>\n",
              "      <td>37.715988</td>\n",
              "      <td>9</td>\n",
              "      <td>450751.0</td>\n",
              "      <td>1.0</td>\n",
              "      <td>41860.0</td>\n",
              "      <td>91660.0</td>\n",
              "      <td>20018.0</td>\n",
              "      <td>NaN</td>\n",
              "      <td>NaN</td>\n",
              "      <td>NaN</td>\n",
              "    </tr>\n",
              "    <tr>\n",
              "      <th>448180</th>\n",
              "      <td>156790925</td>\n",
              "      <td>33</td>\n",
              "      <td>CA</td>\n",
              "      <td>ALAMEDA</td>\n",
              "      <td>6</td>\n",
              "      <td>1</td>\n",
              "      <td>ALAMEDA</td>\n",
              "      <td>985 010300100</td>\n",
              "      <td>NaN</td>\n",
              "      <td>NaN</td>\n",
              "      <td>NaN</td>\n",
              "      <td>NaN</td>\n",
              "      <td>2013.0</td>\n",
              "      <td>2013.0</td>\n",
              "      <td>RAVELLO,HOA</td>\n",
              "      <td>HOA</td>\n",
              "      <td>NaN</td>\n",
              "      <td>RAVELLO</td>\n",
              "      <td>NaN</td>\n",
              "      <td>NaN</td>\n",
              "      <td>NaN</td>\n",
              "      <td>NaN</td>\n",
              "      <td>NaN</td>\n",
              "      <td>NaN</td>\n",
              "      <td>NaN</td>\n",
              "      <td>0.0</td>\n",
              "      <td>NaN</td>\n",
              "      <td>NaN</td>\n",
              "      <td>NaN</td>\n",
              "      <td>NaN</td>\n",
              "      <td>NaN</td>\n",
              "      <td>NaN</td>\n",
              "      <td>NaN</td>\n",
              "      <td>NaN</td>\n",
              "      <td>NaN</td>\n",
              "      <td>NaN</td>\n",
              "      <td>NaN</td>\n",
              "      <td>NaN</td>\n",
              "      <td>AS</td>\n",
              "      <td>NaN</td>\n",
              "      <td>...</td>\n",
              "      <td>0.0</td>\n",
              "      <td>0.0</td>\n",
              "      <td>0.0</td>\n",
              "      <td>0.0</td>\n",
              "      <td>0.0</td>\n",
              "      <td>0.0</td>\n",
              "      <td>0.0</td>\n",
              "      <td>0.0</td>\n",
              "      <td>0.0</td>\n",
              "      <td>NaN</td>\n",
              "      <td>NaN</td>\n",
              "      <td>NaN</td>\n",
              "      <td>NaN</td>\n",
              "      <td>0.0</td>\n",
              "      <td>0.0</td>\n",
              "      <td>0.0</td>\n",
              "      <td>NaN</td>\n",
              "      <td>0</td>\n",
              "      <td>NaN</td>\n",
              "      <td>NaN</td>\n",
              "      <td>NaN</td>\n",
              "      <td>NaN</td>\n",
              "      <td>412183917</td>\n",
              "      <td>NaN</td>\n",
              "      <td>0.0</td>\n",
              "      <td>NaN</td>\n",
              "      <td>20140320.0</td>\n",
              "      <td>72036</td>\n",
              "      <td>147602</td>\n",
              "      <td>121.861383</td>\n",
              "      <td>37.717624</td>\n",
              "      <td>9</td>\n",
              "      <td>450751.0</td>\n",
              "      <td>1.0</td>\n",
              "      <td>41860.0</td>\n",
              "      <td>91660.0</td>\n",
              "      <td>20018.0</td>\n",
              "      <td>NaN</td>\n",
              "      <td>NaN</td>\n",
              "      <td>NaN</td>\n",
              "    </tr>\n",
              "    <tr>\n",
              "      <th>448181</th>\n",
              "      <td>156790932</td>\n",
              "      <td>33</td>\n",
              "      <td>CA</td>\n",
              "      <td>ALAMEDA</td>\n",
              "      <td>6</td>\n",
              "      <td>1</td>\n",
              "      <td>ALAMEDA</td>\n",
              "      <td>985 010300800</td>\n",
              "      <td>NaN</td>\n",
              "      <td>NaN</td>\n",
              "      <td>NaN</td>\n",
              "      <td>NaN</td>\n",
              "      <td>2013.0</td>\n",
              "      <td>2013.0</td>\n",
              "      <td>DATTANI,ADARSH P &amp; RICHA A</td>\n",
              "      <td>ADARSH</td>\n",
              "      <td>P</td>\n",
              "      <td>DATTANI</td>\n",
              "      <td>NaN</td>\n",
              "      <td>RICHA</td>\n",
              "      <td>A</td>\n",
              "      <td>NaN</td>\n",
              "      <td>NaN</td>\n",
              "      <td>NaN</td>\n",
              "      <td>NaN</td>\n",
              "      <td>0.0</td>\n",
              "      <td>NaN</td>\n",
              "      <td>NaN</td>\n",
              "      <td>NaN</td>\n",
              "      <td>NaN</td>\n",
              "      <td>NaN</td>\n",
              "      <td>NaN</td>\n",
              "      <td>NaN</td>\n",
              "      <td>NaN</td>\n",
              "      <td>NaN</td>\n",
              "      <td>NaN</td>\n",
              "      <td>NaN</td>\n",
              "      <td>NaN</td>\n",
              "      <td>CP</td>\n",
              "      <td>NaN</td>\n",
              "      <td>...</td>\n",
              "      <td>0.0</td>\n",
              "      <td>0.0</td>\n",
              "      <td>0.0</td>\n",
              "      <td>0.0</td>\n",
              "      <td>0.0</td>\n",
              "      <td>0.0</td>\n",
              "      <td>0.0</td>\n",
              "      <td>0.0</td>\n",
              "      <td>0.0</td>\n",
              "      <td>NaN</td>\n",
              "      <td>NaN</td>\n",
              "      <td>NaN</td>\n",
              "      <td>NaN</td>\n",
              "      <td>0.0</td>\n",
              "      <td>0.0</td>\n",
              "      <td>0.0</td>\n",
              "      <td>NaN</td>\n",
              "      <td>0</td>\n",
              "      <td>NaN</td>\n",
              "      <td>NaN</td>\n",
              "      <td>NaN</td>\n",
              "      <td>414853562.0</td>\n",
              "      <td>0</td>\n",
              "      <td>20140501.0</td>\n",
              "      <td>809500.0</td>\n",
              "      <td>0000104778</td>\n",
              "      <td>NaN</td>\n",
              "      <td>NaN</td>\n",
              "      <td>148128</td>\n",
              "      <td>121.861383</td>\n",
              "      <td>37.717624</td>\n",
              "      <td>9</td>\n",
              "      <td>450751.0</td>\n",
              "      <td>1.0</td>\n",
              "      <td>41860.0</td>\n",
              "      <td>91660.0</td>\n",
              "      <td>20018.0</td>\n",
              "      <td>NaN</td>\n",
              "      <td>NaN</td>\n",
              "      <td>NaN</td>\n",
              "    </tr>\n",
              "    <tr>\n",
              "      <th>448182</th>\n",
              "      <td>156790933</td>\n",
              "      <td>33</td>\n",
              "      <td>CA</td>\n",
              "      <td>ALAMEDA</td>\n",
              "      <td>6</td>\n",
              "      <td>1</td>\n",
              "      <td>ALAMEDA</td>\n",
              "      <td>985 010300900</td>\n",
              "      <td>NaN</td>\n",
              "      <td>NaN</td>\n",
              "      <td>NaN</td>\n",
              "      <td>NaN</td>\n",
              "      <td>2013.0</td>\n",
              "      <td>2013.0</td>\n",
              "      <td>ALONSO,ANDRE B</td>\n",
              "      <td>ANDRE</td>\n",
              "      <td>B</td>\n",
              "      <td>ALONSO</td>\n",
              "      <td>NaN</td>\n",
              "      <td>NaN</td>\n",
              "      <td>NaN</td>\n",
              "      <td>NaN</td>\n",
              "      <td>NaN</td>\n",
              "      <td>NaN</td>\n",
              "      <td>NaN</td>\n",
              "      <td>0.0</td>\n",
              "      <td>GALEANO,DIANA MARIA M</td>\n",
              "      <td>DIANA MARIA</td>\n",
              "      <td>M</td>\n",
              "      <td>GALEANO</td>\n",
              "      <td>NaN</td>\n",
              "      <td>NaN</td>\n",
              "      <td>NaN</td>\n",
              "      <td>NaN</td>\n",
              "      <td>NaN</td>\n",
              "      <td>NaN</td>\n",
              "      <td>NaN</td>\n",
              "      <td>0.0</td>\n",
              "      <td>JT</td>\n",
              "      <td>NaN</td>\n",
              "      <td>...</td>\n",
              "      <td>0.0</td>\n",
              "      <td>0.0</td>\n",
              "      <td>0.0</td>\n",
              "      <td>0.0</td>\n",
              "      <td>0.0</td>\n",
              "      <td>0.0</td>\n",
              "      <td>0.0</td>\n",
              "      <td>0.0</td>\n",
              "      <td>0.0</td>\n",
              "      <td>NaN</td>\n",
              "      <td>NaN</td>\n",
              "      <td>NaN</td>\n",
              "      <td>NaN</td>\n",
              "      <td>0.0</td>\n",
              "      <td>0.0</td>\n",
              "      <td>0.0</td>\n",
              "      <td>NaN</td>\n",
              "      <td>0</td>\n",
              "      <td>NaN</td>\n",
              "      <td>NaN</td>\n",
              "      <td>NaN</td>\n",
              "      <td>412183918.0</td>\n",
              "      <td>0</td>\n",
              "      <td>20140320.0</td>\n",
              "      <td>755500.0</td>\n",
              "      <td>0000072037</td>\n",
              "      <td>NaN</td>\n",
              "      <td>NaN</td>\n",
              "      <td>147602</td>\n",
              "      <td>121.861383</td>\n",
              "      <td>37.717624</td>\n",
              "      <td>9</td>\n",
              "      <td>450751.0</td>\n",
              "      <td>1.0</td>\n",
              "      <td>41860.0</td>\n",
              "      <td>91660.0</td>\n",
              "      <td>20018.0</td>\n",
              "      <td>NaN</td>\n",
              "      <td>NaN</td>\n",
              "      <td>NaN</td>\n",
              "    </tr>\n",
              "  </tbody>\n",
              "</table>\n",
              "<p>448183 rows × 190 columns</p>\n",
              "</div>"
            ],
            "text/plain": [
              "        SA_PROPERTY_ID  SA_SCM_ID  ... SA_SHELL_PARCEL_FLAG FILLER\n",
              "0             38146934         33  ...                  NaN    NaN\n",
              "1             38146935         33  ...                  NaN    NaN\n",
              "2             38146936         33  ...                  NaN    NaN\n",
              "3             38146937         33  ...                  NaN    NaN\n",
              "4             38146949         33  ...                  NaN    NaN\n",
              "...                ...        ...  ...                  ...    ...\n",
              "448178       156790920         33  ...                  NaN    NaN\n",
              "448179       156790921         33  ...                  NaN    NaN\n",
              "448180       156790925         33  ...                  NaN    NaN\n",
              "448181       156790932         33  ...                  NaN    NaN\n",
              "448182       156790933         33  ...                  NaN    NaN\n",
              "\n",
              "[448183 rows x 190 columns]"
            ]
          },
          "metadata": {
            "tags": []
          },
          "execution_count": 4
        }
      ]
    },
    {
      "cell_type": "code",
      "metadata": {
        "id": "wkXI3RcmSn4B"
      },
      "source": [
        "## Impute address for searching online for properties\n",
        "alameda['address'] = alameda['SA_SITE_HOUSE_NBR'].astype(str)+ \" \" +  alameda['SA_SITE_STREET_NAME'] + \" \" + alameda['SA_SITE_SUF'] + \" \" + alameda['SA_SITE_CITY'] + \", \" + alameda['SA_SITE_ZIP'].astype(str)"
      ],
      "execution_count": null,
      "outputs": []
    },
    {
      "cell_type": "markdown",
      "metadata": {
        "id": "qVSjeU2ot0y5"
      },
      "source": [
        "**Add Tax/sq ft**"
      ]
    },
    {
      "cell_type": "code",
      "metadata": {
        "id": "1tiMYeRht7Ib"
      },
      "source": [
        " ## 'SA_SQFT'-The total square footage of the living area of all structures on the property                     \n",
        "alameda['SA_TAX_PER_SQFT'] = alameda['SA_TAX_VAL'] / alameda['SA_SQFT']"
      ],
      "execution_count": null,
      "outputs": []
    },
    {
      "cell_type": "code",
      "metadata": {
        "id": "Bu3B-_omvQdQ",
        "colab": {
          "base_uri": "https://localhost:8080/",
          "height": 34
        },
        "outputId": "20492483-fe39-4b25-e031-0bcec7ff1efe"
      },
      "source": [
        "## tax value = 0 -> number = 19842 \n",
        "len(alameda[alameda['SA_TAX_VAL'] == 0])"
      ],
      "execution_count": null,
      "outputs": [
        {
          "output_type": "execute_result",
          "data": {
            "text/plain": [
              "19842"
            ]
          },
          "metadata": {
            "tags": []
          },
          "execution_count": 6
        }
      ]
    },
    {
      "cell_type": "code",
      "metadata": {
        "id": "KWi_MD-PveNw",
        "colab": {
          "base_uri": "https://localhost:8080/",
          "height": 34
        },
        "outputId": "63ed75dd-f741-4b93-931f-158c57cbce77"
      },
      "source": [
        "## SA_LOTSIZE = 0 -> number = 36110\n",
        "len(alameda[alameda['SA_SQFT'] == 0])"
      ],
      "execution_count": null,
      "outputs": [
        {
          "output_type": "execute_result",
          "data": {
            "text/plain": [
              "36110"
            ]
          },
          "metadata": {
            "tags": []
          },
          "execution_count": 7
        }
      ]
    },
    {
      "cell_type": "code",
      "metadata": {
        "id": "3XxMnxFdurRE",
        "colab": {
          "base_uri": "https://localhost:8080/",
          "height": 34
        },
        "outputId": "c1ad007b-cb31-458f-b3c5-0c9424a94bf0"
      },
      "source": [
        "## SA_LOTSIZE = NA -> number = 969\n",
        "sum(alameda['SA_TAX_VAL'].isna())"
      ],
      "execution_count": null,
      "outputs": [
        {
          "output_type": "execute_result",
          "data": {
            "text/plain": [
              "969"
            ]
          },
          "metadata": {
            "tags": []
          },
          "execution_count": 8
        }
      ]
    },
    {
      "cell_type": "code",
      "metadata": {
        "id": "pIUap1dTuu2-",
        "colab": {
          "base_uri": "https://localhost:8080/",
          "height": 34
        },
        "outputId": "ece5c90b-54fb-423c-d778-425c8c1e1b6d"
      },
      "source": [
        "## SA_SQFT = NA -> number = 548\n",
        "sum(alameda['SA_SQFT'].isna())"
      ],
      "execution_count": null,
      "outputs": [
        {
          "output_type": "execute_result",
          "data": {
            "text/plain": [
              "548"
            ]
          },
          "metadata": {
            "tags": []
          },
          "execution_count": 9
        }
      ]
    },
    {
      "cell_type": "code",
      "metadata": {
        "id": "tyFhyJ0Kuamk",
        "colab": {
          "base_uri": "https://localhost:8080/",
          "height": 34
        },
        "outputId": "f832ab3e-ad64-4469-aff4-5d15374aaab0"
      },
      "source": [
        "## 18714 NA value in 'SA_TAX_PER_SQFT'\n",
        "sum(alameda['SA_TAX_PER_SQFT'].isna())"
      ],
      "execution_count": null,
      "outputs": [
        {
          "output_type": "execute_result",
          "data": {
            "text/plain": [
              "18714"
            ]
          },
          "metadata": {
            "tags": []
          },
          "execution_count": 10
        }
      ]
    },
    {
      "cell_type": "markdown",
      "metadata": {
        "id": "xeP4wpdYrbKe"
      },
      "source": [
        "**Filter column 'USE_CODE_MUNI' (property type)**"
      ]
    },
    {
      "cell_type": "code",
      "metadata": {
        "id": "mqUmZeVZU8rS"
      },
      "source": [
        "single_family_alameda = alameda[alameda['USE_CODE_STD'] == 'RSFR']"
      ],
      "execution_count": null,
      "outputs": []
    },
    {
      "cell_type": "code",
      "metadata": {
        "id": "vVd74QwKUkuE",
        "colab": {
          "base_uri": "https://localhost:8080/",
          "height": 34
        },
        "outputId": "e80b9312-39a9-4dc2-fdc4-cc7ed8fedb82"
      },
      "source": [
        "## Relevant columns for filtering by USE_CODE_MUNI\n",
        "relevant = ['SA_PARCEL_NBR_PRIMARY','SA_CENSUS_TRACT', 'SA_CENSUS_BLOCK_GROUP', 'SA_SQFT', 'SA_LOTSIZE', 'SA_TAX_VAL', 'SA_TAX_PER_SQFT','USE_CODE_MUNI', 'USE_CODE_STD', 'address']\n",
        "\n",
        "# We can see two things: USE_CODE_STD does not normalize to normal homes\n",
        "# The reason why some are not taxed is because if CODE_MUNI is 1890, then its - Planned Development Tract, Common Area or use\n",
        "# http://www.acgov.org/MS/prop/useCodeList.aspx\n",
        "# same goes for 1690: SFR Detached Site Condominium , Common Area or use\n",
        "# if it is 11, then we run into problems; like for APN 429 001408800.\n",
        "# only exception is index #430647\tat address: 828 ARLINGTON AVE BERKELEY, 94707 which should have been taxed\n",
        "\n",
        "\n",
        "## For ease, I think we should remove those with MUNI codes 1890 (since it is planned development) and maybe 1690.\n",
        "\n",
        "reduced = single_family_alameda[relevant]\n",
        "missing_tax = reduced[reduced['SA_TAX_PER_SQFT'].isna() | reduced['SA_TAX_PER_SQFT'] == 0]\n",
        "len(missing_tax) #37 households that are marked as 'RSFR' still do not have taxes"
      ],
      "execution_count": null,
      "outputs": [
        {
          "output_type": "execute_result",
          "data": {
            "text/plain": [
              "40"
            ]
          },
          "metadata": {
            "tags": []
          },
          "execution_count": 12
        }
      ]
    },
    {
      "cell_type": "code",
      "metadata": {
        "id": "iYjyw0rKnErR",
        "colab": {
          "base_uri": "https://localhost:8080/",
          "height": 34
        },
        "outputId": "15607de0-7bb2-4261-fc7f-66c35f856f37"
      },
      "source": [
        "## Single Family Residence (USE_CODE_MUNI >= 1000 and < 2000 for single family residence)\n",
        "\n",
        "single_family_alameda = single_family_alameda[(single_family_alameda['USE_CODE_MUNI'] >= 1000) & (single_family_alameda['USE_CODE_MUNI'] < 2000)]\n",
        "len(single_family_alameda)"
      ],
      "execution_count": null,
      "outputs": [
        {
          "output_type": "execute_result",
          "data": {
            "text/plain": [
              "294643"
            ]
          },
          "metadata": {
            "tags": []
          },
          "execution_count": 13
        }
      ]
    },
    {
      "cell_type": "markdown",
      "metadata": {
        "id": "wtMYnbb7vJlc"
      },
      "source": [
        "Clean (NA, 0, inf)"
      ]
    },
    {
      "cell_type": "code",
      "metadata": {
        "id": "1TSRdWvUvJAx"
      },
      "source": [
        "clean_alameda = single_family_alameda[(single_family_alameda['SA_TAX_PER_SQFT'].notna()) & \n",
        "                                      (single_family_alameda['SA_TAX_PER_SQFT'] > 0) & \n",
        "                                      (single_family_alameda['SA_TAX_PER_SQFT'] != float(\"inf\"))]"
      ],
      "execution_count": null,
      "outputs": []
    },
    {
      "cell_type": "code",
      "metadata": {
        "id": "EyoOPShmOXql",
        "colab": {
          "base_uri": "https://localhost:8080/",
          "height": 34
        },
        "outputId": "7685fc51-0ac0-4752-a3e1-c3bb7bfe2be2"
      },
      "source": [
        "len(clean_alameda)"
      ],
      "execution_count": null,
      "outputs": [
        {
          "output_type": "execute_result",
          "data": {
            "text/plain": [
              "291221"
            ]
          },
          "metadata": {
            "tags": []
          },
          "execution_count": 15
        }
      ]
    },
    {
      "cell_type": "markdown",
      "metadata": {
        "id": "xOr_yf-Er0Yp"
      },
      "source": [
        "**Group by unit of analysis (block)**"
      ]
    },
    {
      "cell_type": "code",
      "metadata": {
        "id": "QVebYCGTr77L",
        "colab": {
          "base_uri": "https://localhost:8080/",
          "height": 34
        },
        "outputId": "14398062-b01e-4504-dfbc-ee60ad1daa38"
      },
      "source": [
        "sum(clean_alameda['SA_TAX_PER_SQFT'] == 0) #No missing values"
      ],
      "execution_count": null,
      "outputs": [
        {
          "output_type": "execute_result",
          "data": {
            "text/plain": [
              "0"
            ]
          },
          "metadata": {
            "tags": []
          },
          "execution_count": 16
        }
      ]
    },
    {
      "cell_type": "code",
      "metadata": {
        "id": "Ldulr9lYnhn-",
        "colab": {
          "base_uri": "https://localhost:8080/",
          "height": 450
        },
        "outputId": "004a52a4-559a-4f10-8f24-9e263a1b4368"
      },
      "source": [
        "## groupby census tract and census block group\n",
        "block_mean = clean_alameda.groupby(['SA_CENSUS_TRACT','SA_CENSUS_BLOCK_GROUP'])[['SA_TAX_VAL']].mean()\n",
        "block_mean"
      ],
      "execution_count": null,
      "outputs": [
        {
          "output_type": "execute_result",
          "data": {
            "text/html": [
              "<div>\n",
              "<style scoped>\n",
              "    .dataframe tbody tr th:only-of-type {\n",
              "        vertical-align: middle;\n",
              "    }\n",
              "\n",
              "    .dataframe tbody tr th {\n",
              "        vertical-align: top;\n",
              "    }\n",
              "\n",
              "    .dataframe thead th {\n",
              "        text-align: right;\n",
              "    }\n",
              "</style>\n",
              "<table border=\"1\" class=\"dataframe\">\n",
              "  <thead>\n",
              "    <tr style=\"text-align: right;\">\n",
              "      <th></th>\n",
              "      <th></th>\n",
              "      <th>SA_TAX_VAL</th>\n",
              "    </tr>\n",
              "    <tr>\n",
              "      <th>SA_CENSUS_TRACT</th>\n",
              "      <th>SA_CENSUS_BLOCK_GROUP</th>\n",
              "      <th></th>\n",
              "    </tr>\n",
              "  </thead>\n",
              "  <tbody>\n",
              "    <tr>\n",
              "      <th>352202.0</th>\n",
              "      <th>1.0</th>\n",
              "      <td>8641.803571</td>\n",
              "    </tr>\n",
              "    <tr>\n",
              "      <th>353001.0</th>\n",
              "      <th>2.0</th>\n",
              "      <td>10965.233000</td>\n",
              "    </tr>\n",
              "    <tr>\n",
              "      <th>354001.0</th>\n",
              "      <th>1.0</th>\n",
              "      <td>16700.568000</td>\n",
              "    </tr>\n",
              "    <tr>\n",
              "      <th>400100.0</th>\n",
              "      <th>1.0</th>\n",
              "      <td>12965.162073</td>\n",
              "    </tr>\n",
              "    <tr>\n",
              "      <th>400200.0</th>\n",
              "      <th>1.0</th>\n",
              "      <td>8590.520985</td>\n",
              "    </tr>\n",
              "    <tr>\n",
              "      <th>...</th>\n",
              "      <th>...</th>\n",
              "      <td>...</td>\n",
              "    </tr>\n",
              "    <tr>\n",
              "      <th>451703.0</th>\n",
              "      <th>2.0</th>\n",
              "      <td>6313.442328</td>\n",
              "    </tr>\n",
              "    <tr>\n",
              "      <th rowspan=\"3\" valign=\"top\">451704.0</th>\n",
              "      <th>1.0</th>\n",
              "      <td>6583.238501</td>\n",
              "    </tr>\n",
              "    <tr>\n",
              "      <th>2.0</th>\n",
              "      <td>4107.954545</td>\n",
              "    </tr>\n",
              "    <tr>\n",
              "      <th>3.0</th>\n",
              "      <td>3651.510695</td>\n",
              "    </tr>\n",
              "    <tr>\n",
              "      <th>982000.0</th>\n",
              "      <th>1.0</th>\n",
              "      <td>2143.742500</td>\n",
              "    </tr>\n",
              "  </tbody>\n",
              "</table>\n",
              "<p>1017 rows × 1 columns</p>\n",
              "</div>"
            ],
            "text/plain": [
              "                                         SA_TAX_VAL\n",
              "SA_CENSUS_TRACT SA_CENSUS_BLOCK_GROUP              \n",
              "352202.0        1.0                     8641.803571\n",
              "353001.0        2.0                    10965.233000\n",
              "354001.0        1.0                    16700.568000\n",
              "400100.0        1.0                    12965.162073\n",
              "400200.0        1.0                     8590.520985\n",
              "...                                             ...\n",
              "451703.0        2.0                     6313.442328\n",
              "451704.0        1.0                     6583.238501\n",
              "                2.0                     4107.954545\n",
              "                3.0                     3651.510695\n",
              "982000.0        1.0                     2143.742500\n",
              "\n",
              "[1017 rows x 1 columns]"
            ]
          },
          "metadata": {
            "tags": []
          },
          "execution_count": 17
        }
      ]
    },
    {
      "cell_type": "code",
      "metadata": {
        "id": "9b1svS8psRB9",
        "colab": {
          "base_uri": "https://localhost:8080/",
          "height": 450
        },
        "outputId": "d3db815a-ed90-4870-eca1-6e8edc96d4bc"
      },
      "source": [
        "clean_alameda.groupby(['SA_CENSUS_TRACT','SA_CENSUS_BLOCK_GROUP'])[['SA_TAX_PER_SQFT']].mean()"
      ],
      "execution_count": null,
      "outputs": [
        {
          "output_type": "execute_result",
          "data": {
            "text/html": [
              "<div>\n",
              "<style scoped>\n",
              "    .dataframe tbody tr th:only-of-type {\n",
              "        vertical-align: middle;\n",
              "    }\n",
              "\n",
              "    .dataframe tbody tr th {\n",
              "        vertical-align: top;\n",
              "    }\n",
              "\n",
              "    .dataframe thead th {\n",
              "        text-align: right;\n",
              "    }\n",
              "</style>\n",
              "<table border=\"1\" class=\"dataframe\">\n",
              "  <thead>\n",
              "    <tr style=\"text-align: right;\">\n",
              "      <th></th>\n",
              "      <th></th>\n",
              "      <th>SA_TAX_PER_SQFT</th>\n",
              "    </tr>\n",
              "    <tr>\n",
              "      <th>SA_CENSUS_TRACT</th>\n",
              "      <th>SA_CENSUS_BLOCK_GROUP</th>\n",
              "      <th></th>\n",
              "    </tr>\n",
              "  </thead>\n",
              "  <tbody>\n",
              "    <tr>\n",
              "      <th>352202.0</th>\n",
              "      <th>1.0</th>\n",
              "      <td>4.065001</td>\n",
              "    </tr>\n",
              "    <tr>\n",
              "      <th>353001.0</th>\n",
              "      <th>2.0</th>\n",
              "      <td>4.004994</td>\n",
              "    </tr>\n",
              "    <tr>\n",
              "      <th>354001.0</th>\n",
              "      <th>1.0</th>\n",
              "      <td>4.577223</td>\n",
              "    </tr>\n",
              "    <tr>\n",
              "      <th>400100.0</th>\n",
              "      <th>1.0</th>\n",
              "      <td>4.423249</td>\n",
              "    </tr>\n",
              "    <tr>\n",
              "      <th>400200.0</th>\n",
              "      <th>1.0</th>\n",
              "      <td>4.410773</td>\n",
              "    </tr>\n",
              "    <tr>\n",
              "      <th>...</th>\n",
              "      <th>...</th>\n",
              "      <td>...</td>\n",
              "    </tr>\n",
              "    <tr>\n",
              "      <th>451703.0</th>\n",
              "      <th>2.0</th>\n",
              "      <td>2.712466</td>\n",
              "    </tr>\n",
              "    <tr>\n",
              "      <th rowspan=\"3\" valign=\"top\">451704.0</th>\n",
              "      <th>1.0</th>\n",
              "      <td>2.566051</td>\n",
              "    </tr>\n",
              "    <tr>\n",
              "      <th>2.0</th>\n",
              "      <td>2.332215</td>\n",
              "    </tr>\n",
              "    <tr>\n",
              "      <th>3.0</th>\n",
              "      <td>2.735050</td>\n",
              "    </tr>\n",
              "    <tr>\n",
              "      <th>982000.0</th>\n",
              "      <th>1.0</th>\n",
              "      <td>2.485353</td>\n",
              "    </tr>\n",
              "  </tbody>\n",
              "</table>\n",
              "<p>1017 rows × 1 columns</p>\n",
              "</div>"
            ],
            "text/plain": [
              "                                       SA_TAX_PER_SQFT\n",
              "SA_CENSUS_TRACT SA_CENSUS_BLOCK_GROUP                 \n",
              "352202.0        1.0                           4.065001\n",
              "353001.0        2.0                           4.004994\n",
              "354001.0        1.0                           4.577223\n",
              "400100.0        1.0                           4.423249\n",
              "400200.0        1.0                           4.410773\n",
              "...                                                ...\n",
              "451703.0        2.0                           2.712466\n",
              "451704.0        1.0                           2.566051\n",
              "                2.0                           2.332215\n",
              "                3.0                           2.735050\n",
              "982000.0        1.0                           2.485353\n",
              "\n",
              "[1017 rows x 1 columns]"
            ]
          },
          "metadata": {
            "tags": []
          },
          "execution_count": 18
        }
      ]
    },
    {
      "cell_type": "code",
      "metadata": {
        "id": "m9d48KGkIrZa",
        "colab": {
          "base_uri": "https://localhost:8080/",
          "height": 34
        },
        "outputId": "852602e4-9f69-4635-9b4e-2b6b36799e38"
      },
      "source": [
        "np.mean(clean_alameda['SA_TAX_PER_SQFT'])"
      ],
      "execution_count": null,
      "outputs": [
        {
          "output_type": "execute_result",
          "data": {
            "text/plain": [
              "3.0930896611946026"
            ]
          },
          "metadata": {
            "tags": []
          },
          "execution_count": 19
        }
      ]
    },
    {
      "cell_type": "markdown",
      "metadata": {
        "id": "03o2gUZ0xibi"
      },
      "source": [
        "**GINI INDEX VIA 2 METHODS:**"
      ]
    },
    {
      "cell_type": "code",
      "metadata": {
        "id": "ewyMK9cz3yFc"
      },
      "source": [
        "example = clean_alameda[(clean_alameda['SA_CENSUS_TRACT'] == 352202.0) & (clean_alameda['SA_CENSUS_BLOCK_GROUP'] == 1.0)]['SA_TAX_PER_SQFT']"
      ],
      "execution_count": null,
      "outputs": []
    },
    {
      "cell_type": "code",
      "metadata": {
        "id": "OVwJhhf__RG4"
      },
      "source": [
        "def gini_individual(series):\n",
        "    \"\"\"Calculate the Gini coefficient of a list.\"\"\"\n",
        "    ## based on https://github.com/oliviaguest/gini?fbclid=IwAR1BiepdlOzWEx5zc5ryCn7FBW8fyw3EvRzdd1ide0VQt4ZVV-NDU3NfRLE\n",
        "    ## and http://www.statsdirect.com/help/default.htm#nonparametric_methods/gini.htm\n",
        "    sort_series = series.sort_values()\n",
        "    index = np.arange(1, len(sort_series) + 1)\n",
        "    n = len(sort_series)\n",
        "    return ((np.sum((2 * index - n  - 1) * sort_series)) / (n * np.sum(sort_series))) #Gini coefficient"
      ],
      "execution_count": null,
      "outputs": []
    },
    {
      "cell_type": "code",
      "metadata": {
        "id": "zUwHtFgjCg5U",
        "colab": {
          "base_uri": "https://localhost:8080/",
          "height": 238
        },
        "outputId": "e4593d27-a62c-4682-e98f-3737aabe130c"
      },
      "source": [
        "clean_alameda.groupby(['SA_CENSUS_TRACT','SA_CENSUS_BLOCK_GROUP'])['SA_TAX_PER_SQFT'].apply(gini_individual)\n",
        "# .sort_values(ascending = False)[0:20]"
      ],
      "execution_count": null,
      "outputs": [
        {
          "output_type": "execute_result",
          "data": {
            "text/plain": [
              "SA_CENSUS_TRACT  SA_CENSUS_BLOCK_GROUP\n",
              "352202.0         1.0                      0.286344\n",
              "353001.0         2.0                      0.208335\n",
              "354001.0         1.0                      0.279451\n",
              "400100.0         1.0                      0.266936\n",
              "400200.0         1.0                      0.368135\n",
              "                                            ...   \n",
              "451703.0         2.0                      0.180103\n",
              "451704.0         1.0                      0.206237\n",
              "                 2.0                      0.254012\n",
              "                 3.0                      0.244144\n",
              "982000.0         1.0                      0.347317\n",
              "Name: SA_TAX_PER_SQFT, Length: 1017, dtype: float64"
            ]
          },
          "metadata": {
            "tags": []
          },
          "execution_count": 22
        }
      ]
    },
    {
      "cell_type": "code",
      "metadata": {
        "id": "ZPVyNqy1IxJf"
      },
      "source": [
        "def pairwiseSum(lst): \n",
        "    pair_sum = []\n",
        "    for i in range(len(lst)-1): \n",
        "        # adding the alternate numbers \n",
        "        Sum = lst[i] + lst[i + 1] \n",
        "        pair_sum.append(Sum)\n",
        "    return np.array(pair_sum)\n",
        "def pairwiseDiff(lst): \n",
        "    pair_diff = []\n",
        "    for i in range(len(lst)-1): \n",
        "        # adding the alternate numbers \n",
        "        diff = lst[i+1] -lst[i] \n",
        "        pair_diff.append(diff)\n",
        "    return np.array(pair_diff)"
      ],
      "execution_count": null,
      "outputs": []
    },
    {
      "cell_type": "code",
      "metadata": {
        "id": "Jy9EMgNICBnU"
      },
      "source": [
        "def gini_group(series):\n",
        "    \"\"\"Calculate the Gini coefficient of a list.\"\"\"\n",
        "    sort_series = np.array(series.sort_values())\n",
        "    n = len(sort_series)\n",
        "    if n <= 10:\n",
        "        group_num = n\n",
        "        share_house = np.repeat(1/n, n)\n",
        "    else:\n",
        "        group_num = 10\n",
        "        share_house = np.repeat(0.1, 10)\n",
        "      \n",
        "    groups = np.array_split(sort_series, group_num)\n",
        "    tax_level = np.array([np.mean(arr) for arr in groups])\n",
        "    share_aggregate_tax = tax_level / sum(tax_level)\n",
        "    cumulative_tax = np.cumsum(share_aggregate_tax)\n",
        "    cumulative_house = np.cumsum(share_house)\n",
        "    A = pairwiseSum(cumulative_tax)\n",
        "    B = pairwiseDiff(cumulative_house)\n",
        "    AB = A * B\n",
        "    sum_AB = sum(AB)\n",
        "    gini = 1 - sum_AB\n",
        "\n",
        "    if n == 1:\n",
        "      gini = 0\n",
        "    \n",
        "    return gini"
      ],
      "execution_count": null,
      "outputs": []
    },
    {
      "cell_type": "code",
      "metadata": {
        "id": "v_ffGQpuClTW"
      },
      "source": [
        "gini_index_group = clean_alameda.groupby(['SA_CENSUS_TRACT','SA_CENSUS_BLOCK_GROUP'])['SA_TAX_PER_SQFT'].apply(gini_group)\n",
        "pd.DataFrame(gini_index_group).to_csv('/content/drive/My Drive/cp101project3_data/gini_index_block.csv')\n",
        "# .sort_values(ascending = False)[0:20]"
      ],
      "execution_count": null,
      "outputs": []
    },
    {
      "cell_type": "markdown",
      "metadata": {
        "id": "GhDXOVBfWezV"
      },
      "source": [
        "**EXPLORING WHY FIRST 5 VALUES ARE DIFFERENT**"
      ]
    },
    {
      "cell_type": "code",
      "metadata": {
        "id": "m42wsn8dHwj-",
        "colab": {
          "base_uri": "https://localhost:8080/",
          "height": 407
        },
        "outputId": "ef843e8f-9b14-426f-a8d6-c02d91dac3df"
      },
      "source": [
        "clean_alameda.groupby(['SA_CENSUS_TRACT','SA_CENSUS_BLOCK_GROUP'])['SA_TAX_PER_SQFT'].apply(gini_group).sort_values(ascending = False)[0:20]"
      ],
      "execution_count": null,
      "outputs": [
        {
          "output_type": "execute_result",
          "data": {
            "text/plain": [
              "SA_CENSUS_TRACT  SA_CENSUS_BLOCK_GROUP\n",
              "421300.0         4.0                      0.745170\n",
              "441521.0         3.0                      0.623224\n",
              "422800.0         1.0                      0.417211\n",
              "400400.0         1.0                      0.387641\n",
              "401300.0         1.0                      0.382669\n",
              "400400.0         3.0                      0.376073\n",
              "400200.0         1.0                      0.363903\n",
              "                 2.0                      0.363176\n",
              "450746.0         2.0                      0.362043\n",
              "450605.0         2.0                      0.362002\n",
              "403800.0         2.0                      0.361355\n",
              "441523.0         2.0                      0.359626\n",
              "400300.0         1.0                      0.359569\n",
              "400400.0         2.0                      0.358196\n",
              "441923.0         3.0                      0.357592\n",
              "400300.0         4.0                      0.355594\n",
              "405301.0         1.0                      0.355216\n",
              "402800.0         1.0                      0.352397\n",
              "982000.0         1.0                      0.351969\n",
              "450741.0         2.0                      0.349329\n",
              "Name: SA_TAX_PER_SQFT, dtype: float64"
            ]
          },
          "metadata": {
            "tags": []
          },
          "execution_count": 26
        }
      ]
    },
    {
      "cell_type": "code",
      "metadata": {
        "id": "S95wIwUJVVWV",
        "colab": {
          "base_uri": "https://localhost:8080/",
          "height": 407
        },
        "outputId": "edc7e539-07d6-4cc1-c818-a728e83c4c16"
      },
      "source": [
        "clean_alameda.groupby(['SA_CENSUS_TRACT','SA_CENSUS_BLOCK_GROUP'])['SA_TAX_PER_SQFT'].apply(gini_individual).sort_values(ascending = False)[0:20]"
      ],
      "execution_count": null,
      "outputs": [
        {
          "output_type": "execute_result",
          "data": {
            "text/plain": [
              "SA_CENSUS_TRACT  SA_CENSUS_BLOCK_GROUP\n",
              "421300.0         4.0                      0.817097\n",
              "441521.0         3.0                      0.677782\n",
              "422800.0         1.0                      0.415822\n",
              "400400.0         1.0                      0.392922\n",
              "403702.0         1.0                      0.385903\n",
              "441523.0         2.0                      0.382086\n",
              "400400.0         3.0                      0.381132\n",
              "401300.0         1.0                      0.377693\n",
              "450601.0         1.0                      0.368939\n",
              "400200.0         1.0                      0.368135\n",
              "                 2.0                      0.366534\n",
              "450746.0         2.0                      0.366087\n",
              "450605.0         2.0                      0.364996\n",
              "403800.0         2.0                      0.363081\n",
              "400300.0         1.0                      0.361427\n",
              "400400.0         2.0                      0.361413\n",
              "405301.0         1.0                      0.359913\n",
              "400300.0         4.0                      0.358949\n",
              "403300.0         2.0                      0.357448\n",
              "450741.0         2.0                      0.354179\n",
              "Name: SA_TAX_PER_SQFT, dtype: float64"
            ]
          },
          "metadata": {
            "tags": []
          },
          "execution_count": 27
        }
      ]
    },
    {
      "cell_type": "markdown",
      "metadata": {
        "id": "9Du6ABx8cnIe"
      },
      "source": [
        "**Comparing both functions, why different:**"
      ]
    },
    {
      "cell_type": "code",
      "metadata": {
        "id": "TSkQUctgcSiO",
        "colab": {
          "base_uri": "https://localhost:8080/",
          "height": 52
        },
        "outputId": "e27fd288-78f2-4b92-8708-d58c3eae89c1"
      },
      "source": [
        "dif_blocks = [(422800.0, 2.0), (450602.0, 1.0), (403701.0, 1.0),(403400.0, 2.0), (425101.0, 2.0)] #blocks in order: 2, 1, 1, 2, 2\n",
        "block_counts = clean_alameda.groupby(['SA_CENSUS_TRACT','SA_CENSUS_BLOCK_GROUP'])[['SA_TAX_PER_SQFT']].count()\n",
        "block_counts.loc[dif_blocks] #fix if # of households = 1 > it was all equal to 1\n",
        "\n",
        "block_counts.loc[(441521.0,3.0)] # same with difference of .5 (row 2 comparison)"
      ],
      "execution_count": null,
      "outputs": [
        {
          "output_type": "execute_result",
          "data": {
            "text/plain": [
              "SA_TAX_PER_SQFT    426\n",
              "Name: (441521.0, 3.0), dtype: int64"
            ]
          },
          "metadata": {
            "tags": []
          },
          "execution_count": 32
        }
      ]
    },
    {
      "cell_type": "code",
      "metadata": {
        "id": "YeC837CbcWQK",
        "colab": {
          "base_uri": "https://localhost:8080/",
          "height": 52
        },
        "outputId": "a900835b-e8ac-45ab-f7fa-e8af46b31849"
      },
      "source": [
        "block_counts.loc[(421300.0,4.0)] #Difference of .7 (row 1 comparison) caused by a lot of more households binned into only 10 groups"
      ],
      "execution_count": null,
      "outputs": [
        {
          "output_type": "execute_result",
          "data": {
            "text/plain": [
              "SA_TAX_PER_SQFT    302\n",
              "Name: (421300.0, 4.0), dtype: int64"
            ]
          },
          "metadata": {
            "tags": []
          },
          "execution_count": 33
        }
      ]
    },
    {
      "cell_type": "code",
      "metadata": {
        "id": "XH_3B1vJXTPZ",
        "colab": {
          "base_uri": "https://localhost:8080/",
          "height": 141
        },
        "outputId": "a071b534-5f07-417b-caf3-9fbd0d322ee6"
      },
      "source": [
        "#check gini_individual for these groups > it was originally 0\n",
        "\n",
        "clean_alameda.groupby(['SA_CENSUS_TRACT','SA_CENSUS_BLOCK_GROUP'])['SA_TAX_PER_SQFT'].apply(gini_individual).loc[dif_blocks]"
      ],
      "execution_count": null,
      "outputs": [
        {
          "output_type": "execute_result",
          "data": {
            "text/plain": [
              "SA_CENSUS_TRACT  SA_CENSUS_BLOCK_GROUP\n",
              "422800.0         2.0                      0.0\n",
              "450602.0         1.0                      0.0\n",
              "403701.0         1.0                      0.0\n",
              "403400.0         2.0                      0.0\n",
              "425101.0         2.0                      0.0\n",
              "Name: SA_TAX_PER_SQFT, dtype: float64"
            ]
          },
          "metadata": {
            "tags": []
          },
          "execution_count": 73
        }
      ]
    },
    {
      "cell_type": "code",
      "metadata": {
        "id": "sYd_8_pOZJDr",
        "colab": {
          "base_uri": "https://localhost:8080/",
          "height": 407
        },
        "outputId": "ed058602-e9d0-4e50-9d50-55f550457ea8"
      },
      "source": [
        "##Check bottom 20 for differences:\n",
        "clean_alameda.groupby(['SA_CENSUS_TRACT','SA_CENSUS_BLOCK_GROUP'])['SA_TAX_PER_SQFT'].apply(gini_group).sort_values(ascending = True)[0:20]"
      ],
      "execution_count": null,
      "outputs": [
        {
          "output_type": "execute_result",
          "data": {
            "text/plain": [
              "SA_CENSUS_TRACT  SA_CENSUS_BLOCK_GROUP\n",
              "403400.0         2.0                      0.000000\n",
              "450602.0         1.0                      0.000000\n",
              "403701.0         1.0                      0.000000\n",
              "425101.0         2.0                      0.000000\n",
              "422800.0         2.0                      0.000000\n",
              "433400.0         6.0                      0.063099\n",
              "                 4.0                      0.067540\n",
              "440335.0         1.0                      0.073461\n",
              "450743.0         2.0                      0.077321\n",
              "451401.0         1.0                      0.078305\n",
              "450102.0         3.0                      0.080126\n",
              "450751.0         1.0                      0.081864\n",
              "441927.0         2.0                      0.083215\n",
              "450752.0         1.0                      0.084458\n",
              "442302.0         2.0                      0.084644\n",
              "428700.0         1.0                      0.085116\n",
              "451101.0         5.0                      0.086180\n",
              "433400.0         5.0                      0.087260\n",
              "450701.0         4.0                      0.087628\n",
              "440335.0         2.0                      0.088043\n",
              "Name: SA_TAX_PER_SQFT, dtype: float64"
            ]
          },
          "metadata": {
            "tags": []
          },
          "execution_count": 77
        }
      ]
    },
    {
      "cell_type": "code",
      "metadata": {
        "id": "tqFtKc2YaWAo",
        "colab": {
          "base_uri": "https://localhost:8080/",
          "height": 407
        },
        "outputId": "2c188e6d-2d22-4f5a-b8cb-7d2da3126eea"
      },
      "source": [
        "clean_alameda.groupby(['SA_CENSUS_TRACT','SA_CENSUS_BLOCK_GROUP'])['SA_TAX_PER_SQFT'].apply(gini_individual).sort_values(ascending = True)[0:20]"
      ],
      "execution_count": null,
      "outputs": [
        {
          "output_type": "execute_result",
          "data": {
            "text/plain": [
              "SA_CENSUS_TRACT  SA_CENSUS_BLOCK_GROUP\n",
              "403701.0         1.0                      0.000000\n",
              "403400.0         2.0                      0.000000\n",
              "450602.0         1.0                      0.000000\n",
              "422800.0         2.0                      0.000000\n",
              "425101.0         2.0                      0.000000\n",
              "433400.0         6.0                      0.055340\n",
              "                 4.0                      0.060438\n",
              "440335.0         1.0                      0.066567\n",
              "450743.0         2.0                      0.067322\n",
              "441927.0         2.0                      0.068746\n",
              "450102.0         3.0                      0.074116\n",
              "450751.0         1.0                      0.075295\n",
              "451401.0         1.0                      0.075582\n",
              "450752.0         1.0                      0.077774\n",
              "428700.0         1.0                      0.079313\n",
              "451101.0         5.0                      0.080711\n",
              "433400.0         5.0                      0.080823\n",
              "440335.0         2.0                      0.082214\n",
              "451101.0         2.0                      0.082751\n",
              "450701.0         4.0                      0.083212\n",
              "Name: SA_TAX_PER_SQFT, dtype: float64"
            ]
          },
          "metadata": {
            "tags": []
          },
          "execution_count": 78
        }
      ]
    },
    {
      "cell_type": "markdown",
      "metadata": {
        "id": "m5kvhKxgUUwy"
      },
      "source": [
        "**Calculating Lost Assesed Value:**"
      ]
    },
    {
      "cell_type": "code",
      "metadata": {
        "id": "jzvt59BUUbHT"
      },
      "source": [
        "clean_alameda = single_family_alameda[(single_family_alameda['SA_TAX_PER_SQFT'].notna()) & \n",
        "                                      (single_family_alameda['SA_TAX_PER_SQFT'] > 0) & \n",
        "                                      (single_family_alameda['SA_TAX_PER_SQFT'] != float(\"inf\"))]\n",
        "#Remove homes with assesed value == to 0\n",
        "clean_alameda[clean_alameda['SA_VAL_ASSD'] == 0]\n",
        "clean_alameda = clean_alameda.drop([306630])\n",
        "\n",
        "\n",
        "# Subset into two different datasets:\n",
        "\n",
        "#1) Data that have not been sold or have been sold before 1978 (SA_TRANSFER_DATE)\n",
        "\n",
        "clean_alameda['SA_DATE_TRANSFER'] = (clean_alameda['SA_DATE_TRANSFER']).astype('str')\n",
        "clean_alameda['SA_TRANSFER_YEAR'] = clean_alameda['SA_DATE_TRANSFER'].str[:4]\n",
        "clean_alameda['SA_TRANSFER_YEAR'] = clean_alameda['SA_TRANSFER_YEAR'].astype('float')\n",
        "clean_alameda['1978_YR_DIF'] = clean_alameda['SA_TRANSFER_YEAR'] - 1978\n",
        "clean_alameda['2013_YR_DIF'] = 2013 - clean_alameda['SA_TRANSFER_YEAR']\n",
        "\n",
        "## get rid of those transfer in 2014\n",
        "clean_alameda = clean_alameda[clean_alameda['2013_YR_DIF'] != -1]\n",
        "\n",
        "no_sale = clean_alameda[(clean_alameda['SA_TRANSFER_YEAR'] < 1978) | (clean_alameda['SA_TRANSFER_YEAR'].isnull())]\n",
        "#no_sale[used_col].sort_values(by = 'SA_TRANSFER_YEAR', ascending = False)\n",
        "\n",
        "#2) Data that have been sold between 1978 to 2013\n",
        "sale = clean_alameda[(clean_alameda['SA_TRANSFER_YEAR'] >= 1978)]"
      ],
      "execution_count": null,
      "outputs": []
    },
    {
      "cell_type": "code",
      "metadata": {
        "id": "kREdxEWTpe7n",
        "colab": {
          "base_uri": "https://localhost:8080/",
          "height": 34
        },
        "outputId": "2404499e-fcc2-4fbc-e553-7ddce4e3d941"
      },
      "source": [
        "len(sale)"
      ],
      "execution_count": null,
      "outputs": [
        {
          "output_type": "execute_result",
          "data": {
            "text/plain": [
              "247077"
            ]
          },
          "metadata": {
            "tags": []
          },
          "execution_count": 27
        }
      ]
    },
    {
      "cell_type": "code",
      "metadata": {
        "id": "dZ4Z_RPxpgq0",
        "colab": {
          "base_uri": "https://localhost:8080/",
          "height": 34
        },
        "outputId": "734c35ce-053a-4dc1-cc22-2a482e475c04"
      },
      "source": [
        "len(no_sale)"
      ],
      "execution_count": null,
      "outputs": [
        {
          "output_type": "execute_result",
          "data": {
            "text/plain": [
              "40241"
            ]
          },
          "metadata": {
            "tags": []
          },
          "execution_count": 28
        }
      ]
    },
    {
      "cell_type": "code",
      "metadata": {
        "id": "St4Y1_cY4srq",
        "colab": {
          "base_uri": "https://localhost:8080/",
          "height": 34
        },
        "outputId": "10fdee0b-024c-4dad-a584-c24b30a4f3f1"
      },
      "source": [
        "len(clean_alameda) == len(sale) + len(no_sale)\n"
      ],
      "execution_count": null,
      "outputs": [
        {
          "output_type": "execute_result",
          "data": {
            "text/plain": [
              "True"
            ]
          },
          "metadata": {
            "tags": []
          },
          "execution_count": 27
        }
      ]
    },
    {
      "cell_type": "code",
      "metadata": {
        "id": "9FXXbdtTU_pA",
        "colab": {
          "base_uri": "https://localhost:8080/",
          "height": 34
        },
        "outputId": "adf6351e-fe7d-4205-841c-73a254210f28"
      },
      "source": [
        "#Making sure those sold are not null\n",
        "sum(sale['SA_TRANSFER_YEAR'].isnull())"
      ],
      "execution_count": null,
      "outputs": [
        {
          "output_type": "execute_result",
          "data": {
            "text/plain": [
              "0"
            ]
          },
          "metadata": {
            "tags": []
          },
          "execution_count": 28
        }
      ]
    },
    {
      "cell_type": "code",
      "metadata": {
        "id": "yrxTS1VOVYNy",
        "colab": {
          "base_uri": "https://localhost:8080/",
          "height": 34
        },
        "outputId": "7ede4a8f-f4b7-4819-bd40-890d643edd4a"
      },
      "source": [
        "#Making sure\n",
        "sum(sale['SA_VAL_ASSD'].isnull())"
      ],
      "execution_count": null,
      "outputs": [
        {
          "output_type": "execute_result",
          "data": {
            "text/plain": [
              "0"
            ]
          },
          "metadata": {
            "tags": []
          },
          "execution_count": 29
        }
      ]
    },
    {
      "cell_type": "code",
      "metadata": {
        "id": "LGY10PzHcVIS",
        "colab": {
          "base_uri": "https://localhost:8080/",
          "height": 34
        },
        "outputId": "f4d77da4-89da-495b-d1b3-c50793b444ea"
      },
      "source": [
        "sum(no_sale['SA_VAL_ASSD'].isnull())"
      ],
      "execution_count": null,
      "outputs": [
        {
          "output_type": "execute_result",
          "data": {
            "text/plain": [
              "0"
            ]
          },
          "metadata": {
            "tags": []
          },
          "execution_count": 30
        }
      ]
    },
    {
      "cell_type": "markdown",
      "metadata": {
        "id": "SttDyyfnd3RF"
      },
      "source": [
        "**Importing Alfred's House Indices**"
      ]
    },
    {
      "cell_type": "code",
      "metadata": {
        "id": "P4CjJHk3eO2R",
        "colab": {
          "base_uri": "https://localhost:8080/",
          "height": 204
        },
        "outputId": "996260ab-960a-4d06-ed66-1050f7f6b54b"
      },
      "source": [
        "house_indices = pd.read_csv(\"/content/drive/My Drive/cp101project3_data/alfredgraph.csv\")\n",
        "inflation = pd.read_csv(\"/content/drive/My Drive/cp101project3_data/inflation.csv\")\n",
        "house_indices = house_indices[['Rates', 'Year']]\n",
        "inflation = inflation[['Period', 'Factor','Factor_year']].iloc[0:36,:]\n",
        "house_indices.head()"
      ],
      "execution_count": null,
      "outputs": [
        {
          "output_type": "execute_result",
          "data": {
            "text/html": [
              "<div>\n",
              "<style scoped>\n",
              "    .dataframe tbody tr th:only-of-type {\n",
              "        vertical-align: middle;\n",
              "    }\n",
              "\n",
              "    .dataframe tbody tr th {\n",
              "        vertical-align: top;\n",
              "    }\n",
              "\n",
              "    .dataframe thead th {\n",
              "        text-align: right;\n",
              "    }\n",
              "</style>\n",
              "<table border=\"1\" class=\"dataframe\">\n",
              "  <thead>\n",
              "    <tr style=\"text-align: right;\">\n",
              "      <th></th>\n",
              "      <th>Rates</th>\n",
              "      <th>Year</th>\n",
              "    </tr>\n",
              "  </thead>\n",
              "  <tbody>\n",
              "    <tr>\n",
              "      <th>0</th>\n",
              "      <td>NaN</td>\n",
              "      <td>1975</td>\n",
              "    </tr>\n",
              "    <tr>\n",
              "      <th>1</th>\n",
              "      <td>13%</td>\n",
              "      <td>1976</td>\n",
              "    </tr>\n",
              "    <tr>\n",
              "      <th>2</th>\n",
              "      <td>22%</td>\n",
              "      <td>1977</td>\n",
              "    </tr>\n",
              "    <tr>\n",
              "      <th>3</th>\n",
              "      <td>14%</td>\n",
              "      <td>1978</td>\n",
              "    </tr>\n",
              "    <tr>\n",
              "      <th>4</th>\n",
              "      <td>17%</td>\n",
              "      <td>1979</td>\n",
              "    </tr>\n",
              "  </tbody>\n",
              "</table>\n",
              "</div>"
            ],
            "text/plain": [
              "  Rates  Year\n",
              "0   NaN  1975\n",
              "1   13%  1976\n",
              "2   22%  1977\n",
              "3   14%  1978\n",
              "4   17%  1979"
            ]
          },
          "metadata": {
            "tags": []
          },
          "execution_count": 31
        }
      ]
    },
    {
      "cell_type": "code",
      "metadata": {
        "id": "x8XdPb_YLj5b",
        "colab": {
          "base_uri": "https://localhost:8080/",
          "height": 1000
        },
        "outputId": "d3236dff-e11f-4991-9c4b-90dcbcffe0bb"
      },
      "source": [
        "inflation"
      ],
      "execution_count": null,
      "outputs": [
        {
          "output_type": "execute_result",
          "data": {
            "text/html": [
              "<div>\n",
              "<style scoped>\n",
              "    .dataframe tbody tr th:only-of-type {\n",
              "        vertical-align: middle;\n",
              "    }\n",
              "\n",
              "    .dataframe tbody tr th {\n",
              "        vertical-align: top;\n",
              "    }\n",
              "\n",
              "    .dataframe thead th {\n",
              "        text-align: right;\n",
              "    }\n",
              "</style>\n",
              "<table border=\"1\" class=\"dataframe\">\n",
              "  <thead>\n",
              "    <tr style=\"text-align: right;\">\n",
              "      <th></th>\n",
              "      <th>Period</th>\n",
              "      <th>Factor</th>\n",
              "      <th>Factor_year</th>\n",
              "    </tr>\n",
              "  </thead>\n",
              "  <tbody>\n",
              "    <tr>\n",
              "      <th>0</th>\n",
              "      <td>1978</td>\n",
              "      <td>1.0000</td>\n",
              "      <td>1.000000</td>\n",
              "    </tr>\n",
              "    <tr>\n",
              "      <th>1</th>\n",
              "      <td>1979</td>\n",
              "      <td>1.0902</td>\n",
              "      <td>1.090200</td>\n",
              "    </tr>\n",
              "    <tr>\n",
              "      <th>2</th>\n",
              "      <td>1980</td>\n",
              "      <td>1.2351</td>\n",
              "      <td>1.132911</td>\n",
              "    </tr>\n",
              "    <tr>\n",
              "      <th>3</th>\n",
              "      <td>1981</td>\n",
              "      <td>1.3897</td>\n",
              "      <td>1.125172</td>\n",
              "    </tr>\n",
              "    <tr>\n",
              "      <th>4</th>\n",
              "      <td>1982</td>\n",
              "      <td>1.5137</td>\n",
              "      <td>1.089228</td>\n",
              "    </tr>\n",
              "    <tr>\n",
              "      <th>5</th>\n",
              "      <td>1983</td>\n",
              "      <td>1.5717</td>\n",
              "      <td>1.038317</td>\n",
              "    </tr>\n",
              "    <tr>\n",
              "      <th>6</th>\n",
              "      <td>1984</td>\n",
              "      <td>1.6312</td>\n",
              "      <td>1.037857</td>\n",
              "    </tr>\n",
              "    <tr>\n",
              "      <th>7</th>\n",
              "      <td>1985</td>\n",
              "      <td>1.6957</td>\n",
              "      <td>1.039541</td>\n",
              "    </tr>\n",
              "    <tr>\n",
              "      <th>8</th>\n",
              "      <td>1986</td>\n",
              "      <td>1.7601</td>\n",
              "      <td>1.037978</td>\n",
              "    </tr>\n",
              "    <tr>\n",
              "      <th>9</th>\n",
              "      <td>1987</td>\n",
              "      <td>1.7794</td>\n",
              "      <td>1.010965</td>\n",
              "    </tr>\n",
              "    <tr>\n",
              "      <th>10</th>\n",
              "      <td>1988</td>\n",
              "      <td>1.8583</td>\n",
              "      <td>1.044341</td>\n",
              "    </tr>\n",
              "    <tr>\n",
              "      <th>11</th>\n",
              "      <td>1989</td>\n",
              "      <td>1.9404</td>\n",
              "      <td>1.044180</td>\n",
              "    </tr>\n",
              "    <tr>\n",
              "      <th>12</th>\n",
              "      <td>1990</td>\n",
              "      <td>2.0306</td>\n",
              "      <td>1.046485</td>\n",
              "    </tr>\n",
              "    <tr>\n",
              "      <th>13</th>\n",
              "      <td>1991</td>\n",
              "      <td>2.1546</td>\n",
              "      <td>1.061066</td>\n",
              "    </tr>\n",
              "    <tr>\n",
              "      <th>14</th>\n",
              "      <td>1992</td>\n",
              "      <td>2.2206</td>\n",
              "      <td>1.030632</td>\n",
              "    </tr>\n",
              "    <tr>\n",
              "      <th>15</th>\n",
              "      <td>1993</td>\n",
              "      <td>2.2850</td>\n",
              "      <td>1.029001</td>\n",
              "    </tr>\n",
              "    <tr>\n",
              "      <th>16</th>\n",
              "      <td>1994</td>\n",
              "      <td>2.3478</td>\n",
              "      <td>1.027484</td>\n",
              "    </tr>\n",
              "    <tr>\n",
              "      <th>17</th>\n",
              "      <td>1995</td>\n",
              "      <td>2.4106</td>\n",
              "      <td>1.026748</td>\n",
              "    </tr>\n",
              "    <tr>\n",
              "      <th>18</th>\n",
              "      <td>1996</td>\n",
              "      <td>2.4718</td>\n",
              "      <td>1.025388</td>\n",
              "    </tr>\n",
              "    <tr>\n",
              "      <th>19</th>\n",
              "      <td>1997</td>\n",
              "      <td>2.5539</td>\n",
              "      <td>1.033215</td>\n",
              "    </tr>\n",
              "    <tr>\n",
              "      <th>20</th>\n",
              "      <td>1998</td>\n",
              "      <td>2.5974</td>\n",
              "      <td>1.017033</td>\n",
              "    </tr>\n",
              "    <tr>\n",
              "      <th>21</th>\n",
              "      <td>1999</td>\n",
              "      <td>2.6393</td>\n",
              "      <td>1.016132</td>\n",
              "    </tr>\n",
              "    <tr>\n",
              "      <th>22</th>\n",
              "      <td>2000</td>\n",
              "      <td>2.7101</td>\n",
              "      <td>1.026825</td>\n",
              "    </tr>\n",
              "    <tr>\n",
              "      <th>23</th>\n",
              "      <td>2001</td>\n",
              "      <td>2.8019</td>\n",
              "      <td>1.033873</td>\n",
              "    </tr>\n",
              "    <tr>\n",
              "      <th>24</th>\n",
              "      <td>2002</td>\n",
              "      <td>2.8454</td>\n",
              "      <td>1.015525</td>\n",
              "    </tr>\n",
              "    <tr>\n",
              "      <th>25</th>\n",
              "      <td>2003</td>\n",
              "      <td>2.9130</td>\n",
              "      <td>1.023758</td>\n",
              "    </tr>\n",
              "    <tr>\n",
              "      <th>26</th>\n",
              "      <td>2004</td>\n",
              "      <td>2.9678</td>\n",
              "      <td>1.018812</td>\n",
              "    </tr>\n",
              "    <tr>\n",
              "      <th>27</th>\n",
              "      <td>2005</td>\n",
              "      <td>3.0644</td>\n",
              "      <td>1.032549</td>\n",
              "    </tr>\n",
              "    <tr>\n",
              "      <th>28</th>\n",
              "      <td>2006</td>\n",
              "      <td>3.1691</td>\n",
              "      <td>1.034167</td>\n",
              "    </tr>\n",
              "    <tr>\n",
              "      <th>29</th>\n",
              "      <td>2007</td>\n",
              "      <td>3.2496</td>\n",
              "      <td>1.025402</td>\n",
              "    </tr>\n",
              "    <tr>\n",
              "      <th>30</th>\n",
              "      <td>2008</td>\n",
              "      <td>3.3822</td>\n",
              "      <td>1.040805</td>\n",
              "    </tr>\n",
              "    <tr>\n",
              "      <th>31</th>\n",
              "      <td>2009</td>\n",
              "      <td>3.3853</td>\n",
              "      <td>1.000917</td>\n",
              "    </tr>\n",
              "    <tr>\n",
              "      <th>32</th>\n",
              "      <td>2010</td>\n",
              "      <td>3.4774</td>\n",
              "      <td>1.027206</td>\n",
              "    </tr>\n",
              "    <tr>\n",
              "      <th>33</th>\n",
              "      <td>2011</td>\n",
              "      <td>3.5295</td>\n",
              "      <td>1.014982</td>\n",
              "    </tr>\n",
              "    <tr>\n",
              "      <th>34</th>\n",
              "      <td>2012</td>\n",
              "      <td>3.6340</td>\n",
              "      <td>1.029608</td>\n",
              "    </tr>\n",
              "    <tr>\n",
              "      <th>35</th>\n",
              "      <td>2013</td>\n",
              "      <td>3.6973</td>\n",
              "      <td>1.017419</td>\n",
              "    </tr>\n",
              "  </tbody>\n",
              "</table>\n",
              "</div>"
            ],
            "text/plain": [
              "    Period  Factor  Factor_year\n",
              "0     1978  1.0000     1.000000\n",
              "1     1979  1.0902     1.090200\n",
              "2     1980  1.2351     1.132911\n",
              "3     1981  1.3897     1.125172\n",
              "4     1982  1.5137     1.089228\n",
              "5     1983  1.5717     1.038317\n",
              "6     1984  1.6312     1.037857\n",
              "7     1985  1.6957     1.039541\n",
              "8     1986  1.7601     1.037978\n",
              "9     1987  1.7794     1.010965\n",
              "10    1988  1.8583     1.044341\n",
              "11    1989  1.9404     1.044180\n",
              "12    1990  2.0306     1.046485\n",
              "13    1991  2.1546     1.061066\n",
              "14    1992  2.2206     1.030632\n",
              "15    1993  2.2850     1.029001\n",
              "16    1994  2.3478     1.027484\n",
              "17    1995  2.4106     1.026748\n",
              "18    1996  2.4718     1.025388\n",
              "19    1997  2.5539     1.033215\n",
              "20    1998  2.5974     1.017033\n",
              "21    1999  2.6393     1.016132\n",
              "22    2000  2.7101     1.026825\n",
              "23    2001  2.8019     1.033873\n",
              "24    2002  2.8454     1.015525\n",
              "25    2003  2.9130     1.023758\n",
              "26    2004  2.9678     1.018812\n",
              "27    2005  3.0644     1.032549\n",
              "28    2006  3.1691     1.034167\n",
              "29    2007  3.2496     1.025402\n",
              "30    2008  3.3822     1.040805\n",
              "31    2009  3.3853     1.000917\n",
              "32    2010  3.4774     1.027206\n",
              "33    2011  3.5295     1.014982\n",
              "34    2012  3.6340     1.029608\n",
              "35    2013  3.6973     1.017419"
            ]
          },
          "metadata": {
            "tags": []
          },
          "execution_count": 32
        }
      ]
    },
    {
      "cell_type": "code",
      "metadata": {
        "id": "PgO0NhWKMN4T",
        "colab": {
          "base_uri": "https://localhost:8080/",
          "height": 629
        },
        "outputId": "fdcf7e53-4c27-421f-e33b-5d0fb7914e98"
      },
      "source": [
        "#Create dictionary for inflation\n",
        "inflation_year = {}\n",
        "inflation_fac = {}\n",
        "\n",
        "for i in np.arange(len(inflation)):\n",
        "  inflation_year[inflation['Period'][i]] = inflation['Factor_year'][i]\n",
        "  inflation_fac[inflation['Period'][i]] = inflation['Factor'][i]\n",
        "inflation_year"
      ],
      "execution_count": null,
      "outputs": [
        {
          "output_type": "execute_result",
          "data": {
            "text/plain": [
              "{1978: 1.0,\n",
              " 1979: 1.0902,\n",
              " 1980: 1.132911392,\n",
              " 1981: 1.1251720509999998,\n",
              " 1982: 1.089227891,\n",
              " 1983: 1.0383167070000001,\n",
              " 1984: 1.037857097,\n",
              " 1985: 1.039541442,\n",
              " 1986: 1.0379784159999998,\n",
              " 1987: 1.010965286,\n",
              " 1988: 1.044340789,\n",
              " 1989: 1.044180165,\n",
              " 1990: 1.046485261,\n",
              " 1991: 1.061065695,\n",
              " 1992: 1.030632136,\n",
              " 1993: 1.029001171,\n",
              " 1994: 1.027483589,\n",
              " 1995: 1.026748445,\n",
              " 1996: 1.02538787,\n",
              " 1997: 1.033214661,\n",
              " 1998: 1.017032773,\n",
              " 1999: 1.016131516,\n",
              " 2000: 1.026825295,\n",
              " 2001: 1.033873289,\n",
              " 2002: 1.0155251790000002,\n",
              " 2003: 1.023757644,\n",
              " 2004: 1.018812221,\n",
              " 2005: 1.032549363,\n",
              " 2006: 1.034166558,\n",
              " 2007: 1.025401534,\n",
              " 2008: 1.040805022,\n",
              " 2009: 1.0009165629999999,\n",
              " 2010: 1.0272058609999999,\n",
              " 2011: 1.014982458,\n",
              " 2012: 1.029607593,\n",
              " 2013: 1.017418822}"
            ]
          },
          "metadata": {
            "tags": []
          },
          "execution_count": 33
        }
      ]
    },
    {
      "cell_type": "code",
      "metadata": {
        "id": "_sznrSBOQhpm",
        "colab": {
          "base_uri": "https://localhost:8080/",
          "height": 629
        },
        "outputId": "8d6a988f-5b2d-4bb0-ca33-009003bb7b1c"
      },
      "source": [
        "inflation_fac"
      ],
      "execution_count": null,
      "outputs": [
        {
          "output_type": "execute_result",
          "data": {
            "text/plain": [
              "{1978: 1.0,\n",
              " 1979: 1.0902,\n",
              " 1980: 1.2351,\n",
              " 1981: 1.3897,\n",
              " 1982: 1.5137,\n",
              " 1983: 1.5717,\n",
              " 1984: 1.6312,\n",
              " 1985: 1.6957,\n",
              " 1986: 1.7601,\n",
              " 1987: 1.7794,\n",
              " 1988: 1.8583,\n",
              " 1989: 1.9404,\n",
              " 1990: 2.0306,\n",
              " 1991: 2.1546,\n",
              " 1992: 2.2206,\n",
              " 1993: 2.285,\n",
              " 1994: 2.3478,\n",
              " 1995: 2.4106,\n",
              " 1996: 2.4718,\n",
              " 1997: 2.5539,\n",
              " 1998: 2.5974,\n",
              " 1999: 2.6393,\n",
              " 2000: 2.7101,\n",
              " 2001: 2.8019,\n",
              " 2002: 2.8454,\n",
              " 2003: 2.9130000000000003,\n",
              " 2004: 2.9678,\n",
              " 2005: 3.0644,\n",
              " 2006: 3.1691,\n",
              " 2007: 3.2496,\n",
              " 2008: 3.3822,\n",
              " 2009: 3.3853,\n",
              " 2010: 3.4774,\n",
              " 2011: 3.5295,\n",
              " 2012: 3.634,\n",
              " 2013: 3.6973}"
            ]
          },
          "metadata": {
            "tags": []
          },
          "execution_count": 34
        }
      ]
    },
    {
      "cell_type": "code",
      "metadata": {
        "id": "g7CbLP7hQPEs"
      },
      "source": [
        "### inflation from 1978 to 2013 is 3.6973"
      ],
      "execution_count": null,
      "outputs": []
    },
    {
      "cell_type": "code",
      "metadata": {
        "id": "UMd01-UhfA4R"
      },
      "source": [
        "#Convert rates to decimal for easier conversion\n",
        "house_indices['Rates'] = house_indices['Rates'].str.rstrip('%').astype('float') / 100.0\n",
        "\n",
        "years = house_indices['Year']\n",
        "rates = house_indices['Rates']\n",
        "\n",
        "#Create dictionary for future conversion\n",
        "growth_rates = {}\n",
        "\n",
        "for i in np.arange(len(years)):\n",
        "  growth_rates[years[i]] = rates[i]\n"
      ],
      "execution_count": null,
      "outputs": []
    },
    {
      "cell_type": "code",
      "metadata": {
        "id": "VrAtQ2UTiHhZ"
      },
      "source": [
        "def go_forward(value, rate):\n",
        "  fwd_val = value*(1+rate)\n",
        "  return fwd_val\n",
        "\n",
        "def go_backward(value, rate):\n",
        "  bck_val = value/(1+rate)\n",
        "  return bck_val\n",
        "\n",
        "def go_backward_years(values, year_diff, transfer, year_diff_2013): #since going backward by only 2%\n",
        "    ## need['SA_TRANSFER_YEAR'] = transfer\n",
        "    ## need['SA_VAL_ASSD'] = values\n",
        "    ## need ['1978_YR_DIF'] or Year Transfer Diff = year_diff\n",
        "\n",
        "    #USED TO STANDARDIZE PRICES BACK TO 1978 OR\n",
        "    ##TO STANDARDIZE PRICES BACK TO TRANSFER DATE\n",
        "\n",
        "\n",
        "  bck_val = []\n",
        "  for i in np.arange(len(values)):\n",
        "    if year_diff[i] == 0:  #Then it is at 1978\n",
        "      bck_val = np.append(bck_val, values[i])\n",
        "    #elif year_diff[i] < 0:\n",
        "      #if < 0, then that means the house was sold before 1978, need to go forward to 1978\n",
        "      #val_1978 = values[i] #initial value \n",
        "      #if transfer[i] <= 1975: #get prices in 1976\n",
        "\n",
        "        #FIX CODE, if transfer is before 1975, then it does not matter. just go back to 1978 using 2% and then go forward to 2013.\n",
        "        #for year in np.arange(transfer[i], 1976, 1):\n",
        "            #13% is the rate used \n",
        "          #val_1978 = go_forward(val_1978, growth_rates[1976])\n",
        "          #then go forward to 1978\n",
        "        #for year in np.arange(1976, 1979, 1):\n",
        "          #val_1978 = go_forward(val_1978, growth_rates[year])\n",
        "      #else: #if between 1976 and 1978\n",
        "        #for year in np.arange(transfer[i], 1979, 1):\n",
        "          #val_1978 = go_forward(val_1978, growth_rates[year])\n",
        "      #bck_val = np.append(bck_val, val_1978)\n",
        "    else: \n",
        "      #no transfer\n",
        "      if np.isnan(year_diff[i]) or year_diff[i] < 0:\n",
        "        bck_val = np.append(bck_val, (values[i]/((1.02)**(35)))/inflation_fac[2013])\n",
        "      else:\n",
        "        #had transfer and year difference is positive\n",
        "        bck_val = np.append(bck_val, (values[i]/(1.02)**(year_diff_2013[i])) / (inflation_fac[2013] / inflation_fac[2013-year_diff_2013[i]]))\n",
        "        \n",
        "  return bck_val"
      ],
      "execution_count": null,
      "outputs": []
    },
    {
      "cell_type": "code",
      "metadata": {
        "id": "hyNSpZysj1D-",
        "colab": {
          "base_uri": "https://localhost:8080/",
          "height": 204
        },
        "outputId": "fe5bed3a-9ed8-4ada-ad75-ea9a36196a2d"
      },
      "source": [
        "used_col = ['SA_VAL_ASSD', 'SA_TRANSFER_YEAR','1978_YR_DIF','2013_YR_DIF']\n",
        "no_sale[used_col].head()"
      ],
      "execution_count": null,
      "outputs": [
        {
          "output_type": "execute_result",
          "data": {
            "text/html": [
              "<div>\n",
              "<style scoped>\n",
              "    .dataframe tbody tr th:only-of-type {\n",
              "        vertical-align: middle;\n",
              "    }\n",
              "\n",
              "    .dataframe tbody tr th {\n",
              "        vertical-align: top;\n",
              "    }\n",
              "\n",
              "    .dataframe thead th {\n",
              "        text-align: right;\n",
              "    }\n",
              "</style>\n",
              "<table border=\"1\" class=\"dataframe\">\n",
              "  <thead>\n",
              "    <tr style=\"text-align: right;\">\n",
              "      <th></th>\n",
              "      <th>SA_VAL_ASSD</th>\n",
              "      <th>SA_TRANSFER_YEAR</th>\n",
              "      <th>1978_YR_DIF</th>\n",
              "      <th>2013_YR_DIF</th>\n",
              "    </tr>\n",
              "  </thead>\n",
              "  <tbody>\n",
              "    <tr>\n",
              "      <th>169</th>\n",
              "      <td>29865.0</td>\n",
              "      <td>NaN</td>\n",
              "      <td>NaN</td>\n",
              "      <td>NaN</td>\n",
              "    </tr>\n",
              "    <tr>\n",
              "      <th>177</th>\n",
              "      <td>70357.0</td>\n",
              "      <td>NaN</td>\n",
              "      <td>NaN</td>\n",
              "      <td>NaN</td>\n",
              "    </tr>\n",
              "    <tr>\n",
              "      <th>182</th>\n",
              "      <td>29467.0</td>\n",
              "      <td>1974.0</td>\n",
              "      <td>-4.0</td>\n",
              "      <td>39.0</td>\n",
              "    </tr>\n",
              "    <tr>\n",
              "      <th>183</th>\n",
              "      <td>143012.0</td>\n",
              "      <td>NaN</td>\n",
              "      <td>NaN</td>\n",
              "      <td>NaN</td>\n",
              "    </tr>\n",
              "    <tr>\n",
              "      <th>184</th>\n",
              "      <td>31856.0</td>\n",
              "      <td>NaN</td>\n",
              "      <td>NaN</td>\n",
              "      <td>NaN</td>\n",
              "    </tr>\n",
              "  </tbody>\n",
              "</table>\n",
              "</div>"
            ],
            "text/plain": [
              "     SA_VAL_ASSD  SA_TRANSFER_YEAR  1978_YR_DIF  2013_YR_DIF\n",
              "169      29865.0               NaN          NaN          NaN\n",
              "177      70357.0               NaN          NaN          NaN\n",
              "182      29467.0            1974.0         -4.0         39.0\n",
              "183     143012.0               NaN          NaN          NaN\n",
              "184      31856.0               NaN          NaN          NaN"
            ]
          },
          "metadata": {
            "tags": []
          },
          "execution_count": 38
        }
      ]
    },
    {
      "cell_type": "code",
      "metadata": {
        "id": "TloitetGf_8m"
      },
      "source": [
        "def calc_value_without_prop13(df, bool_transfer):\n",
        "  ## need['SA_TRANSFER_YEAR'] as an arr\n",
        "  ## need['SA_VAL_ASSD'] as an arr\n",
        "  # need ['1978_YR_DIF'] as an arr\n",
        "\n",
        "  current_prices = []\n",
        "  #1 ) NO TRANSFER (NULL OR TRANSFER BEFORE 1978)\n",
        "  if (bool_transfer == False):\n",
        "    #Go back to 1978 using assesed value by 2% each year \n",
        "    prices_1978 = go_backward_years(np.array(df['SA_VAL_ASSD']), np.array(df['1978_YR_DIF']), np.array(df['SA_TRANSFER_YEAR']), np.array(df['2013_YR_DIF']))\n",
        "\n",
        "    #Go forward to 2014 using growth rates \n",
        "    for x in prices_1978:\n",
        "      new_price = x\n",
        "      #iterate through each year from 1979 to 2013 by using its corresponding growth rate\n",
        "      #x is price starting from 1978 growing to year y \n",
        "      for year in np.arange(1979, 2014, 1):\n",
        "        new_price = go_forward(new_price, growth_rates[year])*inflation_year[year]\n",
        "      current_prices = np.append(current_prices, new_price)\n",
        "    return current_prices\n",
        "  else:\n",
        "  #2 ) YES HAS TRANSFERS (HOUSE SOLD)\n",
        "    #Only need to look from 2013 to transfer date \n",
        "    transfer_diff = np.array(2013 - df['SA_TRANSFER_YEAR'])\n",
        "    #Go back to transfer date by 2% each year\n",
        "    back_transfer_prices = go_backward_years(np.array(df['SA_VAL_ASSD']), np.array(df['1978_YR_DIF']), np.array(df['SA_TRANSFER_YEAR']), np.array(df['2013_YR_DIF'])) #transfer_dif will always be positive\n",
        "\n",
        "    #Go forward to 2014 using growth rates \n",
        "    for (x,y) in zip(back_transfer_prices, np.array(df['SA_TRANSFER_YEAR'])):\n",
        "      new_price = x\n",
        "      #iterate through each year from transfer year to 2013 by using its corresponding growth rate\n",
        "      #x is price starting from transfer year growing to year 2013\n",
        "      for year in np.arange(y+1, 2014, 1):\n",
        "        new_price = go_forward(new_price, growth_rates[year])*inflation_year[year]\n",
        "      current_prices = np.append(current_prices, new_price)     \n",
        "    \n",
        "  return current_prices"
      ],
      "execution_count": null,
      "outputs": []
    },
    {
      "cell_type": "code",
      "metadata": {
        "id": "mfsqJSXdtLyH",
        "colab": {
          "base_uri": "https://localhost:8080/",
          "height": 119
        },
        "outputId": "211d03de-ce5c-4ee3-dccb-7ae9d632712f"
      },
      "source": [
        "sale['LOST_VALUE'] = calc_value_without_prop13(sale, True) - np.array(sale['SA_VAL_ASSD'])"
      ],
      "execution_count": null,
      "outputs": [
        {
          "output_type": "stream",
          "text": [
            "/usr/local/lib/python3.6/dist-packages/ipykernel_launcher.py:1: SettingWithCopyWarning: \n",
            "A value is trying to be set on a copy of a slice from a DataFrame.\n",
            "Try using .loc[row_indexer,col_indexer] = value instead\n",
            "\n",
            "See the caveats in the documentation: https://pandas.pydata.org/pandas-docs/stable/user_guide/indexing.html#returning-a-view-versus-a-copy\n",
            "  \"\"\"Entry point for launching an IPython kernel.\n"
          ],
          "name": "stderr"
        }
      ]
    },
    {
      "cell_type": "code",
      "metadata": {
        "id": "xxpp_-ZquWVd",
        "colab": {
          "base_uri": "https://localhost:8080/",
          "height": 119
        },
        "outputId": "83af73de-bd3e-4680-98cd-7960a57a125a"
      },
      "source": [
        "no_sale['LOST_VALUE'] = calc_value_without_prop13(no_sale, False)- np.array(no_sale['SA_VAL_ASSD'])"
      ],
      "execution_count": null,
      "outputs": [
        {
          "output_type": "stream",
          "text": [
            "/usr/local/lib/python3.6/dist-packages/ipykernel_launcher.py:1: SettingWithCopyWarning: \n",
            "A value is trying to be set on a copy of a slice from a DataFrame.\n",
            "Try using .loc[row_indexer,col_indexer] = value instead\n",
            "\n",
            "See the caveats in the documentation: https://pandas.pydata.org/pandas-docs/stable/user_guide/indexing.html#returning-a-view-versus-a-copy\n",
            "  \"\"\"Entry point for launching an IPython kernel.\n"
          ],
          "name": "stderr"
        }
      ]
    },
    {
      "cell_type": "code",
      "metadata": {
        "id": "flm7uabA3wjq",
        "colab": {
          "base_uri": "https://localhost:8080/",
          "height": 119
        },
        "outputId": "9d182960-f732-4f9d-aeda-449c74702628"
      },
      "source": [
        "sale['LOST_VALUE'].head()"
      ],
      "execution_count": null,
      "outputs": [
        {
          "output_type": "execute_result",
          "data": {
            "text/plain": [
              "168    137129.326743\n",
              "170    208788.945627\n",
              "200     -7656.045670\n",
              "201     35294.117570\n",
              "202    125434.328113\n",
              "Name: LOST_VALUE, dtype: float64"
            ]
          },
          "metadata": {
            "tags": []
          },
          "execution_count": 42
        }
      ]
    },
    {
      "cell_type": "code",
      "metadata": {
        "id": "J9bRmzhkiRXO",
        "colab": {
          "base_uri": "https://localhost:8080/",
          "height": 221
        },
        "outputId": "beb0a9c6-3148-47b4-8d5d-a79f4ecba4cb"
      },
      "source": [
        "sale[sale['LOST_VALUE'] < 0]['SA_TRANSFER_YEAR']"
      ],
      "execution_count": null,
      "outputs": [
        {
          "output_type": "execute_result",
          "data": {
            "text/plain": [
              "200       2002.0\n",
              "205       2002.0\n",
              "207       2006.0\n",
              "374       2007.0\n",
              "386       2004.0\n",
              "           ...  \n",
              "447901    2009.0\n",
              "447902    2009.0\n",
              "447912    2009.0\n",
              "447945    2009.0\n",
              "448000    2009.0\n",
              "Name: SA_TRANSFER_YEAR, Length: 87275, dtype: float64"
            ]
          },
          "metadata": {
            "tags": []
          },
          "execution_count": 44
        }
      ]
    },
    {
      "cell_type": "code",
      "metadata": {
        "id": "29dqw9UHHLvr",
        "colab": {
          "base_uri": "https://localhost:8080/",
          "height": 34
        },
        "outputId": "4c2c94d8-fbb9-443f-97ef-fab1fe41768a"
      },
      "source": [
        "sum(no_sale['LOST_VALUE'])"
      ],
      "execution_count": null,
      "outputs": [
        {
          "output_type": "execute_result",
          "data": {
            "text/plain": [
              "12238068531.110275"
            ]
          },
          "metadata": {
            "tags": []
          },
          "execution_count": 45
        }
      ]
    },
    {
      "cell_type": "code",
      "metadata": {
        "id": "uwEmus2fKNsz",
        "colab": {
          "base_uri": "https://localhost:8080/",
          "height": 34
        },
        "outputId": "50caf585-8198-44b2-959b-b01dfdda3505"
      },
      "source": [
        "sum(sale['LOST_VALUE'])"
      ],
      "execution_count": null,
      "outputs": [
        {
          "output_type": "execute_result",
          "data": {
            "text/plain": [
              "22787845631.23193"
            ]
          },
          "metadata": {
            "tags": []
          },
          "execution_count": 46
        }
      ]
    },
    {
      "cell_type": "code",
      "metadata": {
        "id": "3TsbW-YIPPj8",
        "colab": {
          "base_uri": "https://localhost:8080/",
          "height": 34
        },
        "outputId": "8b0dde28-deb4-4b51-f16d-bbafe22bf2c8"
      },
      "source": [
        "totalRevLost = sum(sale['LOST_VALUE']) + sum(no_sale['LOST_VALUE'])\n",
        "totalRevLost"
      ],
      "execution_count": null,
      "outputs": [
        {
          "output_type": "execute_result",
          "data": {
            "text/plain": [
              "35025914162.34221"
            ]
          },
          "metadata": {
            "tags": []
          },
          "execution_count": 47
        }
      ]
    },
    {
      "cell_type": "code",
      "metadata": {
        "id": "BYzuCoH7Qljh",
        "colab": {
          "base_uri": "https://localhost:8080/",
          "height": 408
        },
        "outputId": "c1089588-034f-4fdc-bf57-7958f255def4"
      },
      "source": [
        "used_col = ['SA_VAL_ASSD', 'SA_TRANSFER_YEAR', 'WITHOUT_PROP13_VALUE', 'LOST_VALUE','SA_TAX_VAL']\n",
        "sale['WITHOUT_PROP13_VALUE'] = calc_value_without_prop13(sale, True)\n",
        "no_sale['WITHOUT_PROP13_VALUE'] = calc_value_without_prop13(no_sale, False)\n",
        "no_sale[used_col].head()"
      ],
      "execution_count": null,
      "outputs": [
        {
          "output_type": "stream",
          "text": [
            "/usr/local/lib/python3.6/dist-packages/ipykernel_launcher.py:2: SettingWithCopyWarning: \n",
            "A value is trying to be set on a copy of a slice from a DataFrame.\n",
            "Try using .loc[row_indexer,col_indexer] = value instead\n",
            "\n",
            "See the caveats in the documentation: https://pandas.pydata.org/pandas-docs/stable/user_guide/indexing.html#returning-a-view-versus-a-copy\n",
            "  \n",
            "/usr/local/lib/python3.6/dist-packages/ipykernel_launcher.py:3: SettingWithCopyWarning: \n",
            "A value is trying to be set on a copy of a slice from a DataFrame.\n",
            "Try using .loc[row_indexer,col_indexer] = value instead\n",
            "\n",
            "See the caveats in the documentation: https://pandas.pydata.org/pandas-docs/stable/user_guide/indexing.html#returning-a-view-versus-a-copy\n",
            "  This is separate from the ipykernel package so we can avoid doing imports until\n"
          ],
          "name": "stderr"
        },
        {
          "output_type": "execute_result",
          "data": {
            "text/html": [
              "<div>\n",
              "<style scoped>\n",
              "    .dataframe tbody tr th:only-of-type {\n",
              "        vertical-align: middle;\n",
              "    }\n",
              "\n",
              "    .dataframe tbody tr th {\n",
              "        vertical-align: top;\n",
              "    }\n",
              "\n",
              "    .dataframe thead th {\n",
              "        text-align: right;\n",
              "    }\n",
              "</style>\n",
              "<table border=\"1\" class=\"dataframe\">\n",
              "  <thead>\n",
              "    <tr style=\"text-align: right;\">\n",
              "      <th></th>\n",
              "      <th>SA_VAL_ASSD</th>\n",
              "      <th>SA_TRANSFER_YEAR</th>\n",
              "      <th>WITHOUT_PROP13_VALUE</th>\n",
              "      <th>LOST_VALUE</th>\n",
              "      <th>SA_TAX_VAL</th>\n",
              "    </tr>\n",
              "  </thead>\n",
              "  <tbody>\n",
              "    <tr>\n",
              "      <th>169</th>\n",
              "      <td>29865.0</td>\n",
              "      <td>NaN</td>\n",
              "      <td>102850.519599</td>\n",
              "      <td>72985.519599</td>\n",
              "      <td>1153.08</td>\n",
              "    </tr>\n",
              "    <tr>\n",
              "      <th>177</th>\n",
              "      <td>70357.0</td>\n",
              "      <td>NaN</td>\n",
              "      <td>242298.811566</td>\n",
              "      <td>171941.811566</td>\n",
              "      <td>1837.10</td>\n",
              "    </tr>\n",
              "    <tr>\n",
              "      <th>182</th>\n",
              "      <td>29467.0</td>\n",
              "      <td>1974.0</td>\n",
              "      <td>101479.868107</td>\n",
              "      <td>72012.868107</td>\n",
              "      <td>1147.34</td>\n",
              "    </tr>\n",
              "    <tr>\n",
              "      <th>183</th>\n",
              "      <td>143012.0</td>\n",
              "      <td>NaN</td>\n",
              "      <td>492511.585765</td>\n",
              "      <td>349499.585765</td>\n",
              "      <td>2883.56</td>\n",
              "    </tr>\n",
              "    <tr>\n",
              "      <th>184</th>\n",
              "      <td>31856.0</td>\n",
              "      <td>NaN</td>\n",
              "      <td>109707.220905</td>\n",
              "      <td>77851.220905</td>\n",
              "      <td>986.76</td>\n",
              "    </tr>\n",
              "  </tbody>\n",
              "</table>\n",
              "</div>"
            ],
            "text/plain": [
              "     SA_VAL_ASSD  SA_TRANSFER_YEAR  ...     LOST_VALUE  SA_TAX_VAL\n",
              "169      29865.0               NaN  ...   72985.519599     1153.08\n",
              "177      70357.0               NaN  ...  171941.811566     1837.10\n",
              "182      29467.0            1974.0  ...   72012.868107     1147.34\n",
              "183     143012.0               NaN  ...  349499.585765     2883.56\n",
              "184      31856.0               NaN  ...   77851.220905      986.76\n",
              "\n",
              "[5 rows x 5 columns]"
            ]
          },
          "metadata": {
            "tags": []
          },
          "execution_count": 48
        }
      ]
    },
    {
      "cell_type": "code",
      "metadata": {
        "id": "aiPzdr1Hh5Ra",
        "colab": {
          "base_uri": "https://localhost:8080/",
          "height": 34
        },
        "outputId": "e8c244a2-43b6-4be0-d752-72fd230d4b6c"
      },
      "source": [
        "sum(no_sale['LOST_VALUE'] > 0) == len(no_sale)"
      ],
      "execution_count": null,
      "outputs": [
        {
          "output_type": "execute_result",
          "data": {
            "text/plain": [
              "True"
            ]
          },
          "metadata": {
            "tags": []
          },
          "execution_count": 49
        }
      ]
    },
    {
      "cell_type": "code",
      "metadata": {
        "id": "DgcXcFGyjri6",
        "colab": {
          "base_uri": "https://localhost:8080/",
          "height": 425
        },
        "outputId": "7a47b091-af10-4cf2-e458-8e93e08ac37a"
      },
      "source": [
        "no_sale['TAX_RATE'] = no_sale['SA_TAX_VAL'] / no_sale['SA_VAL_ASSD']\n",
        "sale['TAX_RATE'] = sale['SA_TAX_VAL'] / sale['SA_VAL_ASSD']\n",
        "no_sale['LOST_TAX_VALUE'] = no_sale['LOST_VALUE'] * no_sale['TAX_RATE']\n",
        "sale['LOST_TAX_VALUE'] = sale['LOST_VALUE'] * sale['TAX_RATE']"
      ],
      "execution_count": null,
      "outputs": [
        {
          "output_type": "stream",
          "text": [
            "/usr/local/lib/python3.6/dist-packages/ipykernel_launcher.py:1: SettingWithCopyWarning: \n",
            "A value is trying to be set on a copy of a slice from a DataFrame.\n",
            "Try using .loc[row_indexer,col_indexer] = value instead\n",
            "\n",
            "See the caveats in the documentation: https://pandas.pydata.org/pandas-docs/stable/user_guide/indexing.html#returning-a-view-versus-a-copy\n",
            "  \"\"\"Entry point for launching an IPython kernel.\n",
            "/usr/local/lib/python3.6/dist-packages/ipykernel_launcher.py:2: SettingWithCopyWarning: \n",
            "A value is trying to be set on a copy of a slice from a DataFrame.\n",
            "Try using .loc[row_indexer,col_indexer] = value instead\n",
            "\n",
            "See the caveats in the documentation: https://pandas.pydata.org/pandas-docs/stable/user_guide/indexing.html#returning-a-view-versus-a-copy\n",
            "  \n",
            "/usr/local/lib/python3.6/dist-packages/ipykernel_launcher.py:3: SettingWithCopyWarning: \n",
            "A value is trying to be set on a copy of a slice from a DataFrame.\n",
            "Try using .loc[row_indexer,col_indexer] = value instead\n",
            "\n",
            "See the caveats in the documentation: https://pandas.pydata.org/pandas-docs/stable/user_guide/indexing.html#returning-a-view-versus-a-copy\n",
            "  This is separate from the ipykernel package so we can avoid doing imports until\n",
            "/usr/local/lib/python3.6/dist-packages/ipykernel_launcher.py:4: SettingWithCopyWarning: \n",
            "A value is trying to be set on a copy of a slice from a DataFrame.\n",
            "Try using .loc[row_indexer,col_indexer] = value instead\n",
            "\n",
            "See the caveats in the documentation: https://pandas.pydata.org/pandas-docs/stable/user_guide/indexing.html#returning-a-view-versus-a-copy\n",
            "  after removing the cwd from sys.path.\n"
          ],
          "name": "stderr"
        }
      ]
    },
    {
      "cell_type": "code",
      "metadata": {
        "id": "zcmxPG07kHyU",
        "colab": {
          "base_uri": "https://localhost:8080/",
          "height": 221
        },
        "outputId": "529c1d58-d7e8-4a49-c9b2-875302fc6bc9"
      },
      "source": [
        "def get_year(data):\n",
        "  years = []\n",
        "  for i in data:\n",
        "    if np.isnan(i):\n",
        "      years.append(35)\n",
        "    elif i == 0:\n",
        "      years.append(1)\n",
        "    elif i <= 35 and i > 0:\n",
        "      years.append(i)\n",
        "    else:\n",
        "      years.append(35)\n",
        "  return years\n",
        "sale['Transfered_Year'] = get_year(sale['2013_YR_DIF'])\n",
        "no_sale['Transfered_Year'] = get_year(no_sale['2013_YR_DIF'])"
      ],
      "execution_count": null,
      "outputs": [
        {
          "output_type": "stream",
          "text": [
            "/usr/local/lib/python3.6/dist-packages/ipykernel_launcher.py:13: SettingWithCopyWarning: \n",
            "A value is trying to be set on a copy of a slice from a DataFrame.\n",
            "Try using .loc[row_indexer,col_indexer] = value instead\n",
            "\n",
            "See the caveats in the documentation: https://pandas.pydata.org/pandas-docs/stable/user_guide/indexing.html#returning-a-view-versus-a-copy\n",
            "  del sys.path[0]\n",
            "/usr/local/lib/python3.6/dist-packages/ipykernel_launcher.py:14: SettingWithCopyWarning: \n",
            "A value is trying to be set on a copy of a slice from a DataFrame.\n",
            "Try using .loc[row_indexer,col_indexer] = value instead\n",
            "\n",
            "See the caveats in the documentation: https://pandas.pydata.org/pandas-docs/stable/user_guide/indexing.html#returning-a-view-versus-a-copy\n",
            "  \n"
          ],
          "name": "stderr"
        }
      ]
    },
    {
      "cell_type": "code",
      "metadata": {
        "id": "Fc8BjiI9mqiD",
        "colab": {
          "base_uri": "https://localhost:8080/",
          "height": 221
        },
        "outputId": "5a5c0fa4-0c49-4dbc-9c43-a9b5cf7ff143"
      },
      "source": [
        "sale['Average_Tax_Loss_per_year'] = sale['LOST_TAX_VALUE'] / sale['Transfered_Year']\n",
        "no_sale['Average_Tax_Loss_per_year'] = no_sale['LOST_TAX_VALUE'] / no_sale['Transfered_Year']"
      ],
      "execution_count": null,
      "outputs": [
        {
          "output_type": "stream",
          "text": [
            "/usr/local/lib/python3.6/dist-packages/ipykernel_launcher.py:1: SettingWithCopyWarning: \n",
            "A value is trying to be set on a copy of a slice from a DataFrame.\n",
            "Try using .loc[row_indexer,col_indexer] = value instead\n",
            "\n",
            "See the caveats in the documentation: https://pandas.pydata.org/pandas-docs/stable/user_guide/indexing.html#returning-a-view-versus-a-copy\n",
            "  \"\"\"Entry point for launching an IPython kernel.\n",
            "/usr/local/lib/python3.6/dist-packages/ipykernel_launcher.py:2: SettingWithCopyWarning: \n",
            "A value is trying to be set on a copy of a slice from a DataFrame.\n",
            "Try using .loc[row_indexer,col_indexer] = value instead\n",
            "\n",
            "See the caveats in the documentation: https://pandas.pydata.org/pandas-docs/stable/user_guide/indexing.html#returning-a-view-versus-a-copy\n",
            "  \n"
          ],
          "name": "stderr"
        }
      ]
    },
    {
      "cell_type": "code",
      "metadata": {
        "id": "CSbGNagRpK9u",
        "colab": {
          "base_uri": "https://localhost:8080/",
          "height": 221
        },
        "outputId": "af4ea331-0386-44bd-b2b8-8c3c70cd70b8"
      },
      "source": [
        "sale['Average_Tax_Loss_per_year_per_sqft'] = sale['Average_Tax_Loss_per_year'] / sale['SA_SQFT']\n",
        "no_sale['Average_Tax_Loss_per_year_per_sqft'] = no_sale['Average_Tax_Loss_per_year'] / no_sale['SA_SQFT']"
      ],
      "execution_count": null,
      "outputs": [
        {
          "output_type": "stream",
          "text": [
            "/usr/local/lib/python3.6/dist-packages/ipykernel_launcher.py:1: SettingWithCopyWarning: \n",
            "A value is trying to be set on a copy of a slice from a DataFrame.\n",
            "Try using .loc[row_indexer,col_indexer] = value instead\n",
            "\n",
            "See the caveats in the documentation: https://pandas.pydata.org/pandas-docs/stable/user_guide/indexing.html#returning-a-view-versus-a-copy\n",
            "  \"\"\"Entry point for launching an IPython kernel.\n",
            "/usr/local/lib/python3.6/dist-packages/ipykernel_launcher.py:2: SettingWithCopyWarning: \n",
            "A value is trying to be set on a copy of a slice from a DataFrame.\n",
            "Try using .loc[row_indexer,col_indexer] = value instead\n",
            "\n",
            "See the caveats in the documentation: https://pandas.pydata.org/pandas-docs/stable/user_guide/indexing.html#returning-a-view-versus-a-copy\n",
            "  \n"
          ],
          "name": "stderr"
        }
      ]
    },
    {
      "cell_type": "code",
      "metadata": {
        "id": "e8AVXHjJpuw5",
        "colab": {
          "base_uri": "https://localhost:8080/",
          "height": 221
        },
        "outputId": "280a233c-b645-4f49-80a4-42afec3d28bf"
      },
      "source": [
        "sale['LOST_TAX_VALUE_PER_SQFT'] = sale['LOST_TAX_VALUE'] / sale['SA_SQFT']\n",
        "no_sale['LOST_TAX_VALUE_PER_SQFT'] = no_sale['LOST_TAX_VALUE'] / no_sale['SA_SQFT']"
      ],
      "execution_count": null,
      "outputs": [
        {
          "output_type": "stream",
          "text": [
            "/usr/local/lib/python3.6/dist-packages/ipykernel_launcher.py:1: SettingWithCopyWarning: \n",
            "A value is trying to be set on a copy of a slice from a DataFrame.\n",
            "Try using .loc[row_indexer,col_indexer] = value instead\n",
            "\n",
            "See the caveats in the documentation: https://pandas.pydata.org/pandas-docs/stable/user_guide/indexing.html#returning-a-view-versus-a-copy\n",
            "  \"\"\"Entry point for launching an IPython kernel.\n",
            "/usr/local/lib/python3.6/dist-packages/ipykernel_launcher.py:2: SettingWithCopyWarning: \n",
            "A value is trying to be set on a copy of a slice from a DataFrame.\n",
            "Try using .loc[row_indexer,col_indexer] = value instead\n",
            "\n",
            "See the caveats in the documentation: https://pandas.pydata.org/pandas-docs/stable/user_guide/indexing.html#returning-a-view-versus-a-copy\n",
            "  \n"
          ],
          "name": "stderr"
        }
      ]
    },
    {
      "cell_type": "code",
      "metadata": {
        "id": "qrnGbPxZmmtD"
      },
      "source": [
        "useful_col = ['SA_PROPERTY_ID','SA_CENSUS_TRACT', 'SA_CENSUS_BLOCK_GROUP', 'address','SA_X_COORD','SA_Y_COORD','SA_SQFT','SA_VAL_ASSD', 'SA_TRANSFER_YEAR', 'WITHOUT_PROP13_VALUE', 'LOST_VALUE','LOST_TAX_VALUE','LOST_TAX_VALUE_PER_SQFT','Average_Tax_Loss_per_year','Average_Tax_Loss_per_year_per_sqft','Transfered_Year']"
      ],
      "execution_count": null,
      "outputs": []
    },
    {
      "cell_type": "code",
      "metadata": {
        "id": "6NdETM8ERpxd",
        "colab": {
          "base_uri": "https://localhost:8080/",
          "height": 496
        },
        "outputId": "de9ae01f-e8ad-4883-f9ed-5e7f91caf388"
      },
      "source": [
        "sale[useful_col].head()"
      ],
      "execution_count": null,
      "outputs": [
        {
          "output_type": "execute_result",
          "data": {
            "text/html": [
              "<div>\n",
              "<style scoped>\n",
              "    .dataframe tbody tr th:only-of-type {\n",
              "        vertical-align: middle;\n",
              "    }\n",
              "\n",
              "    .dataframe tbody tr th {\n",
              "        vertical-align: top;\n",
              "    }\n",
              "\n",
              "    .dataframe thead th {\n",
              "        text-align: right;\n",
              "    }\n",
              "</style>\n",
              "<table border=\"1\" class=\"dataframe\">\n",
              "  <thead>\n",
              "    <tr style=\"text-align: right;\">\n",
              "      <th></th>\n",
              "      <th>SA_PROPERTY_ID</th>\n",
              "      <th>SA_CENSUS_TRACT</th>\n",
              "      <th>SA_CENSUS_BLOCK_GROUP</th>\n",
              "      <th>address</th>\n",
              "      <th>SA_X_COORD</th>\n",
              "      <th>SA_Y_COORD</th>\n",
              "      <th>SA_SQFT</th>\n",
              "      <th>SA_VAL_ASSD</th>\n",
              "      <th>SA_TRANSFER_YEAR</th>\n",
              "      <th>WITHOUT_PROP13_VALUE</th>\n",
              "      <th>LOST_VALUE</th>\n",
              "      <th>LOST_TAX_VALUE</th>\n",
              "      <th>LOST_TAX_VALUE_PER_SQFT</th>\n",
              "      <th>Average_Tax_Loss_per_year</th>\n",
              "      <th>Average_Tax_Loss_per_year_per_sqft</th>\n",
              "      <th>Transfered_Year</th>\n",
              "    </tr>\n",
              "  </thead>\n",
              "  <tbody>\n",
              "    <tr>\n",
              "      <th>168</th>\n",
              "      <td>38147876</td>\n",
              "      <td>403300.0</td>\n",
              "      <td>1.0</td>\n",
              "      <td>59.0 8TH ST OAKLAND, 94607</td>\n",
              "      <td>122.264809</td>\n",
              "      <td>37.796407</td>\n",
              "      <td>1160.0</td>\n",
              "      <td>234638.0</td>\n",
              "      <td>1994.0</td>\n",
              "      <td>371767.326743</td>\n",
              "      <td>137129.326743</td>\n",
              "      <td>2456.496694</td>\n",
              "      <td>2.117670</td>\n",
              "      <td>129.289300</td>\n",
              "      <td>0.111456</td>\n",
              "      <td>19.0</td>\n",
              "    </tr>\n",
              "    <tr>\n",
              "      <th>170</th>\n",
              "      <td>38147880</td>\n",
              "      <td>403300.0</td>\n",
              "      <td>1.0</td>\n",
              "      <td>709.0 FALLON ST OAKLAND, 94607</td>\n",
              "      <td>122.264825</td>\n",
              "      <td>37.796145</td>\n",
              "      <td>1278.0</td>\n",
              "      <td>152394.0</td>\n",
              "      <td>1982.0</td>\n",
              "      <td>361182.945627</td>\n",
              "      <td>208788.945627</td>\n",
              "      <td>4359.997200</td>\n",
              "      <td>3.411578</td>\n",
              "      <td>140.645071</td>\n",
              "      <td>0.110051</td>\n",
              "      <td>31.0</td>\n",
              "    </tr>\n",
              "    <tr>\n",
              "      <th>200</th>\n",
              "      <td>38147993</td>\n",
              "      <td>403300.0</td>\n",
              "      <td>2.0</td>\n",
              "      <td>228.0 7TH ST OAKLAND, 94607</td>\n",
              "      <td>122.268734</td>\n",
              "      <td>37.797642</td>\n",
              "      <td>1359.0</td>\n",
              "      <td>309185.0</td>\n",
              "      <td>2002.0</td>\n",
              "      <td>301528.954330</td>\n",
              "      <td>-7656.045670</td>\n",
              "      <td>-128.171196</td>\n",
              "      <td>-0.094313</td>\n",
              "      <td>-11.651927</td>\n",
              "      <td>-0.008574</td>\n",
              "      <td>11.0</td>\n",
              "    </tr>\n",
              "    <tr>\n",
              "      <th>201</th>\n",
              "      <td>38147994</td>\n",
              "      <td>403300.0</td>\n",
              "      <td>2.0</td>\n",
              "      <td>230.0 7TH ST OAKLAND, 94607</td>\n",
              "      <td>122.268812</td>\n",
              "      <td>37.797673</td>\n",
              "      <td>955.0</td>\n",
              "      <td>300000.0</td>\n",
              "      <td>2012.0</td>\n",
              "      <td>335294.117570</td>\n",
              "      <td>35294.117570</td>\n",
              "      <td>605.254116</td>\n",
              "      <td>0.633774</td>\n",
              "      <td>605.254116</td>\n",
              "      <td>0.633774</td>\n",
              "      <td>1.0</td>\n",
              "    </tr>\n",
              "    <tr>\n",
              "      <th>202</th>\n",
              "      <td>38147995</td>\n",
              "      <td>403300.0</td>\n",
              "      <td>2.0</td>\n",
              "      <td>234.0 7TH ST OAKLAND, 94607</td>\n",
              "      <td>122.268889</td>\n",
              "      <td>37.797703</td>\n",
              "      <td>1160.0</td>\n",
              "      <td>240160.0</td>\n",
              "      <td>1993.0</td>\n",
              "      <td>365594.328113</td>\n",
              "      <td>125434.328113</td>\n",
              "      <td>2184.216118</td>\n",
              "      <td>1.882945</td>\n",
              "      <td>109.210806</td>\n",
              "      <td>0.094147</td>\n",
              "      <td>20.0</td>\n",
              "    </tr>\n",
              "  </tbody>\n",
              "</table>\n",
              "</div>"
            ],
            "text/plain": [
              "     SA_PROPERTY_ID  ...  Transfered_Year\n",
              "168        38147876  ...             19.0\n",
              "170        38147880  ...             31.0\n",
              "200        38147993  ...             11.0\n",
              "201        38147994  ...              1.0\n",
              "202        38147995  ...             20.0\n",
              "\n",
              "[5 rows x 16 columns]"
            ]
          },
          "metadata": {
            "tags": []
          },
          "execution_count": 56
        }
      ]
    },
    {
      "cell_type": "code",
      "metadata": {
        "id": "Y7WamwhvXbdk",
        "colab": {
          "base_uri": "https://localhost:8080/",
          "height": 479
        },
        "outputId": "58122510-0f4b-45bf-ddd1-c8754651eaf6"
      },
      "source": [
        "no_sale[useful_col].head()"
      ],
      "execution_count": null,
      "outputs": [
        {
          "output_type": "execute_result",
          "data": {
            "text/html": [
              "<div>\n",
              "<style scoped>\n",
              "    .dataframe tbody tr th:only-of-type {\n",
              "        vertical-align: middle;\n",
              "    }\n",
              "\n",
              "    .dataframe tbody tr th {\n",
              "        vertical-align: top;\n",
              "    }\n",
              "\n",
              "    .dataframe thead th {\n",
              "        text-align: right;\n",
              "    }\n",
              "</style>\n",
              "<table border=\"1\" class=\"dataframe\">\n",
              "  <thead>\n",
              "    <tr style=\"text-align: right;\">\n",
              "      <th></th>\n",
              "      <th>SA_PROPERTY_ID</th>\n",
              "      <th>SA_CENSUS_TRACT</th>\n",
              "      <th>SA_CENSUS_BLOCK_GROUP</th>\n",
              "      <th>address</th>\n",
              "      <th>SA_X_COORD</th>\n",
              "      <th>SA_Y_COORD</th>\n",
              "      <th>SA_SQFT</th>\n",
              "      <th>SA_VAL_ASSD</th>\n",
              "      <th>SA_TRANSFER_YEAR</th>\n",
              "      <th>WITHOUT_PROP13_VALUE</th>\n",
              "      <th>LOST_VALUE</th>\n",
              "      <th>LOST_TAX_VALUE</th>\n",
              "      <th>LOST_TAX_VALUE_PER_SQFT</th>\n",
              "      <th>Average_Tax_Loss_per_year</th>\n",
              "      <th>Average_Tax_Loss_per_year_per_sqft</th>\n",
              "      <th>Transfered_Year</th>\n",
              "    </tr>\n",
              "  </thead>\n",
              "  <tbody>\n",
              "    <tr>\n",
              "      <th>169</th>\n",
              "      <td>38147877</td>\n",
              "      <td>403300.0</td>\n",
              "      <td>1.0</td>\n",
              "      <td>55.0 8TH ST OAKLAND, 94607</td>\n",
              "      <td>122.264731</td>\n",
              "      <td>37.796377</td>\n",
              "      <td>1402.0</td>\n",
              "      <td>29865.0</td>\n",
              "      <td>NaN</td>\n",
              "      <td>102850.519599</td>\n",
              "      <td>72985.519599</td>\n",
              "      <td>2817.952216</td>\n",
              "      <td>2.009952</td>\n",
              "      <td>80.512920</td>\n",
              "      <td>0.057427</td>\n",
              "      <td>35</td>\n",
              "    </tr>\n",
              "    <tr>\n",
              "      <th>177</th>\n",
              "      <td>38147889</td>\n",
              "      <td>403300.0</td>\n",
              "      <td>1.0</td>\n",
              "      <td>714.0 OAK ST OAKLAND, 94607</td>\n",
              "      <td>122.265439</td>\n",
              "      <td>37.796403</td>\n",
              "      <td>2048.0</td>\n",
              "      <td>70357.0</td>\n",
              "      <td>NaN</td>\n",
              "      <td>242298.811566</td>\n",
              "      <td>171941.811566</td>\n",
              "      <td>4489.593104</td>\n",
              "      <td>2.192184</td>\n",
              "      <td>128.274089</td>\n",
              "      <td>0.062634</td>\n",
              "      <td>35</td>\n",
              "    </tr>\n",
              "    <tr>\n",
              "      <th>182</th>\n",
              "      <td>38147895</td>\n",
              "      <td>403300.0</td>\n",
              "      <td>2.0</td>\n",
              "      <td>129.0 7TH ST OAKLAND, 94607</td>\n",
              "      <td>122.266729</td>\n",
              "      <td>37.796301</td>\n",
              "      <td>978.0</td>\n",
              "      <td>29467.0</td>\n",
              "      <td>1974.0</td>\n",
              "      <td>101479.868107</td>\n",
              "      <td>72012.868107</td>\n",
              "      <td>2803.924529</td>\n",
              "      <td>2.866998</td>\n",
              "      <td>80.112129</td>\n",
              "      <td>0.081914</td>\n",
              "      <td>35</td>\n",
              "    </tr>\n",
              "    <tr>\n",
              "      <th>183</th>\n",
              "      <td>38147896</td>\n",
              "      <td>403300.0</td>\n",
              "      <td>2.0</td>\n",
              "      <td>125.0 7TH ST OAKLAND, 94607</td>\n",
              "      <td>122.266652</td>\n",
              "      <td>37.796271</td>\n",
              "      <td>1178.0</td>\n",
              "      <td>143012.0</td>\n",
              "      <td>NaN</td>\n",
              "      <td>492511.585765</td>\n",
              "      <td>349499.585765</td>\n",
              "      <td>7046.982250</td>\n",
              "      <td>5.982158</td>\n",
              "      <td>201.342350</td>\n",
              "      <td>0.170919</td>\n",
              "      <td>35</td>\n",
              "    </tr>\n",
              "    <tr>\n",
              "      <th>184</th>\n",
              "      <td>38147897</td>\n",
              "      <td>403300.0</td>\n",
              "      <td>2.0</td>\n",
              "      <td>121.0 7TH ST OAKLAND, 94607</td>\n",
              "      <td>122.266574</td>\n",
              "      <td>37.796240</td>\n",
              "      <td>1613.0</td>\n",
              "      <td>31856.0</td>\n",
              "      <td>NaN</td>\n",
              "      <td>109707.220905</td>\n",
              "      <td>77851.220905</td>\n",
              "      <td>2411.491422</td>\n",
              "      <td>1.495035</td>\n",
              "      <td>68.899755</td>\n",
              "      <td>0.042715</td>\n",
              "      <td>35</td>\n",
              "    </tr>\n",
              "  </tbody>\n",
              "</table>\n",
              "</div>"
            ],
            "text/plain": [
              "     SA_PROPERTY_ID  ...  Transfered_Year\n",
              "169        38147877  ...               35\n",
              "177        38147889  ...               35\n",
              "182        38147895  ...               35\n",
              "183        38147896  ...               35\n",
              "184        38147897  ...               35\n",
              "\n",
              "[5 rows x 16 columns]"
            ]
          },
          "metadata": {
            "tags": []
          },
          "execution_count": 57
        }
      ]
    },
    {
      "cell_type": "code",
      "metadata": {
        "id": "W5VMqfdpqFF0",
        "colab": {
          "base_uri": "https://localhost:8080/",
          "height": 915
        },
        "outputId": "affede46-70df-46b2-a313-4f786a638c86"
      },
      "source": [
        "alameda_properties = pd.concat([sale[useful_col],no_sale[useful_col]]).reset_index().drop(columns=['index'])\n",
        "alameda_properties"
      ],
      "execution_count": null,
      "outputs": [
        {
          "output_type": "execute_result",
          "data": {
            "text/html": [
              "<div>\n",
              "<style scoped>\n",
              "    .dataframe tbody tr th:only-of-type {\n",
              "        vertical-align: middle;\n",
              "    }\n",
              "\n",
              "    .dataframe tbody tr th {\n",
              "        vertical-align: top;\n",
              "    }\n",
              "\n",
              "    .dataframe thead th {\n",
              "        text-align: right;\n",
              "    }\n",
              "</style>\n",
              "<table border=\"1\" class=\"dataframe\">\n",
              "  <thead>\n",
              "    <tr style=\"text-align: right;\">\n",
              "      <th></th>\n",
              "      <th>SA_PROPERTY_ID</th>\n",
              "      <th>SA_CENSUS_TRACT</th>\n",
              "      <th>SA_CENSUS_BLOCK_GROUP</th>\n",
              "      <th>address</th>\n",
              "      <th>SA_X_COORD</th>\n",
              "      <th>SA_Y_COORD</th>\n",
              "      <th>SA_SQFT</th>\n",
              "      <th>SA_VAL_ASSD</th>\n",
              "      <th>SA_TRANSFER_YEAR</th>\n",
              "      <th>WITHOUT_PROP13_VALUE</th>\n",
              "      <th>LOST_VALUE</th>\n",
              "      <th>LOST_TAX_VALUE</th>\n",
              "      <th>LOST_TAX_VALUE_PER_SQFT</th>\n",
              "      <th>Average_Tax_Loss_per_year</th>\n",
              "      <th>Average_Tax_Loss_per_year_per_sqft</th>\n",
              "      <th>Transfered_Year</th>\n",
              "    </tr>\n",
              "  </thead>\n",
              "  <tbody>\n",
              "    <tr>\n",
              "      <th>0</th>\n",
              "      <td>38147876</td>\n",
              "      <td>403300.0</td>\n",
              "      <td>1.0</td>\n",
              "      <td>59.0 8TH ST OAKLAND, 94607</td>\n",
              "      <td>122.264809</td>\n",
              "      <td>37.796407</td>\n",
              "      <td>1160.0</td>\n",
              "      <td>234638.0</td>\n",
              "      <td>1994.0</td>\n",
              "      <td>3.717673e+05</td>\n",
              "      <td>1.371293e+05</td>\n",
              "      <td>2456.496694</td>\n",
              "      <td>2.117670</td>\n",
              "      <td>129.289300</td>\n",
              "      <td>0.111456</td>\n",
              "      <td>19.0</td>\n",
              "    </tr>\n",
              "    <tr>\n",
              "      <th>1</th>\n",
              "      <td>38147880</td>\n",
              "      <td>403300.0</td>\n",
              "      <td>1.0</td>\n",
              "      <td>709.0 FALLON ST OAKLAND, 94607</td>\n",
              "      <td>122.264825</td>\n",
              "      <td>37.796145</td>\n",
              "      <td>1278.0</td>\n",
              "      <td>152394.0</td>\n",
              "      <td>1982.0</td>\n",
              "      <td>3.611829e+05</td>\n",
              "      <td>2.087889e+05</td>\n",
              "      <td>4359.997200</td>\n",
              "      <td>3.411578</td>\n",
              "      <td>140.645071</td>\n",
              "      <td>0.110051</td>\n",
              "      <td>31.0</td>\n",
              "    </tr>\n",
              "    <tr>\n",
              "      <th>2</th>\n",
              "      <td>38147993</td>\n",
              "      <td>403300.0</td>\n",
              "      <td>2.0</td>\n",
              "      <td>228.0 7TH ST OAKLAND, 94607</td>\n",
              "      <td>122.268734</td>\n",
              "      <td>37.797642</td>\n",
              "      <td>1359.0</td>\n",
              "      <td>309185.0</td>\n",
              "      <td>2002.0</td>\n",
              "      <td>3.015290e+05</td>\n",
              "      <td>-7.656046e+03</td>\n",
              "      <td>-128.171196</td>\n",
              "      <td>-0.094313</td>\n",
              "      <td>-11.651927</td>\n",
              "      <td>-0.008574</td>\n",
              "      <td>11.0</td>\n",
              "    </tr>\n",
              "    <tr>\n",
              "      <th>3</th>\n",
              "      <td>38147994</td>\n",
              "      <td>403300.0</td>\n",
              "      <td>2.0</td>\n",
              "      <td>230.0 7TH ST OAKLAND, 94607</td>\n",
              "      <td>122.268812</td>\n",
              "      <td>37.797673</td>\n",
              "      <td>955.0</td>\n",
              "      <td>300000.0</td>\n",
              "      <td>2012.0</td>\n",
              "      <td>3.352941e+05</td>\n",
              "      <td>3.529412e+04</td>\n",
              "      <td>605.254116</td>\n",
              "      <td>0.633774</td>\n",
              "      <td>605.254116</td>\n",
              "      <td>0.633774</td>\n",
              "      <td>1.0</td>\n",
              "    </tr>\n",
              "    <tr>\n",
              "      <th>4</th>\n",
              "      <td>38147995</td>\n",
              "      <td>403300.0</td>\n",
              "      <td>2.0</td>\n",
              "      <td>234.0 7TH ST OAKLAND, 94607</td>\n",
              "      <td>122.268889</td>\n",
              "      <td>37.797703</td>\n",
              "      <td>1160.0</td>\n",
              "      <td>240160.0</td>\n",
              "      <td>1993.0</td>\n",
              "      <td>3.655943e+05</td>\n",
              "      <td>1.254343e+05</td>\n",
              "      <td>2184.216118</td>\n",
              "      <td>1.882945</td>\n",
              "      <td>109.210806</td>\n",
              "      <td>0.094147</td>\n",
              "      <td>20.0</td>\n",
              "    </tr>\n",
              "    <tr>\n",
              "      <th>...</th>\n",
              "      <td>...</td>\n",
              "      <td>...</td>\n",
              "      <td>...</td>\n",
              "      <td>...</td>\n",
              "      <td>...</td>\n",
              "      <td>...</td>\n",
              "      <td>...</td>\n",
              "      <td>...</td>\n",
              "      <td>...</td>\n",
              "      <td>...</td>\n",
              "      <td>...</td>\n",
              "      <td>...</td>\n",
              "      <td>...</td>\n",
              "      <td>...</td>\n",
              "      <td>...</td>\n",
              "      <td>...</td>\n",
              "    </tr>\n",
              "    <tr>\n",
              "      <th>287313</th>\n",
              "      <td>104767797</td>\n",
              "      <td>450745.0</td>\n",
              "      <td>2.0</td>\n",
              "      <td>1509.0 MAPLE LEAF DR PLEASANTON, 94588</td>\n",
              "      <td>121.865684</td>\n",
              "      <td>37.680136</td>\n",
              "      <td>2788.0</td>\n",
              "      <td>918868.0</td>\n",
              "      <td>NaN</td>\n",
              "      <td>3.164442e+06</td>\n",
              "      <td>2.245574e+06</td>\n",
              "      <td>25868.081877</td>\n",
              "      <td>9.278365</td>\n",
              "      <td>739.088054</td>\n",
              "      <td>0.265096</td>\n",
              "      <td>35.0</td>\n",
              "    </tr>\n",
              "    <tr>\n",
              "      <th>287314</th>\n",
              "      <td>113580503</td>\n",
              "      <td>435200.0</td>\n",
              "      <td>1.0</td>\n",
              "      <td>22610.0 VALLEY VIEW DR HAYWARD, 94541</td>\n",
              "      <td>122.049450</td>\n",
              "      <td>37.689587</td>\n",
              "      <td>3741.0</td>\n",
              "      <td>724077.0</td>\n",
              "      <td>NaN</td>\n",
              "      <td>2.493611e+06</td>\n",
              "      <td>1.769534e+06</td>\n",
              "      <td>21210.694171</td>\n",
              "      <td>5.669793</td>\n",
              "      <td>606.019833</td>\n",
              "      <td>0.161994</td>\n",
              "      <td>35.0</td>\n",
              "    </tr>\n",
              "    <tr>\n",
              "      <th>287315</th>\n",
              "      <td>126675730</td>\n",
              "      <td>450701.0</td>\n",
              "      <td>3.0</td>\n",
              "      <td>6035.0 SYCAMORE TER PLEASANTON, 94566</td>\n",
              "      <td>121.878749</td>\n",
              "      <td>37.645575</td>\n",
              "      <td>4087.0</td>\n",
              "      <td>1425000.0</td>\n",
              "      <td>NaN</td>\n",
              "      <td>4.907483e+06</td>\n",
              "      <td>3.482483e+06</td>\n",
              "      <td>40142.548987</td>\n",
              "      <td>9.822009</td>\n",
              "      <td>1146.929971</td>\n",
              "      <td>0.280629</td>\n",
              "      <td>35.0</td>\n",
              "    </tr>\n",
              "    <tr>\n",
              "      <th>287316</th>\n",
              "      <td>151502188</td>\n",
              "      <td>442302.0</td>\n",
              "      <td>2.0</td>\n",
              "      <td>40964.0 OLMSTEAD TER FREMONT, 94538</td>\n",
              "      <td>121.967357</td>\n",
              "      <td>37.532247</td>\n",
              "      <td>1428.0</td>\n",
              "      <td>602820.0</td>\n",
              "      <td>NaN</td>\n",
              "      <td>2.076020e+06</td>\n",
              "      <td>1.473200e+06</td>\n",
              "      <td>17627.426525</td>\n",
              "      <td>12.344136</td>\n",
              "      <td>503.640758</td>\n",
              "      <td>0.352690</td>\n",
              "      <td>35.0</td>\n",
              "    </tr>\n",
              "    <tr>\n",
              "      <th>287317</th>\n",
              "      <td>151502192</td>\n",
              "      <td>442302.0</td>\n",
              "      <td>2.0</td>\n",
              "      <td>40952.0 MORNINGSIDE TER FREMONT, 94538</td>\n",
              "      <td>121.967790</td>\n",
              "      <td>37.531850</td>\n",
              "      <td>1475.0</td>\n",
              "      <td>568140.0</td>\n",
              "      <td>NaN</td>\n",
              "      <td>1.956588e+06</td>\n",
              "      <td>1.388448e+06</td>\n",
              "      <td>16865.239220</td>\n",
              "      <td>11.434060</td>\n",
              "      <td>481.863978</td>\n",
              "      <td>0.326687</td>\n",
              "      <td>35.0</td>\n",
              "    </tr>\n",
              "  </tbody>\n",
              "</table>\n",
              "<p>287318 rows × 16 columns</p>\n",
              "</div>"
            ],
            "text/plain": [
              "        SA_PROPERTY_ID  ...  Transfered_Year\n",
              "0             38147876  ...             19.0\n",
              "1             38147880  ...             31.0\n",
              "2             38147993  ...             11.0\n",
              "3             38147994  ...              1.0\n",
              "4             38147995  ...             20.0\n",
              "...                ...  ...              ...\n",
              "287313       104767797  ...             35.0\n",
              "287314       113580503  ...             35.0\n",
              "287315       126675730  ...             35.0\n",
              "287316       151502188  ...             35.0\n",
              "287317       151502192  ...             35.0\n",
              "\n",
              "[287318 rows x 16 columns]"
            ]
          },
          "metadata": {
            "tags": []
          },
          "execution_count": 58
        }
      ]
    },
    {
      "cell_type": "code",
      "metadata": {
        "id": "gVT12LM6qtbJ"
      },
      "source": [
        "alameda_properties.to_csv('/content/drive/My Drive/cp101project3_data/tax_value_loss.csv')\n"
      ],
      "execution_count": null,
      "outputs": []
    },
    {
      "cell_type": "markdown",
      "metadata": {
        "id": "IllxafOtiTOg"
      },
      "source": [
        "### **Calculation**"
      ]
    },
    {
      "cell_type": "code",
      "metadata": {
        "id": "jzavlF3OiMim",
        "colab": {
          "base_uri": "https://localhost:8080/",
          "height": 34
        },
        "outputId": "bcf9393f-8cb8-49a1-c1fd-c577ab11045a"
      },
      "source": [
        "## Total tax value loss\n",
        "sum(alameda_properties['LOST_TAX_VALUE'])"
      ],
      "execution_count": null,
      "outputs": [
        {
          "output_type": "execute_result",
          "data": {
            "text/plain": [
              "598094643.3838592"
            ]
          },
          "metadata": {
            "tags": []
          },
          "execution_count": 60
        }
      ]
    },
    {
      "cell_type": "code",
      "metadata": {
        "id": "YGRWUYDTrF59",
        "colab": {
          "base_uri": "https://localhost:8080/",
          "height": 34
        },
        "outputId": "2a411f5f-7737-41b6-9142-3df93f07f38f"
      },
      "source": [
        "## Average tax value loss\n",
        "np.mean(alameda_properties['LOST_TAX_VALUE'])"
      ],
      "execution_count": null,
      "outputs": [
        {
          "output_type": "execute_result",
          "data": {
            "text/plain": [
              "2081.6469674154046"
            ]
          },
          "metadata": {
            "tags": []
          },
          "execution_count": 61
        }
      ]
    },
    {
      "cell_type": "code",
      "metadata": {
        "id": "yoR9ddD9rcBb",
        "colab": {
          "base_uri": "https://localhost:8080/",
          "height": 34
        },
        "outputId": "926944c5-2ebe-4992-bd85-74b1ac7c5291"
      },
      "source": [
        "## Average tax loss per sqft\n",
        "np.mean(alameda_properties['LOST_TAX_VALUE_PER_SQFT'])"
      ],
      "execution_count": null,
      "outputs": [
        {
          "output_type": "execute_result",
          "data": {
            "text/plain": [
              "1.3017971061073694"
            ]
          },
          "metadata": {
            "tags": []
          },
          "execution_count": 62
        }
      ]
    },
    {
      "cell_type": "code",
      "metadata": {
        "id": "pVOfpDqYry_l",
        "colab": {
          "base_uri": "https://localhost:8080/",
          "height": 34
        },
        "outputId": "596ac108-c6df-4156-eb63-f200d83c1e19"
      },
      "source": [
        "## total tax loss per sqft\n",
        "sum(alameda_properties['Average_Tax_Loss_per_year'])"
      ],
      "execution_count": null,
      "outputs": [
        {
          "output_type": "execute_result",
          "data": {
            "text/plain": [
              "26678097.271928594"
            ]
          },
          "metadata": {
            "tags": []
          },
          "execution_count": 63
        }
      ]
    },
    {
      "cell_type": "markdown",
      "metadata": {
        "id": "V7wUSAyLz6OK"
      },
      "source": [
        "## Graph"
      ]
    },
    {
      "cell_type": "code",
      "metadata": {
        "id": "Mvz_brhtz9Ev",
        "colab": {
          "base_uri": "https://localhost:8080/",
          "height": 34
        },
        "outputId": "8048c2d7-3081-4da5-c70a-d000f170e7cb"
      },
      "source": [
        "## total assessed value in 2013\n",
        "total_val_2013 = sum(no_sale['SA_VAL_ASSD'])\n",
        "assess_each_year = [total_val_2013]\n",
        "\n",
        "for i in range(35):\n",
        "  curr = (total_val_2013 / 1.02) / inflation_year[2013 - i]\n",
        "  assess_each_year.append(curr)\n",
        "  total_val_2013 = curr\n",
        "\n",
        "len(assess_each_year)"
      ],
      "execution_count": null,
      "outputs": [
        {
          "output_type": "execute_result",
          "data": {
            "text/plain": [
              "36"
            ]
          },
          "metadata": {
            "tags": []
          },
          "execution_count": 64
        }
      ]
    },
    {
      "cell_type": "code",
      "metadata": {
        "id": "opMVhV4Y1obv",
        "colab": {
          "base_uri": "https://localhost:8080/",
          "height": 34
        },
        "outputId": "decddeb3-09ca-4590-e9d5-689c6d4274c0"
      },
      "source": [
        "year_range = list(np.arange(1978,2014))\n",
        "year_range.sort(reverse=True)\n",
        "len(year_range)"
      ],
      "execution_count": null,
      "outputs": [
        {
          "output_type": "execute_result",
          "data": {
            "text/plain": [
              "36"
            ]
          },
          "metadata": {
            "tags": []
          },
          "execution_count": 65
        }
      ]
    },
    {
      "cell_type": "code",
      "metadata": {
        "id": "oY2c3f5F3BLo"
      },
      "source": [
        "def calc_value_without_prop13_each_year(df):\n",
        "  ## need['SA_TRANSFER_YEAR'] as an arr\n",
        "  ## need['SA_VAL_ASSD'] as an arr\n",
        "  # need ['1978_YR_DIF'] as an arr\n",
        "\n",
        "  year_prices = []\n",
        "  #Go back to 1978 using assesed value by 2% each year \n",
        "  prices_1978 = go_backward_years(np.array(df['SA_VAL_ASSD']), np.array(df['1978_YR_DIF']), np.array(df['SA_TRANSFER_YEAR']), np.array(df['2013_YR_DIF']))\n",
        "\n",
        "  #Go forward to years using growth rates \n",
        "  for x in prices_1978:\n",
        "    new_price = x\n",
        "    single_price = []\n",
        "    single_price.append(x)\n",
        "    for year in np.arange(1979, 2014, 1):\n",
        "      new_price = go_forward(new_price, growth_rates[year])*inflation_year[year]\n",
        "      single_price.append(new_price)\n",
        "    year_prices.append(single_price)\n",
        "  return year_prices\n",
        "  "
      ],
      "execution_count": null,
      "outputs": []
    },
    {
      "cell_type": "code",
      "metadata": {
        "id": "iPBGI687Ly7d"
      },
      "source": [
        "def calc_value_without_prop13_each_year_tax(df):\n",
        "  ## need['SA_TRANSFER_YEAR'] as an arr\n",
        "  ## need['SA_VAL_ASSD'] as an arr\n",
        "  # need ['1978_YR_DIF'] as an arr\n",
        "\n",
        "  year_prices = []\n",
        "  #Go back to 1978 using assesed value by 2% each year \n",
        "  prices_1978 = go_backward_years(np.array(df['SA_VAL_ASSD']), np.array(df['1978_YR_DIF']), np.array(df['SA_TRANSFER_YEAR']), np.array(df['2013_YR_DIF']))\n",
        "\n",
        "  #Go forward to years using growth rates \n",
        "  for x in range(len(prices_1978)):\n",
        "    new_price = prices_1978[x]\n",
        "    single_price = []\n",
        "    single_price.append(prices_1978[x] * df['TAX_RATE'][x])\n",
        "    for year in np.arange(1979, 2014, 1):\n",
        "      new_price = go_forward(new_price, growth_rates[year])*inflation_year[year] * df['TAX_RATE'][x]\n",
        "      single_price.append(new_price)\n",
        "    year_prices.append(single_price)\n",
        "  return year_prices\n",
        "  "
      ],
      "execution_count": null,
      "outputs": []
    },
    {
      "cell_type": "code",
      "metadata": {
        "id": "-F7FSy3YN9Ck"
      },
      "source": [
        "no_sale = no_sale.reset_index().drop(columns=['index'])"
      ],
      "execution_count": null,
      "outputs": []
    },
    {
      "cell_type": "code",
      "metadata": {
        "id": "t0jjB41TMPKi",
        "colab": {
          "base_uri": "https://localhost:8080/",
          "height": 629
        },
        "outputId": "7e7edc8d-9f2a-4de9-9481-0eaa616b9e2c"
      },
      "source": [
        "market_each_year_tax = list(np.sum(np.array(calc_value_without_prop13_each_year_tax(no_sale)),0))[::-1] \n",
        "market_each_year_tax"
      ],
      "execution_count": null,
      "outputs": [
        {
          "output_type": "execute_result",
          "data": {
            "text/plain": [
              "[55631877861716.18,\n",
              " 25108467214011.86,\n",
              " 12765991667471.615,\n",
              " 6930837618733.862,\n",
              " 3567933770716.8076,\n",
              " 2145055261897.1597,\n",
              " 1269436024671.9966,\n",
              " 668247411200.6095,\n",
              " 310425952887.1892,\n",
              " 128010516676.35724,\n",
              " 58766813951.713936,\n",
              " 28647166212.769573,\n",
              " 13951445887.041813,\n",
              " 6209645198.167985,\n",
              " 2560822392.527397,\n",
              " 1204643524.1397493,\n",
              " 567282080.4366413,\n",
              " 276245523.02325994,\n",
              " 141473655.7053782,\n",
              " 74229792.66089278,\n",
              " 39621913.7920905,\n",
              " 21342660.974772938,\n",
              " 11524623.513201209,\n",
              " 6220162.675794602,\n",
              " 3251595.2919053636,\n",
              " 1471301.8293509586,\n",
              " 740276.6650500379,\n",
              " 427428.88548721996,\n",
              " 250980.90256941097,\n",
              " 152016.68846305498,\n",
              " 97003.10539391273,\n",
              " 65973.99333806752,\n",
              " 62337.829526495276,\n",
              " 518295.5168961125,\n",
              " 15981182.640593313,\n",
              " 12529013.448950268]"
            ]
          },
          "metadata": {
            "tags": []
          },
          "execution_count": 116
        }
      ]
    },
    {
      "cell_type": "code",
      "metadata": {
        "id": "fensAKte6_35"
      },
      "source": [
        "market_each_year = list(np.sum(np.array(calc_value_without_prop13_each_year(no_sale)),0))"
      ],
      "execution_count": null,
      "outputs": []
    },
    {
      "cell_type": "code",
      "metadata": {
        "id": "-6yRDA4Y9pT9",
        "colab": {
          "base_uri": "https://localhost:8080/",
          "height": 629
        },
        "outputId": "6a0d6ca0-cb38-4822-fc1d-255eaaeb5252"
      },
      "source": [
        "market_year = market_each_year[::-1] \n",
        "market_year"
      ],
      "execution_count": null,
      "outputs": [
        {
          "output_type": "execute_result",
          "data": {
            "text/plain": [
              "[17245773055.11035,\n",
              " 14868872851.433865,\n",
              " 14441300697.97779,\n",
              " 14976977223.547272,\n",
              " 14727583239.290714,\n",
              " 16912754991.43246,\n",
              " 19117277869.409023,\n",
              " 19220308564.497154,\n",
              " 17050745330.357512,\n",
              " 13425406159.033625,\n",
              " 11765632113.330807,\n",
              " 10945328694.862316,\n",
              " 10167922963.538807,\n",
              " 8627005615.357346,\n",
              " 6775507602.809951,\n",
              " 6061766876.829039,\n",
              " 5418406669.923212,\n",
              " 4994496787.041614,\n",
              " 4822610514.988374,\n",
              " 4744417949.923005,\n",
              " 4711747085.668892,\n",
              " 4672400114.750264,\n",
              " 4579321671.282826,\n",
              " 4403852878.868877,\n",
              " 4007840105.5690165,\n",
              " 3070611942.197927,\n",
              " 2534689144.0007772,\n",
              " 2321478714.5454116,\n",
              " 2090222919.698998,\n",
              " 1879174110.1214042,\n",
              " 1724408527.7831497,\n",
              " 1612401134.832796,\n",
              " 1465659097.0100355,\n",
              " 1184189884.323931,\n",
              " 863853371.762672,\n",
              " 677248408.7156247]"
            ]
          },
          "metadata": {
            "tags": []
          },
          "execution_count": 91
        }
      ]
    },
    {
      "cell_type": "code",
      "metadata": {
        "id": "J1_5cqPnFe6A",
        "colab": {
          "base_uri": "https://localhost:8080/",
          "height": 34
        },
        "outputId": "225a8a24-138d-49f7-8f59-2123274487c7"
      },
      "source": [
        "np.mean(no_sale['TAX_RATE'])"
      ],
      "execution_count": null,
      "outputs": [
        {
          "output_type": "execute_result",
          "data": {
            "text/plain": [
              "0.02261342154835554"
            ]
          },
          "metadata": {
            "tags": []
          },
          "execution_count": 100
        }
      ]
    },
    {
      "cell_type": "code",
      "metadata": {
        "id": "Zt9BAKbo5pXB"
      },
      "source": [
        "each_year = pd.DataFrame(data = {'Year': year_range, 'Assessed_Value_Prop13': assess_each_year, \"Value_without_prop13\": market_year,\n",
        "                                 'Assessed_Tax_Prop13': np.array(assess_each_year) * 0.0226, \"Tax_without_prop13\": np.array(market_year)*0.0226})\n",
        "# each_year['Assessed_Value_Prop13'] = each_year['Assessed_Value_Prop13'].apply(lambda x: '{:.2f}'.format(x))\n",
        "# each_year[\"Value_without_prop13\"] = each_year[\"Value_without_prop13\"].apply(lambda x: '{:.2f}'.format(x))"
      ],
      "execution_count": null,
      "outputs": []
    },
    {
      "cell_type": "code",
      "metadata": {
        "id": "aBzvJS0m-sUL",
        "colab": {
          "base_uri": "https://localhost:8080/",
          "height": 1000
        },
        "outputId": "58f12ce5-09ff-463f-81d2-9d79dd4b2e36"
      },
      "source": [
        "each_year"
      ],
      "execution_count": null,
      "outputs": [
        {
          "output_type": "execute_result",
          "data": {
            "text/html": [
              "<div>\n",
              "<style scoped>\n",
              "    .dataframe tbody tr th:only-of-type {\n",
              "        vertical-align: middle;\n",
              "    }\n",
              "\n",
              "    .dataframe tbody tr th {\n",
              "        vertical-align: top;\n",
              "    }\n",
              "\n",
              "    .dataframe thead th {\n",
              "        text-align: right;\n",
              "    }\n",
              "</style>\n",
              "<table border=\"1\" class=\"dataframe\">\n",
              "  <thead>\n",
              "    <tr style=\"text-align: right;\">\n",
              "      <th></th>\n",
              "      <th>Year</th>\n",
              "      <th>Assessed_Value_Prop13</th>\n",
              "      <th>Value_without_prop13</th>\n",
              "      <th>Assessed_Tax_Prop13</th>\n",
              "      <th>Tax_without_prop13</th>\n",
              "    </tr>\n",
              "  </thead>\n",
              "  <tbody>\n",
              "    <tr>\n",
              "      <th>0</th>\n",
              "      <td>2013</td>\n",
              "      <td>5.007705e+09</td>\n",
              "      <td>1.724577e+10</td>\n",
              "      <td>1.131741e+08</td>\n",
              "      <td>3.897545e+08</td>\n",
              "    </tr>\n",
              "    <tr>\n",
              "      <th>1</th>\n",
              "      <td>2012</td>\n",
              "      <td>4.825460e+09</td>\n",
              "      <td>1.486887e+10</td>\n",
              "      <td>1.090554e+08</td>\n",
              "      <td>3.360365e+08</td>\n",
              "    </tr>\n",
              "    <tr>\n",
              "      <th>2</th>\n",
              "      <td>2011</td>\n",
              "      <td>4.594802e+09</td>\n",
              "      <td>1.444130e+10</td>\n",
              "      <td>1.038425e+08</td>\n",
              "      <td>3.263734e+08</td>\n",
              "    </tr>\n",
              "    <tr>\n",
              "      <th>3</th>\n",
              "      <td>2010</td>\n",
              "      <td>4.438213e+09</td>\n",
              "      <td>1.497698e+10</td>\n",
              "      <td>1.003036e+08</td>\n",
              "      <td>3.384797e+08</td>\n",
              "    </tr>\n",
              "    <tr>\n",
              "      <th>4</th>\n",
              "      <td>2009</td>\n",
              "      <td>4.235947e+09</td>\n",
              "      <td>1.472758e+10</td>\n",
              "      <td>9.573239e+07</td>\n",
              "      <td>3.328434e+08</td>\n",
              "    </tr>\n",
              "    <tr>\n",
              "      <th>5</th>\n",
              "      <td>2008</td>\n",
              "      <td>4.149086e+09</td>\n",
              "      <td>1.691275e+10</td>\n",
              "      <td>9.376934e+07</td>\n",
              "      <td>3.822283e+08</td>\n",
              "    </tr>\n",
              "    <tr>\n",
              "      <th>6</th>\n",
              "      <td>2007</td>\n",
              "      <td>3.908255e+09</td>\n",
              "      <td>1.911728e+10</td>\n",
              "      <td>8.832656e+07</td>\n",
              "      <td>4.320505e+08</td>\n",
              "    </tr>\n",
              "    <tr>\n",
              "      <th>7</th>\n",
              "      <td>2006</td>\n",
              "      <td>3.736704e+09</td>\n",
              "      <td>1.922031e+10</td>\n",
              "      <td>8.444952e+07</td>\n",
              "      <td>4.343790e+08</td>\n",
              "    </tr>\n",
              "    <tr>\n",
              "      <th>8</th>\n",
              "      <td>2005</td>\n",
              "      <td>3.542404e+09</td>\n",
              "      <td>1.705075e+10</td>\n",
              "      <td>8.005833e+07</td>\n",
              "      <td>3.853468e+08</td>\n",
              "    </tr>\n",
              "    <tr>\n",
              "      <th>9</th>\n",
              "      <td>2004</td>\n",
              "      <td>3.363466e+09</td>\n",
              "      <td>1.342541e+10</td>\n",
              "      <td>7.601434e+07</td>\n",
              "      <td>3.034142e+08</td>\n",
              "    </tr>\n",
              "    <tr>\n",
              "      <th>10</th>\n",
              "      <td>2003</td>\n",
              "      <td>3.236628e+09</td>\n",
              "      <td>1.176563e+10</td>\n",
              "      <td>7.314779e+07</td>\n",
              "      <td>2.659033e+08</td>\n",
              "    </tr>\n",
              "    <tr>\n",
              "      <th>11</th>\n",
              "      <td>2002</td>\n",
              "      <td>3.099527e+09</td>\n",
              "      <td>1.094533e+10</td>\n",
              "      <td>7.004931e+07</td>\n",
              "      <td>2.473644e+08</td>\n",
              "    </tr>\n",
              "    <tr>\n",
              "      <th>12</th>\n",
              "      <td>2001</td>\n",
              "      <td>2.992296e+09</td>\n",
              "      <td>1.016792e+10</td>\n",
              "      <td>6.762589e+07</td>\n",
              "      <td>2.297951e+08</td>\n",
              "    </tr>\n",
              "    <tr>\n",
              "      <th>13</th>\n",
              "      <td>2000</td>\n",
              "      <td>2.837508e+09</td>\n",
              "      <td>8.627006e+09</td>\n",
              "      <td>6.412768e+07</td>\n",
              "      <td>1.949703e+08</td>\n",
              "    </tr>\n",
              "    <tr>\n",
              "      <th>14</th>\n",
              "      <td>1999</td>\n",
              "      <td>2.709196e+09</td>\n",
              "      <td>6.775508e+09</td>\n",
              "      <td>6.122782e+07</td>\n",
              "      <td>1.531265e+08</td>\n",
              "    </tr>\n",
              "    <tr>\n",
              "      <th>15</th>\n",
              "      <td>1998</td>\n",
              "      <td>2.613908e+09</td>\n",
              "      <td>6.061767e+09</td>\n",
              "      <td>5.907432e+07</td>\n",
              "      <td>1.369959e+08</td>\n",
              "    </tr>\n",
              "    <tr>\n",
              "      <th>16</th>\n",
              "      <td>1997</td>\n",
              "      <td>2.519737e+09</td>\n",
              "      <td>5.418407e+09</td>\n",
              "      <td>5.694605e+07</td>\n",
              "      <td>1.224560e+08</td>\n",
              "    </tr>\n",
              "    <tr>\n",
              "      <th>17</th>\n",
              "      <td>1996</td>\n",
              "      <td>2.390917e+09</td>\n",
              "      <td>4.994497e+09</td>\n",
              "      <td>5.403471e+07</td>\n",
              "      <td>1.128756e+08</td>\n",
              "    </tr>\n",
              "    <tr>\n",
              "      <th>18</th>\n",
              "      <td>1995</td>\n",
              "      <td>2.285999e+09</td>\n",
              "      <td>4.822611e+09</td>\n",
              "      <td>5.166358e+07</td>\n",
              "      <td>1.089910e+08</td>\n",
              "    </tr>\n",
              "    <tr>\n",
              "      <th>19</th>\n",
              "      <td>1994</td>\n",
              "      <td>2.182789e+09</td>\n",
              "      <td>4.744418e+09</td>\n",
              "      <td>4.933104e+07</td>\n",
              "      <td>1.072238e+08</td>\n",
              "    </tr>\n",
              "    <tr>\n",
              "      <th>20</th>\n",
              "      <td>1993</td>\n",
              "      <td>2.082748e+09</td>\n",
              "      <td>4.711747e+09</td>\n",
              "      <td>4.707011e+07</td>\n",
              "      <td>1.064855e+08</td>\n",
              "    </tr>\n",
              "    <tr>\n",
              "      <th>21</th>\n",
              "      <td>1992</td>\n",
              "      <td>1.984361e+09</td>\n",
              "      <td>4.672400e+09</td>\n",
              "      <td>4.484656e+07</td>\n",
              "      <td>1.055962e+08</td>\n",
              "    </tr>\n",
              "    <tr>\n",
              "      <th>22</th>\n",
              "      <td>1991</td>\n",
              "      <td>1.887630e+09</td>\n",
              "      <td>4.579322e+09</td>\n",
              "      <td>4.266044e+07</td>\n",
              "      <td>1.034927e+08</td>\n",
              "    </tr>\n",
              "    <tr>\n",
              "      <th>23</th>\n",
              "      <td>1990</td>\n",
              "      <td>1.744112e+09</td>\n",
              "      <td>4.403853e+09</td>\n",
              "      <td>3.941694e+07</td>\n",
              "      <td>9.952708e+07</td>\n",
              "    </tr>\n",
              "    <tr>\n",
              "      <th>24</th>\n",
              "      <td>1989</td>\n",
              "      <td>1.633959e+09</td>\n",
              "      <td>4.007840e+09</td>\n",
              "      <td>3.692747e+07</td>\n",
              "      <td>9.057719e+07</td>\n",
              "    </tr>\n",
              "    <tr>\n",
              "      <th>25</th>\n",
              "      <td>1988</td>\n",
              "      <td>1.534142e+09</td>\n",
              "      <td>3.070612e+09</td>\n",
              "      <td>3.467161e+07</td>\n",
              "      <td>6.939583e+07</td>\n",
              "    </tr>\n",
              "    <tr>\n",
              "      <th>26</th>\n",
              "      <td>1987</td>\n",
              "      <td>1.440201e+09</td>\n",
              "      <td>2.534689e+09</td>\n",
              "      <td>3.254854e+07</td>\n",
              "      <td>5.728397e+07</td>\n",
              "    </tr>\n",
              "    <tr>\n",
              "      <th>27</th>\n",
              "      <td>1986</td>\n",
              "      <td>1.396647e+09</td>\n",
              "      <td>2.321479e+09</td>\n",
              "      <td>3.156423e+07</td>\n",
              "      <td>5.246542e+07</td>\n",
              "    </tr>\n",
              "    <tr>\n",
              "      <th>28</th>\n",
              "      <td>1985</td>\n",
              "      <td>1.319162e+09</td>\n",
              "      <td>2.090223e+09</td>\n",
              "      <td>2.981307e+07</td>\n",
              "      <td>4.723904e+07</td>\n",
              "    </tr>\n",
              "    <tr>\n",
              "      <th>29</th>\n",
              "      <td>1984</td>\n",
              "      <td>1.244103e+09</td>\n",
              "      <td>1.879174e+09</td>\n",
              "      <td>2.811672e+07</td>\n",
              "      <td>4.246933e+07</td>\n",
              "    </tr>\n",
              "    <tr>\n",
              "      <th>30</th>\n",
              "      <td>1983</td>\n",
              "      <td>1.175218e+09</td>\n",
              "      <td>1.724409e+09</td>\n",
              "      <td>2.655993e+07</td>\n",
              "      <td>3.897163e+07</td>\n",
              "    </tr>\n",
              "    <tr>\n",
              "      <th>31</th>\n",
              "      <td>1982</td>\n",
              "      <td>1.109656e+09</td>\n",
              "      <td>1.612401e+09</td>\n",
              "      <td>2.507823e+07</td>\n",
              "      <td>3.644027e+07</td>\n",
              "    </tr>\n",
              "    <tr>\n",
              "      <th>32</th>\n",
              "      <td>1981</td>\n",
              "      <td>9.987794e+08</td>\n",
              "      <td>1.465659e+09</td>\n",
              "      <td>2.257241e+07</td>\n",
              "      <td>3.312390e+07</td>\n",
              "    </tr>\n",
              "    <tr>\n",
              "      <th>33</th>\n",
              "      <td>1980</td>\n",
              "      <td>8.702629e+08</td>\n",
              "      <td>1.184190e+09</td>\n",
              "      <td>1.966794e+07</td>\n",
              "      <td>2.676269e+07</td>\n",
              "    </tr>\n",
              "    <tr>\n",
              "      <th>34</th>\n",
              "      <td>1979</td>\n",
              "      <td>7.531029e+08</td>\n",
              "      <td>8.638534e+08</td>\n",
              "      <td>1.702013e+07</td>\n",
              "      <td>1.952309e+07</td>\n",
              "    </tr>\n",
              "    <tr>\n",
              "      <th>35</th>\n",
              "      <td>1978</td>\n",
              "      <td>6.772484e+08</td>\n",
              "      <td>6.772484e+08</td>\n",
              "      <td>1.530581e+07</td>\n",
              "      <td>1.530581e+07</td>\n",
              "    </tr>\n",
              "  </tbody>\n",
              "</table>\n",
              "</div>"
            ],
            "text/plain": [
              "    Year  Assessed_Value_Prop13  ...  Assessed_Tax_Prop13  Tax_without_prop13\n",
              "0   2013           5.007705e+09  ...         1.131741e+08        3.897545e+08\n",
              "1   2012           4.825460e+09  ...         1.090554e+08        3.360365e+08\n",
              "2   2011           4.594802e+09  ...         1.038425e+08        3.263734e+08\n",
              "3   2010           4.438213e+09  ...         1.003036e+08        3.384797e+08\n",
              "4   2009           4.235947e+09  ...         9.573239e+07        3.328434e+08\n",
              "5   2008           4.149086e+09  ...         9.376934e+07        3.822283e+08\n",
              "6   2007           3.908255e+09  ...         8.832656e+07        4.320505e+08\n",
              "7   2006           3.736704e+09  ...         8.444952e+07        4.343790e+08\n",
              "8   2005           3.542404e+09  ...         8.005833e+07        3.853468e+08\n",
              "9   2004           3.363466e+09  ...         7.601434e+07        3.034142e+08\n",
              "10  2003           3.236628e+09  ...         7.314779e+07        2.659033e+08\n",
              "11  2002           3.099527e+09  ...         7.004931e+07        2.473644e+08\n",
              "12  2001           2.992296e+09  ...         6.762589e+07        2.297951e+08\n",
              "13  2000           2.837508e+09  ...         6.412768e+07        1.949703e+08\n",
              "14  1999           2.709196e+09  ...         6.122782e+07        1.531265e+08\n",
              "15  1998           2.613908e+09  ...         5.907432e+07        1.369959e+08\n",
              "16  1997           2.519737e+09  ...         5.694605e+07        1.224560e+08\n",
              "17  1996           2.390917e+09  ...         5.403471e+07        1.128756e+08\n",
              "18  1995           2.285999e+09  ...         5.166358e+07        1.089910e+08\n",
              "19  1994           2.182789e+09  ...         4.933104e+07        1.072238e+08\n",
              "20  1993           2.082748e+09  ...         4.707011e+07        1.064855e+08\n",
              "21  1992           1.984361e+09  ...         4.484656e+07        1.055962e+08\n",
              "22  1991           1.887630e+09  ...         4.266044e+07        1.034927e+08\n",
              "23  1990           1.744112e+09  ...         3.941694e+07        9.952708e+07\n",
              "24  1989           1.633959e+09  ...         3.692747e+07        9.057719e+07\n",
              "25  1988           1.534142e+09  ...         3.467161e+07        6.939583e+07\n",
              "26  1987           1.440201e+09  ...         3.254854e+07        5.728397e+07\n",
              "27  1986           1.396647e+09  ...         3.156423e+07        5.246542e+07\n",
              "28  1985           1.319162e+09  ...         2.981307e+07        4.723904e+07\n",
              "29  1984           1.244103e+09  ...         2.811672e+07        4.246933e+07\n",
              "30  1983           1.175218e+09  ...         2.655993e+07        3.897163e+07\n",
              "31  1982           1.109656e+09  ...         2.507823e+07        3.644027e+07\n",
              "32  1981           9.987794e+08  ...         2.257241e+07        3.312390e+07\n",
              "33  1980           8.702629e+08  ...         1.966794e+07        2.676269e+07\n",
              "34  1979           7.531029e+08  ...         1.702013e+07        1.952309e+07\n",
              "35  1978           6.772484e+08  ...         1.530581e+07        1.530581e+07\n",
              "\n",
              "[36 rows x 5 columns]"
            ]
          },
          "metadata": {
            "tags": []
          },
          "execution_count": 102
        }
      ]
    },
    {
      "cell_type": "code",
      "metadata": {
        "id": "UofyqsutIMN8"
      },
      "source": [
        "each_year.to_csv('/content/drive/My Drive/cp101project3_data/Property_value_tax_each_year.csv')\n"
      ],
      "execution_count": null,
      "outputs": []
    },
    {
      "cell_type": "code",
      "metadata": {
        "id": "R76WuEZ15yEf",
        "colab": {
          "base_uri": "https://localhost:8080/",
          "height": 532
        },
        "outputId": "9cd8a75c-f49d-4182-d1fa-993b078f3975"
      },
      "source": [
        "import matplotlib.pyplot as plt\n",
        "plt.figure(figsize=(15,8))\n",
        "plt.plot(each_year['Year'], each_year['Assessed_Value_Prop13'], label= 'With Prop 13')\n",
        "plt.plot(each_year['Year'], each_year['Value_without_prop13'], label= 'Without Prop 13')\n",
        "plt.xlabel('Year')\n",
        "plt.xticks(np.arange(1978, 2014,5))\n",
        "plt.ylabel('Property Value (1e10)')\n",
        "plt.legend()\n",
        "plt.title(\"Property Value With and Without Prop 13 Per Year\", fontsize=15)"
      ],
      "execution_count": null,
      "outputs": [
        {
          "output_type": "execute_result",
          "data": {
            "text/plain": [
              "Text(0.5, 1.0, 'Property Value With and Without Prop 13 Per Year')"
            ]
          },
          "metadata": {
            "tags": []
          },
          "execution_count": 118
        },
        {
          "output_type": "display_data",
          "data": {
            "image/png": "[encoded data removed]",
            "text/plain": [
              "<Figure size 1080x576 with 1 Axes>"
            ]
          },
          "metadata": {
            "tags": [],
            "needs_background": "light"
          }
        }
      ]
    },
    {
      "cell_type": "code",
      "metadata": {
        "id": "D4cL1cAX-bbh",
        "colab": {
          "base_uri": "https://localhost:8080/",
          "height": 532
        },
        "outputId": "c0fb377b-a521-4755-9646-e5603d71f3d5"
      },
      "source": [
        "import matplotlib.pyplot as plt\n",
        "plt.figure(figsize=(15,8))\n",
        "plt.plot(each_year['Year'], each_year['Assessed_Tax_Prop13'], label= 'With Prop 13')\n",
        "plt.plot(each_year['Year'], each_year['Tax_without_prop13'], label= 'Without Prop 13')\n",
        "plt.xlabel('Year')\n",
        "plt.xticks(np.arange(1978, 2014,5))\n",
        "plt.ylabel('Property Tax Value (1e8)')\n",
        "plt.legend()\n",
        "plt.title(\"Property Tax Value With and Without Prop 13 Per Year\", fontsize=15)"
      ],
      "execution_count": null,
      "outputs": [
        {
          "output_type": "execute_result",
          "data": {
            "text/plain": [
              "Text(0.5, 1.0, 'Property Tax Value With and Without Prop 13 Per Year')"
            ]
          },
          "metadata": {
            "tags": []
          },
          "execution_count": 119
        },
        {
          "output_type": "display_data",
          "data": {
            "image/png": "[encoded data removed]",
            "text/plain": [
              "<Figure size 1080x576 with 1 Axes>"
            ]
          },
          "metadata": {
            "tags": [],
            "needs_background": "light"
          }
        }
      ]
    }
  ]
}